{
 "cells": [
  {
   "cell_type": "code",
   "execution_count": 1,
   "metadata": {},
   "outputs": [],
   "source": [
    "import importlib\n",
    "\n",
    "import numpy as np\n",
    "import torch\n",
    "import torch.nn as nn\n",
    "import torch.nn.functional as F"
   ]
  },
  {
   "cell_type": "code",
   "execution_count": 2,
   "metadata": {},
   "outputs": [
    {
     "name": "stdout",
     "output_type": "stream",
     "text": [
      "Loading environment football failed: No module named 'gfootball'\n"
     ]
    }
   ],
   "source": [
    "model_module = importlib.import_module(\"handyrl.model\")\n",
    "env_module = importlib.import_module(\"handyrl.envs.kaggle.hungry_geese\")"
   ]
  },
  {
   "cell_type": "code",
   "execution_count": 3,
   "metadata": {},
   "outputs": [],
   "source": [
    "# pretrained_model_path = \"ds/models/first_stage_2462.pth\"\n",
    "# weights = torch.load(pretrained_model_path)"
   ]
  },
  {
   "cell_type": "code",
   "execution_count": 4,
   "metadata": {},
   "outputs": [],
   "source": [
    "e = env_module.Environment()\n",
    "e.reset()"
   ]
  },
  {
   "cell_type": "code",
   "execution_count": 5,
   "metadata": {},
   "outputs": [
    {
     "name": "stdout",
     "output_type": "stream",
     "text": [
      "size: torch.Size([2, 77]), type: torch.int64\n"
     ]
    }
   ],
   "source": [
    "obs = e.observation()\n",
    "obs = torch.from_numpy(obs.reshape(1, 77)).clone()\n",
    "obs_ = torch.cat([obs, obs], dim=0)\n",
    "print(f\"size: {obs_.size()}, type: {obs_.dtype}\")"
   ]
  },
  {
   "cell_type": "code",
   "execution_count": 6,
   "metadata": {},
   "outputs": [
    {
     "data": {
      "text/plain": [
       "[[{'action': 'NORTH',\n",
       "   'reward': 0,\n",
       "   'info': {},\n",
       "   'observation': {'remainingOverageTime': 60,\n",
       "    'step': 0,\n",
       "    'geese': [[57], [49], [74], [64]],\n",
       "    'food': [50, 11],\n",
       "    'index': 0},\n",
       "   'status': 'ACTIVE'},\n",
       "  {'action': 'NORTH',\n",
       "   'reward': 0,\n",
       "   'info': {},\n",
       "   'observation': {'remainingOverageTime': 60, 'index': 1},\n",
       "   'status': 'ACTIVE'},\n",
       "  {'action': 'NORTH',\n",
       "   'reward': 0,\n",
       "   'info': {},\n",
       "   'observation': {'remainingOverageTime': 60, 'index': 2},\n",
       "   'status': 'ACTIVE'},\n",
       "  {'action': 'NORTH',\n",
       "   'reward': 0,\n",
       "   'info': {},\n",
       "   'observation': {'remainingOverageTime': 60, 'index': 3},\n",
       "   'status': 'ACTIVE'}]]"
      ]
     },
     "execution_count": 6,
     "metadata": {},
     "output_type": "execute_result"
    }
   ],
   "source": [
    "e.obs_list"
   ]
  },
  {
   "cell_type": "code",
   "execution_count": 7,
   "metadata": {},
   "outputs": [
    {
     "name": "stdout",
     "output_type": "stream",
     "text": [
      "size: torch.Size([2, 77]), type: torch.float32\n"
     ]
    }
   ],
   "source": [
    "input_ = torch.randn(2, 77)\n",
    "print(f\"size: {input_.size()}, type: {input_.dtype}\")"
   ]
  },
  {
   "cell_type": "code",
   "execution_count": 8,
   "metadata": {},
   "outputs": [],
   "source": [
    "net = env_module.GeeseNetGTrXL(e)"
   ]
  },
  {
   "cell_type": "code",
   "execution_count": 9,
   "metadata": {},
   "outputs": [],
   "source": [
    "# net.geese_net.load_state_dict(weights, strict=False)"
   ]
  },
  {
   "cell_type": "code",
   "execution_count": 10,
   "metadata": {},
   "outputs": [],
   "source": [
    "# Disable trainable for pretrained weights.\n",
    "# for param in net.geese_net.parameters():\n",
    "#     param.requires_grad = False\n",
    "# for param in net.geese_net.conv_p.parameters():\n",
    "#     param.requires_grad = True\n",
    "# for param in net.geese_net.conv_v.parameters():\n",
    "#     param.requires_grad = True"
   ]
  },
  {
   "cell_type": "code",
   "execution_count": 11,
   "metadata": {},
   "outputs": [
    {
     "name": "stdout",
     "output_type": "stream",
     "text": [
      "6,781,329\n"
     ]
    }
   ],
   "source": [
    "# pytorch_total_params\n",
    "params = sum(p.numel() for p in net.parameters())\n",
    "print(f\"{params:,}\")"
   ]
  },
  {
   "cell_type": "code",
   "execution_count": 12,
   "metadata": {},
   "outputs": [
    {
     "name": "stdout",
     "output_type": "stream",
     "text": [
      "6,781,329\n"
     ]
    }
   ],
   "source": [
    "# pytorch_total_params (trainable)\n",
    "params = sum(p.numel() for p in net.parameters() if p.requires_grad)\n",
    "print(f\"{params:,}\")"
   ]
  },
  {
   "cell_type": "code",
   "execution_count": 13,
   "metadata": {},
   "outputs": [
    {
     "data": {
      "text/plain": [
       "GeeseNetGTrXL(\n",
       "  (encoder): GeeseEncoder(\n",
       "    (embed): Embedding(18, 8)\n",
       "  )\n",
       "  (gtrxl): GTrXL(\n",
       "    (embed): PositionalEncoding()\n",
       "    (transfomer): TransformerEncoder(\n",
       "      (layers): ModuleList(\n",
       "        (0): TEL(\n",
       "          (self_attn): MultiheadAttention(\n",
       "            (out_proj): _LinearWithBias(in_features=616, out_features=616, bias=True)\n",
       "          )\n",
       "          (linear1): Linear(in_features=616, out_features=256, bias=True)\n",
       "          (dropout): Dropout(p=0, inplace=False)\n",
       "          (linear2): Linear(in_features=256, out_features=616, bias=True)\n",
       "          (norm1): LayerNorm((616,), eps=1e-05, elementwise_affine=True)\n",
       "          (norm2): LayerNorm((616,), eps=1e-05, elementwise_affine=True)\n",
       "          (dropout1): Dropout(p=0, inplace=False)\n",
       "          (dropout2): Dropout(p=0, inplace=False)\n",
       "          (gru_1): GRU(616, 616, batch_first=True)\n",
       "          (gru_2): GRU(616, 616, batch_first=True)\n",
       "        )\n",
       "      )\n",
       "    )\n",
       "  )\n",
       "  (head): GeeseHead(\n",
       "    (head_p_1): Linear(in_features=616, out_features=308, bias=False)\n",
       "    (head_p_2): Linear(in_features=308, out_features=4, bias=False)\n",
       "    (head_v_1): Linear(in_features=616, out_features=308, bias=True)\n",
       "    (head_v_2): Linear(in_features=308, out_features=1, bias=True)\n",
       "  )\n",
       ")"
      ]
     },
     "execution_count": 13,
     "metadata": {},
     "output_type": "execute_result"
    }
   ],
   "source": [
    "net"
   ]
  },
  {
   "cell_type": "code",
   "execution_count": 14,
   "metadata": {},
   "outputs": [
    {
     "name": "stdout",
     "output_type": "stream",
     "text": [
      "size: torch.Size([2, 4]), type: torch.float32\n"
     ]
    }
   ],
   "source": [
    "out = net(obs_)\n",
    "print(f\"size: {out['policy'].size()}, type: {out['policy'].dtype}\")"
   ]
  },
  {
   "cell_type": "code",
   "execution_count": 15,
   "metadata": {},
   "outputs": [
    {
     "data": {
      "text/plain": [
       "{'policy': tensor([[-0.1927, -0.0793, -0.1033,  0.0715],\n",
       "         [-0.1192, -0.0534, -0.0562,  0.0184]], grad_fn=<MmBackward>),\n",
       " 'value': tensor([[-0.0725],\n",
       "         [-0.0881]], grad_fn=<TanhBackward>)}"
      ]
     },
     "execution_count": 15,
     "metadata": {},
     "output_type": "execute_result"
    }
   ],
   "source": [
    "out"
   ]
  }
 ],
 "metadata": {
  "kernelspec": {
   "display_name": "pytorch",
   "language": "python",
   "name": "pytorch"
  },
  "language_info": {
   "codemirror_mode": {
    "name": "ipython",
    "version": 3
   },
   "file_extension": ".py",
   "mimetype": "text/x-python",
   "name": "python",
   "nbconvert_exporter": "python",
   "pygments_lexer": "ipython3",
   "version": "3.7.8"
  }
 },
 "nbformat": 4,
 "nbformat_minor": 4
}
