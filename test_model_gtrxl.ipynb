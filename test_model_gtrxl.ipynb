{
 "cells": [
  {
   "cell_type": "code",
   "execution_count": 13,
   "metadata": {},
   "outputs": [],
   "source": [
    "import importlib\n",
    "\n",
    "import numpy as np\n",
    "import torch\n",
    "import torch.nn as nn\n",
    "import torch.nn.functional as F"
   ]
  },
  {
   "cell_type": "code",
   "execution_count": 14,
   "metadata": {},
   "outputs": [],
   "source": [
    "model_module = importlib.import_module(\"handyrl.model\")\n",
    "env_module = importlib.import_module(\"handyrl.envs.kaggle.hungry_geese\")\n",
    "gtrxl_module = importlib.import_module(\"handyrl.envs.kaggle.models.gtrxl_torch\")"
   ]
  },
  {
   "cell_type": "code",
   "execution_count": 15,
   "metadata": {},
   "outputs": [],
   "source": [
    "e = env_module.Environment()\n",
    "e.reset()"
   ]
  },
  {
   "cell_type": "code",
   "execution_count": 16,
   "metadata": {},
   "outputs": [
    {
     "name": "stdout",
     "output_type": "stream",
     "text": [
      "size: torch.Size([1, 4, 36]), type: torch.int64\n"
     ]
    }
   ],
   "source": [
    "obs = e.observation()\n",
    "obs = torch.from_numpy(obs[None, :, :]).clone()\n",
    "print(f\"size: {obs.size()}, type: {obs.dtype}\")\n",
    "\n",
    "obs_ = torch.cat([obs, obs], 0)"
   ]
  },
  {
   "cell_type": "code",
   "execution_count": 17,
   "metadata": {},
   "outputs": [
    {
     "data": {
      "text/plain": [
       "tensor([[[0, 0, 0, 0, 0, 0, 0, 0, 0, 0, 0, 0, 1, 1, 1, 1, 1, 1, 1, 1, 1, 1, 1,\n",
       "          4, 1, 1, 1, 1, 1, 1, 1, 2, 1, 1, 1, 3],\n",
       "         [0, 0, 0, 0, 0, 0, 0, 0, 0, 0, 0, 0, 1, 1, 1, 1, 1, 1, 4, 1, 1, 1, 1,\n",
       "          1, 1, 1, 1, 1, 1, 1, 3, 1, 1, 1, 1, 1],\n",
       "         [1, 2, 1, 1, 1, 3, 5, 1, 1, 1, 6, 1, 1, 1, 1, 1, 2, 1, 1, 1, 1, 1, 1,\n",
       "          1, 0, 0, 0, 0, 0, 0, 0, 0, 0, 0, 0, 0],\n",
       "         [3, 1, 1, 1, 1, 1, 1, 1, 1, 1, 1, 1, 1, 1, 1, 1, 1, 1, 1, 1, 1, 1, 1,\n",
       "          1, 0, 0, 0, 0, 0, 0, 0, 0, 0, 0, 0, 0]]])"
      ]
     },
     "execution_count": 17,
     "metadata": {},
     "output_type": "execute_result"
    }
   ],
   "source": [
    "obs"
   ]
  },
  {
   "cell_type": "code",
   "execution_count": 18,
   "metadata": {},
   "outputs": [
    {
     "name": "stdout",
     "output_type": "stream",
     "text": [
      "size: torch.Size([2, 4, 36]), type: torch.float32\n"
     ]
    }
   ],
   "source": [
    "input_ = torch.randn(2, obs.size()[1], obs.size()[2])\n",
    "print(f\"size: {input_.size()}, type: {input_.dtype}\")"
   ]
  },
  {
   "cell_type": "code",
   "execution_count": 19,
   "metadata": {},
   "outputs": [],
   "source": [
    "net = env_module.GeeseNetGTrXL(e)"
   ]
  },
  {
   "cell_type": "code",
   "execution_count": 20,
   "metadata": {},
   "outputs": [
    {
     "name": "stdout",
     "output_type": "stream",
     "text": [
      "130,820\n"
     ]
    }
   ],
   "source": [
    "# pytorch_total_params\n",
    "params = sum(p.numel() for p in net.parameters())\n",
    "print(f\"{params:,}\")"
   ]
  },
  {
   "cell_type": "code",
   "execution_count": 21,
   "metadata": {},
   "outputs": [
    {
     "name": "stdout",
     "output_type": "stream",
     "text": [
      "130,820\n"
     ]
    }
   ],
   "source": [
    "# pytorch_total_params (trainable)\n",
    "params = sum(p.numel() for p in net.parameters() if p.requires_grad)\n",
    "print(f\"{params:,}\")"
   ]
  },
  {
   "cell_type": "code",
   "execution_count": 22,
   "metadata": {},
   "outputs": [
    {
     "data": {
      "text/plain": [
       "GeeseNetGTrXL(\n",
       "  (gtrxl): GTrXL(\n",
       "    (embed): PositionalEncoding()\n",
       "    (transfomer): TransformerEncoder(\n",
       "      (layers): ModuleList(\n",
       "        (0): TEL(\n",
       "          (self_attn): MultiheadAttention(\n",
       "            (out_proj): _LinearWithBias(in_features=36, out_features=36, bias=True)\n",
       "          )\n",
       "          (linear1): Linear(in_features=36, out_features=64, bias=True)\n",
       "          (dropout): Dropout(p=0.0, inplace=False)\n",
       "          (linear2): Linear(in_features=64, out_features=36, bias=True)\n",
       "          (norm1): LayerNorm((36,), eps=1e-05, elementwise_affine=True)\n",
       "          (norm2): LayerNorm((36,), eps=1e-05, elementwise_affine=True)\n",
       "          (dropout1): Dropout(p=0.0, inplace=False)\n",
       "          (dropout2): Dropout(p=0.0, inplace=False)\n",
       "          (gru_1): GRU(36, 36, batch_first=True)\n",
       "          (gru_2): GRU(36, 36, batch_first=True)\n",
       "        )\n",
       "        (1): TEL(\n",
       "          (self_attn): MultiheadAttention(\n",
       "            (out_proj): _LinearWithBias(in_features=36, out_features=36, bias=True)\n",
       "          )\n",
       "          (linear1): Linear(in_features=36, out_features=64, bias=True)\n",
       "          (dropout): Dropout(p=0.0, inplace=False)\n",
       "          (linear2): Linear(in_features=64, out_features=36, bias=True)\n",
       "          (norm1): LayerNorm((36,), eps=1e-05, elementwise_affine=True)\n",
       "          (norm2): LayerNorm((36,), eps=1e-05, elementwise_affine=True)\n",
       "          (dropout1): Dropout(p=0.0, inplace=False)\n",
       "          (dropout2): Dropout(p=0.0, inplace=False)\n",
       "          (gru_1): GRU(36, 36, batch_first=True)\n",
       "          (gru_2): GRU(36, 36, batch_first=True)\n",
       "        )\n",
       "        (2): TEL(\n",
       "          (self_attn): MultiheadAttention(\n",
       "            (out_proj): _LinearWithBias(in_features=36, out_features=36, bias=True)\n",
       "          )\n",
       "          (linear1): Linear(in_features=36, out_features=64, bias=True)\n",
       "          (dropout): Dropout(p=0.0, inplace=False)\n",
       "          (linear2): Linear(in_features=64, out_features=36, bias=True)\n",
       "          (norm1): LayerNorm((36,), eps=1e-05, elementwise_affine=True)\n",
       "          (norm2): LayerNorm((36,), eps=1e-05, elementwise_affine=True)\n",
       "          (dropout1): Dropout(p=0.0, inplace=False)\n",
       "          (dropout2): Dropout(p=0.0, inplace=False)\n",
       "          (gru_1): GRU(36, 36, batch_first=True)\n",
       "          (gru_2): GRU(36, 36, batch_first=True)\n",
       "        )\n",
       "        (3): TEL(\n",
       "          (self_attn): MultiheadAttention(\n",
       "            (out_proj): _LinearWithBias(in_features=36, out_features=36, bias=True)\n",
       "          )\n",
       "          (linear1): Linear(in_features=36, out_features=64, bias=True)\n",
       "          (dropout): Dropout(p=0.0, inplace=False)\n",
       "          (linear2): Linear(in_features=64, out_features=36, bias=True)\n",
       "          (norm1): LayerNorm((36,), eps=1e-05, elementwise_affine=True)\n",
       "          (norm2): LayerNorm((36,), eps=1e-05, elementwise_affine=True)\n",
       "          (dropout1): Dropout(p=0.0, inplace=False)\n",
       "          (dropout2): Dropout(p=0.0, inplace=False)\n",
       "          (gru_1): GRU(36, 36, batch_first=True)\n",
       "          (gru_2): GRU(36, 36, batch_first=True)\n",
       "        )\n",
       "        (4): TEL(\n",
       "          (self_attn): MultiheadAttention(\n",
       "            (out_proj): _LinearWithBias(in_features=36, out_features=36, bias=True)\n",
       "          )\n",
       "          (linear1): Linear(in_features=36, out_features=64, bias=True)\n",
       "          (dropout): Dropout(p=0.0, inplace=False)\n",
       "          (linear2): Linear(in_features=64, out_features=36, bias=True)\n",
       "          (norm1): LayerNorm((36,), eps=1e-05, elementwise_affine=True)\n",
       "          (norm2): LayerNorm((36,), eps=1e-05, elementwise_affine=True)\n",
       "          (dropout1): Dropout(p=0.0, inplace=False)\n",
       "          (dropout2): Dropout(p=0.0, inplace=False)\n",
       "          (gru_1): GRU(36, 36, batch_first=True)\n",
       "          (gru_2): GRU(36, 36, batch_first=True)\n",
       "        )\n",
       "      )\n",
       "    )\n",
       "  )\n",
       ")"
      ]
     },
     "execution_count": 22,
     "metadata": {},
     "output_type": "execute_result"
    }
   ],
   "source": [
    "net"
   ]
  },
  {
   "cell_type": "code",
   "execution_count": 23,
   "metadata": {},
   "outputs": [
    {
     "name": "stdout",
     "output_type": "stream",
     "text": [
      "size: torch.Size([2, 4]), type: torch.float32\n"
     ]
    }
   ],
   "source": [
    "out = net(obs_)\n",
    "# print(f\"size: {out.size()}, type: {out.dtype}\")\n",
    "print(f\"size: {out['policy'].size()}, type: {out['policy'].dtype}\")"
   ]
  },
  {
   "cell_type": "code",
   "execution_count": 24,
   "metadata": {},
   "outputs": [
    {
     "data": {
      "text/plain": [
       "{'policy': tensor([[  2.4850, 153.4285, 146.3302,   9.5833],\n",
       "         [  2.1117, 149.4414, 144.9624,   6.5907]], grad_fn=<CatBackward>),\n",
       " 'value': tensor([[1., 1.]], grad_fn=<TanhBackward>)}"
      ]
     },
     "execution_count": 24,
     "metadata": {},
     "output_type": "execute_result"
    }
   ],
   "source": [
    "out"
   ]
  },
  {
   "cell_type": "code",
   "execution_count": null,
   "metadata": {},
   "outputs": [],
   "source": []
  }
 ],
 "metadata": {
  "kernelspec": {
   "display_name": "pytorch",
   "language": "python",
   "name": "pytorch"
  },
  "language_info": {
   "codemirror_mode": {
    "name": "ipython",
    "version": 3
   },
   "file_extension": ".py",
   "mimetype": "text/x-python",
   "name": "python",
   "nbconvert_exporter": "python",
   "pygments_lexer": "ipython3",
   "version": "3.7.8"
  }
 },
 "nbformat": 4,
 "nbformat_minor": 4
}
