{
 "cells": [
  {
   "cell_type": "code",
   "execution_count": 1,
   "metadata": {},
   "outputs": [],
   "source": [
    "import importlib\n",
    "import math\n",
    "\n",
    "import numpy as np\n",
    "import torch as T\n",
    "import torch.nn as nn\n",
    "import torch.nn.functional as F"
   ]
  },
  {
   "cell_type": "code",
   "execution_count": 2,
   "metadata": {},
   "outputs": [
    {
     "name": "stdout",
     "output_type": "stream",
     "text": [
      "Loading environment football failed: No module named 'gfootball'\n"
     ]
    }
   ],
   "source": [
    "model_module = importlib.import_module(\"handyrl.model\")\n",
    "env_module = importlib.import_module(\"handyrl.envs.kaggle.hungry_geese\")"
   ]
  },
  {
   "cell_type": "code",
   "execution_count": 3,
   "metadata": {},
   "outputs": [],
   "source": [
    "class PositionalEncoding(nn.Module):\n",
    "    \"\"\"\n",
    "    Positional Encoding : takes a 2d tensor --> 3d tensor\n",
    "    Injects some information on the relevant position of the img in the sequence\n",
    "    \"\"\"\n",
    "\n",
    "    def __init__(self, d_model, dropout=0.1, max_len=1024):\n",
    "        super(PositionalEncoding, self).__init__()\n",
    "        self.dropout = nn.Dropout(p=dropout)\n",
    "        pe = T.zeros(max_len, d_model)\n",
    "        position = T.arange(0, max_len, dtype=T.float).unsqueeze(1)\n",
    "        div_term = T.exp(T.arange(0, d_model, 2).float() * (-math.log(10000.0) / d_model))\n",
    "        pe[:, 0::2] = T.sin(position * div_term)\n",
    "        pe[:, 1::2] = T.cos(position * div_term)\n",
    "        pe = pe.unsqueeze(0).transpose(0, 1)\n",
    "        self.register_buffer(\"pe\", pe)\n",
    "\n",
    "    def forward(self, x):\n",
    "        x = x + self.pe[: x.size(0), :]\n",
    "        return self.dropout(x)\n",
    "\n",
    "\n",
    "class TEL(nn.TransformerEncoderLayer):\n",
    "    \"\"\"\n",
    "    Recreate the transfomer layers done in the following paper\n",
    "    https://arxiv.org/pdf/1910.06764.pdf\n",
    "    \"\"\"\n",
    "\n",
    "    def __init__(self, d_model, nhead, n_layers=1, dim_feedforward=256, activation=\"relu\", dropout=0):\n",
    "        super().__init__(d_model, nhead, dim_feedforward, dropout, activation)\n",
    "        # 2 GRUs are needed - 1 for the beginning / 1 at the end\n",
    "        self.gru_1 = nn.GRU(d_model, d_model, num_layers=n_layers, batch_first=True)\n",
    "        self.gru_2 = nn.GRU(input_size=d_model, hidden_size=d_model, num_layers=n_layers, batch_first=True)\n",
    "\n",
    "    def forward(self, src, src_mask=None, src_key_padding_mask=None):\n",
    "        h = (src).sum(dim=1).unsqueeze(dim=0)\n",
    "        src = self.norm1(src)\n",
    "        out = self.self_attn(src, src, src, attn_mask=src_mask, key_padding_mask=src_key_padding_mask)[0]\n",
    "\n",
    "        out, h = self.gru_1(out, h)\n",
    "        out = self.norm2(out)\n",
    "        out = self.activation(self.linear1(out))\n",
    "        out = self.activation(self.linear2(out))\n",
    "        out, h = self.gru_2(out, h)\n",
    "        return out\n",
    "\n",
    "\n",
    "class GTrXL(nn.Module):\n",
    "    \"\"\"\n",
    "    Implementation of transfomer model using GRUs\n",
    "    \"\"\"\n",
    "\n",
    "    def __init__(\n",
    "        self,\n",
    "        d_model,\n",
    "        nheads,\n",
    "        transformer_layers,\n",
    "        hidden_dims=256,\n",
    "        n_layers=1,\n",
    "        chkpt_dir=\"models\",\n",
    "        activation=\"relu\",\n",
    "        network_name=\"network.pt\",\n",
    "    ):\n",
    "        super(GTrXL, self).__init__()\n",
    "        # Module layers\n",
    "        self.embed = PositionalEncoding(d_model)\n",
    "        encoded = TEL(d_model, nheads, n_layers, dim_feedforward=hidden_dims, activation=activation)\n",
    "        self.transfomer = nn.TransformerEncoder(encoded, transformer_layers)\n",
    "\n",
    "    def forward(self, x):\n",
    "        x = self.embed(x)\n",
    "        x = self.transfomer(x)\n",
    "        return x"
   ]
  },
  {
   "cell_type": "code",
   "execution_count": 4,
   "metadata": {},
   "outputs": [],
   "source": [
    "class GeeseNet(model_module.BaseModel):\n",
    "    def __init__(self, env, args={}):\n",
    "        super().__init__(env, args)\n",
    "        d_model = 16\n",
    "        filters = 64\n",
    "\n",
    "        self.gtrxl = GTrXL(d_model=d_model, nheads=4, transformer_layers=1, hidden_dims=4, n_layers=1)\n",
    "\n",
    "        self.head_p1 = nn.Linear(77 * d_model, filters, bias=False)\n",
    "        self.head_p2 = nn.Linear(filters, 4, bias=False)\n",
    "        self.head_v1 = nn.Linear(77 * d_model, filters, bias=True)\n",
    "        self.head_v2 = nn.Linear(filters, 1, bias=True)\n",
    "\n",
    "    def forward(self, x, _=None):\n",
    "        h = self.gtrxl(x)\n",
    "        h = h.reshape(-1, h.size(1) * h.size(2))  # 77 * 16 = 1232\n",
    "\n",
    "        h_p = F.relu_(self.head_p1(h))\n",
    "        p = self.head_p2(h_p)\n",
    "\n",
    "        h_v = F.relu_(self.head_v1(h))\n",
    "        v = T.tanh(self.head_v2(h_v))\n",
    "\n",
    "        return {\"policy\": p, \"value\": v}"
   ]
  },
  {
   "cell_type": "code",
   "execution_count": 5,
   "metadata": {},
   "outputs": [],
   "source": [
    "e = env_module.Environment()\n",
    "e.reset()"
   ]
  },
  {
   "cell_type": "code",
   "execution_count": 6,
   "metadata": {},
   "outputs": [],
   "source": [
    "net = GeeseNet(e)"
   ]
  },
  {
   "cell_type": "code",
   "execution_count": 7,
   "metadata": {},
   "outputs": [
    {
     "data": {
      "text/plain": [
       "torch.Size([1, 77, 16])"
      ]
     },
     "execution_count": 7,
     "metadata": {},
     "output_type": "execute_result"
    }
   ],
   "source": [
    "input_ = T.randn(1, 77, 16)\n",
    "input_.size()"
   ]
  },
  {
   "cell_type": "code",
   "execution_count": 8,
   "metadata": {},
   "outputs": [
    {
     "data": {
      "text/plain": [
       "torch.Size([1, 4])"
      ]
     },
     "execution_count": 8,
     "metadata": {},
     "output_type": "execute_result"
    }
   ],
   "source": [
    "out = net(input_)\n",
    "out['policy'].size()"
   ]
  },
  {
   "cell_type": "code",
   "execution_count": 9,
   "metadata": {},
   "outputs": [
    {
     "data": {
      "text/plain": [
       "{'policy': tensor([[-0.2757, -0.0942, -0.2077, -0.5154]], grad_fn=<MmBackward>),\n",
       " 'value': tensor([[0.4704]], grad_fn=<TanhBackward>)}"
      ]
     },
     "execution_count": 9,
     "metadata": {},
     "output_type": "execute_result"
    }
   ],
   "source": [
    "out"
   ]
  },
  {
   "cell_type": "code",
   "execution_count": 10,
   "metadata": {},
   "outputs": [
    {
     "data": {
      "text/plain": [
       "GeeseNet(\n",
       "  (gtrxl): GTrXL(\n",
       "    (embed): PositionalEncoding(\n",
       "      (dropout): Dropout(p=0.1, inplace=False)\n",
       "    )\n",
       "    (transfomer): TransformerEncoder(\n",
       "      (layers): ModuleList(\n",
       "        (0): TEL(\n",
       "          (self_attn): MultiheadAttention(\n",
       "            (out_proj): _LinearWithBias(in_features=16, out_features=16, bias=True)\n",
       "          )\n",
       "          (linear1): Linear(in_features=16, out_features=4, bias=True)\n",
       "          (dropout): Dropout(p=0, inplace=False)\n",
       "          (linear2): Linear(in_features=4, out_features=16, bias=True)\n",
       "          (norm1): LayerNorm((16,), eps=1e-05, elementwise_affine=True)\n",
       "          (norm2): LayerNorm((16,), eps=1e-05, elementwise_affine=True)\n",
       "          (dropout1): Dropout(p=0, inplace=False)\n",
       "          (dropout2): Dropout(p=0, inplace=False)\n",
       "          (gru_1): GRU(16, 16, batch_first=True)\n",
       "          (gru_2): GRU(16, 16, batch_first=True)\n",
       "        )\n",
       "      )\n",
       "    )\n",
       "  )\n",
       "  (head_p1): Linear(in_features=1232, out_features=64, bias=False)\n",
       "  (head_p2): Linear(in_features=64, out_features=4, bias=False)\n",
       "  (head_v1): Linear(in_features=1232, out_features=64, bias=True)\n",
       "  (head_v2): Linear(in_features=64, out_features=1, bias=True)\n",
       ")"
      ]
     },
     "execution_count": 10,
     "metadata": {},
     "output_type": "execute_result"
    }
   ],
   "source": [
    "net"
   ]
  },
  {
   "cell_type": "code",
   "execution_count": 11,
   "metadata": {},
   "outputs": [
    {
     "name": "stdout",
     "output_type": "stream",
     "text": [
      "162,645\n"
     ]
    }
   ],
   "source": [
    "# pytorch_total_params\n",
    "params = sum(p.numel() for p in net.parameters())\n",
    "print(f\"{params:,}\")"
   ]
  },
  {
   "cell_type": "code",
   "execution_count": 12,
   "metadata": {},
   "outputs": [
    {
     "name": "stdout",
     "output_type": "stream",
     "text": [
      "162,645\n"
     ]
    }
   ],
   "source": [
    "# pytorch_total_params (trainable)\n",
    "params = sum(p.numel() for p in net.parameters() if p.requires_grad)\n",
    "print(f\"{params:,}\")"
   ]
  }
 ],
 "metadata": {
  "kernelspec": {
   "display_name": "pytorch",
   "language": "python",
   "name": "pytorch"
  },
  "language_info": {
   "codemirror_mode": {
    "name": "ipython",
    "version": 3
   },
   "file_extension": ".py",
   "mimetype": "text/x-python",
   "name": "python",
   "nbconvert_exporter": "python",
   "pygments_lexer": "ipython3",
   "version": "3.7.8"
  }
 },
 "nbformat": 4,
 "nbformat_minor": 4
}
