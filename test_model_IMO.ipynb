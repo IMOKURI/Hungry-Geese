{
 "cells": [
  {
   "cell_type": "code",
   "execution_count": 1,
   "metadata": {},
   "outputs": [],
   "source": [
    "import importlib\n",
    "\n",
    "import numpy as np\n",
    "import torch\n",
    "import torch.nn as nn\n",
    "import torch.nn.functional as F"
   ]
  },
  {
   "cell_type": "code",
   "execution_count": 2,
   "metadata": {},
   "outputs": [
    {
     "name": "stdout",
     "output_type": "stream",
     "text": [
      "Loading environment football failed: No module named 'gfootball'\n"
     ]
    }
   ],
   "source": [
    "model_module = importlib.import_module(\"handyrl.model\")\n",
    "env_module = importlib.import_module(\"handyrl.envs.kaggle.hungry_geese\")"
   ]
  },
  {
   "cell_type": "code",
   "execution_count": 3,
   "metadata": {},
   "outputs": [],
   "source": [
    "# pretrained_model_path = \"ds/models/second_stage_3257.pth\"\n",
    "# weights = torch.load(pretrained_model_path)"
   ]
  },
  {
   "cell_type": "code",
   "execution_count": 4,
   "metadata": {},
   "outputs": [],
   "source": [
    "e = env_module.Environment()\n",
    "e.reset()"
   ]
  },
  {
   "cell_type": "code",
   "execution_count": 5,
   "metadata": {},
   "outputs": [
    {
     "name": "stdout",
     "output_type": "stream",
     "text": [
      "size: torch.Size([1, 17, 7, 11]), type: torch.float32\n"
     ]
    }
   ],
   "source": [
    "obs = e.observation()\n",
    "obs = torch.from_numpy(obs.reshape(1, 17, 7, 11)).clone()\n",
    "print(f\"size: {obs.size()}, type: {obs.dtype}\")"
   ]
  },
  {
   "cell_type": "code",
   "execution_count": 6,
   "metadata": {},
   "outputs": [
    {
     "data": {
      "text/plain": [
       "[[{'action': 'NORTH',\n",
       "   'reward': 0,\n",
       "   'info': {},\n",
       "   'observation': {'remainingOverageTime': 60,\n",
       "    'step': 0,\n",
       "    'geese': [[32], [42], [14], [65]],\n",
       "    'food': [69, 73],\n",
       "    'index': 0},\n",
       "   'status': 'ACTIVE'},\n",
       "  {'action': 'NORTH',\n",
       "   'reward': 0,\n",
       "   'info': {},\n",
       "   'observation': {'remainingOverageTime': 60, 'index': 1},\n",
       "   'status': 'ACTIVE'},\n",
       "  {'action': 'NORTH',\n",
       "   'reward': 0,\n",
       "   'info': {},\n",
       "   'observation': {'remainingOverageTime': 60, 'index': 2},\n",
       "   'status': 'ACTIVE'},\n",
       "  {'action': 'NORTH',\n",
       "   'reward': 0,\n",
       "   'info': {},\n",
       "   'observation': {'remainingOverageTime': 60, 'index': 3},\n",
       "   'status': 'ACTIVE'}]]"
      ]
     },
     "execution_count": 6,
     "metadata": {},
     "output_type": "execute_result"
    }
   ],
   "source": [
    "e.obs_list"
   ]
  },
  {
   "cell_type": "code",
   "execution_count": 7,
   "metadata": {},
   "outputs": [
    {
     "name": "stdout",
     "output_type": "stream",
     "text": [
      "size: torch.Size([2, 17, 7, 11]), type: torch.float32\n"
     ]
    }
   ],
   "source": [
    "input_ = torch.randn(2, 17, 7, 11)\n",
    "print(f\"size: {input_.size()}, type: {input_.dtype}\")"
   ]
  },
  {
   "cell_type": "code",
   "execution_count": 8,
   "metadata": {},
   "outputs": [],
   "source": [
    "net = env_module.GeeseNetIMO(e)"
   ]
  },
  {
   "cell_type": "code",
   "execution_count": 9,
   "metadata": {},
   "outputs": [],
   "source": [
    "# net.geese_net.load_state_dict(weights, strict=False)"
   ]
  },
  {
   "cell_type": "code",
   "execution_count": 10,
   "metadata": {},
   "outputs": [],
   "source": [
    "# for param in net.geese_net.parameters():\n",
    "#     param.requires_grad = False"
   ]
  },
  {
   "cell_type": "code",
   "execution_count": 11,
   "metadata": {},
   "outputs": [
    {
     "name": "stdout",
     "output_type": "stream",
     "text": [
      "146,433\n"
     ]
    }
   ],
   "source": [
    "# pytorch_total_params\n",
    "params = sum(p.numel() for p in net.parameters())\n",
    "print(f\"{params:,}\")"
   ]
  },
  {
   "cell_type": "code",
   "execution_count": 12,
   "metadata": {},
   "outputs": [
    {
     "name": "stdout",
     "output_type": "stream",
     "text": [
      "146,433\n"
     ]
    }
   ],
   "source": [
    "# pytorch_total_params (trainable)\n",
    "params = sum(p.numel() for p in net.parameters() if p.requires_grad)\n",
    "print(f\"{params:,}\")"
   ]
  },
  {
   "cell_type": "code",
   "execution_count": 13,
   "metadata": {},
   "outputs": [
    {
     "data": {
      "text/plain": [
       "GeeseNetIMO(\n",
       "  (encoder): GeeseEncoder(\n",
       "    (conv0): TorusConv2d(\n",
       "      (conv): Conv2d(17, 32, kernel_size=(3, 3), stride=(1, 1))\n",
       "      (bn): BatchNorm2d(32, eps=1e-05, momentum=0.1, affine=True, track_running_stats=True)\n",
       "    )\n",
       "  )\n",
       "  (blocks): ModuleList(\n",
       "    (0): GeeseBlock(\n",
       "      (attention): MultiheadAttention(\n",
       "        (out_proj): _LinearWithBias(in_features=64, out_features=64, bias=True)\n",
       "      )\n",
       "    )\n",
       "    (1): GeeseBlock(\n",
       "      (attention): MultiheadAttention(\n",
       "        (out_proj): _LinearWithBias(in_features=64, out_features=64, bias=True)\n",
       "      )\n",
       "    )\n",
       "    (2): GeeseBlock(\n",
       "      (attention): MultiheadAttention(\n",
       "        (out_proj): _LinearWithBias(in_features=64, out_features=64, bias=True)\n",
       "      )\n",
       "    )\n",
       "    (3): GeeseBlock(\n",
       "      (attention): MultiheadAttention(\n",
       "        (out_proj): _LinearWithBias(in_features=64, out_features=64, bias=True)\n",
       "      )\n",
       "    )\n",
       "    (4): GeeseBlock(\n",
       "      (attention): MultiheadAttention(\n",
       "        (out_proj): _LinearWithBias(in_features=64, out_features=64, bias=True)\n",
       "      )\n",
       "    )\n",
       "  )\n",
       "  (control): GeeseControll(\n",
       "    (attention): MultiheadAttention(\n",
       "      (out_proj): _LinearWithBias(in_features=64, out_features=64, bias=True)\n",
       "    )\n",
       "    (fc_control): Dense(\n",
       "      (dense): Linear(in_features=192, out_features=128, bias=False)\n",
       "      (bn): BatchNorm1d(128, eps=1e-05, momentum=0.1, affine=True, track_running_stats=True)\n",
       "    )\n",
       "  )\n",
       "  (head): GeeseHead(\n",
       "    (head_p_1): Linear(in_features=128, out_features=64, bias=False)\n",
       "    (head_p_2): Linear(in_features=64, out_features=4, bias=False)\n",
       "    (head_v_1): Linear(in_features=128, out_features=64, bias=True)\n",
       "    (head_v_2): Linear(in_features=64, out_features=1, bias=True)\n",
       "  )\n",
       ")"
      ]
     },
     "execution_count": 13,
     "metadata": {},
     "output_type": "execute_result"
    }
   ],
   "source": [
    "net"
   ]
  },
  {
   "cell_type": "code",
   "execution_count": 14,
   "metadata": {},
   "outputs": [
    {
     "name": "stdout",
     "output_type": "stream",
     "text": [
      "size: torch.Size([2, 4]), type: torch.float32\n"
     ]
    }
   ],
   "source": [
    "out = net(input_)\n",
    "print(f\"size: {out['policy'].size()}, type: {out['policy'].dtype}\")"
   ]
  },
  {
   "cell_type": "code",
   "execution_count": 15,
   "metadata": {},
   "outputs": [
    {
     "data": {
      "text/plain": [
       "{'policy': tensor([[-0.0149, -0.2659, -0.3320, -0.0686],\n",
       "         [ 0.0149,  0.2659,  0.3320,  0.0686]], grad_fn=<MmBackward>),\n",
       " 'value': tensor([[-0.1030],\n",
       "         [ 0.1767]], grad_fn=<TanhBackward>)}"
      ]
     },
     "execution_count": 15,
     "metadata": {},
     "output_type": "execute_result"
    }
   ],
   "source": [
    "out"
   ]
  }
 ],
 "metadata": {
  "kernelspec": {
   "display_name": "pytorch",
   "language": "python",
   "name": "pytorch"
  },
  "language_info": {
   "codemirror_mode": {
    "name": "ipython",
    "version": 3
   },
   "file_extension": ".py",
   "mimetype": "text/x-python",
   "name": "python",
   "nbconvert_exporter": "python",
   "pygments_lexer": "ipython3",
   "version": "3.7.8"
  }
 },
 "nbformat": 4,
 "nbformat_minor": 4
}
