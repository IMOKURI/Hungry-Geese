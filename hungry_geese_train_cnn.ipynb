{
 "cells": [
  {
   "cell_type": "markdown",
   "metadata": {
    "id": "abroad-piece",
    "papermill": {
     "duration": 0.025714,
     "end_time": "2021-05-12T03:01:02.640708",
     "exception": false,
     "start_time": "2021-05-12T03:01:02.614994",
     "status": "completed"
    },
    "tags": []
   },
   "source": [
    "# About this notebook ..."
   ]
  },
  {
   "cell_type": "markdown",
   "metadata": {
    "id": "pressing-commercial",
    "papermill": {
     "duration": 0.024272,
     "end_time": "2021-05-12T03:01:02.689850",
     "exception": false,
     "start_time": "2021-05-12T03:01:02.665578",
     "status": "completed"
    },
    "tags": []
   },
   "source": [
    "## Library"
   ]
  },
  {
   "cell_type": "code",
   "execution_count": 1,
   "metadata": {
    "id": "german-ethics",
    "papermill": {
     "duration": 1.852306,
     "end_time": "2021-05-12T03:01:04.566362",
     "exception": false,
     "start_time": "2021-05-12T03:01:02.714056",
     "status": "completed"
    },
    "tags": []
   },
   "outputs": [],
   "source": [
    "import glob\n",
    "import json\n",
    "import math\n",
    "import os\n",
    "import random\n",
    "import time\n",
    "import warnings\n",
    "from collections import defaultdict\n",
    "from contextlib import contextmanager\n",
    "\n",
    "import numpy as np\n",
    "import optuna\n",
    "import pandas as pd\n",
    "import torch\n",
    "import torch.nn as nn\n",
    "import torch.nn.functional as F\n",
    "from sklearn.metrics import accuracy_score\n",
    "from sklearn.model_selection import StratifiedKFold\n",
    "from torch.optim import SGD, Adam\n",
    "from torch.optim.lr_scheduler import CosineAnnealingLR, CosineAnnealingWarmRestarts, ReduceLROnPlateau\n",
    "from torch.utils.data import DataLoader, Dataset\n",
    "from tqdm.notebook import tqdm"
   ]
  },
  {
   "cell_type": "code",
   "execution_count": 2,
   "metadata": {
    "id": "apparent-fiction",
    "papermill": {
     "duration": 0.030961,
     "end_time": "2021-05-12T03:01:04.622818",
     "exception": false,
     "start_time": "2021-05-12T03:01:04.591857",
     "status": "completed"
    },
    "tags": []
   },
   "outputs": [],
   "source": [
    "warnings.filterwarnings(\"ignore\")"
   ]
  },
  {
   "cell_type": "markdown",
   "metadata": {
    "id": "editorial-haiti",
    "papermill": {
     "duration": 0.024908,
     "end_time": "2021-05-12T03:01:05.115280",
     "exception": false,
     "start_time": "2021-05-12T03:01:05.090372",
     "status": "completed"
    },
    "tags": []
   },
   "source": [
    "## Config"
   ]
  },
  {
   "cell_type": "code",
   "execution_count": 3,
   "metadata": {
    "id": "opened-python",
    "papermill": {
     "duration": 0.035637,
     "end_time": "2021-05-12T03:01:05.176119",
     "exception": false,
     "start_time": "2021-05-12T03:01:05.140482",
     "status": "completed"
    },
    "tags": []
   },
   "outputs": [],
   "source": [
    "class Config:\n",
    "    seed = 440\n",
    "\n",
    "    n_class = 4\n",
    "    n_fold = 5\n",
    "\n",
    "    geese_net_layers = 12\n",
    "    geese_net_filters = 32\n",
    "\n",
    "    gradient_accumulation_steps = 1\n",
    "    max_grad_norm = 1000\n",
    "\n",
    "    num_workers = 4\n",
    "    batch_size = 3200\n",
    "\n",
    "    scheduler = \"CosineAnnealingWarmRestarts\"\n",
    "    # factor = 0.2  # ReduceLROnPlateau\n",
    "    # patience = 4  # ReduceLROnPlateau\n",
    "    # eps = 1e-6  # ReduceLROnPlateau\n",
    "    # T_max = 10  # CosineAnnealingLR\n",
    "    T_0 = 10  # CosineAnnealingWarmRestarts\n",
    "\n",
    "    criterion = \"CrossEntropyLoss\"\n",
    "    lr = 1e-3\n",
    "    min_lr = 1e-4\n",
    "    weight_decay = 1e-5\n",
    "\n",
    "    epochs = 10\n",
    "    model_name = \"geese_net\"\n",
    "    pre_train_file = \"\"\n",
    "\n",
    "    print_freq = 100\n",
    "\n",
    "    train = True\n",
    "    tuning = False\n",
    "    debug = False\n",
    "    apex = False"
   ]
  },
  {
   "cell_type": "code",
   "execution_count": 4,
   "metadata": {
    "id": "contained-singles",
    "papermill": {
     "duration": 0.031266,
     "end_time": "2021-05-12T03:01:05.235456",
     "exception": false,
     "start_time": "2021-05-12T03:01:05.204190",
     "status": "completed"
    },
    "tags": []
   },
   "outputs": [],
   "source": [
    "if Config.tuning:\n",
    "    Config.epochs = 2\n",
    "\n",
    "if Config.debug:\n",
    "    Config.epochs = 1"
   ]
  },
  {
   "cell_type": "code",
   "execution_count": 5,
   "metadata": {
    "id": "dietary-track",
    "papermill": {
     "duration": 0.031421,
     "end_time": "2021-05-12T03:01:05.292382",
     "exception": false,
     "start_time": "2021-05-12T03:01:05.260961",
     "status": "completed"
    },
    "tags": []
   },
   "outputs": [],
   "source": [
    "if Config.apex:\n",
    "    from apex import amp"
   ]
  },
  {
   "cell_type": "code",
   "execution_count": 6,
   "metadata": {
    "id": "invalid-dispute",
    "papermill": {
     "duration": 0.169531,
     "end_time": "2021-05-12T03:01:05.488665",
     "exception": false,
     "start_time": "2021-05-12T03:01:05.319134",
     "status": "completed"
    },
    "tags": []
   },
   "outputs": [],
   "source": [
    "device = torch.device(\"cuda\" if torch.cuda.is_available() else \"cpu\")"
   ]
  },
  {
   "cell_type": "markdown",
   "metadata": {
    "id": "robust-humanity",
    "papermill": {
     "duration": 0.024539,
     "end_time": "2021-05-12T03:01:04.672270",
     "exception": false,
     "start_time": "2021-05-12T03:01:04.647731",
     "status": "completed"
    },
    "tags": []
   },
   "source": [
    "## Load Data"
   ]
  },
  {
   "cell_type": "code",
   "execution_count": 7,
   "metadata": {
    "id": "designed-effect",
    "papermill": {
     "duration": 0.031167,
     "end_time": "2021-05-12T03:01:04.728079",
     "exception": false,
     "start_time": "2021-05-12T03:01:04.696912",
     "status": "completed"
    },
    "tags": []
   },
   "outputs": [],
   "source": [
    "BASE_DIR = \"../input/hungrygeeseepisode/hungry-geese-episode/\"\n",
    "OUTPUT_DIR = \"pre-models/\"\n",
    "\n",
    "if not os.path.exists(OUTPUT_DIR):\n",
    "    os.makedirs(OUTPUT_DIR)"
   ]
  },
  {
   "cell_type": "code",
   "execution_count": 8,
   "metadata": {
    "colab": {
     "base_uri": "https://localhost:8080/"
    },
    "id": "special-broadcast",
    "outputId": "c440e1e9-5651-42ee-eb0f-08c822d7471a",
    "papermill": {
     "duration": 0.31211,
     "end_time": "2021-05-12T03:01:05.064722",
     "exception": false,
     "start_time": "2021-05-12T03:01:04.752612",
     "status": "completed"
    },
    "tags": []
   },
   "outputs": [
    {
     "name": "stdout",
     "output_type": "stream",
     "text": [
      "27362\n"
     ]
    }
   ],
   "source": [
    "paths = [path for path in glob.glob(BASE_DIR + \"*.json\") if \"info\" not in path]\n",
    "print(len(paths))"
   ]
  },
  {
   "cell_type": "code",
   "execution_count": 9,
   "metadata": {},
   "outputs": [
    {
     "name": "stdout",
     "output_type": "stream",
     "text": [
      "11000\n"
     ]
    }
   ],
   "source": [
    "# fit for memory size...\n",
    "paths = paths[-11000:]\n",
    "# paths = paths[:-11000]\n",
    "print(len(paths))"
   ]
  },
  {
   "cell_type": "code",
   "execution_count": 10,
   "metadata": {},
   "outputs": [],
   "source": [
    "if Config.debug:\n",
    "    paths = paths[:10]"
   ]
  },
  {
   "cell_type": "markdown",
   "metadata": {
    "id": "treated-serum",
    "papermill": {
     "duration": 0.025219,
     "end_time": "2021-05-12T03:01:05.539482",
     "exception": false,
     "start_time": "2021-05-12T03:01:05.514263",
     "status": "completed"
    },
    "tags": []
   },
   "source": [
    "## Utils"
   ]
  },
  {
   "cell_type": "code",
   "execution_count": 11,
   "metadata": {
    "id": "gothic-alloy",
    "papermill": {
     "duration": 0.070842,
     "end_time": "2021-05-12T03:01:05.642364",
     "exception": false,
     "start_time": "2021-05-12T03:01:05.571522",
     "status": "completed"
    },
    "tags": []
   },
   "outputs": [],
   "source": [
    "@contextmanager\n",
    "def timer(name):\n",
    "    t0 = time.time()\n",
    "    LOGGER.info(f\"[{name}] start\")\n",
    "    yield\n",
    "    LOGGER.info(f\"[{name}] done in {time.time() - t0:.0f} s.\")\n",
    "\n",
    "\n",
    "def init_logger(log_file=OUTPUT_DIR + \"train.log\"):\n",
    "    from logging import INFO, FileHandler, Formatter, StreamHandler, getLogger\n",
    "\n",
    "    logger = getLogger(__name__)\n",
    "    logger.setLevel(INFO)\n",
    "    handler1 = StreamHandler()\n",
    "    handler1.setFormatter(Formatter(\"%(message)s\"))\n",
    "    handler2 = FileHandler(filename=log_file)\n",
    "    handler2.setFormatter(Formatter(\"%(message)s\"))\n",
    "    logger.addHandler(handler1)\n",
    "    logger.addHandler(handler2)\n",
    "    return logger\n",
    "\n",
    "\n",
    "LOGGER = init_logger()\n",
    "\n",
    "\n",
    "def seed_torch(seed=42):\n",
    "    random.seed(seed)\n",
    "    os.environ[\"PYTHONHASHSEED\"] = str(seed)\n",
    "    np.random.seed(seed)\n",
    "    torch.manual_seed(seed)\n",
    "    torch.cuda.manual_seed(seed)\n",
    "    torch.backends.cudnn.deterministic = True\n",
    "\n",
    "\n",
    "seed_torch(seed=Config.seed)"
   ]
  },
  {
   "cell_type": "code",
   "execution_count": 12,
   "metadata": {
    "id": "experienced-correspondence",
    "papermill": {
     "duration": 0.053842,
     "end_time": "2021-05-12T03:01:05.741858",
     "exception": false,
     "start_time": "2021-05-12T03:01:05.688016",
     "status": "completed"
    },
    "tags": []
   },
   "outputs": [],
   "source": [
    "def reverse_ns(y):\n",
    "    if y == 0:\n",
    "        return 1\n",
    "    if y == 1:\n",
    "        return 0\n",
    "    return y\n",
    "\n",
    "\n",
    "def reverse_we(y):\n",
    "    if y == 2:\n",
    "        return 3\n",
    "    if y == 3:\n",
    "        return 2\n",
    "    return y\n",
    "\n",
    "\n",
    "def reverse_nswe(y):\n",
    "    return reverse_ns(reverse_we(y))"
   ]
  },
  {
   "cell_type": "markdown",
   "metadata": {
    "id": "further-transaction",
    "papermill": {
     "duration": 0.042365,
     "end_time": "2021-05-12T03:01:05.826807",
     "exception": false,
     "start_time": "2021-05-12T03:01:05.784442",
     "status": "completed"
    },
    "tags": []
   },
   "source": [
    "## Observation"
   ]
  },
  {
   "cell_type": "code",
   "execution_count": 13,
   "metadata": {},
   "outputs": [],
   "source": [
    "next_position_map = {}\n",
    "for pos in range(77):\n",
    "    position = []\n",
    "    position.append((11 * (1 + pos // 11) + pos % 11) % 77)\n",
    "    position.append((11 * (-1 + pos // 11) + pos % 11) % 77)\n",
    "    position.append((11 * (pos // 11) + (pos + 1) % 11) % 77)\n",
    "    position.append((11 * (pos // 11) + (pos - 1) % 11) % 77)\n",
    "    next_position_map[pos] = set(position)"
   ]
  },
  {
   "cell_type": "code",
   "execution_count": 14,
   "metadata": {
    "id": "naughty-clause",
    "papermill": {
     "duration": 0.058537,
     "end_time": "2021-05-12T03:01:05.928292",
     "exception": false,
     "start_time": "2021-05-12T03:01:05.869755",
     "status": "completed"
    },
    "tags": []
   },
   "outputs": [],
   "source": [
    "def make_input(obses):\n",
    "    b = np.zeros((17, 7 * 11), dtype=np.float16)\n",
    "    obs = obses[-1]\n",
    "\n",
    "    for p, pos_list in enumerate(obs[\"geese\"]):\n",
    "        pid = (p - obs[\"index\"]) % 4\n",
    "\n",
    "        # head position\n",
    "        for pos in pos_list[:1]:\n",
    "            b[0 + pid, pos] = 1\n",
    "        # tip position\n",
    "        for pos in pos_list[-1:]:\n",
    "            b[4 + pid, pos] = 1\n",
    "        # whole position\n",
    "        for pos in pos_list:\n",
    "            b[8 + pid, pos] = 1\n",
    "\n",
    "    # previous head position\n",
    "    if len(obses) > 1:\n",
    "        obs_prev = obses[-2]\n",
    "        for p, pos_list in enumerate(obs_prev[\"geese\"]):\n",
    "            for pos in pos_list[:1]:\n",
    "                b[12 + (p - obs[\"index\"]) % 4, pos] = 1\n",
    "\n",
    "    # food\n",
    "    for pos in obs[\"food\"]:\n",
    "        b[16, pos] = 1\n",
    "\n",
    "    return b.reshape(-1, 7, 11)"
   ]
  },
  {
   "cell_type": "code",
   "execution_count": 15,
   "metadata": {},
   "outputs": [],
   "source": [
    "def get_reverse_cube(obses):\n",
    "    \"\"\"\n",
    "    尻尾から順番に 1, 0.9, 0.8, ... という並び\n",
    "    \"\"\"\n",
    "    b = np.zeros((4, 7 * 11), dtype=np.float16)\n",
    "    obs = obses[-1]\n",
    "\n",
    "    for p, geese in enumerate(obs[\"geese\"]):\n",
    "        # whole position reverse\n",
    "        for num_reverse, pos in enumerate(geese[::-1]):\n",
    "            b[(p - obs[\"index\"]) % 4, pos] = 1 - num_reverse * 0.1\n",
    "\n",
    "    return b.reshape(-1, 7, 11)"
   ]
  },
  {
   "cell_type": "code",
   "execution_count": 16,
   "metadata": {},
   "outputs": [],
   "source": [
    "def get_next_disappear_cube(obses):\n",
    "    \"\"\"\n",
    "    次になくなる場所: 1\n",
    "    次になくなる可能性のある場所: 0.5\n",
    "    \"\"\"\n",
    "    b = np.zeros((4, 7 * 11), dtype=np.float16)\n",
    "    obs = obses[-1]\n",
    "    step = obs[\"step\"]\n",
    "\n",
    "    # foodを食べる可能性があるか。\n",
    "    eat_food_possibility = defaultdict(int)\n",
    "    for p, geese in enumerate(obs[\"geese\"]):\n",
    "        for pos in geese[:1]:\n",
    "            if not next_position_map[pos].isdisjoint(obs[\"food\"]):\n",
    "                eat_food_possibility[p] = 1\n",
    "\n",
    "    if (step % 40) == 39:  # 1つ短くなる\n",
    "        for p, geese in enumerate(obs[\"geese\"]):\n",
    "            if eat_food_possibility[p]:  # 尻尾が1、尻尾の１つ前0.5\n",
    "                for pos in geese[-1:]:\n",
    "                    b[(p - obs[\"index\"]) % 4, pos] = 1\n",
    "                for pos in geese[-2:-1]:\n",
    "                    b[(p - obs[\"index\"]) % 4, pos] = 0.5\n",
    "            else:  # 食べる可能性なし -> 尻尾が1, 尻尾の1つ前1\n",
    "                for pos in geese[-2:]:\n",
    "                    b[(p - obs[\"index\"]) % 4, pos] = 1\n",
    "    else:  # 1つ短くならない\n",
    "        for p, geese in enumerate(obs[\"geese\"]):\n",
    "            if eat_food_possibility[p]:  # 食べる可能性があり -> 尻尾を0.5\n",
    "                for pos in geese[-1:]:\n",
    "                    b[(p - obs[\"index\"]) % 4, pos] = 0.5\n",
    "            else:  # 食べる可能性なし # 尻尾を1\n",
    "                for pos in geese[-1:]:\n",
    "                    b[(p - obs[\"index\"]) % 4, pos] = 1\n",
    "\n",
    "    return b.reshape(-1, 7, 11)"
   ]
  },
  {
   "cell_type": "code",
   "execution_count": 17,
   "metadata": {},
   "outputs": [],
   "source": [
    "def get_step_cube_v2(obses):\n",
    "    \"\"\"\n",
    "    step0: 0, step199: 1\n",
    "    step0: 0, step39 + 40n: 1\n",
    "    \"\"\"\n",
    "    b = np.zeros((1, 7, 11), dtype=np.float16)\n",
    "    obs = obses[-1]\n",
    "    step = obs[\"step\"]\n",
    "\n",
    "    b[:, :, :5] = (step % 200) / 199\n",
    "    b[:, :, 5:] = (step % 40) / 39\n",
    "\n",
    "    return b"
   ]
  },
  {
   "cell_type": "code",
   "execution_count": 18,
   "metadata": {},
   "outputs": [],
   "source": [
    "def get_length_cube(obses):\n",
    "    b = np.zeros((2, 7, 11), dtype=np.float16)\n",
    "    obs = obses[-1]\n",
    "\n",
    "    my_length = len(obs[\"geese\"][obs[\"index\"]])\n",
    "    opposite1_length = len(obs[\"geese\"][(obs[\"index\"] + 1) % 4])\n",
    "    opposite2_length = len(obs[\"geese\"][(obs[\"index\"] + 2) % 4])\n",
    "    opposite3_length = len(obs[\"geese\"][(obs[\"index\"] + 3) % 4])\n",
    "\n",
    "    b[0] = my_length / 10\n",
    "    max_opposite_length = max(opposite1_length, opposite2_length, opposite3_length)\n",
    "    b[1, :, 0:2] = (my_length - max_opposite_length) / 10\n",
    "    b[1, :, 2:5] = (my_length - opposite1_length) / 10\n",
    "    b[1, :, 5:8] = (my_length - opposite2_length) / 10\n",
    "    b[1, :, 8:11] = (my_length - opposite3_length) / 10\n",
    "\n",
    "    return b"
   ]
  },
  {
   "cell_type": "code",
   "execution_count": 19,
   "metadata": {},
   "outputs": [],
   "source": [
    "def get_features(obses):\n",
    "    b = np.zeros((7 * 11), dtype=np.float16)\n",
    "    obs = obses[-1]\n",
    "    step = obs[\"step\"]\n",
    "\n",
    "    my_goose = obs[\"geese\"][obs[\"index\"]]\n",
    "    my_length = len(my_goose)\n",
    "\n",
    "    # num step\n",
    "    b[0] = (step - 194) if step >= 195 else 0\n",
    "    b[1] = (step % 40 - 35) if step % 40 > 35 else 0\n",
    "\n",
    "    \"\"\"\n",
    "    2-4: difference between my_length and opponent length (-3 to 3)\n",
    "    \"\"\"\n",
    "    for p, pos_list in enumerate(obs[\"geese\"]):\n",
    "        pid = (p - obs[\"index\"]) % 4\n",
    "        p_length = len(pos_list)\n",
    "\n",
    "        if pid == 0:\n",
    "            continue\n",
    "\n",
    "        b[1 + pid] = max(min(my_length - p_length, 3), -3) + 3\n",
    "\n",
    "    \"\"\"\n",
    "    5-7: difference between my head position and opponent one\n",
    "    \"\"\"\n",
    "    if my_length != 0:\n",
    "\n",
    "        for p, pos_list in enumerate(obs[\"geese\"]):\n",
    "            pid = (p - obs[\"index\"]) % 4\n",
    "\n",
    "            if pid == 0 or len(pos_list) == 0:\n",
    "                continue\n",
    "\n",
    "            diff = abs(my_goose[0] - pos_list[0])\n",
    "            x_ = diff % 11\n",
    "            x = min(x_, 11 - x_)\n",
    "            y_ = diff // 11\n",
    "            y = min(y_, 7 - y_)\n",
    "            b[4 + pid] = x + y\n",
    "\n",
    "    return b.reshape(1, 7, 11)"
   ]
  },
  {
   "cell_type": "markdown",
   "metadata": {
    "id": "pretty-aaron",
    "papermill": {
     "duration": 0.042985,
     "end_time": "2021-05-12T03:01:06.014038",
     "exception": false,
     "start_time": "2021-05-12T03:01:05.971053",
     "status": "completed"
    },
    "tags": []
   },
   "source": [
    "## Data"
   ]
  },
  {
   "cell_type": "code",
   "execution_count": 20,
   "metadata": {
    "id": "international-secret",
    "papermill": {
     "duration": 0.064855,
     "end_time": "2021-05-12T03:01:06.121648",
     "exception": false,
     "start_time": "2021-05-12T03:01:06.056793",
     "status": "completed"
    },
    "tags": []
   },
   "outputs": [],
   "source": [
    "def create_dataset_from_json(filepath, json_object=None, standing=0):\n",
    "    if json_object is None:\n",
    "        json_open = open(path, \"r\")\n",
    "        json_load = json.load(json_open)\n",
    "    else:\n",
    "        json_load = json_object\n",
    "\n",
    "    try:\n",
    "        winner_index = np.argmax(np.argsort(json_load[\"rewards\"]) == 3 - standing)\n",
    "\n",
    "        obses = []\n",
    "        X = []\n",
    "        y = []\n",
    "        actions = {\"NORTH\": 0, \"SOUTH\": 1, \"WEST\": 2, \"EAST\": 3}\n",
    "\n",
    "        for i in range(len(json_load[\"steps\"]) - 1):\n",
    "            if json_load[\"steps\"][i][winner_index][\"status\"] == \"ACTIVE\":\n",
    "                y_ = json_load[\"steps\"][i + 1][winner_index][\"action\"]\n",
    "                if y_ is not None:\n",
    "                    step = json_load[\"steps\"][i]\n",
    "                    step[winner_index][\"observation\"][\"geese\"] = step[0][\"observation\"][\"geese\"]\n",
    "                    step[winner_index][\"observation\"][\"food\"] = step[0][\"observation\"][\"food\"]\n",
    "                    step[winner_index][\"observation\"][\"step\"] = step[0][\"observation\"][\"step\"]\n",
    "                    obses.append(step[winner_index][\"observation\"])\n",
    "                    y.append(actions[y_])\n",
    "\n",
    "                    y.append(reverse_ns(actions[y_]))  # 上下反転\n",
    "                    y.append(reverse_we(actions[y_]))  # 左右反転\n",
    "                    y.append(reverse_nswe(actions[y_]))  # 上下左右反転\n",
    "\n",
    "        for j in range(len(obses)):\n",
    "            # X_ = make_input(obses[: j + 1])\n",
    "\n",
    "            # 反転可能な特徴量\n",
    "            X_ = []\n",
    "            X_.append(make_input(obses[: j + 1]))\n",
    "            X_.append(get_reverse_cube(obses[: j + 1]))\n",
    "            X_.append(get_next_disappear_cube(obses[: j + 1]))\n",
    "\n",
    "            # 反転不可能な特徴量\n",
    "            X_i = []\n",
    "            # X_i.append(get_step_cube_v2(obses[: j + 1]))\n",
    "            # X_i.append(get_length_cube(obses[: j + 1]))\n",
    "            X_i.append(get_features(obses[: j + 1]))\n",
    "\n",
    "            X_ = np.concatenate(X_)\n",
    "            X_i = np.concatenate(X_i)\n",
    "\n",
    "            X.append(np.concatenate([X_, X_i]))\n",
    "            X.append(np.concatenate([X_[:, ::-1, :], X_i]))  # 上下反転\n",
    "            X.append(np.concatenate([X_[:, :, ::-1], X_i]))  # 左右反転\n",
    "            X.append(np.concatenate([X_[:, ::-1, ::-1], X_i]))  # 上下左右反転\n",
    "\n",
    "        X = np.array(X, dtype=np.float16)  # [starting_step:]\n",
    "        y = np.array(y, dtype=np.uint8)  # [starting_step:]\n",
    "\n",
    "        return X, y\n",
    "    except Exception as e:\n",
    "        if Config.debug:\n",
    "            raise Exception from e\n",
    "        return 0, 0"
   ]
  },
  {
   "cell_type": "code",
   "execution_count": 21,
   "metadata": {
    "colab": {
     "base_uri": "https://localhost:8080/",
     "height": 84,
     "referenced_widgets": [
      "4134662bdbe04a918d9809632e268ef8",
      "8ddb49ac3c91409f99a569a061a70b3d",
      "0857c0fa22b544488d65bb2c7dad18ee",
      "e33e4f894b424988b316c468bc9225ce",
      "c96b7bfbdf0243a8ae1dbb3d9aedf123",
      "f905db5005be40b194ea150c8b0deb9f",
      "04a486aa6f454d8f92e388dba1b9ee21",
      "507d2b6a02bb43d0bb4c8c2734f19cbb"
     ]
    },
    "id": "handled-pleasure",
    "outputId": "955c1c6b-36bc-4b30-dc44-b72b05398f8c",
    "papermill": {
     "duration": 15.320591,
     "end_time": "2021-05-12T03:01:21.474816",
     "exception": false,
     "start_time": "2021-05-12T03:01:06.154225",
     "status": "completed"
    },
    "tags": []
   },
   "outputs": [
    {
     "data": {
      "application/vnd.jupyter.widget-view+json": {
       "model_id": "658e0e760a9941d1bc764ba057801f79",
       "version_major": 2,
       "version_minor": 0
      },
      "text/plain": [
       "HBox(children=(HTML(value=''), FloatProgress(value=0.0, max=11000.0), HTML(value='')))"
      ]
     },
     "metadata": {},
     "output_type": "display_data"
    },
    {
     "name": "stdout",
     "output_type": "stream",
     "text": [
      "\n",
      "Num episode: 6861292\n"
     ]
    }
   ],
   "source": [
    "X_train = []\n",
    "y_train = []\n",
    "\n",
    "for path in tqdm(paths[: int(len(paths))]):\n",
    "    X, y = create_dataset_from_json(path, standing=0)  # use only winners' moves\n",
    "    if X is not 0:\n",
    "        X_train.append(X)\n",
    "        y_train.append(y)\n",
    "\n",
    "X_train = np.concatenate(X_train)\n",
    "y_train = np.concatenate(y_train)\n",
    "\n",
    "print(f\"Num episode: {len(X_train)}\")"
   ]
  },
  {
   "cell_type": "code",
   "execution_count": 22,
   "metadata": {},
   "outputs": [],
   "source": [
    "unique_ = False"
   ]
  },
  {
   "cell_type": "code",
   "execution_count": 23,
   "metadata": {
    "id": "persistent-loading",
    "papermill": {
     "duration": 112.92618,
     "end_time": "2021-05-12T03:03:14.428162",
     "exception": false,
     "start_time": "2021-05-12T03:01:21.501982",
     "status": "completed"
    },
    "tags": []
   },
   "outputs": [],
   "source": [
    "# %%time\n",
    "\n",
    "# X_train, unique_index = np.unique(X_train, axis=0, return_index=True)  # remove duplicate\n",
    "# y_train = y_train[unique_index]\n",
    "\n",
    "# y_train = np.eye(4, dtype=\"uint8\")[y_train]  # to categorical\n",
    "\n",
    "# print(f\"Num episode: {len(X_train)}\")"
   ]
  },
  {
   "cell_type": "code",
   "execution_count": 24,
   "metadata": {},
   "outputs": [],
   "source": [
    "if unique_:\n",
    "    X_train_sum_obs = X_train.reshape(X_train.shape[0], -1).sum(1)\n",
    "    X_train_group = np.unique(X_train_sum_obs)\n",
    "    X_train_group.shape"
   ]
  },
  {
   "cell_type": "code",
   "execution_count": 25,
   "metadata": {},
   "outputs": [],
   "source": [
    "if unique_:\n",
    "    X_train_unique = []\n",
    "    y_train_unique = []\n",
    "    for group in tqdm(X_train_group):\n",
    "        group_index = np.where(X_train_sum_obs == group)\n",
    "\n",
    "        X_train_ = X_train[group_index]\n",
    "        y_train_ = y_train[group_index]\n",
    "\n",
    "        X_train_, unique_index = np.unique(X_train_, axis=0, return_index=True)  # remove duplicate\n",
    "        y_train_ = y_train_[unique_index]\n",
    "\n",
    "        X_train_unique.append(X_train_)\n",
    "        y_train_unique.append(y_train_)\n",
    "\n",
    "    X_train = np.concatenate(X_train_unique)\n",
    "    y_train = np.concatenate(y_train_unique)\n",
    "\n",
    "    print(f\"Num episode: {len(X_train)}\")"
   ]
  },
  {
   "cell_type": "code",
   "execution_count": 26,
   "metadata": {},
   "outputs": [],
   "source": [
    "if unique_:\n",
    "    del X_train_sum_obs\n",
    "    del X_train_group\n",
    "    del X_train_unique\n",
    "    del y_train_unique\n",
    "    del X_train_\n",
    "    del y_train_\n",
    "    del group_index\n",
    "    del unique_index"
   ]
  },
  {
   "cell_type": "code",
   "execution_count": 27,
   "metadata": {},
   "outputs": [
    {
     "data": {
      "text/plain": [
       "dtype('float32')"
      ]
     },
     "execution_count": 27,
     "metadata": {},
     "output_type": "execute_result"
    }
   ],
   "source": [
    "X_train = X_train.astype(np.float32)\n",
    "X_train.dtype"
   ]
  },
  {
   "cell_type": "code",
   "execution_count": 28,
   "metadata": {
    "id": "micro-french",
    "papermill": {
     "duration": 0.033413,
     "end_time": "2021-05-12T03:03:15.360395",
     "exception": false,
     "start_time": "2021-05-12T03:03:15.326982",
     "status": "completed"
    },
    "tags": []
   },
   "outputs": [],
   "source": [
    "if Config.debug:\n",
    "    X_train = X_train[:1000]\n",
    "    y_train = y_train[:1000]"
   ]
  },
  {
   "cell_type": "code",
   "execution_count": 29,
   "metadata": {
    "colab": {
     "base_uri": "https://localhost:8080/",
     "height": 415
    },
    "id": "wrong-pastor",
    "outputId": "406a2f1d-0b8a-46bf-ca01-546f3110c301",
    "papermill": {
     "duration": 0.036161,
     "end_time": "2021-05-12T03:03:15.425149",
     "exception": false,
     "start_time": "2021-05-12T03:03:15.388988",
     "status": "completed"
    },
    "tags": []
   },
   "outputs": [
    {
     "data": {
      "text/html": [
       "<div>\n",
       "<style scoped>\n",
       "    .dataframe tbody tr th:only-of-type {\n",
       "        vertical-align: middle;\n",
       "    }\n",
       "\n",
       "    .dataframe tbody tr th {\n",
       "        vertical-align: top;\n",
       "    }\n",
       "\n",
       "    .dataframe thead th {\n",
       "        text-align: right;\n",
       "    }\n",
       "</style>\n",
       "<table border=\"1\" class=\"dataframe\">\n",
       "  <thead>\n",
       "    <tr style=\"text-align: right;\">\n",
       "      <th></th>\n",
       "      <th>action</th>\n",
       "    </tr>\n",
       "  </thead>\n",
       "  <tbody>\n",
       "    <tr>\n",
       "      <th>0</th>\n",
       "      <td>3</td>\n",
       "    </tr>\n",
       "    <tr>\n",
       "      <th>1</th>\n",
       "      <td>3</td>\n",
       "    </tr>\n",
       "    <tr>\n",
       "      <th>2</th>\n",
       "      <td>2</td>\n",
       "    </tr>\n",
       "    <tr>\n",
       "      <th>3</th>\n",
       "      <td>2</td>\n",
       "    </tr>\n",
       "    <tr>\n",
       "      <th>4</th>\n",
       "      <td>0</td>\n",
       "    </tr>\n",
       "    <tr>\n",
       "      <th>...</th>\n",
       "      <td>...</td>\n",
       "    </tr>\n",
       "    <tr>\n",
       "      <th>6861287</th>\n",
       "      <td>3</td>\n",
       "    </tr>\n",
       "    <tr>\n",
       "      <th>6861288</th>\n",
       "      <td>1</td>\n",
       "    </tr>\n",
       "    <tr>\n",
       "      <th>6861289</th>\n",
       "      <td>0</td>\n",
       "    </tr>\n",
       "    <tr>\n",
       "      <th>6861290</th>\n",
       "      <td>1</td>\n",
       "    </tr>\n",
       "    <tr>\n",
       "      <th>6861291</th>\n",
       "      <td>0</td>\n",
       "    </tr>\n",
       "  </tbody>\n",
       "</table>\n",
       "<p>6861292 rows × 1 columns</p>\n",
       "</div>"
      ],
      "text/plain": [
       "         action\n",
       "0             3\n",
       "1             3\n",
       "2             2\n",
       "3             2\n",
       "4             0\n",
       "...         ...\n",
       "6861287       3\n",
       "6861288       1\n",
       "6861289       0\n",
       "6861290       1\n",
       "6861291       0\n",
       "\n",
       "[6861292 rows x 1 columns]"
      ]
     },
     "execution_count": 29,
     "metadata": {},
     "output_type": "execute_result"
    }
   ],
   "source": [
    "y_df = pd.DataFrame(y_train, dtype=np.uint8)\n",
    "y_df.columns = [\"action\"]\n",
    "y_df"
   ]
  },
  {
   "cell_type": "markdown",
   "metadata": {
    "id": "touched-coordinate",
    "papermill": {
     "duration": 0.027968,
     "end_time": "2021-05-12T03:03:15.557122",
     "exception": false,
     "start_time": "2021-05-12T03:03:15.529154",
     "status": "completed"
    },
    "tags": []
   },
   "source": [
    "## CV Split"
   ]
  },
  {
   "cell_type": "code",
   "execution_count": 30,
   "metadata": {
    "colab": {
     "base_uri": "https://localhost:8080/"
    },
    "id": "moving-skill",
    "outputId": "7542c4b4-f7d3-444c-8450-50bffddb1892",
    "papermill": {
     "duration": 0.202337,
     "end_time": "2021-05-12T03:03:15.787529",
     "exception": false,
     "start_time": "2021-05-12T03:03:15.585192",
     "status": "completed"
    },
    "tags": []
   },
   "outputs": [
    {
     "name": "stdout",
     "output_type": "stream",
     "text": [
      "fold  action\n",
      "0     0         330851\n",
      "      1         330851\n",
      "      2         355278\n",
      "      3         355279\n",
      "1     0         330851\n",
      "      1         330851\n",
      "      2         355278\n",
      "      3         355279\n",
      "2     0         330851\n",
      "      1         330850\n",
      "      2         355279\n",
      "      3         355278\n",
      "3     0         330850\n",
      "      1         330851\n",
      "      2         355279\n",
      "      3         355278\n",
      "4     0         330851\n",
      "      1         330851\n",
      "      2         355278\n",
      "      3         355278\n",
      "dtype: int64\n"
     ]
    }
   ],
   "source": [
    "folds = y_df.copy()\n",
    "Fold = StratifiedKFold(n_splits=Config.n_fold, shuffle=True, random_state=Config.seed)\n",
    "for n, (train_index, val_index) in enumerate(Fold.split(folds, folds[\"action\"])):\n",
    "    folds.loc[val_index, \"fold\"] = int(n)\n",
    "folds[\"fold\"] = folds[\"fold\"].astype(np.uint8)\n",
    "print(folds.groupby([\"fold\", \"action\"]).size())"
   ]
  },
  {
   "cell_type": "markdown",
   "metadata": {
    "id": "creative-football",
    "papermill": {
     "duration": 0.029031,
     "end_time": "2021-05-12T03:03:15.845114",
     "exception": false,
     "start_time": "2021-05-12T03:03:15.816083",
     "status": "completed"
    },
    "tags": []
   },
   "source": [
    "## Dataset"
   ]
  },
  {
   "cell_type": "code",
   "execution_count": 31,
   "metadata": {
    "id": "other-murder",
    "papermill": {
     "duration": 0.037264,
     "end_time": "2021-05-12T03:03:15.911219",
     "exception": false,
     "start_time": "2021-05-12T03:03:15.873955",
     "status": "completed"
    },
    "tags": []
   },
   "outputs": [],
   "source": [
    "class TrainDataset(Dataset):\n",
    "    def __init__(self, array, label):\n",
    "        self.array = array\n",
    "        self.label = label\n",
    "\n",
    "    def __len__(self):\n",
    "        return self.array.shape[0]\n",
    "\n",
    "    def __getitem__(self, idx):\n",
    "        return self.array[idx], torch.tensor(self.label[idx]).long()\n",
    "\n",
    "\n",
    "class TestDataset(Dataset):\n",
    "    def __init__(self, array):\n",
    "        self.array = array\n",
    "\n",
    "    def __len__(self):\n",
    "        return self.array.shape[0]\n",
    "\n",
    "    def __getitem__(self, idx):\n",
    "        return self.array[idx]"
   ]
  },
  {
   "cell_type": "code",
   "execution_count": 32,
   "metadata": {
    "colab": {
     "base_uri": "https://localhost:8080/"
    },
    "id": "adjusted-delhi",
    "outputId": "39504950-84bc-4692-8b90-8a5b64f741e0",
    "papermill": {
     "duration": 0.063691,
     "end_time": "2021-05-12T03:03:16.003693",
     "exception": false,
     "start_time": "2021-05-12T03:03:15.940002",
     "status": "completed"
    },
    "tags": []
   },
   "outputs": [],
   "source": [
    "# Test\n",
    "\n",
    "if Config.debug or False:\n",
    "    train_ds = TrainDataset(X_train, y_train)\n",
    "\n",
    "    for i in range(1):\n",
    "        obs, action = train_ds[i]\n",
    "        print(obs.shape, action)"
   ]
  },
  {
   "cell_type": "markdown",
   "metadata": {
    "id": "ceramic-startup",
    "papermill": {
     "duration": 0.02876,
     "end_time": "2021-05-12T03:03:16.061575",
     "exception": false,
     "start_time": "2021-05-12T03:03:16.032815",
     "status": "completed"
    },
    "tags": []
   },
   "source": [
    "## Model"
   ]
  },
  {
   "cell_type": "code",
   "execution_count": 33,
   "metadata": {
    "id": "unique-trick",
    "papermill": {
     "duration": 0.039055,
     "end_time": "2021-05-12T03:03:16.130239",
     "exception": false,
     "start_time": "2021-05-12T03:03:16.091184",
     "status": "completed"
    },
    "tags": []
   },
   "outputs": [],
   "source": [
    "class TorusConv2d(nn.Module):\n",
    "    def __init__(self, input_dim, output_dim, kernel_size, do=False, bn=True):\n",
    "        super().__init__()\n",
    "        self.edge_size = (kernel_size[0] // 2, kernel_size[1] // 2)\n",
    "        self.conv = nn.Conv2d(input_dim, output_dim, kernel_size=kernel_size)\n",
    "        self.do = nn.Dropout2d(p=0.1) if do else None\n",
    "        self.bn = nn.BatchNorm2d(output_dim) if bn else None\n",
    "\n",
    "    def forward(self, x):\n",
    "        h = torch.cat([x[:, :, :, -self.edge_size[1] :], x, x[:, :, :, : self.edge_size[1]]], dim=3)\n",
    "        h = torch.cat([h[:, :, -self.edge_size[0] :], h, h[:, :, : self.edge_size[0]]], dim=2)\n",
    "        h = self.conv(h)\n",
    "        h = self.do(h) if self.do is not None else h\n",
    "        h = self.bn(h) if self.bn is not None else h\n",
    "        return h"
   ]
  },
  {
   "cell_type": "code",
   "execution_count": 34,
   "metadata": {
    "id": "jspEE71c2Yma"
   },
   "outputs": [],
   "source": [
    "class GeeseNetAlpha(nn.Module):\n",
    "    def __init__(self):\n",
    "        super().__init__()\n",
    "\n",
    "        layers = Config.geese_net_layers\n",
    "        filters = Config.geese_net_filters\n",
    "        dim = filters * 5 + 30\n",
    "\n",
    "        self.embed_step = nn.Embedding(5, 3)\n",
    "        self.embed_hunger = nn.Embedding(5, 3)\n",
    "        self.embed_diff_len = nn.Embedding(7, 4)\n",
    "        self.embed_diff_head = nn.Embedding(9, 4)\n",
    "\n",
    "        self.conv0 = TorusConv2d(25, filters, (3, 3))\n",
    "        self.blocks = nn.ModuleList([TorusConv2d(filters, filters, (3, 3), True) for _ in range(layers)])\n",
    "        self.conv1 = TorusConv2d(filters, filters, (5, 5))\n",
    "\n",
    "        self.head_p1 = nn.Linear(dim, dim // 2, bias=True)\n",
    "        self.head_p2 = nn.Linear(dim // 2, 4, bias=False)\n",
    "        self.head_v1 = nn.Linear(dim, dim // 2, bias=True)\n",
    "        self.head_v2 = nn.Linear(dim // 2, 1, bias=False)\n",
    "\n",
    "    def forward(self, x, _=None):\n",
    "        x_feats = x[:, -1].view(x.size(0), -1).long()\n",
    "\n",
    "        # Embedding for features\n",
    "        e_step = self.embed_step(x_feats[:, 0])\n",
    "        e_hung = self.embed_hunger(x_feats[:, 1])\n",
    "        e_diff_l = self.embed_diff_len(x_feats[:, 2:5]).view(x.size(0), -1)\n",
    "        e_diff_h = self.embed_diff_head(x_feats[:, 5:8]).view(x.size(0), -1)\n",
    "\n",
    "        x = x[:, :-1].float()\n",
    "\n",
    "        # CNN for observation\n",
    "        h = F.relu_(self.conv0(x))\n",
    "\n",
    "        for block in self.blocks:\n",
    "            h = F.relu_(h + block(h))\n",
    "\n",
    "        h = F.relu_(h + self.conv1(h))\n",
    "\n",
    "        # Extract head position\n",
    "        h_head = (h * x[:, :1]).view(h.size(0), h.size(1), -1).sum(-1)\n",
    "        h_head2 = (h * x[:, 1:2]).view(h.size(0), h.size(1), -1).sum(-1)\n",
    "        h_head3 = (h * x[:, 2:3]).view(h.size(0), h.size(1), -1).sum(-1)\n",
    "        h_head4 = (h * x[:, 3:4]).view(h.size(0), h.size(1), -1).sum(-1)\n",
    "        h_avg = h.view(h.size(0), h.size(1), -1).mean(-1)\n",
    "\n",
    "        # Merge features\n",
    "        h = torch.cat(\n",
    "            [\n",
    "                h_head,\n",
    "                h_head2,\n",
    "                h_head3,\n",
    "                h_head4,\n",
    "                h_avg,\n",
    "                e_step,\n",
    "                e_hung,\n",
    "                e_diff_l,\n",
    "                e_diff_h,\n",
    "            ],\n",
    "            1,\n",
    "        ).view(1, h.size(0), -1)\n",
    "\n",
    "        h_p = F.relu_(self.head_p1(h.view(x.size(0), -1)))\n",
    "        p = self.head_p2(h_p)\n",
    "\n",
    "        h_v = F.relu_(self.head_v1(h.view(x.size(0), -1)))\n",
    "        v = torch.tanh(self.head_v2(h_v))\n",
    "\n",
    "        return {\"policy\": p, \"value\": v}"
   ]
  },
  {
   "cell_type": "code",
   "execution_count": 35,
   "metadata": {
    "colab": {
     "base_uri": "https://localhost:8080/"
    },
    "id": "objective-victoria",
    "outputId": "1ab137a5-e26e-4b9c-ff85-95fef713b755",
    "papermill": {
     "duration": 4.955868,
     "end_time": "2021-05-12T03:03:21.187355",
     "exception": false,
     "start_time": "2021-05-12T03:03:16.231487",
     "status": "completed"
    },
    "tags": []
   },
   "outputs": [],
   "source": [
    "# Test\n",
    "\n",
    "if Config.debug or False:\n",
    "    model = GeeseNetAlpha()\n",
    "    # print(model)\n",
    "\n",
    "    params = sum(p.numel() for p in model.parameters())\n",
    "    print(f\"params: {params:,}\")\n",
    "\n",
    "    train_ds = TrainDataset(X_train, y_train)\n",
    "    train_loader = DataLoader(train_ds, batch_size=4, shuffle=True, num_workers=4, pin_memory=True, drop_last=True)\n",
    "\n",
    "    for obs, action in train_loader:\n",
    "        print(f\"input shape: {obs.shape}\")\n",
    "        output = model(obs)\n",
    "        print(output)\n",
    "        print(f\"{torch.argmax(output['policy'], dim=1)}\")\n",
    "        break"
   ]
  },
  {
   "cell_type": "markdown",
   "metadata": {
    "id": "military-fiction",
    "papermill": {
     "duration": 0.033001,
     "end_time": "2021-05-12T03:03:21.255277",
     "exception": false,
     "start_time": "2021-05-12T03:03:21.222276",
     "status": "completed"
    },
    "tags": []
   },
   "source": [
    "## Loss"
   ]
  },
  {
   "cell_type": "code",
   "execution_count": null,
   "metadata": {
    "id": "sophisticated-hearts",
    "papermill": {
     "duration": 0.031759,
     "end_time": "2021-05-12T03:03:21.319849",
     "exception": false,
     "start_time": "2021-05-12T03:03:21.288090",
     "status": "completed"
    },
    "tags": []
   },
   "outputs": [],
   "source": []
  },
  {
   "cell_type": "markdown",
   "metadata": {
    "id": "designing-detective",
    "papermill": {
     "duration": 0.03139,
     "end_time": "2021-05-12T03:03:21.383038",
     "exception": false,
     "start_time": "2021-05-12T03:03:21.351648",
     "status": "completed"
    },
    "tags": []
   },
   "source": [
    "## Scoring"
   ]
  },
  {
   "cell_type": "code",
   "execution_count": 36,
   "metadata": {
    "id": "passive-cooper",
    "papermill": {
     "duration": 0.038846,
     "end_time": "2021-05-12T03:03:21.454085",
     "exception": false,
     "start_time": "2021-05-12T03:03:21.415239",
     "status": "completed"
    },
    "tags": []
   },
   "outputs": [],
   "source": [
    "def get_score(y_true, y_pred):\n",
    "    return accuracy_score(y_true, y_pred)"
   ]
  },
  {
   "cell_type": "code",
   "execution_count": 37,
   "metadata": {},
   "outputs": [],
   "source": [
    "def get_result(result_df):\n",
    "    preds = result_df[\"preds\"].values\n",
    "    labels = result_df[\"action\"].values\n",
    "    score = get_score(labels, preds)\n",
    "    LOGGER.info(f\"Score: {score:<.5f}\")\n",
    "    return score"
   ]
  },
  {
   "cell_type": "markdown",
   "metadata": {
    "id": "thirty-tracy",
    "papermill": {
     "duration": 0.0293,
     "end_time": "2021-05-12T03:03:21.514179",
     "exception": false,
     "start_time": "2021-05-12T03:03:21.484879",
     "status": "completed"
    },
    "tags": []
   },
   "source": [
    "## Helper functions"
   ]
  },
  {
   "cell_type": "code",
   "execution_count": 38,
   "metadata": {
    "id": "introductory-brooklyn",
    "papermill": {
     "duration": 0.039424,
     "end_time": "2021-05-12T03:03:21.582969",
     "exception": false,
     "start_time": "2021-05-12T03:03:21.543545",
     "status": "completed"
    },
    "tags": []
   },
   "outputs": [],
   "source": [
    "class AverageMeter(object):\n",
    "    \"\"\"Computes and stores the average and current value\"\"\"\n",
    "\n",
    "    def __init__(self):\n",
    "        self.reset()\n",
    "\n",
    "    def reset(self):\n",
    "        self.val = 0\n",
    "        self.avg = 0\n",
    "        self.sum = 0\n",
    "        self.count = 0\n",
    "\n",
    "    def update(self, val, n=1):\n",
    "        self.val = val\n",
    "        self.sum += val * n\n",
    "        self.count += n\n",
    "        self.avg = self.sum / self.count\n",
    "\n",
    "\n",
    "def asMinutes(s):\n",
    "    m = math.floor(s / 60)\n",
    "    s -= m * 60\n",
    "    return \"%dm %ds\" % (m, s)\n",
    "\n",
    "\n",
    "def timeSince(since, percent):\n",
    "    now = time.time()\n",
    "    s = now - since\n",
    "    es = s / (percent)\n",
    "    rs = es - s\n",
    "    return \"%s (remain %s)\" % (asMinutes(s), asMinutes(rs))"
   ]
  },
  {
   "cell_type": "code",
   "execution_count": 39,
   "metadata": {
    "id": "raising-laugh",
    "papermill": {
     "duration": 0.042063,
     "end_time": "2021-05-12T03:03:21.654559",
     "exception": false,
     "start_time": "2021-05-12T03:03:21.612496",
     "status": "completed"
    },
    "tags": []
   },
   "outputs": [],
   "source": [
    "def train_fn(train_loader, model, criterion, optimizer, epoch, scheduler, device):\n",
    "    losses = AverageMeter()\n",
    "\n",
    "    # switch to train mode\n",
    "    model.train()\n",
    "    start = time.time()\n",
    "\n",
    "    for step, (obs, action) in enumerate(train_loader):\n",
    "        obs = obs.to(device)\n",
    "        action = action.to(device)\n",
    "        batch_size = action.size(0)\n",
    "\n",
    "        y_preds = model(obs)[\"policy\"]\n",
    "\n",
    "        loss = criterion(y_preds, action)\n",
    "        losses.update(loss.item(), batch_size)\n",
    "        if Config.gradient_accumulation_steps > 1:\n",
    "            loss = loss / Config.gradient_accumulation_steps\n",
    "        if Config.apex:\n",
    "            with amp.scale_loss(loss, optimizer) as scaled_loss:\n",
    "                scaled_loss.backward()\n",
    "        else:\n",
    "            loss.backward()\n",
    "\n",
    "        grad_norm = torch.nn.utils.clip_grad_norm_(model.parameters(), Config.max_grad_norm)\n",
    "\n",
    "        if (step + 1) % Config.gradient_accumulation_steps == 0:\n",
    "            optimizer.step()\n",
    "            optimizer.zero_grad()\n",
    "\n",
    "        if step % Config.print_freq == 0 or step == (len(train_loader) - 1):\n",
    "            print(\n",
    "                f\"Epoch: [{epoch + 1}][{step}/{len(train_loader)}] \"\n",
    "                f\"Elapsed {timeSince(start, float(step + 1) / len(train_loader)):s} \"\n",
    "                f\"Loss avg.: {losses.avg:.4f} \"\n",
    "                f\"Grad: {grad_norm:.4f} \"\n",
    "                f\"LR: {scheduler.get_last_lr()[0]:.5f}  \"\n",
    "            )\n",
    "\n",
    "    return losses.avg"
   ]
  },
  {
   "cell_type": "code",
   "execution_count": 40,
   "metadata": {
    "id": "plain-neighbor",
    "papermill": {
     "duration": 0.041056,
     "end_time": "2021-05-12T03:03:21.726585",
     "exception": false,
     "start_time": "2021-05-12T03:03:21.685529",
     "status": "completed"
    },
    "tags": []
   },
   "outputs": [],
   "source": [
    "def valid_fn(valid_loader, model, criterion, device):\n",
    "    losses = AverageMeter()\n",
    "\n",
    "    # switch to evaluation mode\n",
    "    model.eval()\n",
    "    preds = []\n",
    "    start = time.time()\n",
    "\n",
    "    for step, (obs, action) in enumerate(valid_loader):\n",
    "        obs = obs.to(device)\n",
    "        action = action.to(device)\n",
    "        batch_size = action.size(0)\n",
    "\n",
    "        # compute loss\n",
    "        with torch.no_grad():\n",
    "            y_preds = model(obs)[\"policy\"]\n",
    "\n",
    "        loss = criterion(y_preds, action)\n",
    "        losses.update(loss.item(), batch_size)\n",
    "\n",
    "        # record accuracy\n",
    "        preds.append(y_preds.softmax(1).to(\"cpu\").numpy())\n",
    "        if Config.gradient_accumulation_steps > 1:\n",
    "            loss = loss / Config.gradient_accumulation_steps\n",
    "\n",
    "        if step % Config.print_freq == 0 or step == (len(valid_loader) - 1):\n",
    "            print(\n",
    "                f\"Eval: [{step}/{len(valid_loader)}] \"\n",
    "                f\"Elapsed {timeSince(start, float(step + 1) / len(valid_loader)):s} \"\n",
    "                f\"Loss avg.: {losses.avg:.4f} \"\n",
    "            )\n",
    "    predictions = np.concatenate(preds)\n",
    "    return losses.avg, predictions"
   ]
  },
  {
   "cell_type": "markdown",
   "metadata": {
    "id": "integrated-classification",
    "papermill": {
     "duration": 0.029832,
     "end_time": "2021-05-12T03:03:21.786427",
     "exception": false,
     "start_time": "2021-05-12T03:03:21.756595",
     "status": "completed"
    },
    "tags": []
   },
   "source": [
    "## Train loop"
   ]
  },
  {
   "cell_type": "code",
   "execution_count": 41,
   "metadata": {
    "id": "harmful-explanation",
    "papermill": {
     "duration": 0.05136,
     "end_time": "2021-05-12T03:03:21.868561",
     "exception": false,
     "start_time": "2021-05-12T03:03:21.817201",
     "status": "completed"
    },
    "tags": []
   },
   "outputs": [],
   "source": [
    "def train_loop(folds, fold):\n",
    "\n",
    "    LOGGER.info(f\"========== fold: {fold} training ==========\")\n",
    "\n",
    "    # ====================================================\n",
    "    # Data Loader\n",
    "    # ====================================================\n",
    "    # X_train_folds = X_train[folds[\"fold\"] != fold]\n",
    "    # X_valid_folds = X_train[folds[\"fold\"] == fold]\n",
    "\n",
    "    # y_train_folds = y_train[folds[\"fold\"] != fold]\n",
    "    y_valid_folds = y_train[folds[\"fold\"] == fold]\n",
    "\n",
    "    # y_df_train_folds = y_df[folds[\"fold\"] != fold]\n",
    "    y_df_valid_folds = y_df[folds[\"fold\"] == fold]\n",
    "\n",
    "    # train_dataset = TrainDataset(X_train[folds[\"fold\"] != fold], y_train[folds[\"fold\"] != fold])\n",
    "    # valid_dataset = TrainDataset(X_train[folds[\"fold\"] == fold], y_valid_folds)\n",
    "\n",
    "    train_loader = DataLoader(\n",
    "        TrainDataset(X_train[folds[\"fold\"] != fold], y_train[folds[\"fold\"] != fold]),\n",
    "        batch_size=Config.batch_size,\n",
    "        shuffle=True,\n",
    "        num_workers=Config.num_workers,\n",
    "        pin_memory=True,\n",
    "        drop_last=True,\n",
    "    )\n",
    "    valid_loader = DataLoader(\n",
    "        TrainDataset(X_train[folds[\"fold\"] == fold], y_valid_folds),\n",
    "        batch_size=Config.batch_size,\n",
    "        shuffle=False,\n",
    "        num_workers=Config.num_workers,\n",
    "        pin_memory=True,\n",
    "        drop_last=False,\n",
    "    )\n",
    "\n",
    "    # ====================================================\n",
    "    # Scheduler\n",
    "    # ====================================================\n",
    "    def get_scheduler(optimizer):\n",
    "        if Config.scheduler == \"ReduceLROnPlateau\":\n",
    "            scheduler = ReduceLROnPlateau(\n",
    "                optimizer, mode=\"min\", factor=Config.factor, patience=Config.patience, verbose=True, eps=Config.eps\n",
    "            )\n",
    "        elif Config.scheduler == \"CosineAnnealingLR\":\n",
    "            scheduler = CosineAnnealingLR(optimizer, T_max=Config.T_max, eta_min=Config.min_lr, last_epoch=-1)\n",
    "        elif Config.scheduler == \"CosineAnnealingWarmRestarts\":\n",
    "            scheduler = CosineAnnealingWarmRestarts(\n",
    "                optimizer, T_0=Config.T_0, T_mult=1, eta_min=Config.min_lr, last_epoch=-1\n",
    "            )\n",
    "        return scheduler\n",
    "\n",
    "    # ====================================================\n",
    "    # model & optimizer\n",
    "    # ====================================================\n",
    "    model = GeeseNetAlpha()\n",
    "    # try:\n",
    "    #     model.load_state_dict(torch.load(os.path.join(OUTPUT_DIR, Config.pre_train_file)))\n",
    "    # except:\n",
    "    #     print(f\"Failed to load pre-train weight.\")\n",
    "\n",
    "    # Disable training for value network\n",
    "    # for param in model.head_v1.parameters():\n",
    "    #     param.requires_grad = False\n",
    "    # for param in model.head_v2.parameters():\n",
    "    #     param.requires_grad = False\n",
    "\n",
    "    model.to(device)\n",
    "\n",
    "    # Use multi GPU\n",
    "    if device == torch.device(\"cuda\") and not Config.apex:\n",
    "        model = torch.nn.DataParallel(model)  # make parallel\n",
    "\n",
    "    optimizer = Adam(model.parameters(), lr=Config.lr, weight_decay=Config.weight_decay, amsgrad=False)\n",
    "    scheduler = get_scheduler(optimizer)\n",
    "\n",
    "    # ====================================================\n",
    "    # apex\n",
    "    # ====================================================\n",
    "    if Config.apex:\n",
    "        model, optimizer = amp.initialize(model, optimizer, opt_level=\"O1\", verbosity=0)\n",
    "\n",
    "    # ====================================================\n",
    "    # Criterion\n",
    "    # ====================================================\n",
    "    def get_criterion():\n",
    "        if Config.criterion == \"CrossEntropyLoss\":\n",
    "            criterion = nn.CrossEntropyLoss()\n",
    "        return criterion\n",
    "\n",
    "    criterion = get_criterion()\n",
    "\n",
    "    # ====================================================\n",
    "    # loop\n",
    "    # ====================================================\n",
    "    best_score = 0.0\n",
    "    best_loss = np.inf\n",
    "    best_preds = None\n",
    "\n",
    "    for epoch in range(Config.epochs):\n",
    "\n",
    "        start_time = time.time()\n",
    "\n",
    "        # train\n",
    "        avg_loss = train_fn(train_loader, model, criterion, optimizer, epoch, scheduler, device)\n",
    "\n",
    "        # eval\n",
    "        avg_val_loss, preds = valid_fn(valid_loader, model, criterion, device)\n",
    "\n",
    "        if isinstance(scheduler, ReduceLROnPlateau):\n",
    "            scheduler.step(avg_val_loss)\n",
    "        elif isinstance(scheduler, CosineAnnealingLR):\n",
    "            scheduler.step()\n",
    "        elif isinstance(scheduler, CosineAnnealingWarmRestarts):\n",
    "            scheduler.step()\n",
    "\n",
    "        # scoring\n",
    "        score = get_score(y_valid_folds, preds.argmax(1))\n",
    "\n",
    "        elapsed = time.time() - start_time\n",
    "\n",
    "        LOGGER.info(\n",
    "            f\"Epoch {epoch+1} - avg_train_loss: {avg_loss:.4f}  avg_val_loss: {avg_val_loss:.4f}  time: {elapsed:.0f}s\"\n",
    "        )\n",
    "        LOGGER.info(f\"Epoch {epoch+1} - Accuracy: {score}\")\n",
    "\n",
    "        if score > best_score:\n",
    "            best_score = score\n",
    "            LOGGER.info(f\"Epoch {epoch+1} - Save Best Score: {best_score:.4f} Model\")\n",
    "            torch.save(model.module.state_dict(), OUTPUT_DIR + f\"{Config.model_name}_fold{fold}_best.pth\")\n",
    "            best_preds = preds\n",
    "\n",
    "        if epoch == Config.epochs - 1:\n",
    "            LOGGER.info(f\"Epoch {epoch+1} - Save final model\")\n",
    "            torch.save(model.module.state_dict(), OUTPUT_DIR + f\"{Config.model_name}_fold{fold}_final.pth\")\n",
    "\n",
    "    if Config.train:\n",
    "        y_df_valid_folds[[str(c) for c in range(Config.n_class)]] = best_preds\n",
    "        y_df_valid_folds[\"preds\"] = best_preds.argmax(1)\n",
    "\n",
    "        return y_df_valid_folds\n",
    "\n",
    "    if Config.tuning:\n",
    "        score = get_score(y_df_valid_folds[\"action\"].values, best_preds.argmax(1))\n",
    "        return score"
   ]
  },
  {
   "cell_type": "code",
   "execution_count": 42,
   "metadata": {},
   "outputs": [],
   "source": [
    "def objective(trial):\n",
    "    Config.geese_net_layers = trial.suggest_int(\"layers\", 6, 18)\n",
    "    Config.geese_net_filters = trial.suggest_int(\"filters\", 32, 128)\n",
    "\n",
    "    score = train_loop(folds, 0)\n",
    "    return score"
   ]
  },
  {
   "cell_type": "markdown",
   "metadata": {
    "id": "complimentary-wright",
    "papermill": {
     "duration": 0.030218,
     "end_time": "2021-05-12T03:03:21.928896",
     "exception": false,
     "start_time": "2021-05-12T03:03:21.898678",
     "status": "completed"
    },
    "tags": []
   },
   "source": [
    "## Main\n"
   ]
  },
  {
   "cell_type": "code",
   "execution_count": 43,
   "metadata": {
    "id": "particular-adaptation",
    "papermill": {
     "duration": 0.04089,
     "end_time": "2021-05-12T03:03:22.000150",
     "exception": false,
     "start_time": "2021-05-12T03:03:21.959260",
     "status": "completed"
    },
    "tags": []
   },
   "outputs": [],
   "source": [
    "def main():\n",
    "    if Config.train:\n",
    "        # train\n",
    "        oof_df = pd.DataFrame()\n",
    "        for fold in range(Config.n_fold):\n",
    "            _oof_df = train_loop(folds, fold)\n",
    "            oof_df = pd.concat([oof_df, _oof_df])\n",
    "            LOGGER.info(f\"========== fold: {fold} result ==========\")\n",
    "            get_result(_oof_df)\n",
    "            # break  # fold 1つだけ\n",
    "        # CV result\n",
    "        LOGGER.info(f\"========== CV ==========\")\n",
    "        get_result(oof_df)\n",
    "        # save result\n",
    "        oof_df.to_csv(OUTPUT_DIR + \"oof_df.csv\", index=False)\n",
    "\n",
    "    if Config.tuning:\n",
    "        study = optuna.create_study(direction=\"maximize\")\n",
    "        study.optimize(objective, n_trials=10)\n",
    "\n",
    "        trial = study.best_trial\n",
    "        print(\"Best trial:\")\n",
    "        print(\"  Value: \", trial.value)\n",
    "        print(\"  Params: \")\n",
    "        for key, value in trial.params.items():\n",
    "            print(\"    {}: {}\".format(key, value))"
   ]
  },
  {
   "cell_type": "code",
   "execution_count": 44,
   "metadata": {
    "colab": {
     "base_uri": "https://localhost:8080/",
     "height": 1000
    },
    "id": "backed-journal",
    "outputId": "c9f0ff3d-795e-466b-e22e-9ba21d08c874",
    "papermill": {
     "duration": 2797.64711,
     "end_time": "2021-05-12T03:49:59.678400",
     "exception": false,
     "start_time": "2021-05-12T03:03:22.031290",
     "status": "completed"
    },
    "tags": []
   },
   "outputs": [
    {
     "name": "stderr",
     "output_type": "stream",
     "text": [
      "========== fold: 0 training ==========\n"
     ]
    },
    {
     "name": "stdout",
     "output_type": "stream",
     "text": [
      "Epoch: [1][0/1715] Elapsed 0m 3s (remain 108m 48s) Loss avg.: 1.6127 Grad: 4.1090 LR: 0.00100  \n",
      "Epoch: [1][100/1715] Elapsed 0m 35s (remain 9m 34s) Loss avg.: 0.7649 Grad: 0.6198 LR: 0.00100  \n",
      "Epoch: [1][200/1715] Elapsed 1m 7s (remain 8m 32s) Loss avg.: 0.6801 Grad: 0.8742 LR: 0.00100  \n",
      "Epoch: [1][300/1715] Elapsed 1m 40s (remain 7m 50s) Loss avg.: 0.6433 Grad: 0.8801 LR: 0.00100  \n",
      "Epoch: [1][400/1715] Elapsed 2m 12s (remain 7m 13s) Loss avg.: 0.6204 Grad: 0.9802 LR: 0.00100  \n",
      "Epoch: [1][500/1715] Elapsed 2m 44s (remain 6m 39s) Loss avg.: 0.6043 Grad: 1.0607 LR: 0.00100  \n",
      "Epoch: [1][600/1715] Elapsed 3m 17s (remain 6m 5s) Loss avg.: 0.5916 Grad: 0.8876 LR: 0.00100  \n",
      "Epoch: [1][700/1715] Elapsed 3m 49s (remain 5m 32s) Loss avg.: 0.5813 Grad: 0.6955 LR: 0.00100  \n",
      "Epoch: [1][800/1715] Elapsed 4m 21s (remain 4m 58s) Loss avg.: 0.5727 Grad: 0.7523 LR: 0.00100  \n",
      "Epoch: [1][900/1715] Elapsed 4m 53s (remain 4m 25s) Loss avg.: 0.5658 Grad: 0.4134 LR: 0.00100  \n",
      "Epoch: [1][1000/1715] Elapsed 5m 26s (remain 3m 52s) Loss avg.: 0.5598 Grad: 0.5511 LR: 0.00100  \n",
      "Epoch: [1][1100/1715] Elapsed 5m 58s (remain 3m 19s) Loss avg.: 0.5546 Grad: 0.9034 LR: 0.00100  \n",
      "Epoch: [1][1200/1715] Elapsed 6m 30s (remain 2m 47s) Loss avg.: 0.5501 Grad: 0.5713 LR: 0.00100  \n",
      "Epoch: [1][1300/1715] Elapsed 7m 2s (remain 2m 14s) Loss avg.: 0.5462 Grad: 0.6095 LR: 0.00100  \n",
      "Epoch: [1][1400/1715] Elapsed 7m 34s (remain 1m 41s) Loss avg.: 0.5429 Grad: 1.0234 LR: 0.00100  \n",
      "Epoch: [1][1500/1715] Elapsed 8m 7s (remain 1m 9s) Loss avg.: 0.5396 Grad: 0.5240 LR: 0.00100  \n",
      "Epoch: [1][1600/1715] Elapsed 8m 39s (remain 0m 36s) Loss avg.: 0.5367 Grad: 0.7234 LR: 0.00100  \n",
      "Epoch: [1][1700/1715] Elapsed 9m 11s (remain 0m 4s) Loss avg.: 0.5340 Grad: 0.6835 LR: 0.00100  \n",
      "Epoch: [1][1714/1715] Elapsed 9m 15s (remain 0m 0s) Loss avg.: 0.5337 Grad: 0.8484 LR: 0.00100  \n",
      "Eval: [0/429] Elapsed 0m 0s (remain 6m 37s) Loss avg.: 0.4792 \n",
      "Eval: [100/429] Elapsed 0m 9s (remain 0m 30s) Loss avg.: 0.4851 \n",
      "Eval: [200/429] Elapsed 0m 17s (remain 0m 20s) Loss avg.: 0.4853 \n",
      "Eval: [300/429] Elapsed 0m 26s (remain 0m 11s) Loss avg.: 0.4850 \n",
      "Eval: [400/429] Elapsed 0m 34s (remain 0m 2s) Loss avg.: 0.4847 \n",
      "Eval: [428/429] Elapsed 0m 36s (remain 0m 0s) Loss avg.: 0.4850 \n"
     ]
    },
    {
     "name": "stderr",
     "output_type": "stream",
     "text": [
      "Epoch 1 - avg_train_loss: 0.5337  avg_val_loss: 0.4850  time: 593s\n",
      "Epoch 1 - Accuracy: 0.7888569140373647\n",
      "Epoch 1 - Save Best Score: 0.7889 Model\n"
     ]
    },
    {
     "name": "stdout",
     "output_type": "stream",
     "text": [
      "Epoch: [2][0/1715] Elapsed 0m 1s (remain 46m 43s) Loss avg.: 0.4987 Grad: 0.8099 LR: 0.00098  \n",
      "Epoch: [2][100/1715] Elapsed 0m 33s (remain 8m 59s) Loss avg.: 0.4876 Grad: 0.4621 LR: 0.00098  \n",
      "Epoch: [2][200/1715] Elapsed 1m 5s (remain 8m 16s) Loss avg.: 0.4863 Grad: 0.5063 LR: 0.00098  \n",
      "Epoch: [2][300/1715] Elapsed 1m 38s (remain 7m 40s) Loss avg.: 0.4867 Grad: 0.3671 LR: 0.00098  \n",
      "Epoch: [2][400/1715] Elapsed 2m 10s (remain 7m 6s) Loss avg.: 0.4865 Grad: 0.6746 LR: 0.00098  \n",
      "Epoch: [2][500/1715] Elapsed 2m 42s (remain 6m 33s) Loss avg.: 0.4859 Grad: 0.4165 LR: 0.00098  \n",
      "Epoch: [2][600/1715] Elapsed 3m 14s (remain 6m 0s) Loss avg.: 0.4853 Grad: 0.5333 LR: 0.00098  \n",
      "Epoch: [2][700/1715] Elapsed 3m 46s (remain 5m 28s) Loss avg.: 0.4851 Grad: 0.5234 LR: 0.00098  \n",
      "Epoch: [2][800/1715] Elapsed 4m 18s (remain 4m 55s) Loss avg.: 0.4845 Grad: 0.4305 LR: 0.00098  \n",
      "Epoch: [2][900/1715] Elapsed 4m 51s (remain 4m 22s) Loss avg.: 0.4840 Grad: 0.6597 LR: 0.00098  \n",
      "Epoch: [2][1000/1715] Elapsed 5m 23s (remain 3m 50s) Loss avg.: 0.4839 Grad: 0.4397 LR: 0.00098  \n",
      "Epoch: [2][1100/1715] Elapsed 5m 55s (remain 3m 18s) Loss avg.: 0.4836 Grad: 0.5635 LR: 0.00098  \n",
      "Epoch: [2][1200/1715] Elapsed 6m 27s (remain 2m 45s) Loss avg.: 0.4831 Grad: 0.4231 LR: 0.00098  \n",
      "Epoch: [2][1300/1715] Elapsed 6m 59s (remain 2m 13s) Loss avg.: 0.4827 Grad: 0.4688 LR: 0.00098  \n",
      "Epoch: [2][1400/1715] Elapsed 7m 31s (remain 1m 41s) Loss avg.: 0.4822 Grad: 0.3170 LR: 0.00098  \n",
      "Epoch: [2][1500/1715] Elapsed 8m 4s (remain 1m 9s) Loss avg.: 0.4818 Grad: 0.6727 LR: 0.00098  \n",
      "Epoch: [2][1600/1715] Elapsed 8m 36s (remain 0m 36s) Loss avg.: 0.4815 Grad: 0.6413 LR: 0.00098  \n",
      "Epoch: [2][1700/1715] Elapsed 9m 8s (remain 0m 4s) Loss avg.: 0.4811 Grad: 0.5456 LR: 0.00098  \n",
      "Epoch: [2][1714/1715] Elapsed 9m 13s (remain 0m 0s) Loss avg.: 0.4811 Grad: 0.4770 LR: 0.00098  \n",
      "Eval: [0/429] Elapsed 0m 0s (remain 6m 32s) Loss avg.: 0.4620 \n",
      "Eval: [100/429] Elapsed 0m 9s (remain 0m 30s) Loss avg.: 0.4682 \n",
      "Eval: [200/429] Elapsed 0m 17s (remain 0m 20s) Loss avg.: 0.4685 \n",
      "Eval: [300/429] Elapsed 0m 26s (remain 0m 11s) Loss avg.: 0.4683 \n",
      "Eval: [400/429] Elapsed 0m 34s (remain 0m 2s) Loss avg.: 0.4680 \n",
      "Eval: [428/429] Elapsed 0m 36s (remain 0m 0s) Loss avg.: 0.4683 \n"
     ]
    },
    {
     "name": "stderr",
     "output_type": "stream",
     "text": [
      "Epoch 2 - avg_train_loss: 0.4811  avg_val_loss: 0.4683  time: 591s\n",
      "Epoch 2 - Accuracy: 0.7972051923142789\n",
      "Epoch 2 - Save Best Score: 0.7972 Model\n"
     ]
    },
    {
     "name": "stdout",
     "output_type": "stream",
     "text": [
      "Epoch: [3][0/1715] Elapsed 0m 1s (remain 49m 15s) Loss avg.: 0.4753 Grad: 0.4669 LR: 0.00091  \n",
      "Epoch: [3][100/1715] Elapsed 0m 34s (remain 9m 5s) Loss avg.: 0.4734 Grad: 0.7199 LR: 0.00091  \n",
      "Epoch: [3][200/1715] Elapsed 1m 6s (remain 8m 19s) Loss avg.: 0.4723 Grad: 0.4615 LR: 0.00091  \n",
      "Epoch: [3][300/1715] Elapsed 1m 38s (remain 7m 42s) Loss avg.: 0.4725 Grad: 0.7240 LR: 0.00091  \n",
      "Epoch: [3][400/1715] Elapsed 2m 10s (remain 7m 7s) Loss avg.: 0.4722 Grad: 0.4891 LR: 0.00091  \n",
      "Epoch: [3][500/1715] Elapsed 2m 42s (remain 6m 34s) Loss avg.: 0.4724 Grad: 0.3248 LR: 0.00091  \n",
      "Epoch: [3][600/1715] Elapsed 3m 14s (remain 6m 1s) Loss avg.: 0.4723 Grad: 0.5093 LR: 0.00091  \n",
      "Epoch: [3][700/1715] Elapsed 3m 46s (remain 5m 28s) Loss avg.: 0.4722 Grad: 0.3855 LR: 0.00091  \n",
      "Epoch: [3][800/1715] Elapsed 4m 19s (remain 4m 55s) Loss avg.: 0.4719 Grad: 0.5475 LR: 0.00091  \n",
      "Epoch: [3][900/1715] Elapsed 4m 51s (remain 4m 23s) Loss avg.: 0.4717 Grad: 0.3340 LR: 0.00091  \n",
      "Epoch: [3][1000/1715] Elapsed 5m 23s (remain 3m 50s) Loss avg.: 0.4715 Grad: 0.4549 LR: 0.00091  \n",
      "Epoch: [3][1100/1715] Elapsed 5m 55s (remain 3m 18s) Loss avg.: 0.4713 Grad: 0.5109 LR: 0.00091  \n",
      "Epoch: [3][1200/1715] Elapsed 6m 27s (remain 2m 46s) Loss avg.: 0.4712 Grad: 0.7773 LR: 0.00091  \n",
      "Epoch: [3][1300/1715] Elapsed 7m 0s (remain 2m 13s) Loss avg.: 0.4709 Grad: 0.5108 LR: 0.00091  \n",
      "Epoch: [3][1400/1715] Elapsed 7m 32s (remain 1m 41s) Loss avg.: 0.4706 Grad: 0.3677 LR: 0.00091  \n",
      "Epoch: [3][1500/1715] Elapsed 8m 4s (remain 1m 9s) Loss avg.: 0.4704 Grad: 0.2635 LR: 0.00091  \n",
      "Epoch: [3][1600/1715] Elapsed 8m 36s (remain 0m 36s) Loss avg.: 0.4702 Grad: 0.5035 LR: 0.00091  \n",
      "Epoch: [3][1700/1715] Elapsed 9m 8s (remain 0m 4s) Loss avg.: 0.4701 Grad: 0.4774 LR: 0.00091  \n",
      "Epoch: [3][1714/1715] Elapsed 9m 13s (remain 0m 0s) Loss avg.: 0.4701 Grad: 0.4602 LR: 0.00091  \n",
      "Eval: [0/429] Elapsed 0m 0s (remain 6m 35s) Loss avg.: 0.4593 \n",
      "Eval: [100/429] Elapsed 0m 9s (remain 0m 30s) Loss avg.: 0.4635 \n",
      "Eval: [200/429] Elapsed 0m 17s (remain 0m 20s) Loss avg.: 0.4634 \n",
      "Eval: [300/429] Elapsed 0m 26s (remain 0m 11s) Loss avg.: 0.4636 \n",
      "Eval: [400/429] Elapsed 0m 34s (remain 0m 2s) Loss avg.: 0.4633 \n",
      "Eval: [428/429] Elapsed 0m 37s (remain 0m 0s) Loss avg.: 0.4635 \n"
     ]
    },
    {
     "name": "stderr",
     "output_type": "stream",
     "text": [
      "Epoch 3 - avg_train_loss: 0.4701  avg_val_loss: 0.4635  time: 591s\n",
      "Epoch 3 - Accuracy: 0.7996077999852798\n",
      "Epoch 3 - Save Best Score: 0.7996 Model\n"
     ]
    },
    {
     "name": "stdout",
     "output_type": "stream",
     "text": [
      "Epoch: [4][0/1715] Elapsed 0m 1s (remain 45m 34s) Loss avg.: 0.4787 Grad: 0.5371 LR: 0.00081  \n",
      "Epoch: [4][100/1715] Elapsed 0m 33s (remain 9m 0s) Loss avg.: 0.4649 Grad: 0.4244 LR: 0.00081  \n",
      "Epoch: [4][200/1715] Elapsed 1m 5s (remain 8m 16s) Loss avg.: 0.4646 Grad: 0.5265 LR: 0.00081  \n",
      "Epoch: [4][300/1715] Elapsed 1m 38s (remain 7m 41s) Loss avg.: 0.4649 Grad: 0.3671 LR: 0.00081  \n",
      "Epoch: [4][400/1715] Elapsed 2m 10s (remain 7m 7s) Loss avg.: 0.4649 Grad: 0.3856 LR: 0.00081  \n",
      "Epoch: [4][500/1715] Elapsed 2m 42s (remain 6m 34s) Loss avg.: 0.4652 Grad: 0.3960 LR: 0.00081  \n",
      "Epoch: [4][600/1715] Elapsed 3m 14s (remain 6m 1s) Loss avg.: 0.4650 Grad: 0.3362 LR: 0.00081  \n",
      "Epoch: [4][700/1715] Elapsed 3m 46s (remain 5m 28s) Loss avg.: 0.4652 Grad: 0.3435 LR: 0.00081  \n",
      "Epoch: [4][800/1715] Elapsed 4m 19s (remain 4m 55s) Loss avg.: 0.4649 Grad: 0.3697 LR: 0.00081  \n",
      "Epoch: [4][900/1715] Elapsed 4m 51s (remain 4m 23s) Loss avg.: 0.4646 Grad: 0.5776 LR: 0.00081  \n",
      "Epoch: [4][1000/1715] Elapsed 5m 23s (remain 3m 50s) Loss avg.: 0.4644 Grad: 0.4655 LR: 0.00081  \n",
      "Epoch: [4][1100/1715] Elapsed 5m 55s (remain 3m 18s) Loss avg.: 0.4642 Grad: 0.3216 LR: 0.00081  \n",
      "Epoch: [4][1200/1715] Elapsed 6m 28s (remain 2m 46s) Loss avg.: 0.4642 Grad: 0.4400 LR: 0.00081  \n",
      "Epoch: [4][1300/1715] Elapsed 7m 0s (remain 2m 13s) Loss avg.: 0.4641 Grad: 0.3754 LR: 0.00081  \n",
      "Epoch: [4][1400/1715] Elapsed 7m 32s (remain 1m 41s) Loss avg.: 0.4640 Grad: 0.3516 LR: 0.00081  \n",
      "Epoch: [4][1500/1715] Elapsed 8m 4s (remain 1m 9s) Loss avg.: 0.4639 Grad: 0.2951 LR: 0.00081  \n",
      "Epoch: [4][1600/1715] Elapsed 8m 36s (remain 0m 36s) Loss avg.: 0.4639 Grad: 0.3868 LR: 0.00081  \n",
      "Epoch: [4][1700/1715] Elapsed 9m 8s (remain 0m 4s) Loss avg.: 0.4638 Grad: 0.4196 LR: 0.00081  \n",
      "Epoch: [4][1714/1715] Elapsed 9m 13s (remain 0m 0s) Loss avg.: 0.4638 Grad: 0.2837 LR: 0.00081  \n",
      "Eval: [0/429] Elapsed 0m 0s (remain 6m 27s) Loss avg.: 0.4566 \n",
      "Eval: [100/429] Elapsed 0m 9s (remain 0m 30s) Loss avg.: 0.4588 \n",
      "Eval: [200/429] Elapsed 0m 17s (remain 0m 20s) Loss avg.: 0.4591 \n",
      "Eval: [300/429] Elapsed 0m 26s (remain 0m 11s) Loss avg.: 0.4592 \n",
      "Eval: [400/429] Elapsed 0m 34s (remain 0m 2s) Loss avg.: 0.4590 \n",
      "Eval: [428/429] Elapsed 0m 37s (remain 0m 0s) Loss avg.: 0.4592 \n"
     ]
    },
    {
     "name": "stderr",
     "output_type": "stream",
     "text": [
      "Epoch 4 - avg_train_loss: 0.4638  avg_val_loss: 0.4592  time: 591s\n",
      "Epoch 4 - Accuracy: 0.8011570702032197\n",
      "Epoch 4 - Save Best Score: 0.8012 Model\n"
     ]
    },
    {
     "name": "stdout",
     "output_type": "stream",
     "text": [
      "Epoch: [5][0/1715] Elapsed 0m 1s (remain 45m 22s) Loss avg.: 0.4457 Grad: 0.3980 LR: 0.00069  \n",
      "Epoch: [5][100/1715] Elapsed 0m 33s (remain 9m 0s) Loss avg.: 0.4574 Grad: 0.3010 LR: 0.00069  \n",
      "Epoch: [5][200/1715] Elapsed 1m 6s (remain 8m 17s) Loss avg.: 0.4588 Grad: 0.4408 LR: 0.00069  \n",
      "Epoch: [5][300/1715] Elapsed 1m 38s (remain 7m 41s) Loss avg.: 0.4593 Grad: 0.3781 LR: 0.00069  \n",
      "Epoch: [5][400/1715] Elapsed 2m 10s (remain 7m 7s) Loss avg.: 0.4596 Grad: 0.3521 LR: 0.00069  \n",
      "Epoch: [5][500/1715] Elapsed 2m 42s (remain 6m 34s) Loss avg.: 0.4593 Grad: 0.4654 LR: 0.00069  \n",
      "Epoch: [5][600/1715] Elapsed 3m 14s (remain 6m 1s) Loss avg.: 0.4593 Grad: 0.3393 LR: 0.00069  \n",
      "Epoch: [5][700/1715] Elapsed 3m 47s (remain 5m 28s) Loss avg.: 0.4592 Grad: 0.3172 LR: 0.00069  \n",
      "Epoch: [5][800/1715] Elapsed 4m 19s (remain 4m 55s) Loss avg.: 0.4591 Grad: 0.2664 LR: 0.00069  \n",
      "Epoch: [5][900/1715] Elapsed 4m 51s (remain 4m 23s) Loss avg.: 0.4592 Grad: 0.3947 LR: 0.00069  \n",
      "Epoch: [5][1000/1715] Elapsed 5m 23s (remain 3m 50s) Loss avg.: 0.4593 Grad: 0.4384 LR: 0.00069  \n",
      "Epoch: [5][1100/1715] Elapsed 5m 55s (remain 3m 18s) Loss avg.: 0.4593 Grad: 0.3587 LR: 0.00069  \n",
      "Epoch: [5][1200/1715] Elapsed 6m 27s (remain 2m 46s) Loss avg.: 0.4593 Grad: 0.3290 LR: 0.00069  \n",
      "Epoch: [5][1300/1715] Elapsed 7m 0s (remain 2m 13s) Loss avg.: 0.4591 Grad: 0.2919 LR: 0.00069  \n",
      "Epoch: [5][1400/1715] Elapsed 7m 32s (remain 1m 41s) Loss avg.: 0.4591 Grad: 0.2980 LR: 0.00069  \n",
      "Epoch: [5][1500/1715] Elapsed 8m 4s (remain 1m 9s) Loss avg.: 0.4591 Grad: 0.2951 LR: 0.00069  \n",
      "Epoch: [5][1600/1715] Elapsed 8m 36s (remain 0m 36s) Loss avg.: 0.4592 Grad: 0.5069 LR: 0.00069  \n",
      "Epoch: [5][1700/1715] Elapsed 9m 9s (remain 0m 4s) Loss avg.: 0.4591 Grad: 0.2641 LR: 0.00069  \n",
      "Epoch: [5][1714/1715] Elapsed 9m 13s (remain 0m 0s) Loss avg.: 0.4591 Grad: 0.3053 LR: 0.00069  \n",
      "Eval: [0/429] Elapsed 0m 0s (remain 6m 33s) Loss avg.: 0.4556 \n",
      "Eval: [100/429] Elapsed 0m 9s (remain 0m 30s) Loss avg.: 0.4551 \n",
      "Eval: [200/429] Elapsed 0m 17s (remain 0m 20s) Loss avg.: 0.4550 \n",
      "Eval: [300/429] Elapsed 0m 26s (remain 0m 11s) Loss avg.: 0.4550 \n",
      "Eval: [400/429] Elapsed 0m 34s (remain 0m 2s) Loss avg.: 0.4547 \n",
      "Eval: [428/429] Elapsed 0m 37s (remain 0m 0s) Loss avg.: 0.4549 \n"
     ]
    },
    {
     "name": "stderr",
     "output_type": "stream",
     "text": [
      "Epoch 5 - avg_train_loss: 0.4591  avg_val_loss: 0.4549  time: 591s\n",
      "Epoch 5 - Accuracy: 0.8033242995673557\n",
      "Epoch 5 - Save Best Score: 0.8033 Model\n"
     ]
    },
    {
     "name": "stdout",
     "output_type": "stream",
     "text": [
      "Epoch: [6][0/1715] Elapsed 0m 1s (remain 45m 1s) Loss avg.: 0.4609 Grad: 0.4261 LR: 0.00055  \n",
      "Epoch: [6][100/1715] Elapsed 0m 33s (remain 8m 59s) Loss avg.: 0.4541 Grad: 0.3783 LR: 0.00055  \n",
      "Epoch: [6][200/1715] Elapsed 1m 5s (remain 8m 16s) Loss avg.: 0.4533 Grad: 0.3096 LR: 0.00055  \n",
      "Epoch: [6][300/1715] Elapsed 1m 38s (remain 7m 40s) Loss avg.: 0.4545 Grad: 0.3228 LR: 0.00055  \n",
      "Epoch: [6][400/1715] Elapsed 2m 10s (remain 7m 6s) Loss avg.: 0.4544 Grad: 0.3347 LR: 0.00055  \n",
      "Epoch: [6][500/1715] Elapsed 2m 42s (remain 6m 33s) Loss avg.: 0.4551 Grad: 0.2894 LR: 0.00055  \n",
      "Epoch: [6][600/1715] Elapsed 3m 14s (remain 6m 0s) Loss avg.: 0.4554 Grad: 0.3327 LR: 0.00055  \n",
      "Epoch: [6][700/1715] Elapsed 3m 46s (remain 5m 28s) Loss avg.: 0.4554 Grad: 0.4054 LR: 0.00055  \n",
      "Epoch: [6][800/1715] Elapsed 4m 19s (remain 4m 55s) Loss avg.: 0.4554 Grad: 0.2553 LR: 0.00055  \n",
      "Epoch: [6][900/1715] Elapsed 4m 51s (remain 4m 23s) Loss avg.: 0.4553 Grad: 0.2561 LR: 0.00055  \n",
      "Epoch: [6][1000/1715] Elapsed 5m 23s (remain 3m 50s) Loss avg.: 0.4553 Grad: 0.2410 LR: 0.00055  \n",
      "Epoch: [6][1100/1715] Elapsed 5m 55s (remain 3m 18s) Loss avg.: 0.4553 Grad: 0.3262 LR: 0.00055  \n",
      "Epoch: [6][1200/1715] Elapsed 6m 27s (remain 2m 45s) Loss avg.: 0.4553 Grad: 0.2354 LR: 0.00055  \n",
      "Epoch: [6][1300/1715] Elapsed 6m 59s (remain 2m 13s) Loss avg.: 0.4553 Grad: 0.2882 LR: 0.00055  \n",
      "Epoch: [6][1400/1715] Elapsed 7m 32s (remain 1m 41s) Loss avg.: 0.4553 Grad: 0.3978 LR: 0.00055  \n",
      "Epoch: [6][1500/1715] Elapsed 8m 4s (remain 1m 9s) Loss avg.: 0.4554 Grad: 0.3389 LR: 0.00055  \n",
      "Epoch: [6][1600/1715] Elapsed 8m 36s (remain 0m 36s) Loss avg.: 0.4554 Grad: 0.2483 LR: 0.00055  \n",
      "Epoch: [6][1700/1715] Elapsed 9m 8s (remain 0m 4s) Loss avg.: 0.4551 Grad: 0.2358 LR: 0.00055  \n",
      "Epoch: [6][1714/1715] Elapsed 9m 13s (remain 0m 0s) Loss avg.: 0.4551 Grad: 0.2854 LR: 0.00055  \n",
      "Eval: [0/429] Elapsed 0m 0s (remain 6m 37s) Loss avg.: 0.4496 \n",
      "Eval: [100/429] Elapsed 0m 9s (remain 0m 30s) Loss avg.: 0.4525 \n",
      "Eval: [200/429] Elapsed 0m 17s (remain 0m 20s) Loss avg.: 0.4522 \n",
      "Eval: [300/429] Elapsed 0m 26s (remain 0m 11s) Loss avg.: 0.4523 \n",
      "Eval: [400/429] Elapsed 0m 34s (remain 0m 2s) Loss avg.: 0.4520 \n",
      "Eval: [428/429] Elapsed 0m 36s (remain 0m 0s) Loss avg.: 0.4522 \n"
     ]
    },
    {
     "name": "stderr",
     "output_type": "stream",
     "text": [
      "Epoch 6 - avg_train_loss: 0.4551  avg_val_loss: 0.4522  time: 591s\n",
      "Epoch 6 - Accuracy: 0.8050477351578674\n",
      "Epoch 6 - Save Best Score: 0.8050 Model\n"
     ]
    },
    {
     "name": "stdout",
     "output_type": "stream",
     "text": [
      "Epoch: [7][0/1715] Elapsed 0m 1s (remain 46m 10s) Loss avg.: 0.4397 Grad: 0.3027 LR: 0.00041  \n",
      "Epoch: [7][100/1715] Elapsed 0m 33s (remain 9m 1s) Loss avg.: 0.4505 Grad: 0.3802 LR: 0.00041  \n",
      "Epoch: [7][200/1715] Elapsed 1m 6s (remain 8m 19s) Loss avg.: 0.4517 Grad: 0.4321 LR: 0.00041  \n",
      "Epoch: [7][300/1715] Elapsed 1m 38s (remain 7m 42s) Loss avg.: 0.4516 Grad: 0.3277 LR: 0.00041  \n",
      "Epoch: [7][400/1715] Elapsed 2m 10s (remain 7m 7s) Loss avg.: 0.4517 Grad: 0.3247 LR: 0.00041  \n",
      "Epoch: [7][500/1715] Elapsed 2m 42s (remain 6m 34s) Loss avg.: 0.4519 Grad: 0.3657 LR: 0.00041  \n",
      "Epoch: [7][600/1715] Elapsed 3m 14s (remain 6m 1s) Loss avg.: 0.4519 Grad: 0.2476 LR: 0.00041  \n",
      "Epoch: [7][700/1715] Elapsed 3m 47s (remain 5m 28s) Loss avg.: 0.4518 Grad: 0.3206 LR: 0.00041  \n",
      "Epoch: [7][800/1715] Elapsed 4m 19s (remain 4m 55s) Loss avg.: 0.4520 Grad: 0.2994 LR: 0.00041  \n",
      "Epoch: [7][900/1715] Elapsed 4m 51s (remain 4m 23s) Loss avg.: 0.4520 Grad: 0.2550 LR: 0.00041  \n",
      "Epoch: [7][1000/1715] Elapsed 5m 23s (remain 3m 50s) Loss avg.: 0.4520 Grad: 0.3469 LR: 0.00041  \n",
      "Epoch: [7][1100/1715] Elapsed 5m 55s (remain 3m 18s) Loss avg.: 0.4520 Grad: 0.3772 LR: 0.00041  \n",
      "Epoch: [7][1200/1715] Elapsed 6m 28s (remain 2m 46s) Loss avg.: 0.4518 Grad: 0.2490 LR: 0.00041  \n",
      "Epoch: [7][1300/1715] Elapsed 7m 0s (remain 2m 13s) Loss avg.: 0.4518 Grad: 0.2446 LR: 0.00041  \n",
      "Epoch: [7][1400/1715] Elapsed 7m 32s (remain 1m 41s) Loss avg.: 0.4518 Grad: 0.3844 LR: 0.00041  \n",
      "Epoch: [7][1500/1715] Elapsed 8m 4s (remain 1m 9s) Loss avg.: 0.4518 Grad: 0.2977 LR: 0.00041  \n",
      "Epoch: [7][1600/1715] Elapsed 8m 36s (remain 0m 36s) Loss avg.: 0.4519 Grad: 0.3310 LR: 0.00041  \n",
      "Epoch: [7][1700/1715] Elapsed 9m 9s (remain 0m 4s) Loss avg.: 0.4517 Grad: 0.2965 LR: 0.00041  \n",
      "Epoch: [7][1714/1715] Elapsed 9m 13s (remain 0m 0s) Loss avg.: 0.4517 Grad: 0.4151 LR: 0.00041  \n",
      "Eval: [0/429] Elapsed 0m 1s (remain 7m 23s) Loss avg.: 0.4534 \n",
      "Eval: [100/429] Elapsed 0m 9s (remain 0m 31s) Loss avg.: 0.4505 \n",
      "Eval: [200/429] Elapsed 0m 18s (remain 0m 20s) Loss avg.: 0.4502 \n",
      "Eval: [300/429] Elapsed 0m 26s (remain 0m 11s) Loss avg.: 0.4502 \n",
      "Eval: [400/429] Elapsed 0m 34s (remain 0m 2s) Loss avg.: 0.4500 \n",
      "Eval: [428/429] Elapsed 0m 37s (remain 0m 0s) Loss avg.: 0.4501 \n"
     ]
    },
    {
     "name": "stderr",
     "output_type": "stream",
     "text": [
      "Epoch 7 - avg_train_loss: 0.4517  avg_val_loss: 0.4501  time: 592s\n",
      "Epoch 7 - Accuracy: 0.8058697374183736\n",
      "Epoch 7 - Save Best Score: 0.8059 Model\n"
     ]
    },
    {
     "name": "stdout",
     "output_type": "stream",
     "text": [
      "Epoch: [8][0/1715] Elapsed 0m 1s (remain 45m 33s) Loss avg.: 0.4678 Grad: 0.2555 LR: 0.00029  \n",
      "Epoch: [8][100/1715] Elapsed 0m 33s (remain 9m 0s) Loss avg.: 0.4490 Grad: 0.2485 LR: 0.00029  \n",
      "Epoch: [8][200/1715] Elapsed 1m 5s (remain 8m 16s) Loss avg.: 0.4486 Grad: 0.4748 LR: 0.00029  \n",
      "Epoch: [8][300/1715] Elapsed 1m 38s (remain 7m 40s) Loss avg.: 0.4486 Grad: 0.2763 LR: 0.00029  \n",
      "Epoch: [8][400/1715] Elapsed 2m 10s (remain 7m 7s) Loss avg.: 0.4487 Grad: 0.3144 LR: 0.00029  \n",
      "Epoch: [8][500/1715] Elapsed 2m 42s (remain 6m 34s) Loss avg.: 0.4484 Grad: 0.2647 LR: 0.00029  \n",
      "Epoch: [8][600/1715] Elapsed 3m 14s (remain 6m 1s) Loss avg.: 0.4488 Grad: 0.2950 LR: 0.00029  \n",
      "Epoch: [8][700/1715] Elapsed 3m 46s (remain 5m 28s) Loss avg.: 0.4492 Grad: 0.2986 LR: 0.00029  \n",
      "Epoch: [8][800/1715] Elapsed 4m 19s (remain 4m 55s) Loss avg.: 0.4490 Grad: 0.2606 LR: 0.00029  \n",
      "Epoch: [8][900/1715] Elapsed 4m 51s (remain 4m 23s) Loss avg.: 0.4490 Grad: 0.4051 LR: 0.00029  \n",
      "Epoch: [8][1000/1715] Elapsed 5m 23s (remain 3m 50s) Loss avg.: 0.4488 Grad: 0.3273 LR: 0.00029  \n",
      "Epoch: [8][1100/1715] Elapsed 5m 55s (remain 3m 18s) Loss avg.: 0.4490 Grad: 0.2517 LR: 0.00029  \n",
      "Epoch: [8][1200/1715] Elapsed 6m 27s (remain 2m 45s) Loss avg.: 0.4488 Grad: 0.2917 LR: 0.00029  \n",
      "Epoch: [8][1300/1715] Elapsed 6m 59s (remain 2m 13s) Loss avg.: 0.4487 Grad: 0.3990 LR: 0.00029  \n",
      "Epoch: [8][1400/1715] Elapsed 7m 32s (remain 1m 41s) Loss avg.: 0.4487 Grad: 0.3294 LR: 0.00029  \n",
      "Epoch: [8][1500/1715] Elapsed 8m 4s (remain 1m 9s) Loss avg.: 0.4487 Grad: 0.2777 LR: 0.00029  \n",
      "Epoch: [8][1600/1715] Elapsed 8m 36s (remain 0m 36s) Loss avg.: 0.4488 Grad: 0.2670 LR: 0.00029  \n",
      "Epoch: [8][1700/1715] Elapsed 9m 8s (remain 0m 4s) Loss avg.: 0.4488 Grad: 0.3402 LR: 0.00029  \n",
      "Epoch: [8][1714/1715] Elapsed 9m 13s (remain 0m 0s) Loss avg.: 0.4488 Grad: 0.3577 LR: 0.00029  \n",
      "Eval: [0/429] Elapsed 0m 0s (remain 6m 28s) Loss avg.: 0.4501 \n",
      "Eval: [100/429] Elapsed 0m 9s (remain 0m 30s) Loss avg.: 0.4480 \n",
      "Eval: [200/429] Elapsed 0m 17s (remain 0m 20s) Loss avg.: 0.4477 \n",
      "Eval: [300/429] Elapsed 0m 26s (remain 0m 11s) Loss avg.: 0.4479 \n",
      "Eval: [400/429] Elapsed 0m 34s (remain 0m 2s) Loss avg.: 0.4477 \n",
      "Eval: [428/429] Elapsed 0m 37s (remain 0m 0s) Loss avg.: 0.4478 \n"
     ]
    },
    {
     "name": "stderr",
     "output_type": "stream",
     "text": [
      "Epoch 8 - avg_train_loss: 0.4488  avg_val_loss: 0.4478  time: 591s\n",
      "Epoch 8 - Accuracy: 0.80718727295649\n",
      "Epoch 8 - Save Best Score: 0.8072 Model\n"
     ]
    },
    {
     "name": "stdout",
     "output_type": "stream",
     "text": [
      "Epoch: [9][0/1715] Elapsed 0m 1s (remain 45m 29s) Loss avg.: 0.4532 Grad: 0.3904 LR: 0.00019  \n",
      "Epoch: [9][100/1715] Elapsed 0m 33s (remain 8m 59s) Loss avg.: 0.4454 Grad: 0.3377 LR: 0.00019  \n",
      "Epoch: [9][200/1715] Elapsed 1m 5s (remain 8m 16s) Loss avg.: 0.4455 Grad: 0.3203 LR: 0.00019  \n",
      "Epoch: [9][300/1715] Elapsed 1m 38s (remain 7m 41s) Loss avg.: 0.4452 Grad: 0.2606 LR: 0.00019  \n",
      "Epoch: [9][400/1715] Elapsed 2m 10s (remain 7m 6s) Loss avg.: 0.4460 Grad: 0.2982 LR: 0.00019  \n",
      "Epoch: [9][500/1715] Elapsed 2m 42s (remain 6m 33s) Loss avg.: 0.4459 Grad: 0.3297 LR: 0.00019  \n",
      "Epoch: [9][600/1715] Elapsed 3m 14s (remain 6m 1s) Loss avg.: 0.4457 Grad: 0.3564 LR: 0.00019  \n",
      "Epoch: [9][700/1715] Elapsed 3m 46s (remain 5m 28s) Loss avg.: 0.4458 Grad: 0.3089 LR: 0.00019  \n",
      "Epoch: [9][800/1715] Elapsed 4m 19s (remain 4m 55s) Loss avg.: 0.4462 Grad: 0.3679 LR: 0.00019  \n",
      "Epoch: [9][900/1715] Elapsed 4m 51s (remain 4m 23s) Loss avg.: 0.4463 Grad: 0.3435 LR: 0.00019  \n",
      "Epoch: [9][1000/1715] Elapsed 5m 23s (remain 3m 50s) Loss avg.: 0.4467 Grad: 0.3034 LR: 0.00019  \n",
      "Epoch: [9][1100/1715] Elapsed 5m 55s (remain 3m 18s) Loss avg.: 0.4468 Grad: 0.2817 LR: 0.00019  \n",
      "Epoch: [9][1200/1715] Elapsed 6m 27s (remain 2m 45s) Loss avg.: 0.4469 Grad: 0.2929 LR: 0.00019  \n",
      "Epoch: [9][1300/1715] Elapsed 6m 59s (remain 2m 13s) Loss avg.: 0.4467 Grad: 0.2800 LR: 0.00019  \n",
      "Epoch: [9][1400/1715] Elapsed 7m 32s (remain 1m 41s) Loss avg.: 0.4467 Grad: 0.2752 LR: 0.00019  \n",
      "Epoch: [9][1500/1715] Elapsed 8m 4s (remain 1m 9s) Loss avg.: 0.4467 Grad: 0.4263 LR: 0.00019  \n",
      "Epoch: [9][1600/1715] Elapsed 8m 36s (remain 0m 36s) Loss avg.: 0.4468 Grad: 0.2626 LR: 0.00019  \n",
      "Epoch: [9][1700/1715] Elapsed 9m 8s (remain 0m 4s) Loss avg.: 0.4465 Grad: 0.2691 LR: 0.00019  \n",
      "Epoch: [9][1714/1715] Elapsed 9m 13s (remain 0m 0s) Loss avg.: 0.4466 Grad: 0.2604 LR: 0.00019  \n",
      "Eval: [0/429] Elapsed 0m 0s (remain 6m 36s) Loss avg.: 0.4496 \n",
      "Eval: [100/429] Elapsed 0m 9s (remain 0m 30s) Loss avg.: 0.4470 \n",
      "Eval: [200/429] Elapsed 0m 17s (remain 0m 20s) Loss avg.: 0.4466 \n",
      "Eval: [300/429] Elapsed 0m 26s (remain 0m 11s) Loss avg.: 0.4467 \n",
      "Eval: [400/429] Elapsed 0m 34s (remain 0m 2s) Loss avg.: 0.4464 \n",
      "Eval: [428/429] Elapsed 0m 36s (remain 0m 0s) Loss avg.: 0.4466 \n"
     ]
    },
    {
     "name": "stderr",
     "output_type": "stream",
     "text": [
      "Epoch 9 - avg_train_loss: 0.4466  avg_val_loss: 0.4466  time: 591s\n",
      "Epoch 9 - Accuracy: 0.8078649875861627\n",
      "Epoch 9 - Save Best Score: 0.8079 Model\n"
     ]
    },
    {
     "name": "stdout",
     "output_type": "stream",
     "text": [
      "Epoch: [10][0/1715] Elapsed 0m 1s (remain 48m 57s) Loss avg.: 0.4235 Grad: 0.3018 LR: 0.00012  \n",
      "Epoch: [10][100/1715] Elapsed 0m 34s (remain 9m 5s) Loss avg.: 0.4457 Grad: 0.3242 LR: 0.00012  \n",
      "Epoch: [10][200/1715] Elapsed 1m 6s (remain 8m 19s) Loss avg.: 0.4442 Grad: 0.3615 LR: 0.00012  \n",
      "Epoch: [10][300/1715] Elapsed 1m 38s (remain 7m 42s) Loss avg.: 0.4451 Grad: 0.2925 LR: 0.00012  \n",
      "Epoch: [10][400/1715] Elapsed 2m 10s (remain 7m 8s) Loss avg.: 0.4450 Grad: 0.3037 LR: 0.00012  \n",
      "Epoch: [10][500/1715] Elapsed 2m 42s (remain 6m 34s) Loss avg.: 0.4451 Grad: 0.2704 LR: 0.00012  \n",
      "Epoch: [10][600/1715] Elapsed 3m 15s (remain 6m 1s) Loss avg.: 0.4452 Grad: 0.2976 LR: 0.00012  \n",
      "Epoch: [10][700/1715] Elapsed 3m 47s (remain 5m 28s) Loss avg.: 0.4452 Grad: 0.2760 LR: 0.00012  \n",
      "Epoch: [10][800/1715] Elapsed 4m 19s (remain 4m 56s) Loss avg.: 0.4451 Grad: 0.2828 LR: 0.00012  \n",
      "Epoch: [10][900/1715] Elapsed 4m 51s (remain 4m 23s) Loss avg.: 0.4450 Grad: 0.2699 LR: 0.00012  \n",
      "Epoch: [10][1000/1715] Elapsed 5m 24s (remain 3m 51s) Loss avg.: 0.4450 Grad: 0.2512 LR: 0.00012  \n",
      "Epoch: [10][1100/1715] Elapsed 5m 56s (remain 3m 18s) Loss avg.: 0.4451 Grad: 0.3306 LR: 0.00012  \n",
      "Epoch: [10][1200/1715] Elapsed 6m 28s (remain 2m 46s) Loss avg.: 0.4451 Grad: 0.3171 LR: 0.00012  \n",
      "Epoch: [10][1300/1715] Elapsed 7m 0s (remain 2m 13s) Loss avg.: 0.4450 Grad: 0.2997 LR: 0.00012  \n",
      "Epoch: [10][1400/1715] Elapsed 7m 32s (remain 1m 41s) Loss avg.: 0.4450 Grad: 0.2981 LR: 0.00012  \n",
      "Epoch: [10][1500/1715] Elapsed 8m 4s (remain 1m 9s) Loss avg.: 0.4449 Grad: 0.3814 LR: 0.00012  \n",
      "Epoch: [10][1600/1715] Elapsed 8m 37s (remain 0m 36s) Loss avg.: 0.4449 Grad: 0.2586 LR: 0.00012  \n",
      "Epoch: [10][1700/1715] Elapsed 9m 9s (remain 0m 4s) Loss avg.: 0.4448 Grad: 0.2774 LR: 0.00012  \n",
      "Epoch: [10][1714/1715] Elapsed 9m 13s (remain 0m 0s) Loss avg.: 0.4448 Grad: 0.2617 LR: 0.00012  \n",
      "Eval: [0/429] Elapsed 0m 0s (remain 6m 19s) Loss avg.: 0.4461 \n",
      "Eval: [100/429] Elapsed 0m 9s (remain 0m 30s) Loss avg.: 0.4457 \n",
      "Eval: [200/429] Elapsed 0m 17s (remain 0m 20s) Loss avg.: 0.4453 \n",
      "Eval: [300/429] Elapsed 0m 26s (remain 0m 11s) Loss avg.: 0.4454 \n",
      "Eval: [400/429] Elapsed 0m 34s (remain 0m 2s) Loss avg.: 0.4452 \n",
      "Eval: [428/429] Elapsed 0m 36s (remain 0m 0s) Loss avg.: 0.4453 \n"
     ]
    },
    {
     "name": "stderr",
     "output_type": "stream",
     "text": [
      "Epoch 10 - avg_train_loss: 0.4448  avg_val_loss: 0.4453  time: 591s\n",
      "Epoch 10 - Accuracy: 0.808387483703878\n",
      "Epoch 10 - Save Best Score: 0.8084 Model\n",
      "Epoch 10 - Save final model\n",
      "========== fold: 0 result ==========\n",
      "Score: 0.80839\n",
      "========== fold: 1 training ==========\n"
     ]
    },
    {
     "name": "stdout",
     "output_type": "stream",
     "text": [
      "Epoch: [1][0/1715] Elapsed 0m 1s (remain 45m 7s) Loss avg.: 1.6029 Grad: 4.9055 LR: 0.00100  \n",
      "Epoch: [1][100/1715] Elapsed 0m 33s (remain 8m 59s) Loss avg.: 0.7981 Grad: 1.0461 LR: 0.00100  \n",
      "Epoch: [1][200/1715] Elapsed 1m 6s (remain 8m 18s) Loss avg.: 0.7007 Grad: 0.6821 LR: 0.00100  \n",
      "Epoch: [1][300/1715] Elapsed 1m 38s (remain 7m 41s) Loss avg.: 0.6589 Grad: 0.7903 LR: 0.00100  \n",
      "Epoch: [1][400/1715] Elapsed 2m 10s (remain 7m 7s) Loss avg.: 0.6338 Grad: 0.6130 LR: 0.00100  \n",
      "Epoch: [1][500/1715] Elapsed 2m 42s (remain 6m 34s) Loss avg.: 0.6150 Grad: 0.8799 LR: 0.00100  \n",
      "Epoch: [1][600/1715] Elapsed 3m 14s (remain 6m 1s) Loss avg.: 0.6007 Grad: 0.7068 LR: 0.00100  \n",
      "Epoch: [1][700/1715] Elapsed 3m 47s (remain 5m 28s) Loss avg.: 0.5893 Grad: 0.7431 LR: 0.00100  \n",
      "Epoch: [1][800/1715] Elapsed 4m 19s (remain 4m 55s) Loss avg.: 0.5798 Grad: 0.4313 LR: 0.00100  \n",
      "Epoch: [1][900/1715] Elapsed 4m 51s (remain 4m 23s) Loss avg.: 0.5721 Grad: 0.5498 LR: 0.00100  \n",
      "Epoch: [1][1000/1715] Elapsed 5m 23s (remain 3m 50s) Loss avg.: 0.5657 Grad: 0.8041 LR: 0.00100  \n",
      "Epoch: [1][1100/1715] Elapsed 5m 55s (remain 3m 18s) Loss avg.: 0.5599 Grad: 0.7656 LR: 0.00100  \n",
      "Epoch: [1][1200/1715] Elapsed 6m 28s (remain 2m 46s) Loss avg.: 0.5552 Grad: 0.8937 LR: 0.00100  \n",
      "Epoch: [1][1300/1715] Elapsed 7m 0s (remain 2m 13s) Loss avg.: 0.5508 Grad: 0.7588 LR: 0.00100  \n",
      "Epoch: [1][1400/1715] Elapsed 7m 32s (remain 1m 41s) Loss avg.: 0.5469 Grad: 0.6382 LR: 0.00100  \n",
      "Epoch: [1][1500/1715] Elapsed 8m 4s (remain 1m 9s) Loss avg.: 0.5434 Grad: 0.5469 LR: 0.00100  \n",
      "Epoch: [1][1600/1715] Elapsed 8m 36s (remain 0m 36s) Loss avg.: 0.5401 Grad: 0.4621 LR: 0.00100  \n",
      "Epoch: [1][1700/1715] Elapsed 9m 9s (remain 0m 4s) Loss avg.: 0.5373 Grad: 0.7504 LR: 0.00100  \n",
      "Epoch: [1][1714/1715] Elapsed 9m 13s (remain 0m 0s) Loss avg.: 0.5369 Grad: 0.6460 LR: 0.00100  \n",
      "Eval: [0/429] Elapsed 0m 0s (remain 6m 25s) Loss avg.: 0.4998 \n",
      "Eval: [100/429] Elapsed 0m 9s (remain 0m 29s) Loss avg.: 0.4839 \n",
      "Eval: [200/429] Elapsed 0m 17s (remain 0m 19s) Loss avg.: 0.4830 \n",
      "Eval: [300/429] Elapsed 0m 25s (remain 0m 10s) Loss avg.: 0.4830 \n",
      "Eval: [400/429] Elapsed 0m 34s (remain 0m 2s) Loss avg.: 0.4834 \n",
      "Eval: [428/429] Elapsed 0m 36s (remain 0m 0s) Loss avg.: 0.4842 \n"
     ]
    },
    {
     "name": "stderr",
     "output_type": "stream",
     "text": [
      "Epoch 1 - avg_train_loss: 0.5369  avg_val_loss: 0.4842  time: 591s\n",
      "Epoch 1 - Accuracy: 0.790159875067316\n",
      "Epoch 1 - Save Best Score: 0.7902 Model\n"
     ]
    },
    {
     "name": "stdout",
     "output_type": "stream",
     "text": [
      "Epoch: [2][0/1715] Elapsed 0m 1s (remain 45m 13s) Loss avg.: 0.5152 Grad: 0.7249 LR: 0.00098  \n",
      "Epoch: [2][100/1715] Elapsed 0m 33s (remain 9m 0s) Loss avg.: 0.4867 Grad: 0.4415 LR: 0.00098  \n",
      "Epoch: [2][200/1715] Elapsed 1m 5s (remain 8m 17s) Loss avg.: 0.4866 Grad: 0.3610 LR: 0.00098  \n",
      "Epoch: [2][300/1715] Elapsed 1m 38s (remain 7m 42s) Loss avg.: 0.4858 Grad: 0.3897 LR: 0.00098  \n",
      "Epoch: [2][400/1715] Elapsed 2m 10s (remain 7m 7s) Loss avg.: 0.4857 Grad: 0.5717 LR: 0.00098  \n",
      "Epoch: [2][500/1715] Elapsed 2m 42s (remain 6m 34s) Loss avg.: 0.4850 Grad: 0.9540 LR: 0.00098  \n",
      "Epoch: [2][600/1715] Elapsed 3m 14s (remain 6m 1s) Loss avg.: 0.4848 Grad: 0.7987 LR: 0.00098  \n",
      "Epoch: [2][700/1715] Elapsed 3m 47s (remain 5m 28s) Loss avg.: 0.4846 Grad: 0.7001 LR: 0.00098  \n",
      "Epoch: [2][800/1715] Elapsed 4m 19s (remain 4m 55s) Loss avg.: 0.4843 Grad: 0.3958 LR: 0.00098  \n",
      "Epoch: [2][900/1715] Elapsed 4m 51s (remain 4m 23s) Loss avg.: 0.4837 Grad: 0.7767 LR: 0.00098  \n",
      "Epoch: [2][1000/1715] Elapsed 5m 23s (remain 3m 50s) Loss avg.: 0.4833 Grad: 0.4976 LR: 0.00098  \n",
      "Epoch: [2][1100/1715] Elapsed 5m 55s (remain 3m 18s) Loss avg.: 0.4830 Grad: 0.5059 LR: 0.00098  \n",
      "Epoch: [2][1200/1715] Elapsed 6m 28s (remain 2m 46s) Loss avg.: 0.4825 Grad: 0.3598 LR: 0.00098  \n",
      "Epoch: [2][1300/1715] Elapsed 7m 0s (remain 2m 13s) Loss avg.: 0.4821 Grad: 0.7568 LR: 0.00098  \n",
      "Epoch: [2][1400/1715] Elapsed 7m 32s (remain 1m 41s) Loss avg.: 0.4816 Grad: 0.3730 LR: 0.00098  \n",
      "Epoch: [2][1500/1715] Elapsed 8m 4s (remain 1m 9s) Loss avg.: 0.4813 Grad: 0.5072 LR: 0.00098  \n",
      "Epoch: [2][1600/1715] Elapsed 8m 36s (remain 0m 36s) Loss avg.: 0.4809 Grad: 0.2897 LR: 0.00098  \n",
      "Epoch: [2][1700/1715] Elapsed 9m 8s (remain 0m 4s) Loss avg.: 0.4805 Grad: 0.4935 LR: 0.00098  \n",
      "Epoch: [2][1714/1715] Elapsed 9m 13s (remain 0m 0s) Loss avg.: 0.4805 Grad: 0.3896 LR: 0.00098  \n",
      "Eval: [0/429] Elapsed 0m 1s (remain 7m 17s) Loss avg.: 0.4852 \n",
      "Eval: [100/429] Elapsed 0m 9s (remain 0m 31s) Loss avg.: 0.4679 \n",
      "Eval: [200/429] Elapsed 0m 17s (remain 0m 20s) Loss avg.: 0.4672 \n",
      "Eval: [300/429] Elapsed 0m 26s (remain 0m 11s) Loss avg.: 0.4675 \n",
      "Eval: [400/429] Elapsed 0m 34s (remain 0m 2s) Loss avg.: 0.4679 \n",
      "Eval: [428/429] Elapsed 0m 36s (remain 0m 0s) Loss avg.: 0.4686 \n"
     ]
    },
    {
     "name": "stderr",
     "output_type": "stream",
     "text": [
      "Epoch 2 - avg_train_loss: 0.4805  avg_val_loss: 0.4686  time: 591s\n",
      "Epoch 2 - Accuracy: 0.7978450132227225\n",
      "Epoch 2 - Save Best Score: 0.7978 Model\n"
     ]
    },
    {
     "name": "stdout",
     "output_type": "stream",
     "text": [
      "Epoch: [3][0/1715] Elapsed 0m 1s (remain 44m 35s) Loss avg.: 0.4697 Grad: 0.3023 LR: 0.00091  \n",
      "Epoch: [3][100/1715] Elapsed 0m 33s (remain 9m 0s) Loss avg.: 0.4718 Grad: 0.3956 LR: 0.00091  \n",
      "Epoch: [3][200/1715] Elapsed 1m 6s (remain 8m 17s) Loss avg.: 0.4716 Grad: 0.7783 LR: 0.00091  \n",
      "Epoch: [3][300/1715] Elapsed 1m 38s (remain 7m 41s) Loss avg.: 0.4718 Grad: 0.6161 LR: 0.00091  \n",
      "Epoch: [3][400/1715] Elapsed 2m 10s (remain 7m 7s) Loss avg.: 0.4714 Grad: 0.5272 LR: 0.00091  \n",
      "Epoch: [3][500/1715] Elapsed 2m 42s (remain 6m 34s) Loss avg.: 0.4711 Grad: 0.4138 LR: 0.00091  \n",
      "Epoch: [3][600/1715] Elapsed 3m 14s (remain 6m 1s) Loss avg.: 0.4717 Grad: 0.3414 LR: 0.00091  \n",
      "Epoch: [3][700/1715] Elapsed 3m 47s (remain 5m 28s) Loss avg.: 0.4712 Grad: 0.4292 LR: 0.00091  \n",
      "Epoch: [3][800/1715] Elapsed 4m 19s (remain 4m 55s) Loss avg.: 0.4710 Grad: 0.3353 LR: 0.00091  \n",
      "Epoch: [3][900/1715] Elapsed 4m 51s (remain 4m 23s) Loss avg.: 0.4708 Grad: 0.3461 LR: 0.00091  \n",
      "Epoch: [3][1000/1715] Elapsed 5m 23s (remain 3m 50s) Loss avg.: 0.4706 Grad: 0.4061 LR: 0.00091  \n",
      "Epoch: [3][1100/1715] Elapsed 5m 55s (remain 3m 18s) Loss avg.: 0.4705 Grad: 0.4018 LR: 0.00091  \n",
      "Epoch: [3][1200/1715] Elapsed 6m 28s (remain 2m 46s) Loss avg.: 0.4703 Grad: 0.5056 LR: 0.00091  \n",
      "Epoch: [3][1300/1715] Elapsed 7m 0s (remain 2m 13s) Loss avg.: 0.4701 Grad: 0.4612 LR: 0.00091  \n",
      "Epoch: [3][1400/1715] Elapsed 7m 32s (remain 1m 41s) Loss avg.: 0.4698 Grad: 0.3981 LR: 0.00091  \n",
      "Epoch: [3][1500/1715] Elapsed 8m 4s (remain 1m 9s) Loss avg.: 0.4696 Grad: 0.4146 LR: 0.00091  \n",
      "Epoch: [3][1600/1715] Elapsed 8m 36s (remain 0m 36s) Loss avg.: 0.4696 Grad: 0.6763 LR: 0.00091  \n",
      "Epoch: [3][1700/1715] Elapsed 9m 8s (remain 0m 4s) Loss avg.: 0.4695 Grad: 0.5775 LR: 0.00091  \n",
      "Epoch: [3][1714/1715] Elapsed 9m 13s (remain 0m 0s) Loss avg.: 0.4696 Grad: 0.4781 LR: 0.00091  \n",
      "Eval: [0/429] Elapsed 0m 0s (remain 6m 51s) Loss avg.: 0.4702 \n",
      "Eval: [100/429] Elapsed 0m 9s (remain 0m 30s) Loss avg.: 0.4617 \n",
      "Eval: [200/429] Elapsed 0m 17s (remain 0m 20s) Loss avg.: 0.4609 \n",
      "Eval: [300/429] Elapsed 0m 25s (remain 0m 11s) Loss avg.: 0.4613 \n",
      "Eval: [400/429] Elapsed 0m 34s (remain 0m 2s) Loss avg.: 0.4617 \n",
      "Eval: [428/429] Elapsed 0m 36s (remain 0m 0s) Loss avg.: 0.4624 \n"
     ]
    },
    {
     "name": "stderr",
     "output_type": "stream",
     "text": [
      "Epoch 3 - avg_train_loss: 0.4696  avg_val_loss: 0.4624  time: 591s\n",
      "Epoch 3 - Accuracy: 0.8007686595606223\n",
      "Epoch 3 - Save Best Score: 0.8008 Model\n"
     ]
    },
    {
     "name": "stdout",
     "output_type": "stream",
     "text": [
      "Epoch: [4][0/1715] Elapsed 0m 1s (remain 45m 23s) Loss avg.: 0.4689 Grad: 0.4414 LR: 0.00081  \n",
      "Epoch: [4][100/1715] Elapsed 0m 33s (remain 9m 0s) Loss avg.: 0.4661 Grad: 0.3386 LR: 0.00081  \n",
      "Epoch: [4][200/1715] Elapsed 1m 6s (remain 8m 18s) Loss avg.: 0.4653 Grad: 0.5551 LR: 0.00081  \n",
      "Epoch: [4][300/1715] Elapsed 1m 38s (remain 7m 42s) Loss avg.: 0.4646 Grad: 0.4123 LR: 0.00081  \n",
      "Epoch: [4][400/1715] Elapsed 2m 10s (remain 7m 7s) Loss avg.: 0.4643 Grad: 0.6691 LR: 0.00081  \n",
      "Epoch: [4][500/1715] Elapsed 2m 42s (remain 6m 34s) Loss avg.: 0.4640 Grad: 0.3079 LR: 0.00081  \n",
      "Epoch: [4][600/1715] Elapsed 3m 15s (remain 6m 1s) Loss avg.: 0.4640 Grad: 0.5137 LR: 0.00081  \n",
      "Epoch: [4][700/1715] Elapsed 3m 47s (remain 5m 28s) Loss avg.: 0.4641 Grad: 0.3959 LR: 0.00081  \n",
      "Epoch: [4][800/1715] Elapsed 4m 19s (remain 4m 56s) Loss avg.: 0.4640 Grad: 0.3309 LR: 0.00081  \n",
      "Epoch: [4][900/1715] Elapsed 4m 51s (remain 4m 23s) Loss avg.: 0.4638 Grad: 0.3196 LR: 0.00081  \n",
      "Epoch: [4][1000/1715] Elapsed 5m 23s (remain 3m 50s) Loss avg.: 0.4637 Grad: 0.3675 LR: 0.00081  \n",
      "Epoch: [4][1100/1715] Elapsed 5m 56s (remain 3m 18s) Loss avg.: 0.4636 Grad: 0.5327 LR: 0.00081  \n",
      "Epoch: [4][1200/1715] Elapsed 6m 28s (remain 2m 46s) Loss avg.: 0.4635 Grad: 0.3040 LR: 0.00081  \n",
      "Epoch: [4][1300/1715] Elapsed 7m 0s (remain 2m 13s) Loss avg.: 0.4635 Grad: 0.4444 LR: 0.00081  \n",
      "Epoch: [4][1400/1715] Elapsed 7m 32s (remain 1m 41s) Loss avg.: 0.4634 Grad: 0.4193 LR: 0.00081  \n",
      "Epoch: [4][1500/1715] Elapsed 8m 4s (remain 1m 9s) Loss avg.: 0.4633 Grad: 0.3930 LR: 0.00081  \n",
      "Epoch: [4][1600/1715] Elapsed 8m 37s (remain 0m 36s) Loss avg.: 0.4631 Grad: 0.4254 LR: 0.00081  \n",
      "Epoch: [4][1700/1715] Elapsed 9m 9s (remain 0m 4s) Loss avg.: 0.4631 Grad: 0.2974 LR: 0.00081  \n",
      "Epoch: [4][1714/1715] Elapsed 9m 13s (remain 0m 0s) Loss avg.: 0.4631 Grad: 0.3907 LR: 0.00081  \n",
      "Eval: [0/429] Elapsed 0m 0s (remain 6m 33s) Loss avg.: 0.4682 \n",
      "Eval: [100/429] Elapsed 0m 9s (remain 0m 30s) Loss avg.: 0.4584 \n",
      "Eval: [200/429] Elapsed 0m 17s (remain 0m 19s) Loss avg.: 0.4577 \n",
      "Eval: [300/429] Elapsed 0m 25s (remain 0m 11s) Loss avg.: 0.4580 \n",
      "Eval: [400/429] Elapsed 0m 34s (remain 0m 2s) Loss avg.: 0.4584 \n",
      "Eval: [428/429] Elapsed 0m 36s (remain 0m 0s) Loss avg.: 0.4590 \n"
     ]
    },
    {
     "name": "stderr",
     "output_type": "stream",
     "text": [
      "Epoch 4 - avg_train_loss: 0.4631  avg_val_loss: 0.4590  time: 591s\n",
      "Epoch 4 - Accuracy: 0.8021481367584399\n",
      "Epoch 4 - Save Best Score: 0.8021 Model\n"
     ]
    },
    {
     "name": "stdout",
     "output_type": "stream",
     "text": [
      "Epoch: [5][0/1715] Elapsed 0m 1s (remain 45m 7s) Loss avg.: 0.4678 Grad: 0.4900 LR: 0.00069  \n",
      "Epoch: [5][100/1715] Elapsed 0m 33s (remain 9m 1s) Loss avg.: 0.4573 Grad: 0.3179 LR: 0.00069  \n",
      "Epoch: [5][200/1715] Elapsed 1m 6s (remain 8m 17s) Loss avg.: 0.4584 Grad: 0.3996 LR: 0.00069  \n",
      "Epoch: [5][300/1715] Elapsed 1m 38s (remain 7m 41s) Loss avg.: 0.4585 Grad: 0.2909 LR: 0.00069  \n",
      "Epoch: [5][400/1715] Elapsed 2m 10s (remain 7m 7s) Loss avg.: 0.4585 Grad: 0.3696 LR: 0.00069  \n",
      "Epoch: [5][500/1715] Elapsed 2m 42s (remain 6m 34s) Loss avg.: 0.4583 Grad: 0.4567 LR: 0.00069  \n",
      "Epoch: [5][600/1715] Elapsed 3m 14s (remain 6m 1s) Loss avg.: 0.4581 Grad: 0.3933 LR: 0.00069  \n",
      "Epoch: [5][700/1715] Elapsed 3m 47s (remain 5m 28s) Loss avg.: 0.4582 Grad: 0.4533 LR: 0.00069  \n",
      "Epoch: [5][800/1715] Elapsed 4m 19s (remain 4m 55s) Loss avg.: 0.4584 Grad: 0.3306 LR: 0.00069  \n",
      "Epoch: [5][900/1715] Elapsed 4m 51s (remain 4m 23s) Loss avg.: 0.4585 Grad: 0.3196 LR: 0.00069  \n",
      "Epoch: [5][1000/1715] Elapsed 5m 23s (remain 3m 50s) Loss avg.: 0.4583 Grad: 0.2782 LR: 0.00069  \n",
      "Epoch: [5][1100/1715] Elapsed 5m 55s (remain 3m 18s) Loss avg.: 0.4585 Grad: 0.3804 LR: 0.00069  \n",
      "Epoch: [5][1200/1715] Elapsed 6m 28s (remain 2m 46s) Loss avg.: 0.4583 Grad: 0.3523 LR: 0.00069  \n",
      "Epoch: [5][1300/1715] Elapsed 7m 0s (remain 2m 13s) Loss avg.: 0.4583 Grad: 0.3804 LR: 0.00069  \n",
      "Epoch: [5][1400/1715] Elapsed 7m 32s (remain 1m 41s) Loss avg.: 0.4581 Grad: 0.3115 LR: 0.00069  \n",
      "Epoch: [5][1500/1715] Elapsed 8m 4s (remain 1m 9s) Loss avg.: 0.4582 Grad: 0.3979 LR: 0.00069  \n",
      "Epoch: [5][1600/1715] Elapsed 8m 36s (remain 0m 36s) Loss avg.: 0.4581 Grad: 0.3582 LR: 0.00069  \n",
      "Epoch: [5][1700/1715] Elapsed 9m 9s (remain 0m 4s) Loss avg.: 0.4581 Grad: 0.2941 LR: 0.00069  \n",
      "Epoch: [5][1714/1715] Elapsed 9m 13s (remain 0m 0s) Loss avg.: 0.4581 Grad: 0.2619 LR: 0.00069  \n",
      "Eval: [0/429] Elapsed 0m 0s (remain 6m 29s) Loss avg.: 0.4599 \n",
      "Eval: [100/429] Elapsed 0m 9s (remain 0m 29s) Loss avg.: 0.4522 \n",
      "Eval: [200/429] Elapsed 0m 17s (remain 0m 19s) Loss avg.: 0.4517 \n",
      "Eval: [300/429] Elapsed 0m 25s (remain 0m 11s) Loss avg.: 0.4520 \n",
      "Eval: [400/429] Elapsed 0m 34s (remain 0m 2s) Loss avg.: 0.4525 \n",
      "Eval: [428/429] Elapsed 0m 36s (remain 0m 0s) Loss avg.: 0.4531 \n"
     ]
    },
    {
     "name": "stderr",
     "output_type": "stream",
     "text": [
      "Epoch 5 - avg_train_loss: 0.4581  avg_val_loss: 0.4531  time: 591s\n",
      "Epoch 5 - Accuracy: 0.8053603583580068\n",
      "Epoch 5 - Save Best Score: 0.8054 Model\n"
     ]
    },
    {
     "name": "stdout",
     "output_type": "stream",
     "text": [
      "Epoch: [6][0/1715] Elapsed 0m 1s (remain 45m 5s) Loss avg.: 0.4808 Grad: 0.2773 LR: 0.00055  \n",
      "Epoch: [6][100/1715] Elapsed 0m 33s (remain 9m 1s) Loss avg.: 0.4537 Grad: 0.3307 LR: 0.00055  \n",
      "Epoch: [6][200/1715] Elapsed 1m 6s (remain 8m 17s) Loss avg.: 0.4540 Grad: 0.2872 LR: 0.00055  \n",
      "Epoch: [6][300/1715] Elapsed 1m 38s (remain 7m 42s) Loss avg.: 0.4544 Grad: 0.3936 LR: 0.00055  \n",
      "Epoch: [6][400/1715] Elapsed 2m 10s (remain 7m 7s) Loss avg.: 0.4543 Grad: 0.2992 LR: 0.00055  \n",
      "Epoch: [6][500/1715] Elapsed 2m 42s (remain 6m 34s) Loss avg.: 0.4542 Grad: 0.3528 LR: 0.00055  \n",
      "Epoch: [6][600/1715] Elapsed 3m 14s (remain 6m 1s) Loss avg.: 0.4545 Grad: 0.4231 LR: 0.00055  \n",
      "Epoch: [6][700/1715] Elapsed 3m 47s (remain 5m 28s) Loss avg.: 0.4545 Grad: 0.4329 LR: 0.00055  \n",
      "Epoch: [6][800/1715] Elapsed 4m 19s (remain 4m 56s) Loss avg.: 0.4545 Grad: 0.4346 LR: 0.00055  \n",
      "Epoch: [6][900/1715] Elapsed 4m 51s (remain 4m 23s) Loss avg.: 0.4547 Grad: 0.4375 LR: 0.00055  \n",
      "Epoch: [6][1000/1715] Elapsed 5m 23s (remain 3m 51s) Loss avg.: 0.4545 Grad: 0.4760 LR: 0.00055  \n",
      "Epoch: [6][1100/1715] Elapsed 5m 56s (remain 3m 18s) Loss avg.: 0.4543 Grad: 0.3310 LR: 0.00055  \n",
      "Epoch: [6][1200/1715] Elapsed 6m 28s (remain 2m 46s) Loss avg.: 0.4541 Grad: 0.3692 LR: 0.00055  \n",
      "Epoch: [6][1300/1715] Elapsed 7m 0s (remain 2m 13s) Loss avg.: 0.4542 Grad: 0.2871 LR: 0.00055  \n",
      "Epoch: [6][1400/1715] Elapsed 7m 32s (remain 1m 41s) Loss avg.: 0.4543 Grad: 0.5094 LR: 0.00055  \n",
      "Epoch: [6][1500/1715] Elapsed 8m 5s (remain 1m 9s) Loss avg.: 0.4543 Grad: 0.2989 LR: 0.00055  \n",
      "Epoch: [6][1600/1715] Elapsed 8m 37s (remain 0m 36s) Loss avg.: 0.4543 Grad: 0.5139 LR: 0.00055  \n",
      "Epoch: [6][1700/1715] Elapsed 9m 9s (remain 0m 4s) Loss avg.: 0.4543 Grad: 0.2547 LR: 0.00055  \n",
      "Epoch: [6][1714/1715] Elapsed 9m 14s (remain 0m 0s) Loss avg.: 0.4543 Grad: 0.3309 LR: 0.00055  \n",
      "Eval: [0/429] Elapsed 0m 0s (remain 6m 30s) Loss avg.: 0.4610 \n",
      "Eval: [100/429] Elapsed 0m 9s (remain 0m 30s) Loss avg.: 0.4500 \n",
      "Eval: [200/429] Elapsed 0m 17s (remain 0m 19s) Loss avg.: 0.4495 \n",
      "Eval: [300/429] Elapsed 0m 25s (remain 0m 11s) Loss avg.: 0.4498 \n",
      "Eval: [400/429] Elapsed 0m 34s (remain 0m 2s) Loss avg.: 0.4503 \n",
      "Eval: [428/429] Elapsed 0m 36s (remain 0m 0s) Loss avg.: 0.4510 \n"
     ]
    },
    {
     "name": "stderr",
     "output_type": "stream",
     "text": [
      "Epoch 6 - avg_train_loss: 0.4543  avg_val_loss: 0.4510  time: 591s\n",
      "Epoch 6 - Accuracy: 0.806313531191998\n",
      "Epoch 6 - Save Best Score: 0.8063 Model\n"
     ]
    },
    {
     "name": "stdout",
     "output_type": "stream",
     "text": [
      "Epoch: [7][0/1715] Elapsed 0m 1s (remain 44m 51s) Loss avg.: 0.4501 Grad: 0.2991 LR: 0.00041  \n",
      "Epoch: [7][100/1715] Elapsed 0m 33s (remain 9m 3s) Loss avg.: 0.4497 Grad: 0.2792 LR: 0.00041  \n",
      "Epoch: [7][200/1715] Elapsed 1m 6s (remain 8m 18s) Loss avg.: 0.4500 Grad: 0.3077 LR: 0.00041  \n",
      "Epoch: [7][300/1715] Elapsed 1m 38s (remain 7m 41s) Loss avg.: 0.4498 Grad: 0.3590 LR: 0.00041  \n",
      "Epoch: [7][400/1715] Elapsed 2m 10s (remain 7m 7s) Loss avg.: 0.4501 Grad: 0.3969 LR: 0.00041  \n",
      "Epoch: [7][500/1715] Elapsed 2m 42s (remain 6m 34s) Loss avg.: 0.4501 Grad: 0.3455 LR: 0.00041  \n",
      "Epoch: [7][600/1715] Elapsed 3m 14s (remain 6m 1s) Loss avg.: 0.4504 Grad: 0.4271 LR: 0.00041  \n",
      "Epoch: [7][700/1715] Elapsed 3m 47s (remain 5m 28s) Loss avg.: 0.4504 Grad: 0.3160 LR: 0.00041  \n",
      "Epoch: [7][800/1715] Elapsed 4m 19s (remain 4m 55s) Loss avg.: 0.4505 Grad: 0.3292 LR: 0.00041  \n",
      "Epoch: [7][900/1715] Elapsed 4m 51s (remain 4m 23s) Loss avg.: 0.4504 Grad: 0.3268 LR: 0.00041  \n",
      "Epoch: [7][1000/1715] Elapsed 5m 23s (remain 3m 50s) Loss avg.: 0.4505 Grad: 0.3423 LR: 0.00041  \n",
      "Epoch: [7][1100/1715] Elapsed 5m 55s (remain 3m 18s) Loss avg.: 0.4506 Grad: 0.3178 LR: 0.00041  \n",
      "Epoch: [7][1200/1715] Elapsed 6m 28s (remain 2m 46s) Loss avg.: 0.4507 Grad: 0.4256 LR: 0.00041  \n",
      "Epoch: [7][1300/1715] Elapsed 7m 0s (remain 2m 13s) Loss avg.: 0.4509 Grad: 0.3255 LR: 0.00041  \n",
      "Epoch: [7][1400/1715] Elapsed 7m 32s (remain 1m 41s) Loss avg.: 0.4509 Grad: 0.3411 LR: 0.00041  \n",
      "Epoch: [7][1500/1715] Elapsed 8m 4s (remain 1m 9s) Loss avg.: 0.4510 Grad: 0.2805 LR: 0.00041  \n",
      "Epoch: [7][1600/1715] Elapsed 8m 36s (remain 0m 36s) Loss avg.: 0.4509 Grad: 0.4478 LR: 0.00041  \n",
      "Epoch: [7][1700/1715] Elapsed 9m 9s (remain 0m 4s) Loss avg.: 0.4509 Grad: 0.2468 LR: 0.00041  \n",
      "Epoch: [7][1714/1715] Elapsed 9m 13s (remain 0m 0s) Loss avg.: 0.4509 Grad: 0.2815 LR: 0.00041  \n",
      "Eval: [0/429] Elapsed 0m 0s (remain 6m 35s) Loss avg.: 0.4527 \n",
      "Eval: [100/429] Elapsed 0m 9s (remain 0m 30s) Loss avg.: 0.4484 \n",
      "Eval: [200/429] Elapsed 0m 17s (remain 0m 19s) Loss avg.: 0.4482 \n",
      "Eval: [300/429] Elapsed 0m 25s (remain 0m 11s) Loss avg.: 0.4485 \n",
      "Eval: [400/429] Elapsed 0m 34s (remain 0m 2s) Loss avg.: 0.4490 \n",
      "Eval: [428/429] Elapsed 0m 36s (remain 0m 0s) Loss avg.: 0.4496 \n"
     ]
    },
    {
     "name": "stderr",
     "output_type": "stream",
     "text": [
      "Epoch 7 - avg_train_loss: 0.4509  avg_val_loss: 0.4496  time: 591s\n",
      "Epoch 7 - Accuracy: 0.8071253312967888\n",
      "Epoch 7 - Save Best Score: 0.8071 Model\n"
     ]
    },
    {
     "name": "stdout",
     "output_type": "stream",
     "text": [
      "Epoch: [8][0/1715] Elapsed 0m 1s (remain 45m 22s) Loss avg.: 0.4525 Grad: 0.4021 LR: 0.00029  \n",
      "Epoch: [8][100/1715] Elapsed 0m 33s (remain 9m 1s) Loss avg.: 0.4467 Grad: 0.3413 LR: 0.00029  \n",
      "Epoch: [8][200/1715] Elapsed 1m 6s (remain 8m 19s) Loss avg.: 0.4471 Grad: 0.2771 LR: 0.00029  \n",
      "Epoch: [8][300/1715] Elapsed 1m 38s (remain 7m 42s) Loss avg.: 0.4476 Grad: 0.2954 LR: 0.00029  \n",
      "Epoch: [8][400/1715] Elapsed 2m 10s (remain 7m 7s) Loss avg.: 0.4474 Grad: 0.3301 LR: 0.00029  \n",
      "Epoch: [8][500/1715] Elapsed 2m 42s (remain 6m 34s) Loss avg.: 0.4472 Grad: 0.2421 LR: 0.00029  \n",
      "Epoch: [8][600/1715] Elapsed 3m 14s (remain 6m 1s) Loss avg.: 0.4476 Grad: 0.3500 LR: 0.00029  \n",
      "Epoch: [8][700/1715] Elapsed 3m 47s (remain 5m 28s) Loss avg.: 0.4476 Grad: 0.2506 LR: 0.00029  \n",
      "Epoch: [8][800/1715] Elapsed 4m 19s (remain 4m 55s) Loss avg.: 0.4478 Grad: 0.2663 LR: 0.00029  \n",
      "Epoch: [8][900/1715] Elapsed 4m 51s (remain 4m 23s) Loss avg.: 0.4479 Grad: 0.3478 LR: 0.00029  \n",
      "Epoch: [8][1000/1715] Elapsed 5m 23s (remain 3m 51s) Loss avg.: 0.4480 Grad: 0.4026 LR: 0.00029  \n",
      "Epoch: [8][1100/1715] Elapsed 5m 56s (remain 3m 18s) Loss avg.: 0.4481 Grad: 0.2769 LR: 0.00029  \n",
      "Epoch: [8][1200/1715] Elapsed 6m 28s (remain 2m 46s) Loss avg.: 0.4481 Grad: 0.3051 LR: 0.00029  \n",
      "Epoch: [8][1300/1715] Elapsed 7m 0s (remain 2m 13s) Loss avg.: 0.4481 Grad: 0.2808 LR: 0.00029  \n",
      "Epoch: [8][1400/1715] Elapsed 7m 32s (remain 1m 41s) Loss avg.: 0.4480 Grad: 0.2897 LR: 0.00029  \n",
      "Epoch: [8][1500/1715] Elapsed 8m 4s (remain 1m 9s) Loss avg.: 0.4481 Grad: 0.2914 LR: 0.00029  \n",
      "Epoch: [8][1600/1715] Elapsed 8m 37s (remain 0m 36s) Loss avg.: 0.4480 Grad: 0.3297 LR: 0.00029  \n",
      "Epoch: [8][1700/1715] Elapsed 9m 9s (remain 0m 4s) Loss avg.: 0.4481 Grad: 0.2973 LR: 0.00029  \n",
      "Epoch: [8][1714/1715] Elapsed 9m 14s (remain 0m 0s) Loss avg.: 0.4481 Grad: 0.3643 LR: 0.00029  \n",
      "Eval: [0/429] Elapsed 0m 0s (remain 6m 33s) Loss avg.: 0.4537 \n",
      "Eval: [100/429] Elapsed 0m 9s (remain 0m 30s) Loss avg.: 0.4470 \n",
      "Eval: [200/429] Elapsed 0m 17s (remain 0m 19s) Loss avg.: 0.4465 \n",
      "Eval: [300/429] Elapsed 0m 25s (remain 0m 11s) Loss avg.: 0.4468 \n",
      "Eval: [400/429] Elapsed 0m 34s (remain 0m 2s) Loss avg.: 0.4474 \n",
      "Eval: [428/429] Elapsed 0m 36s (remain 0m 0s) Loss avg.: 0.4481 \n"
     ]
    },
    {
     "name": "stderr",
     "output_type": "stream",
     "text": [
      "Epoch 8 - avg_train_loss: 0.4481  avg_val_loss: 0.4481  time: 591s\n",
      "Epoch 8 - Accuracy: 0.8077994022994202\n",
      "Epoch 8 - Save Best Score: 0.8078 Model\n"
     ]
    },
    {
     "name": "stdout",
     "output_type": "stream",
     "text": [
      "Epoch: [9][0/1715] Elapsed 0m 1s (remain 44m 43s) Loss avg.: 0.4403 Grad: 0.3774 LR: 0.00019  \n",
      "Epoch: [9][100/1715] Elapsed 0m 33s (remain 9m 1s) Loss avg.: 0.4456 Grad: 0.3093 LR: 0.00019  \n",
      "Epoch: [9][200/1715] Elapsed 1m 6s (remain 8m 17s) Loss avg.: 0.4458 Grad: 0.2535 LR: 0.00019  \n",
      "Epoch: [9][300/1715] Elapsed 1m 38s (remain 7m 42s) Loss avg.: 0.4452 Grad: 0.3048 LR: 0.00019  \n",
      "Epoch: [9][400/1715] Elapsed 2m 10s (remain 7m 8s) Loss avg.: 0.4456 Grad: 0.3388 LR: 0.00019  \n",
      "Epoch: [9][500/1715] Elapsed 2m 42s (remain 6m 34s) Loss avg.: 0.4457 Grad: 0.3334 LR: 0.00019  \n",
      "Epoch: [9][600/1715] Elapsed 3m 15s (remain 6m 1s) Loss avg.: 0.4458 Grad: 0.3180 LR: 0.00019  \n",
      "Epoch: [9][700/1715] Elapsed 3m 47s (remain 5m 28s) Loss avg.: 0.4460 Grad: 0.2800 LR: 0.00019  \n",
      "Epoch: [9][800/1715] Elapsed 4m 19s (remain 4m 55s) Loss avg.: 0.4459 Grad: 0.3477 LR: 0.00019  \n",
      "Epoch: [9][900/1715] Elapsed 4m 51s (remain 4m 23s) Loss avg.: 0.4459 Grad: 0.2665 LR: 0.00019  \n",
      "Epoch: [9][1000/1715] Elapsed 5m 23s (remain 3m 50s) Loss avg.: 0.4458 Grad: 0.4131 LR: 0.00019  \n",
      "Epoch: [9][1100/1715] Elapsed 5m 56s (remain 3m 18s) Loss avg.: 0.4460 Grad: 0.2780 LR: 0.00019  \n",
      "Epoch: [9][1200/1715] Elapsed 6m 28s (remain 2m 46s) Loss avg.: 0.4460 Grad: 0.3577 LR: 0.00019  \n",
      "Epoch: [9][1300/1715] Elapsed 7m 0s (remain 2m 13s) Loss avg.: 0.4459 Grad: 0.4460 LR: 0.00019  \n",
      "Epoch: [9][1400/1715] Elapsed 7m 32s (remain 1m 41s) Loss avg.: 0.4459 Grad: 0.3439 LR: 0.00019  \n",
      "Epoch: [9][1500/1715] Elapsed 8m 4s (remain 1m 9s) Loss avg.: 0.4457 Grad: 0.2684 LR: 0.00019  \n",
      "Epoch: [9][1600/1715] Elapsed 8m 36s (remain 0m 36s) Loss avg.: 0.4457 Grad: 0.4044 LR: 0.00019  \n",
      "Epoch: [9][1700/1715] Elapsed 9m 9s (remain 0m 4s) Loss avg.: 0.4457 Grad: 0.3666 LR: 0.00019  \n",
      "Epoch: [9][1714/1715] Elapsed 9m 13s (remain 0m 0s) Loss avg.: 0.4457 Grad: 0.3157 LR: 0.00019  \n",
      "Eval: [0/429] Elapsed 0m 1s (remain 7m 23s) Loss avg.: 0.4526 \n",
      "Eval: [100/429] Elapsed 0m 9s (remain 0m 31s) Loss avg.: 0.4450 \n",
      "Eval: [200/429] Elapsed 0m 17s (remain 0m 20s) Loss avg.: 0.4445 \n",
      "Eval: [300/429] Elapsed 0m 26s (remain 0m 11s) Loss avg.: 0.4449 \n",
      "Eval: [400/429] Elapsed 0m 34s (remain 0m 2s) Loss avg.: 0.4453 \n",
      "Eval: [428/429] Elapsed 0m 37s (remain 0m 0s) Loss avg.: 0.4460 \n"
     ]
    },
    {
     "name": "stderr",
     "output_type": "stream",
     "text": [
      "Epoch 9 - avg_train_loss: 0.4457  avg_val_loss: 0.4460  time: 591s\n",
      "Epoch 9 - Accuracy: 0.8088524105143416\n",
      "Epoch 9 - Save Best Score: 0.8089 Model\n"
     ]
    },
    {
     "name": "stdout",
     "output_type": "stream",
     "text": [
      "Epoch: [10][0/1715] Elapsed 0m 1s (remain 44m 56s) Loss avg.: 0.4474 Grad: 0.2960 LR: 0.00012  \n",
      "Epoch: [10][100/1715] Elapsed 0m 33s (remain 9m 1s) Loss avg.: 0.4433 Grad: 0.2349 LR: 0.00012  \n",
      "Epoch: [10][200/1715] Elapsed 1m 6s (remain 8m 18s) Loss avg.: 0.4439 Grad: 0.2358 LR: 0.00012  \n",
      "Epoch: [10][300/1715] Elapsed 1m 38s (remain 7m 41s) Loss avg.: 0.4445 Grad: 0.2642 LR: 0.00012  \n",
      "Epoch: [10][400/1715] Elapsed 2m 10s (remain 7m 8s) Loss avg.: 0.4445 Grad: 0.2726 LR: 0.00012  \n",
      "Epoch: [10][500/1715] Elapsed 2m 42s (remain 6m 34s) Loss avg.: 0.4445 Grad: 0.2843 LR: 0.00012  \n",
      "Epoch: [10][600/1715] Elapsed 3m 15s (remain 6m 1s) Loss avg.: 0.4444 Grad: 0.3038 LR: 0.00012  \n",
      "Epoch: [10][700/1715] Elapsed 3m 47s (remain 5m 28s) Loss avg.: 0.4440 Grad: 0.3209 LR: 0.00012  \n",
      "Epoch: [10][800/1715] Elapsed 4m 19s (remain 4m 55s) Loss avg.: 0.4441 Grad: 0.2824 LR: 0.00012  \n",
      "Epoch: [10][900/1715] Elapsed 4m 51s (remain 4m 23s) Loss avg.: 0.4439 Grad: 0.3097 LR: 0.00012  \n",
      "Epoch: [10][1000/1715] Elapsed 5m 23s (remain 3m 50s) Loss avg.: 0.4440 Grad: 0.2719 LR: 0.00012  \n",
      "Epoch: [10][1100/1715] Elapsed 5m 56s (remain 3m 18s) Loss avg.: 0.4441 Grad: 0.2488 LR: 0.00012  \n",
      "Epoch: [10][1200/1715] Elapsed 6m 28s (remain 2m 46s) Loss avg.: 0.4440 Grad: 0.2947 LR: 0.00012  \n",
      "Epoch: [10][1300/1715] Elapsed 7m 0s (remain 2m 13s) Loss avg.: 0.4439 Grad: 0.4030 LR: 0.00012  \n",
      "Epoch: [10][1400/1715] Elapsed 7m 32s (remain 1m 41s) Loss avg.: 0.4439 Grad: 0.2871 LR: 0.00012  \n",
      "Epoch: [10][1500/1715] Elapsed 8m 4s (remain 1m 9s) Loss avg.: 0.4439 Grad: 0.3048 LR: 0.00012  \n",
      "Epoch: [10][1600/1715] Elapsed 8m 37s (remain 0m 36s) Loss avg.: 0.4440 Grad: 0.2755 LR: 0.00012  \n",
      "Epoch: [10][1700/1715] Elapsed 9m 9s (remain 0m 4s) Loss avg.: 0.4442 Grad: 0.2714 LR: 0.00012  \n",
      "Epoch: [10][1714/1715] Elapsed 9m 13s (remain 0m 0s) Loss avg.: 0.4442 Grad: 0.4087 LR: 0.00012  \n",
      "Eval: [0/429] Elapsed 0m 0s (remain 6m 35s) Loss avg.: 0.4492 \n",
      "Eval: [100/429] Elapsed 0m 9s (remain 0m 30s) Loss avg.: 0.4440 \n",
      "Eval: [200/429] Elapsed 0m 17s (remain 0m 20s) Loss avg.: 0.4436 \n",
      "Eval: [300/429] Elapsed 0m 26s (remain 0m 11s) Loss avg.: 0.4440 \n",
      "Eval: [400/429] Elapsed 0m 34s (remain 0m 2s) Loss avg.: 0.4445 \n",
      "Eval: [428/429] Elapsed 0m 36s (remain 0m 0s) Loss avg.: 0.4452 \n"
     ]
    },
    {
     "name": "stderr",
     "output_type": "stream",
     "text": [
      "Epoch 10 - avg_train_loss: 0.4442  avg_val_loss: 0.4452  time: 591s\n",
      "Epoch 10 - Accuracy: 0.8094055130992036\n",
      "Epoch 10 - Save Best Score: 0.8094 Model\n",
      "Epoch 10 - Save final model\n",
      "========== fold: 1 result ==========\n",
      "Score: 0.80941\n",
      "========== fold: 2 training ==========\n"
     ]
    },
    {
     "name": "stdout",
     "output_type": "stream",
     "text": [
      "Epoch: [1][0/1715] Elapsed 0m 1s (remain 45m 58s) Loss avg.: 1.5621 Grad: 3.9111 LR: 0.00100  \n",
      "Epoch: [1][100/1715] Elapsed 0m 33s (remain 9m 0s) Loss avg.: 0.7719 Grad: 0.8537 LR: 0.00100  \n",
      "Epoch: [1][200/1715] Elapsed 1m 6s (remain 8m 18s) Loss avg.: 0.6872 Grad: 0.5487 LR: 0.00100  \n",
      "Epoch: [1][300/1715] Elapsed 1m 38s (remain 7m 42s) Loss avg.: 0.6497 Grad: 0.7980 LR: 0.00100  \n",
      "Epoch: [1][400/1715] Elapsed 2m 10s (remain 7m 7s) Loss avg.: 0.6264 Grad: 0.7373 LR: 0.00100  \n",
      "Epoch: [1][500/1715] Elapsed 2m 42s (remain 6m 34s) Loss avg.: 0.6095 Grad: 0.5225 LR: 0.00100  \n",
      "Epoch: [1][600/1715] Elapsed 3m 15s (remain 6m 1s) Loss avg.: 0.5957 Grad: 0.7740 LR: 0.00100  \n",
      "Epoch: [1][700/1715] Elapsed 3m 47s (remain 5m 28s) Loss avg.: 0.5850 Grad: 0.5902 LR: 0.00100  \n",
      "Epoch: [1][800/1715] Elapsed 4m 19s (remain 4m 56s) Loss avg.: 0.5763 Grad: 0.6309 LR: 0.00100  \n",
      "Epoch: [1][900/1715] Elapsed 4m 51s (remain 4m 23s) Loss avg.: 0.5693 Grad: 0.7522 LR: 0.00100  \n",
      "Epoch: [1][1000/1715] Elapsed 5m 23s (remain 3m 51s) Loss avg.: 0.5630 Grad: 0.6236 LR: 0.00100  \n",
      "Epoch: [1][1100/1715] Elapsed 5m 56s (remain 3m 18s) Loss avg.: 0.5576 Grad: 0.7547 LR: 0.00100  \n",
      "Epoch: [1][1200/1715] Elapsed 6m 28s (remain 2m 46s) Loss avg.: 0.5528 Grad: 0.5742 LR: 0.00100  \n",
      "Epoch: [1][1300/1715] Elapsed 7m 0s (remain 2m 13s) Loss avg.: 0.5488 Grad: 0.7262 LR: 0.00100  \n",
      "Epoch: [1][1400/1715] Elapsed 7m 32s (remain 1m 41s) Loss avg.: 0.5452 Grad: 0.8440 LR: 0.00100  \n",
      "Epoch: [1][1500/1715] Elapsed 8m 5s (remain 1m 9s) Loss avg.: 0.5418 Grad: 0.7455 LR: 0.00100  \n",
      "Epoch: [1][1600/1715] Elapsed 8m 37s (remain 0m 36s) Loss avg.: 0.5388 Grad: 0.4729 LR: 0.00100  \n",
      "Epoch: [1][1700/1715] Elapsed 9m 9s (remain 0m 4s) Loss avg.: 0.5360 Grad: 0.6807 LR: 0.00100  \n",
      "Epoch: [1][1714/1715] Elapsed 9m 13s (remain 0m 0s) Loss avg.: 0.5357 Grad: 0.8820 LR: 0.00100  \n",
      "Eval: [0/429] Elapsed 0m 0s (remain 6m 29s) Loss avg.: 0.4832 \n",
      "Eval: [100/429] Elapsed 0m 9s (remain 0m 30s) Loss avg.: 0.4907 \n",
      "Eval: [200/429] Elapsed 0m 17s (remain 0m 20s) Loss avg.: 0.4910 \n",
      "Eval: [300/429] Elapsed 0m 26s (remain 0m 11s) Loss avg.: 0.4905 \n",
      "Eval: [400/429] Elapsed 0m 34s (remain 0m 2s) Loss avg.: 0.4906 \n",
      "Eval: [428/429] Elapsed 0m 36s (remain 0m 0s) Loss avg.: 0.4910 \n"
     ]
    },
    {
     "name": "stderr",
     "output_type": "stream",
     "text": [
      "Epoch 1 - avg_train_loss: 0.5357  avg_val_loss: 0.4910  time: 591s\n",
      "Epoch 1 - Accuracy: 0.785026576635006\n",
      "Epoch 1 - Save Best Score: 0.7850 Model\n"
     ]
    },
    {
     "name": "stdout",
     "output_type": "stream",
     "text": [
      "Epoch: [2][0/1715] Elapsed 0m 1s (remain 43m 38s) Loss avg.: 0.4928 Grad: 1.1988 LR: 0.00098  \n",
      "Epoch: [2][100/1715] Elapsed 0m 33s (remain 9m 0s) Loss avg.: 0.4887 Grad: 0.7444 LR: 0.00098  \n",
      "Epoch: [2][200/1715] Elapsed 1m 6s (remain 8m 17s) Loss avg.: 0.4881 Grad: 0.4684 LR: 0.00098  \n",
      "Epoch: [2][300/1715] Elapsed 1m 38s (remain 7m 41s) Loss avg.: 0.4882 Grad: 0.8433 LR: 0.00098  \n",
      "Epoch: [2][400/1715] Elapsed 2m 10s (remain 7m 7s) Loss avg.: 0.4868 Grad: 0.6456 LR: 0.00098  \n",
      "Epoch: [2][500/1715] Elapsed 2m 42s (remain 6m 34s) Loss avg.: 0.4862 Grad: 0.5739 LR: 0.00098  \n",
      "Epoch: [2][600/1715] Elapsed 3m 15s (remain 6m 2s) Loss avg.: 0.4857 Grad: 0.6341 LR: 0.00098  \n",
      "Epoch: [2][700/1715] Elapsed 3m 47s (remain 5m 29s) Loss avg.: 0.4851 Grad: 0.6279 LR: 0.00098  \n",
      "Epoch: [2][800/1715] Elapsed 4m 20s (remain 4m 57s) Loss avg.: 0.4850 Grad: 0.4625 LR: 0.00098  \n",
      "Epoch: [2][900/1715] Elapsed 4m 52s (remain 4m 24s) Loss avg.: 0.4846 Grad: 0.6389 LR: 0.00098  \n",
      "Epoch: [2][1000/1715] Elapsed 5m 25s (remain 3m 52s) Loss avg.: 0.4844 Grad: 0.6725 LR: 0.00098  \n",
      "Epoch: [2][1100/1715] Elapsed 5m 58s (remain 3m 19s) Loss avg.: 0.4840 Grad: 0.3757 LR: 0.00098  \n",
      "Epoch: [2][1200/1715] Elapsed 6m 30s (remain 2m 47s) Loss avg.: 0.4838 Grad: 0.5700 LR: 0.00098  \n",
      "Epoch: [2][1300/1715] Elapsed 7m 3s (remain 2m 14s) Loss avg.: 0.4834 Grad: 0.4681 LR: 0.00098  \n",
      "Epoch: [2][1400/1715] Elapsed 7m 35s (remain 1m 42s) Loss avg.: 0.4828 Grad: 0.4543 LR: 0.00098  \n",
      "Epoch: [2][1500/1715] Elapsed 8m 8s (remain 1m 9s) Loss avg.: 0.4826 Grad: 0.5280 LR: 0.00098  \n",
      "Epoch: [2][1600/1715] Elapsed 8m 40s (remain 0m 37s) Loss avg.: 0.4822 Grad: 0.3654 LR: 0.00098  \n",
      "Epoch: [2][1700/1715] Elapsed 9m 13s (remain 0m 4s) Loss avg.: 0.4817 Grad: 0.4032 LR: 0.00098  \n",
      "Epoch: [2][1714/1715] Elapsed 9m 17s (remain 0m 0s) Loss avg.: 0.4816 Grad: 0.4108 LR: 0.00098  \n",
      "Eval: [0/429] Elapsed 0m 0s (remain 6m 29s) Loss avg.: 0.4609 \n",
      "Eval: [100/429] Elapsed 0m 9s (remain 0m 30s) Loss avg.: 0.4691 \n",
      "Eval: [200/429] Elapsed 0m 17s (remain 0m 20s) Loss avg.: 0.4694 \n",
      "Eval: [300/429] Elapsed 0m 26s (remain 0m 11s) Loss avg.: 0.4691 \n",
      "Eval: [400/429] Elapsed 0m 34s (remain 0m 2s) Loss avg.: 0.4693 \n",
      "Eval: [428/429] Elapsed 0m 36s (remain 0m 0s) Loss avg.: 0.4696 \n"
     ]
    },
    {
     "name": "stderr",
     "output_type": "stream",
     "text": [
      "Epoch 2 - avg_train_loss: 0.4816  avg_val_loss: 0.4696  time: 595s\n",
      "Epoch 2 - Accuracy: 0.7967459471906886\n",
      "Epoch 2 - Save Best Score: 0.7967 Model\n"
     ]
    },
    {
     "name": "stdout",
     "output_type": "stream",
     "text": [
      "Epoch: [3][0/1715] Elapsed 0m 1s (remain 44m 38s) Loss avg.: 0.4916 Grad: 0.6848 LR: 0.00091  \n",
      "Epoch: [3][100/1715] Elapsed 0m 34s (remain 9m 4s) Loss avg.: 0.4729 Grad: 0.6692 LR: 0.00091  \n",
      "Epoch: [3][200/1715] Elapsed 1m 6s (remain 8m 21s) Loss avg.: 0.4721 Grad: 0.5793 LR: 0.00091  \n",
      "Epoch: [3][300/1715] Elapsed 1m 39s (remain 7m 45s) Loss avg.: 0.4727 Grad: 0.6204 LR: 0.00091  \n",
      "Epoch: [3][400/1715] Elapsed 2m 11s (remain 7m 10s) Loss avg.: 0.4730 Grad: 0.3458 LR: 0.00091  \n",
      "Epoch: [3][500/1715] Elapsed 2m 44s (remain 6m 37s) Loss avg.: 0.4729 Grad: 0.4434 LR: 0.00091  \n",
      "Epoch: [3][600/1715] Elapsed 3m 16s (remain 6m 4s) Loss avg.: 0.4728 Grad: 0.4074 LR: 0.00091  \n",
      "Epoch: [3][700/1715] Elapsed 3m 49s (remain 5m 31s) Loss avg.: 0.4726 Grad: 0.6561 LR: 0.00091  \n",
      "Epoch: [3][800/1715] Elapsed 4m 21s (remain 4m 58s) Loss avg.: 0.4726 Grad: 0.4566 LR: 0.00091  \n",
      "Epoch: [3][900/1715] Elapsed 4m 54s (remain 4m 25s) Loss avg.: 0.4723 Grad: 0.5638 LR: 0.00091  \n",
      "Epoch: [3][1000/1715] Elapsed 5m 26s (remain 3m 52s) Loss avg.: 0.4721 Grad: 0.3583 LR: 0.00091  \n",
      "Epoch: [3][1100/1715] Elapsed 5m 58s (remain 3m 20s) Loss avg.: 0.4718 Grad: 0.4896 LR: 0.00091  \n",
      "Epoch: [3][1200/1715] Elapsed 6m 31s (remain 2m 47s) Loss avg.: 0.4716 Grad: 0.4818 LR: 0.00091  \n",
      "Epoch: [3][1300/1715] Elapsed 7m 4s (remain 2m 14s) Loss avg.: 0.4714 Grad: 0.5022 LR: 0.00091  \n",
      "Epoch: [3][1400/1715] Elapsed 7m 36s (remain 1m 42s) Loss avg.: 0.4711 Grad: 0.3433 LR: 0.00091  \n",
      "Epoch: [3][1500/1715] Elapsed 8m 9s (remain 1m 9s) Loss avg.: 0.4709 Grad: 0.3727 LR: 0.00091  \n",
      "Epoch: [3][1600/1715] Elapsed 8m 41s (remain 0m 37s) Loss avg.: 0.4708 Grad: 0.6253 LR: 0.00091  \n",
      "Epoch: [3][1700/1715] Elapsed 9m 13s (remain 0m 4s) Loss avg.: 0.4707 Grad: 0.4825 LR: 0.00091  \n",
      "Epoch: [3][1714/1715] Elapsed 9m 18s (remain 0m 0s) Loss avg.: 0.4707 Grad: 0.4883 LR: 0.00091  \n",
      "Eval: [0/429] Elapsed 0m 0s (remain 6m 16s) Loss avg.: 0.4560 \n",
      "Eval: [100/429] Elapsed 0m 9s (remain 0m 30s) Loss avg.: 0.4622 \n",
      "Eval: [200/429] Elapsed 0m 17s (remain 0m 20s) Loss avg.: 0.4619 \n",
      "Eval: [300/429] Elapsed 0m 26s (remain 0m 11s) Loss avg.: 0.4616 \n",
      "Eval: [400/429] Elapsed 0m 34s (remain 0m 2s) Loss avg.: 0.4620 \n",
      "Eval: [428/429] Elapsed 0m 36s (remain 0m 0s) Loss avg.: 0.4623 \n"
     ]
    },
    {
     "name": "stderr",
     "output_type": "stream",
     "text": [
      "Epoch 3 - avg_train_loss: 0.4707  avg_val_loss: 0.4623  time: 596s\n",
      "Epoch 3 - Accuracy: 0.7999683732942348\n",
      "Epoch 3 - Save Best Score: 0.8000 Model\n"
     ]
    },
    {
     "name": "stdout",
     "output_type": "stream",
     "text": [
      "Epoch: [4][0/1715] Elapsed 0m 1s (remain 43m 23s) Loss avg.: 0.4730 Grad: 0.4088 LR: 0.00081  \n",
      "Epoch: [4][100/1715] Elapsed 0m 34s (remain 9m 3s) Loss avg.: 0.4649 Grad: 0.4100 LR: 0.00081  \n",
      "Epoch: [4][200/1715] Elapsed 1m 6s (remain 8m 21s) Loss avg.: 0.4649 Grad: 0.3777 LR: 0.00081  \n",
      "Epoch: [4][300/1715] Elapsed 1m 39s (remain 7m 45s) Loss avg.: 0.4649 Grad: 0.3907 LR: 0.00081  \n",
      "Epoch: [4][400/1715] Elapsed 2m 11s (remain 7m 11s) Loss avg.: 0.4649 Grad: 0.3108 LR: 0.00081  \n",
      "Epoch: [4][500/1715] Elapsed 2m 44s (remain 6m 37s) Loss avg.: 0.4650 Grad: 0.4156 LR: 0.00081  \n",
      "Epoch: [4][600/1715] Elapsed 3m 16s (remain 6m 4s) Loss avg.: 0.4652 Grad: 0.4344 LR: 0.00081  \n",
      "Epoch: [4][700/1715] Elapsed 3m 49s (remain 5m 31s) Loss avg.: 0.4652 Grad: 0.3060 LR: 0.00081  \n",
      "Epoch: [4][800/1715] Elapsed 4m 21s (remain 4m 58s) Loss avg.: 0.4652 Grad: 0.3307 LR: 0.00081  \n",
      "Epoch: [4][900/1715] Elapsed 4m 54s (remain 4m 25s) Loss avg.: 0.4652 Grad: 0.3135 LR: 0.00081  \n",
      "Epoch: [4][1000/1715] Elapsed 5m 26s (remain 3m 53s) Loss avg.: 0.4649 Grad: 0.2822 LR: 0.00081  \n",
      "Epoch: [4][1100/1715] Elapsed 5m 59s (remain 3m 20s) Loss avg.: 0.4647 Grad: 0.3363 LR: 0.00081  \n",
      "Epoch: [4][1200/1715] Elapsed 6m 31s (remain 2m 47s) Loss avg.: 0.4647 Grad: 0.4441 LR: 0.00081  \n",
      "Epoch: [4][1300/1715] Elapsed 7m 4s (remain 2m 15s) Loss avg.: 0.4645 Grad: 0.2986 LR: 0.00081  \n",
      "Epoch: [4][1400/1715] Elapsed 7m 36s (remain 1m 42s) Loss avg.: 0.4644 Grad: 0.4470 LR: 0.00081  \n",
      "Epoch: [4][1500/1715] Elapsed 8m 9s (remain 1m 9s) Loss avg.: 0.4643 Grad: 0.5322 LR: 0.00081  \n",
      "Epoch: [4][1600/1715] Elapsed 8m 42s (remain 0m 37s) Loss avg.: 0.4641 Grad: 0.4687 LR: 0.00081  \n",
      "Epoch: [4][1700/1715] Elapsed 9m 14s (remain 0m 4s) Loss avg.: 0.4640 Grad: 0.3057 LR: 0.00081  \n",
      "Epoch: [4][1714/1715] Elapsed 9m 19s (remain 0m 0s) Loss avg.: 0.4640 Grad: 0.2726 LR: 0.00081  \n",
      "Eval: [0/429] Elapsed 0m 0s (remain 6m 25s) Loss avg.: 0.4518 \n",
      "Eval: [100/429] Elapsed 0m 9s (remain 0m 30s) Loss avg.: 0.4593 \n",
      "Eval: [200/429] Elapsed 0m 17s (remain 0m 20s) Loss avg.: 0.4592 \n",
      "Eval: [300/429] Elapsed 0m 26s (remain 0m 11s) Loss avg.: 0.4587 \n",
      "Eval: [400/429] Elapsed 0m 34s (remain 0m 2s) Loss avg.: 0.4591 \n",
      "Eval: [428/429] Elapsed 0m 36s (remain 0m 0s) Loss avg.: 0.4595 \n"
     ]
    },
    {
     "name": "stderr",
     "output_type": "stream",
     "text": [
      "Epoch 4 - avg_train_loss: 0.4640  avg_val_loss: 0.4595  time: 597s\n",
      "Epoch 4 - Accuracy: 0.8013092290225308\n",
      "Epoch 4 - Save Best Score: 0.8013 Model\n"
     ]
    },
    {
     "name": "stdout",
     "output_type": "stream",
     "text": [
      "Epoch: [5][0/1715] Elapsed 0m 1s (remain 47m 10s) Loss avg.: 0.4733 Grad: 0.3503 LR: 0.00069  \n",
      "Epoch: [5][100/1715] Elapsed 0m 34s (remain 9m 9s) Loss avg.: 0.4575 Grad: 0.3604 LR: 0.00069  \n",
      "Epoch: [5][200/1715] Elapsed 1m 6s (remain 8m 24s) Loss avg.: 0.4581 Grad: 0.2816 LR: 0.00069  \n",
      "Epoch: [5][300/1715] Elapsed 1m 39s (remain 7m 47s) Loss avg.: 0.4587 Grad: 0.3570 LR: 0.00069  \n",
      "Epoch: [5][400/1715] Elapsed 2m 11s (remain 7m 12s) Loss avg.: 0.4590 Grad: 0.3373 LR: 0.00069  \n",
      "Epoch: [5][500/1715] Elapsed 2m 44s (remain 6m 38s) Loss avg.: 0.4592 Grad: 0.3289 LR: 0.00069  \n",
      "Epoch: [5][600/1715] Elapsed 3m 16s (remain 6m 5s) Loss avg.: 0.4594 Grad: 0.2800 LR: 0.00069  \n",
      "Epoch: [5][700/1715] Elapsed 3m 49s (remain 5m 32s) Loss avg.: 0.4594 Grad: 0.3417 LR: 0.00069  \n",
      "Epoch: [5][800/1715] Elapsed 4m 22s (remain 4m 58s) Loss avg.: 0.4596 Grad: 0.4597 LR: 0.00069  \n",
      "Epoch: [5][900/1715] Elapsed 4m 54s (remain 4m 26s) Loss avg.: 0.4596 Grad: 0.3993 LR: 0.00069  \n",
      "Epoch: [5][1000/1715] Elapsed 5m 27s (remain 3m 53s) Loss avg.: 0.4596 Grad: 0.4300 LR: 0.00069  \n",
      "Epoch: [5][1100/1715] Elapsed 5m 59s (remain 3m 20s) Loss avg.: 0.4595 Grad: 0.8010 LR: 0.00069  \n",
      "Epoch: [5][1200/1715] Elapsed 6m 32s (remain 2m 47s) Loss avg.: 0.4594 Grad: 0.3197 LR: 0.00069  \n",
      "Epoch: [5][1300/1715] Elapsed 7m 4s (remain 2m 15s) Loss avg.: 0.4592 Grad: 0.3169 LR: 0.00069  \n",
      "Epoch: [5][1400/1715] Elapsed 7m 37s (remain 1m 42s) Loss avg.: 0.4592 Grad: 0.3878 LR: 0.00069  \n",
      "Epoch: [5][1500/1715] Elapsed 8m 9s (remain 1m 9s) Loss avg.: 0.4592 Grad: 0.2936 LR: 0.00069  \n",
      "Epoch: [5][1600/1715] Elapsed 8m 42s (remain 0m 37s) Loss avg.: 0.4593 Grad: 0.3333 LR: 0.00069  \n",
      "Epoch: [5][1700/1715] Elapsed 9m 15s (remain 0m 4s) Loss avg.: 0.4592 Grad: 0.3206 LR: 0.00069  \n",
      "Epoch: [5][1714/1715] Elapsed 9m 19s (remain 0m 0s) Loss avg.: 0.4592 Grad: 0.5136 LR: 0.00069  \n",
      "Eval: [0/429] Elapsed 0m 0s (remain 6m 25s) Loss avg.: 0.4460 \n",
      "Eval: [100/429] Elapsed 0m 9s (remain 0m 30s) Loss avg.: 0.4544 \n",
      "Eval: [200/429] Elapsed 0m 17s (remain 0m 20s) Loss avg.: 0.4541 \n",
      "Eval: [300/429] Elapsed 0m 26s (remain 0m 11s) Loss avg.: 0.4536 \n",
      "Eval: [400/429] Elapsed 0m 34s (remain 0m 2s) Loss avg.: 0.4539 \n",
      "Eval: [428/429] Elapsed 0m 36s (remain 0m 0s) Loss avg.: 0.4543 \n"
     ]
    },
    {
     "name": "stderr",
     "output_type": "stream",
     "text": [
      "Epoch 5 - avg_train_loss: 0.4592  avg_val_loss: 0.4543  time: 597s\n",
      "Epoch 5 - Accuracy: 0.803916610433315\n",
      "Epoch 5 - Save Best Score: 0.8039 Model\n"
     ]
    },
    {
     "name": "stdout",
     "output_type": "stream",
     "text": [
      "Epoch: [6][0/1715] Elapsed 0m 1s (remain 42m 30s) Loss avg.: 0.4672 Grad: 0.4172 LR: 0.00055  \n",
      "Epoch: [6][100/1715] Elapsed 0m 34s (remain 9m 3s) Loss avg.: 0.4567 Grad: 0.5206 LR: 0.00055  \n",
      "Epoch: [6][200/1715] Elapsed 1m 6s (remain 8m 23s) Loss avg.: 0.4560 Grad: 0.3487 LR: 0.00055  \n",
      "Epoch: [6][300/1715] Elapsed 1m 39s (remain 7m 46s) Loss avg.: 0.4555 Grad: 0.2861 LR: 0.00055  \n",
      "Epoch: [6][400/1715] Elapsed 2m 11s (remain 7m 11s) Loss avg.: 0.4550 Grad: 0.2286 LR: 0.00055  \n",
      "Epoch: [6][500/1715] Elapsed 2m 44s (remain 6m 37s) Loss avg.: 0.4551 Grad: 0.3710 LR: 0.00055  \n",
      "Epoch: [6][600/1715] Elapsed 3m 16s (remain 6m 4s) Loss avg.: 0.4550 Grad: 0.4115 LR: 0.00055  \n",
      "Epoch: [6][700/1715] Elapsed 3m 49s (remain 5m 31s) Loss avg.: 0.4555 Grad: 0.3122 LR: 0.00055  \n",
      "Epoch: [6][800/1715] Elapsed 4m 21s (remain 4m 58s) Loss avg.: 0.4554 Grad: 0.4526 LR: 0.00055  \n",
      "Epoch: [6][900/1715] Elapsed 4m 54s (remain 4m 25s) Loss avg.: 0.4552 Grad: 0.3873 LR: 0.00055  \n",
      "Epoch: [6][1000/1715] Elapsed 5m 26s (remain 3m 53s) Loss avg.: 0.4553 Grad: 0.3182 LR: 0.00055  \n",
      "Epoch: [6][1100/1715] Elapsed 5m 59s (remain 3m 20s) Loss avg.: 0.4552 Grad: 0.2430 LR: 0.00055  \n",
      "Epoch: [6][1200/1715] Elapsed 6m 31s (remain 2m 47s) Loss avg.: 0.4552 Grad: 0.3211 LR: 0.00055  \n",
      "Epoch: [6][1300/1715] Elapsed 7m 4s (remain 2m 15s) Loss avg.: 0.4552 Grad: 0.5415 LR: 0.00055  \n",
      "Epoch: [6][1400/1715] Elapsed 7m 36s (remain 1m 42s) Loss avg.: 0.4552 Grad: 0.2522 LR: 0.00055  \n",
      "Epoch: [6][1500/1715] Elapsed 8m 9s (remain 1m 9s) Loss avg.: 0.4553 Grad: 0.3369 LR: 0.00055  \n",
      "Epoch: [6][1600/1715] Elapsed 8m 41s (remain 0m 37s) Loss avg.: 0.4553 Grad: 0.3539 LR: 0.00055  \n",
      "Epoch: [6][1700/1715] Elapsed 9m 14s (remain 0m 4s) Loss avg.: 0.4552 Grad: 0.3363 LR: 0.00055  \n",
      "Epoch: [6][1714/1715] Elapsed 9m 19s (remain 0m 0s) Loss avg.: 0.4553 Grad: 0.3014 LR: 0.00055  \n",
      "Eval: [0/429] Elapsed 0m 0s (remain 6m 16s) Loss avg.: 0.4442 \n",
      "Eval: [100/429] Elapsed 0m 9s (remain 0m 30s) Loss avg.: 0.4512 \n",
      "Eval: [200/429] Elapsed 0m 17s (remain 0m 19s) Loss avg.: 0.4512 \n",
      "Eval: [300/429] Elapsed 0m 26s (remain 0m 11s) Loss avg.: 0.4507 \n",
      "Eval: [400/429] Elapsed 0m 34s (remain 0m 2s) Loss avg.: 0.4509 \n",
      "Eval: [428/429] Elapsed 0m 36s (remain 0m 0s) Loss avg.: 0.4513 \n"
     ]
    },
    {
     "name": "stderr",
     "output_type": "stream",
     "text": [
      "Epoch 6 - avg_train_loss: 0.4553  avg_val_loss: 0.4513  time: 597s\n",
      "Epoch 6 - Accuracy: 0.8056240153090746\n",
      "Epoch 6 - Save Best Score: 0.8056 Model\n"
     ]
    },
    {
     "name": "stdout",
     "output_type": "stream",
     "text": [
      "Epoch: [7][0/1715] Elapsed 0m 1s (remain 43m 27s) Loss avg.: 0.4674 Grad: 0.3502 LR: 0.00041  \n",
      "Epoch: [7][100/1715] Elapsed 0m 34s (remain 9m 4s) Loss avg.: 0.4530 Grad: 0.3392 LR: 0.00041  \n",
      "Epoch: [7][200/1715] Elapsed 1m 6s (remain 8m 21s) Loss avg.: 0.4526 Grad: 0.2605 LR: 0.00041  \n",
      "Epoch: [7][300/1715] Elapsed 1m 39s (remain 7m 45s) Loss avg.: 0.4529 Grad: 0.2640 LR: 0.00041  \n",
      "Epoch: [7][400/1715] Elapsed 2m 11s (remain 7m 11s) Loss avg.: 0.4521 Grad: 0.2883 LR: 0.00041  \n",
      "Epoch: [7][500/1715] Elapsed 2m 44s (remain 6m 37s) Loss avg.: 0.4519 Grad: 0.4879 LR: 0.00041  \n",
      "Epoch: [7][600/1715] Elapsed 3m 16s (remain 6m 4s) Loss avg.: 0.4519 Grad: 0.3951 LR: 0.00041  \n",
      "Epoch: [7][700/1715] Elapsed 3m 48s (remain 5m 31s) Loss avg.: 0.4520 Grad: 0.3739 LR: 0.00041  \n",
      "Epoch: [7][800/1715] Elapsed 4m 21s (remain 4m 58s) Loss avg.: 0.4522 Grad: 0.3248 LR: 0.00041  \n",
      "Epoch: [7][900/1715] Elapsed 4m 53s (remain 4m 25s) Loss avg.: 0.4521 Grad: 0.3316 LR: 0.00041  \n",
      "Epoch: [7][1000/1715] Elapsed 5m 26s (remain 3m 52s) Loss avg.: 0.4521 Grad: 0.4234 LR: 0.00041  \n",
      "Epoch: [7][1100/1715] Elapsed 5m 58s (remain 3m 20s) Loss avg.: 0.4520 Grad: 0.3686 LR: 0.00041  \n",
      "Epoch: [7][1200/1715] Elapsed 6m 31s (remain 2m 47s) Loss avg.: 0.4521 Grad: 0.3678 LR: 0.00041  \n",
      "Epoch: [7][1300/1715] Elapsed 7m 3s (remain 2m 14s) Loss avg.: 0.4521 Grad: 0.3498 LR: 0.00041  \n",
      "Epoch: [7][1400/1715] Elapsed 7m 36s (remain 1m 42s) Loss avg.: 0.4521 Grad: 0.3260 LR: 0.00041  \n",
      "Epoch: [7][1500/1715] Elapsed 8m 8s (remain 1m 9s) Loss avg.: 0.4520 Grad: 0.3302 LR: 0.00041  \n",
      "Epoch: [7][1600/1715] Elapsed 8m 41s (remain 0m 37s) Loss avg.: 0.4519 Grad: 0.4571 LR: 0.00041  \n",
      "Epoch: [7][1700/1715] Elapsed 9m 13s (remain 0m 4s) Loss avg.: 0.4518 Grad: 0.2731 LR: 0.00041  \n",
      "Epoch: [7][1714/1715] Elapsed 9m 18s (remain 0m 0s) Loss avg.: 0.4518 Grad: 0.3743 LR: 0.00041  \n",
      "Eval: [0/429] Elapsed 0m 0s (remain 6m 18s) Loss avg.: 0.4429 \n",
      "Eval: [100/429] Elapsed 0m 9s (remain 0m 30s) Loss avg.: 0.4489 \n",
      "Eval: [200/429] Elapsed 0m 17s (remain 0m 20s) Loss avg.: 0.4489 \n",
      "Eval: [300/429] Elapsed 0m 26s (remain 0m 11s) Loss avg.: 0.4485 \n",
      "Eval: [400/429] Elapsed 0m 34s (remain 0m 2s) Loss avg.: 0.4487 \n",
      "Eval: [428/429] Elapsed 0m 36s (remain 0m 0s) Loss avg.: 0.4491 \n"
     ]
    },
    {
     "name": "stderr",
     "output_type": "stream",
     "text": [
      "Epoch 7 - avg_train_loss: 0.4518  avg_val_loss: 0.4491  time: 596s\n",
      "Epoch 7 - Accuracy: 0.8066617210466254\n",
      "Epoch 7 - Save Best Score: 0.8067 Model\n"
     ]
    },
    {
     "name": "stdout",
     "output_type": "stream",
     "text": [
      "Epoch: [8][0/1715] Elapsed 0m 1s (remain 43m 14s) Loss avg.: 0.4463 Grad: 0.2731 LR: 0.00029  \n",
      "Epoch: [8][100/1715] Elapsed 0m 34s (remain 9m 4s) Loss avg.: 0.4477 Grad: 0.2698 LR: 0.00029  \n",
      "Epoch: [8][200/1715] Elapsed 1m 6s (remain 8m 21s) Loss avg.: 0.4488 Grad: 0.3719 LR: 0.00029  \n",
      "Epoch: [8][300/1715] Elapsed 1m 39s (remain 7m 45s) Loss avg.: 0.4483 Grad: 0.3015 LR: 0.00029  \n",
      "Epoch: [8][400/1715] Elapsed 2m 11s (remain 7m 11s) Loss avg.: 0.4481 Grad: 0.2833 LR: 0.00029  \n",
      "Epoch: [8][500/1715] Elapsed 2m 44s (remain 6m 38s) Loss avg.: 0.4483 Grad: 0.2628 LR: 0.00029  \n",
      "Epoch: [8][600/1715] Elapsed 3m 16s (remain 6m 4s) Loss avg.: 0.4485 Grad: 0.2648 LR: 0.00029  \n",
      "Epoch: [8][700/1715] Elapsed 3m 49s (remain 5m 31s) Loss avg.: 0.4483 Grad: 0.3017 LR: 0.00029  \n",
      "Epoch: [8][800/1715] Elapsed 4m 21s (remain 4m 58s) Loss avg.: 0.4486 Grad: 0.3987 LR: 0.00029  \n",
      "Epoch: [8][900/1715] Elapsed 4m 54s (remain 4m 25s) Loss avg.: 0.4485 Grad: 0.4083 LR: 0.00029  \n",
      "Epoch: [8][1000/1715] Elapsed 5m 26s (remain 3m 52s) Loss avg.: 0.4485 Grad: 0.3170 LR: 0.00029  \n",
      "Epoch: [8][1100/1715] Elapsed 5m 59s (remain 3m 20s) Loss avg.: 0.4486 Grad: 0.3374 LR: 0.00029  \n",
      "Epoch: [8][1200/1715] Elapsed 6m 31s (remain 2m 47s) Loss avg.: 0.4486 Grad: 0.3406 LR: 0.00029  \n",
      "Epoch: [8][1300/1715] Elapsed 7m 4s (remain 2m 15s) Loss avg.: 0.4487 Grad: 0.2969 LR: 0.00029  \n",
      "Epoch: [8][1400/1715] Elapsed 7m 36s (remain 1m 42s) Loss avg.: 0.4488 Grad: 0.3046 LR: 0.00029  \n",
      "Epoch: [8][1500/1715] Elapsed 8m 9s (remain 1m 9s) Loss avg.: 0.4489 Grad: 0.3515 LR: 0.00029  \n",
      "Epoch: [8][1600/1715] Elapsed 8m 41s (remain 0m 37s) Loss avg.: 0.4490 Grad: 0.2984 LR: 0.00029  \n",
      "Epoch: [8][1700/1715] Elapsed 9m 14s (remain 0m 4s) Loss avg.: 0.4490 Grad: 0.3358 LR: 0.00029  \n",
      "Epoch: [8][1714/1715] Elapsed 9m 18s (remain 0m 0s) Loss avg.: 0.4490 Grad: 0.3157 LR: 0.00029  \n",
      "Eval: [0/429] Elapsed 0m 0s (remain 6m 30s) Loss avg.: 0.4413 \n",
      "Eval: [100/429] Elapsed 0m 9s (remain 0m 30s) Loss avg.: 0.4469 \n",
      "Eval: [200/429] Elapsed 0m 17s (remain 0m 20s) Loss avg.: 0.4470 \n",
      "Eval: [300/429] Elapsed 0m 26s (remain 0m 11s) Loss avg.: 0.4466 \n",
      "Eval: [400/429] Elapsed 0m 34s (remain 0m 2s) Loss avg.: 0.4469 \n",
      "Eval: [428/429] Elapsed 0m 36s (remain 0m 0s) Loss avg.: 0.4472 \n"
     ]
    },
    {
     "name": "stderr",
     "output_type": "stream",
     "text": [
      "Epoch 8 - avg_train_loss: 0.4490  avg_val_loss: 0.4472  time: 597s\n",
      "Epoch 8 - Accuracy: 0.8075434794331678\n",
      "Epoch 8 - Save Best Score: 0.8075 Model\n"
     ]
    },
    {
     "name": "stdout",
     "output_type": "stream",
     "text": [
      "Epoch: [9][0/1715] Elapsed 0m 1s (remain 44m 3s) Loss avg.: 0.4450 Grad: 0.4141 LR: 0.00019  \n",
      "Epoch: [9][100/1715] Elapsed 0m 34s (remain 9m 4s) Loss avg.: 0.4426 Grad: 0.4572 LR: 0.00019  \n",
      "Epoch: [9][200/1715] Elapsed 1m 6s (remain 8m 21s) Loss avg.: 0.4441 Grad: 0.3382 LR: 0.00019  \n",
      "Epoch: [9][300/1715] Elapsed 1m 39s (remain 7m 45s) Loss avg.: 0.4447 Grad: 0.2310 LR: 0.00019  \n",
      "Epoch: [9][400/1715] Elapsed 2m 11s (remain 7m 10s) Loss avg.: 0.4450 Grad: 0.2363 LR: 0.00019  \n",
      "Epoch: [9][500/1715] Elapsed 2m 44s (remain 6m 37s) Loss avg.: 0.4455 Grad: 0.2839 LR: 0.00019  \n",
      "Epoch: [9][600/1715] Elapsed 3m 16s (remain 6m 4s) Loss avg.: 0.4457 Grad: 0.2521 LR: 0.00019  \n",
      "Epoch: [9][700/1715] Elapsed 3m 49s (remain 5m 31s) Loss avg.: 0.4459 Grad: 0.2912 LR: 0.00019  \n",
      "Epoch: [9][800/1715] Elapsed 4m 21s (remain 4m 58s) Loss avg.: 0.4457 Grad: 0.3325 LR: 0.00019  \n",
      "Epoch: [9][900/1715] Elapsed 4m 54s (remain 4m 25s) Loss avg.: 0.4460 Grad: 0.2813 LR: 0.00019  \n",
      "Epoch: [9][1000/1715] Elapsed 5m 26s (remain 3m 52s) Loss avg.: 0.4461 Grad: 0.2887 LR: 0.00019  \n",
      "Epoch: [9][1100/1715] Elapsed 5m 59s (remain 3m 20s) Loss avg.: 0.4461 Grad: 0.2700 LR: 0.00019  \n",
      "Epoch: [9][1200/1715] Elapsed 6m 31s (remain 2m 47s) Loss avg.: 0.4461 Grad: 0.3783 LR: 0.00019  \n",
      "Epoch: [9][1300/1715] Elapsed 7m 4s (remain 2m 15s) Loss avg.: 0.4462 Grad: 0.4771 LR: 0.00019  \n",
      "Epoch: [9][1400/1715] Elapsed 7m 36s (remain 1m 42s) Loss avg.: 0.4463 Grad: 0.2855 LR: 0.00019  \n",
      "Epoch: [9][1500/1715] Elapsed 8m 9s (remain 1m 9s) Loss avg.: 0.4464 Grad: 0.4999 LR: 0.00019  \n",
      "Epoch: [9][1600/1715] Elapsed 8m 41s (remain 0m 37s) Loss avg.: 0.4464 Grad: 0.3595 LR: 0.00019  \n",
      "Epoch: [9][1700/1715] Elapsed 9m 14s (remain 0m 4s) Loss avg.: 0.4466 Grad: 0.3855 LR: 0.00019  \n",
      "Epoch: [9][1714/1715] Elapsed 9m 18s (remain 0m 0s) Loss avg.: 0.4466 Grad: 0.2895 LR: 0.00019  \n",
      "Eval: [0/429] Elapsed 0m 0s (remain 6m 14s) Loss avg.: 0.4388 \n",
      "Eval: [100/429] Elapsed 0m 9s (remain 0m 30s) Loss avg.: 0.4460 \n",
      "Eval: [200/429] Elapsed 0m 17s (remain 0m 20s) Loss avg.: 0.4459 \n",
      "Eval: [300/429] Elapsed 0m 26s (remain 0m 11s) Loss avg.: 0.4454 \n",
      "Eval: [400/429] Elapsed 0m 34s (remain 0m 2s) Loss avg.: 0.4457 \n",
      "Eval: [428/429] Elapsed 0m 36s (remain 0m 0s) Loss avg.: 0.4461 \n"
     ]
    },
    {
     "name": "stderr",
     "output_type": "stream",
     "text": [
      "Epoch 9 - avg_train_loss: 0.4466  avg_val_loss: 0.4461  time: 596s\n",
      "Epoch 9 - Accuracy: 0.8082605457574304\n",
      "Epoch 9 - Save Best Score: 0.8083 Model\n"
     ]
    },
    {
     "name": "stdout",
     "output_type": "stream",
     "text": [
      "Epoch: [10][0/1715] Elapsed 0m 1s (remain 43m 20s) Loss avg.: 0.4352 Grad: 0.4309 LR: 0.00012  \n",
      "Epoch: [10][100/1715] Elapsed 0m 34s (remain 9m 3s) Loss avg.: 0.4449 Grad: 0.3128 LR: 0.00012  \n",
      "Epoch: [10][200/1715] Elapsed 1m 6s (remain 8m 21s) Loss avg.: 0.4453 Grad: 0.2908 LR: 0.00012  \n",
      "Epoch: [10][300/1715] Elapsed 1m 38s (remain 7m 44s) Loss avg.: 0.4448 Grad: 0.3134 LR: 0.00012  \n",
      "Epoch: [10][400/1715] Elapsed 2m 11s (remain 7m 10s) Loss avg.: 0.4445 Grad: 0.2806 LR: 0.00012  \n",
      "Epoch: [10][500/1715] Elapsed 2m 44s (remain 6m 37s) Loss avg.: 0.4447 Grad: 0.2473 LR: 0.00012  \n",
      "Epoch: [10][600/1715] Elapsed 3m 16s (remain 6m 4s) Loss avg.: 0.4450 Grad: 0.2836 LR: 0.00012  \n",
      "Epoch: [10][700/1715] Elapsed 3m 49s (remain 5m 31s) Loss avg.: 0.4447 Grad: 0.2674 LR: 0.00012  \n",
      "Epoch: [10][800/1715] Elapsed 4m 21s (remain 4m 58s) Loss avg.: 0.4445 Grad: 0.2945 LR: 0.00012  \n",
      "Epoch: [10][900/1715] Elapsed 4m 54s (remain 4m 25s) Loss avg.: 0.4445 Grad: 0.2671 LR: 0.00012  \n",
      "Epoch: [10][1000/1715] Elapsed 5m 26s (remain 3m 53s) Loss avg.: 0.4443 Grad: 0.3003 LR: 0.00012  \n",
      "Epoch: [10][1100/1715] Elapsed 5m 59s (remain 3m 20s) Loss avg.: 0.4446 Grad: 0.2916 LR: 0.00012  \n",
      "Epoch: [10][1200/1715] Elapsed 6m 31s (remain 2m 47s) Loss avg.: 0.4447 Grad: 0.2685 LR: 0.00012  \n",
      "Epoch: [10][1300/1715] Elapsed 7m 4s (remain 2m 15s) Loss avg.: 0.4447 Grad: 0.3984 LR: 0.00012  \n",
      "Epoch: [10][1400/1715] Elapsed 7m 37s (remain 1m 42s) Loss avg.: 0.4448 Grad: 0.3491 LR: 0.00012  \n",
      "Epoch: [10][1500/1715] Elapsed 8m 9s (remain 1m 9s) Loss avg.: 0.4448 Grad: 0.2982 LR: 0.00012  \n",
      "Epoch: [10][1600/1715] Elapsed 8m 42s (remain 0m 37s) Loss avg.: 0.4448 Grad: 0.2750 LR: 0.00012  \n",
      "Epoch: [10][1700/1715] Elapsed 9m 14s (remain 0m 4s) Loss avg.: 0.4450 Grad: 0.3465 LR: 0.00012  \n",
      "Epoch: [10][1714/1715] Elapsed 9m 19s (remain 0m 0s) Loss avg.: 0.4450 Grad: 0.3972 LR: 0.00012  \n",
      "Eval: [0/429] Elapsed 0m 0s (remain 6m 29s) Loss avg.: 0.4405 \n",
      "Eval: [100/429] Elapsed 0m 9s (remain 0m 30s) Loss avg.: 0.4450 \n",
      "Eval: [200/429] Elapsed 0m 17s (remain 0m 20s) Loss avg.: 0.4450 \n",
      "Eval: [300/429] Elapsed 0m 26s (remain 0m 11s) Loss avg.: 0.4445 \n",
      "Eval: [400/429] Elapsed 0m 34s (remain 0m 2s) Loss avg.: 0.4447 \n",
      "Eval: [428/429] Elapsed 0m 37s (remain 0m 0s) Loss avg.: 0.4451 \n"
     ]
    },
    {
     "name": "stderr",
     "output_type": "stream",
     "text": [
      "Epoch 10 - avg_train_loss: 0.4450  avg_val_loss: 0.4451  time: 597s\n",
      "Epoch 10 - Accuracy: 0.8087130845657303\n",
      "Epoch 10 - Save Best Score: 0.8087 Model\n",
      "Epoch 10 - Save final model\n",
      "========== fold: 2 result ==========\n",
      "Score: 0.80871\n",
      "========== fold: 3 training ==========\n"
     ]
    },
    {
     "name": "stdout",
     "output_type": "stream",
     "text": [
      "Epoch: [1][0/1715] Elapsed 0m 1s (remain 44m 12s) Loss avg.: 1.4756 Grad: 1.8506 LR: 0.00100  \n",
      "Epoch: [1][100/1715] Elapsed 0m 33s (remain 9m 1s) Loss avg.: 0.7768 Grad: 1.5510 LR: 0.00100  \n",
      "Epoch: [1][200/1715] Elapsed 1m 6s (remain 8m 19s) Loss avg.: 0.6902 Grad: 1.1886 LR: 0.00100  \n",
      "Epoch: [1][300/1715] Elapsed 1m 38s (remain 7m 42s) Loss avg.: 0.6513 Grad: 0.5428 LR: 0.00100  \n",
      "Epoch: [1][400/1715] Elapsed 2m 10s (remain 7m 8s) Loss avg.: 0.6277 Grad: 0.9004 LR: 0.00100  \n",
      "Epoch: [1][500/1715] Elapsed 2m 42s (remain 6m 34s) Loss avg.: 0.6114 Grad: 0.8936 LR: 0.00100  \n",
      "Epoch: [1][600/1715] Elapsed 3m 15s (remain 6m 1s) Loss avg.: 0.5982 Grad: 0.6037 LR: 0.00100  \n",
      "Epoch: [1][700/1715] Elapsed 3m 47s (remain 5m 28s) Loss avg.: 0.5878 Grad: 0.9722 LR: 0.00100  \n",
      "Epoch: [1][800/1715] Elapsed 4m 19s (remain 4m 56s) Loss avg.: 0.5792 Grad: 0.7416 LR: 0.00100  \n",
      "Epoch: [1][900/1715] Elapsed 4m 52s (remain 4m 23s) Loss avg.: 0.5718 Grad: 0.4655 LR: 0.00100  \n",
      "Epoch: [1][1000/1715] Elapsed 5m 24s (remain 3m 51s) Loss avg.: 0.5654 Grad: 0.6199 LR: 0.00100  \n",
      "Epoch: [1][1100/1715] Elapsed 5m 56s (remain 3m 19s) Loss avg.: 0.5599 Grad: 0.8597 LR: 0.00100  \n",
      "Epoch: [1][1200/1715] Elapsed 6m 29s (remain 2m 46s) Loss avg.: 0.5549 Grad: 0.9373 LR: 0.00100  \n",
      "Epoch: [1][1300/1715] Elapsed 7m 1s (remain 2m 14s) Loss avg.: 0.5507 Grad: 0.8301 LR: 0.00100  \n",
      "Epoch: [1][1400/1715] Elapsed 7m 33s (remain 1m 41s) Loss avg.: 0.5468 Grad: 0.7782 LR: 0.00100  \n",
      "Epoch: [1][1500/1715] Elapsed 8m 6s (remain 1m 9s) Loss avg.: 0.5433 Grad: 0.9013 LR: 0.00100  \n",
      "Epoch: [1][1600/1715] Elapsed 8m 38s (remain 0m 36s) Loss avg.: 0.5401 Grad: 0.7804 LR: 0.00100  \n",
      "Epoch: [1][1700/1715] Elapsed 9m 11s (remain 0m 4s) Loss avg.: 0.5372 Grad: 0.4475 LR: 0.00100  \n",
      "Epoch: [1][1714/1715] Elapsed 9m 16s (remain 0m 0s) Loss avg.: 0.5369 Grad: 0.4857 LR: 0.00100  \n",
      "Eval: [0/429] Elapsed 0m 0s (remain 6m 21s) Loss avg.: 0.4662 \n",
      "Eval: [100/429] Elapsed 0m 9s (remain 0m 29s) Loss avg.: 0.4822 \n",
      "Eval: [200/429] Elapsed 0m 17s (remain 0m 19s) Loss avg.: 0.4831 \n",
      "Eval: [300/429] Elapsed 0m 25s (remain 0m 10s) Loss avg.: 0.4829 \n",
      "Eval: [400/429] Elapsed 0m 34s (remain 0m 2s) Loss avg.: 0.4830 \n",
      "Eval: [428/429] Elapsed 0m 36s (remain 0m 0s) Loss avg.: 0.4834 \n"
     ]
    },
    {
     "name": "stderr",
     "output_type": "stream",
     "text": [
      "Epoch 1 - avg_train_loss: 0.5369  avg_val_loss: 0.4834  time: 593s\n",
      "Epoch 1 - Accuracy: 0.7900285514823014\n",
      "Epoch 1 - Save Best Score: 0.7900 Model\n"
     ]
    },
    {
     "name": "stdout",
     "output_type": "stream",
     "text": [
      "Epoch: [2][0/1715] Elapsed 0m 1s (remain 43m 37s) Loss avg.: 0.4924 Grad: 0.5606 LR: 0.00098  \n",
      "Epoch: [2][100/1715] Elapsed 0m 34s (remain 9m 5s) Loss avg.: 0.4882 Grad: 0.7105 LR: 0.00098  \n",
      "Epoch: [2][200/1715] Elapsed 1m 6s (remain 8m 22s) Loss avg.: 0.4877 Grad: 0.4696 LR: 0.00098  \n",
      "Epoch: [2][300/1715] Elapsed 1m 39s (remain 7m 45s) Loss avg.: 0.4885 Grad: 0.7298 LR: 0.00098  \n",
      "Epoch: [2][400/1715] Elapsed 2m 11s (remain 7m 11s) Loss avg.: 0.4882 Grad: 0.4480 LR: 0.00098  \n",
      "Epoch: [2][500/1715] Elapsed 2m 44s (remain 6m 37s) Loss avg.: 0.4870 Grad: 0.4994 LR: 0.00098  \n",
      "Epoch: [2][600/1715] Elapsed 3m 16s (remain 6m 4s) Loss avg.: 0.4863 Grad: 0.4533 LR: 0.00098  \n",
      "Epoch: [2][700/1715] Elapsed 3m 49s (remain 5m 31s) Loss avg.: 0.4861 Grad: 0.7528 LR: 0.00098  \n",
      "Epoch: [2][800/1715] Elapsed 4m 21s (remain 4m 58s) Loss avg.: 0.4858 Grad: 0.3672 LR: 0.00098  \n",
      "Epoch: [2][900/1715] Elapsed 4m 54s (remain 4m 25s) Loss avg.: 0.4854 Grad: 0.4606 LR: 0.00098  \n",
      "Epoch: [2][1000/1715] Elapsed 5m 26s (remain 3m 53s) Loss avg.: 0.4846 Grad: 0.3732 LR: 0.00098  \n",
      "Epoch: [2][1100/1715] Elapsed 5m 59s (remain 3m 20s) Loss avg.: 0.4843 Grad: 0.4086 LR: 0.00098  \n",
      "Epoch: [2][1200/1715] Elapsed 6m 31s (remain 2m 47s) Loss avg.: 0.4839 Grad: 0.4243 LR: 0.00098  \n",
      "Epoch: [2][1300/1715] Elapsed 7m 4s (remain 2m 14s) Loss avg.: 0.4833 Grad: 0.4894 LR: 0.00098  \n",
      "Epoch: [2][1400/1715] Elapsed 7m 36s (remain 1m 42s) Loss avg.: 0.4829 Grad: 0.3830 LR: 0.00098  \n",
      "Epoch: [2][1500/1715] Elapsed 8m 9s (remain 1m 9s) Loss avg.: 0.4824 Grad: 0.4104 LR: 0.00098  \n",
      "Epoch: [2][1600/1715] Elapsed 8m 41s (remain 0m 37s) Loss avg.: 0.4818 Grad: 0.4819 LR: 0.00098  \n",
      "Epoch: [2][1700/1715] Elapsed 9m 14s (remain 0m 4s) Loss avg.: 0.4814 Grad: 0.4595 LR: 0.00098  \n",
      "Epoch: [2][1714/1715] Elapsed 9m 18s (remain 0m 0s) Loss avg.: 0.4814 Grad: 1.0598 LR: 0.00098  \n",
      "Eval: [0/429] Elapsed 0m 0s (remain 6m 11s) Loss avg.: 0.4500 \n",
      "Eval: [100/429] Elapsed 0m 9s (remain 0m 29s) Loss avg.: 0.4691 \n",
      "Eval: [200/429] Elapsed 0m 17s (remain 0m 19s) Loss avg.: 0.4698 \n",
      "Eval: [300/429] Elapsed 0m 25s (remain 0m 10s) Loss avg.: 0.4700 \n",
      "Eval: [400/429] Elapsed 0m 34s (remain 0m 2s) Loss avg.: 0.4699 \n",
      "Eval: [428/429] Elapsed 0m 36s (remain 0m 0s) Loss avg.: 0.4703 \n"
     ]
    },
    {
     "name": "stderr",
     "output_type": "stream",
     "text": [
      "Epoch 2 - avg_train_loss: 0.4814  avg_val_loss: 0.4703  time: 596s\n",
      "Epoch 2 - Accuracy: 0.7958321248628173\n",
      "Epoch 2 - Save Best Score: 0.7958 Model\n"
     ]
    },
    {
     "name": "stdout",
     "output_type": "stream",
     "text": [
      "Epoch: [3][0/1715] Elapsed 0m 1s (remain 45m 28s) Loss avg.: 0.4685 Grad: 0.5280 LR: 0.00091  \n",
      "Epoch: [3][100/1715] Elapsed 0m 34s (remain 9m 3s) Loss avg.: 0.4736 Grad: 0.4035 LR: 0.00091  \n",
      "Epoch: [3][200/1715] Elapsed 1m 6s (remain 8m 20s) Loss avg.: 0.4737 Grad: 0.5832 LR: 0.00091  \n",
      "Epoch: [3][300/1715] Elapsed 1m 38s (remain 7m 44s) Loss avg.: 0.4731 Grad: 0.4001 LR: 0.00091  \n",
      "Epoch: [3][400/1715] Elapsed 2m 11s (remain 7m 9s) Loss avg.: 0.4724 Grad: 0.5228 LR: 0.00091  \n",
      "Epoch: [3][500/1715] Elapsed 2m 43s (remain 6m 36s) Loss avg.: 0.4725 Grad: 0.5455 LR: 0.00091  \n",
      "Epoch: [3][600/1715] Elapsed 3m 16s (remain 6m 3s) Loss avg.: 0.4720 Grad: 0.4908 LR: 0.00091  \n",
      "Epoch: [3][700/1715] Elapsed 3m 48s (remain 5m 30s) Loss avg.: 0.4716 Grad: 0.6016 LR: 0.00091  \n",
      "Epoch: [3][800/1715] Elapsed 4m 20s (remain 4m 57s) Loss avg.: 0.4713 Grad: 0.4693 LR: 0.00091  \n",
      "Epoch: [3][900/1715] Elapsed 4m 53s (remain 4m 25s) Loss avg.: 0.4712 Grad: 0.3369 LR: 0.00091  \n",
      "Epoch: [3][1000/1715] Elapsed 5m 26s (remain 3m 52s) Loss avg.: 0.4711 Grad: 0.3953 LR: 0.00091  \n",
      "Epoch: [3][1100/1715] Elapsed 5m 58s (remain 3m 19s) Loss avg.: 0.4711 Grad: 0.3806 LR: 0.00091  \n",
      "Epoch: [3][1200/1715] Elapsed 6m 31s (remain 2m 47s) Loss avg.: 0.4710 Grad: 0.3384 LR: 0.00091  \n",
      "Epoch: [3][1300/1715] Elapsed 7m 3s (remain 2m 14s) Loss avg.: 0.4707 Grad: 0.4363 LR: 0.00091  \n",
      "Epoch: [3][1400/1715] Elapsed 7m 35s (remain 1m 42s) Loss avg.: 0.4706 Grad: 0.3254 LR: 0.00091  \n",
      "Epoch: [3][1500/1715] Elapsed 8m 8s (remain 1m 9s) Loss avg.: 0.4703 Grad: 0.5030 LR: 0.00091  \n",
      "Epoch: [3][1600/1715] Elapsed 8m 40s (remain 0m 37s) Loss avg.: 0.4702 Grad: 0.3952 LR: 0.00091  \n",
      "Epoch: [3][1700/1715] Elapsed 9m 13s (remain 0m 4s) Loss avg.: 0.4701 Grad: 0.4925 LR: 0.00091  \n",
      "Epoch: [3][1714/1715] Elapsed 9m 18s (remain 0m 0s) Loss avg.: 0.4701 Grad: 0.4338 LR: 0.00091  \n",
      "Eval: [0/429] Elapsed 0m 0s (remain 6m 12s) Loss avg.: 0.4505 \n",
      "Eval: [100/429] Elapsed 0m 9s (remain 0m 29s) Loss avg.: 0.4608 \n",
      "Eval: [200/429] Elapsed 0m 17s (remain 0m 19s) Loss avg.: 0.4617 \n",
      "Eval: [300/429] Elapsed 0m 25s (remain 0m 10s) Loss avg.: 0.4619 \n",
      "Eval: [400/429] Elapsed 0m 34s (remain 0m 2s) Loss avg.: 0.4618 \n",
      "Eval: [428/429] Elapsed 0m 36s (remain 0m 0s) Loss avg.: 0.4622 \n"
     ]
    },
    {
     "name": "stderr",
     "output_type": "stream",
     "text": [
      "Epoch 3 - avg_train_loss: 0.4701  avg_val_loss: 0.4622  time: 595s\n",
      "Epoch 3 - Accuracy: 0.7996630371256717\n",
      "Epoch 3 - Save Best Score: 0.7997 Model\n"
     ]
    },
    {
     "name": "stdout",
     "output_type": "stream",
     "text": [
      "Epoch: [4][0/1715] Elapsed 0m 1s (remain 43m 51s) Loss avg.: 0.4762 Grad: 0.3802 LR: 0.00081  \n",
      "Epoch: [4][100/1715] Elapsed 0m 33s (remain 9m 3s) Loss avg.: 0.4644 Grad: 0.3878 LR: 0.00081  \n",
      "Epoch: [4][200/1715] Elapsed 1m 6s (remain 8m 19s) Loss avg.: 0.4648 Grad: 0.4771 LR: 0.00081  \n",
      "Epoch: [4][300/1715] Elapsed 1m 38s (remain 7m 44s) Loss avg.: 0.4644 Grad: 0.4941 LR: 0.00081  \n",
      "Epoch: [4][400/1715] Elapsed 2m 11s (remain 7m 10s) Loss avg.: 0.4650 Grad: 0.3712 LR: 0.00081  \n",
      "Epoch: [4][500/1715] Elapsed 2m 43s (remain 6m 36s) Loss avg.: 0.4648 Grad: 0.3463 LR: 0.00081  \n",
      "Epoch: [4][600/1715] Elapsed 3m 15s (remain 6m 3s) Loss avg.: 0.4649 Grad: 0.3556 LR: 0.00081  \n",
      "Epoch: [4][700/1715] Elapsed 3m 48s (remain 5m 30s) Loss avg.: 0.4646 Grad: 0.3304 LR: 0.00081  \n",
      "Epoch: [4][800/1715] Elapsed 4m 21s (remain 4m 57s) Loss avg.: 0.4644 Grad: 0.4184 LR: 0.00081  \n",
      "Epoch: [4][900/1715] Elapsed 4m 53s (remain 4m 25s) Loss avg.: 0.4641 Grad: 0.3262 LR: 0.00081  \n",
      "Epoch: [4][1000/1715] Elapsed 5m 25s (remain 3m 52s) Loss avg.: 0.4642 Grad: 0.3541 LR: 0.00081  \n",
      "Epoch: [4][1100/1715] Elapsed 5m 58s (remain 3m 19s) Loss avg.: 0.4642 Grad: 0.3531 LR: 0.00081  \n",
      "Epoch: [4][1200/1715] Elapsed 6m 31s (remain 2m 47s) Loss avg.: 0.4641 Grad: 0.2767 LR: 0.00081  \n",
      "Epoch: [4][1300/1715] Elapsed 7m 3s (remain 2m 14s) Loss avg.: 0.4640 Grad: 0.3028 LR: 0.00081  \n",
      "Epoch: [4][1400/1715] Elapsed 7m 36s (remain 1m 42s) Loss avg.: 0.4639 Grad: 0.3325 LR: 0.00081  \n",
      "Epoch: [4][1500/1715] Elapsed 8m 8s (remain 1m 9s) Loss avg.: 0.4639 Grad: 0.5388 LR: 0.00081  \n",
      "Epoch: [4][1600/1715] Elapsed 8m 41s (remain 0m 37s) Loss avg.: 0.4638 Grad: 0.4909 LR: 0.00081  \n",
      "Epoch: [4][1700/1715] Elapsed 9m 13s (remain 0m 4s) Loss avg.: 0.4638 Grad: 0.3363 LR: 0.00081  \n",
      "Epoch: [4][1714/1715] Elapsed 9m 18s (remain 0m 0s) Loss avg.: 0.4637 Grad: 0.2742 LR: 0.00081  \n",
      "Eval: [0/429] Elapsed 0m 1s (remain 7m 16s) Loss avg.: 0.4427 \n",
      "Eval: [100/429] Elapsed 0m 9s (remain 0m 30s) Loss avg.: 0.4564 \n",
      "Eval: [200/429] Elapsed 0m 17s (remain 0m 20s) Loss avg.: 0.4573 \n",
      "Eval: [300/429] Elapsed 0m 26s (remain 0m 11s) Loss avg.: 0.4574 \n",
      "Eval: [400/429] Elapsed 0m 34s (remain 0m 2s) Loss avg.: 0.4572 \n",
      "Eval: [428/429] Elapsed 0m 37s (remain 0m 0s) Loss avg.: 0.4576 \n"
     ]
    },
    {
     "name": "stderr",
     "output_type": "stream",
     "text": [
      "Epoch 4 - avg_train_loss: 0.4637  avg_val_loss: 0.4576  time: 596s\n",
      "Epoch 4 - Accuracy: 0.8026573720102197\n",
      "Epoch 4 - Save Best Score: 0.8027 Model\n"
     ]
    },
    {
     "name": "stdout",
     "output_type": "stream",
     "text": [
      "Epoch: [5][0/1715] Elapsed 0m 1s (remain 45m 28s) Loss avg.: 0.4725 Grad: 0.3984 LR: 0.00069  \n",
      "Epoch: [5][100/1715] Elapsed 0m 34s (remain 9m 3s) Loss avg.: 0.4575 Grad: 0.3238 LR: 0.00069  \n",
      "Epoch: [5][200/1715] Elapsed 1m 6s (remain 8m 20s) Loss avg.: 0.4582 Grad: 0.3669 LR: 0.00069  \n",
      "Epoch: [5][300/1715] Elapsed 1m 38s (remain 7m 44s) Loss avg.: 0.4584 Grad: 0.4785 LR: 0.00069  \n",
      "Epoch: [5][400/1715] Elapsed 2m 11s (remain 7m 10s) Loss avg.: 0.4589 Grad: 0.3396 LR: 0.00069  \n",
      "Epoch: [5][500/1715] Elapsed 2m 43s (remain 6m 36s) Loss avg.: 0.4592 Grad: 0.3005 LR: 0.00069  \n",
      "Epoch: [5][600/1715] Elapsed 3m 16s (remain 6m 3s) Loss avg.: 0.4591 Grad: 0.3650 LR: 0.00069  \n",
      "Epoch: [5][700/1715] Elapsed 3m 48s (remain 5m 30s) Loss avg.: 0.4589 Grad: 0.5263 LR: 0.00069  \n",
      "Epoch: [5][800/1715] Elapsed 4m 20s (remain 4m 57s) Loss avg.: 0.4588 Grad: 0.3580 LR: 0.00069  \n",
      "Epoch: [5][900/1715] Elapsed 4m 53s (remain 4m 24s) Loss avg.: 0.4588 Grad: 0.3754 LR: 0.00069  \n",
      "Epoch: [5][1000/1715] Elapsed 5m 25s (remain 3m 52s) Loss avg.: 0.4588 Grad: 0.3599 LR: 0.00069  \n",
      "Epoch: [5][1100/1715] Elapsed 5m 57s (remain 3m 19s) Loss avg.: 0.4588 Grad: 0.5046 LR: 0.00069  \n",
      "Epoch: [5][1200/1715] Elapsed 6m 30s (remain 2m 47s) Loss avg.: 0.4589 Grad: 0.2951 LR: 0.00069  \n",
      "Epoch: [5][1300/1715] Elapsed 7m 2s (remain 2m 14s) Loss avg.: 0.4588 Grad: 0.4385 LR: 0.00069  \n",
      "Epoch: [5][1400/1715] Elapsed 7m 35s (remain 1m 42s) Loss avg.: 0.4587 Grad: 0.3898 LR: 0.00069  \n",
      "Epoch: [5][1500/1715] Elapsed 8m 7s (remain 1m 9s) Loss avg.: 0.4587 Grad: 0.2879 LR: 0.00069  \n",
      "Epoch: [5][1600/1715] Elapsed 8m 40s (remain 0m 37s) Loss avg.: 0.4587 Grad: 0.3873 LR: 0.00069  \n",
      "Epoch: [5][1700/1715] Elapsed 9m 12s (remain 0m 4s) Loss avg.: 0.4588 Grad: 0.4143 LR: 0.00069  \n",
      "Epoch: [5][1714/1715] Elapsed 9m 17s (remain 0m 0s) Loss avg.: 0.4588 Grad: 0.3855 LR: 0.00069  \n",
      "Eval: [0/429] Elapsed 0m 0s (remain 6m 21s) Loss avg.: 0.4394 \n",
      "Eval: [100/429] Elapsed 0m 9s (remain 0m 30s) Loss avg.: 0.4526 \n",
      "Eval: [200/429] Elapsed 0m 17s (remain 0m 20s) Loss avg.: 0.4537 \n",
      "Eval: [300/429] Elapsed 0m 26s (remain 0m 11s) Loss avg.: 0.4537 \n",
      "Eval: [400/429] Elapsed 0m 34s (remain 0m 2s) Loss avg.: 0.4536 \n",
      "Eval: [428/429] Elapsed 0m 36s (remain 0m 0s) Loss avg.: 0.4539 \n"
     ]
    },
    {
     "name": "stderr",
     "output_type": "stream",
     "text": [
      "Epoch 5 - avg_train_loss: 0.4588  avg_val_loss: 0.4539  time: 594s\n",
      "Epoch 5 - Accuracy: 0.8043232395074396\n",
      "Epoch 5 - Save Best Score: 0.8043 Model\n"
     ]
    },
    {
     "name": "stdout",
     "output_type": "stream",
     "text": [
      "Epoch: [6][0/1715] Elapsed 0m 1s (remain 43m 13s) Loss avg.: 0.4390 Grad: 0.2841 LR: 0.00055  \n",
      "Epoch: [6][100/1715] Elapsed 0m 33s (remain 9m 2s) Loss avg.: 0.4553 Grad: 0.3116 LR: 0.00055  \n",
      "Epoch: [6][200/1715] Elapsed 1m 6s (remain 8m 20s) Loss avg.: 0.4552 Grad: 0.4291 LR: 0.00055  \n",
      "Epoch: [6][300/1715] Elapsed 1m 38s (remain 7m 44s) Loss avg.: 0.4551 Grad: 0.3496 LR: 0.00055  \n",
      "Epoch: [6][400/1715] Elapsed 2m 11s (remain 7m 10s) Loss avg.: 0.4549 Grad: 0.3282 LR: 0.00055  \n",
      "Epoch: [6][500/1715] Elapsed 2m 44s (remain 6m 37s) Loss avg.: 0.4550 Grad: 0.2664 LR: 0.00055  \n",
      "Epoch: [6][600/1715] Elapsed 3m 16s (remain 6m 4s) Loss avg.: 0.4554 Grad: 0.2590 LR: 0.00055  \n",
      "Epoch: [6][700/1715] Elapsed 3m 48s (remain 5m 31s) Loss avg.: 0.4553 Grad: 0.4432 LR: 0.00055  \n",
      "Epoch: [6][800/1715] Elapsed 4m 21s (remain 4m 58s) Loss avg.: 0.4552 Grad: 0.5230 LR: 0.00055  \n",
      "Epoch: [6][900/1715] Elapsed 4m 53s (remain 4m 25s) Loss avg.: 0.4554 Grad: 0.2672 LR: 0.00055  \n",
      "Epoch: [6][1000/1715] Elapsed 5m 26s (remain 3m 52s) Loss avg.: 0.4552 Grad: 0.3261 LR: 0.00055  \n",
      "Epoch: [6][1100/1715] Elapsed 5m 58s (remain 3m 20s) Loss avg.: 0.4554 Grad: 0.3767 LR: 0.00055  \n",
      "Epoch: [6][1200/1715] Elapsed 6m 31s (remain 2m 47s) Loss avg.: 0.4552 Grad: 0.3525 LR: 0.00055  \n",
      "Epoch: [6][1300/1715] Elapsed 7m 3s (remain 2m 14s) Loss avg.: 0.4553 Grad: 0.3062 LR: 0.00055  \n",
      "Epoch: [6][1400/1715] Elapsed 7m 36s (remain 1m 42s) Loss avg.: 0.4553 Grad: 0.4256 LR: 0.00055  \n",
      "Epoch: [6][1500/1715] Elapsed 8m 8s (remain 1m 9s) Loss avg.: 0.4550 Grad: 0.2507 LR: 0.00055  \n",
      "Epoch: [6][1600/1715] Elapsed 8m 41s (remain 0m 37s) Loss avg.: 0.4550 Grad: 0.2733 LR: 0.00055  \n",
      "Epoch: [6][1700/1715] Elapsed 9m 13s (remain 0m 4s) Loss avg.: 0.4549 Grad: 0.3100 LR: 0.00055  \n",
      "Epoch: [6][1714/1715] Elapsed 9m 18s (remain 0m 0s) Loss avg.: 0.4549 Grad: 0.3000 LR: 0.00055  \n",
      "Eval: [0/429] Elapsed 0m 0s (remain 6m 18s) Loss avg.: 0.4336 \n",
      "Eval: [100/429] Elapsed 0m 9s (remain 0m 29s) Loss avg.: 0.4509 \n",
      "Eval: [200/429] Elapsed 0m 17s (remain 0m 19s) Loss avg.: 0.4519 \n",
      "Eval: [300/429] Elapsed 0m 25s (remain 0m 11s) Loss avg.: 0.4522 \n",
      "Eval: [400/429] Elapsed 0m 34s (remain 0m 2s) Loss avg.: 0.4520 \n",
      "Eval: [428/429] Elapsed 0m 36s (remain 0m 0s) Loss avg.: 0.4523 \n"
     ]
    },
    {
     "name": "stderr",
     "output_type": "stream",
     "text": [
      "Epoch 6 - avg_train_loss: 0.4549  avg_val_loss: 0.4523  time: 596s\n",
      "Epoch 6 - Accuracy: 0.805142327463203\n",
      "Epoch 6 - Save Best Score: 0.8051 Model\n"
     ]
    },
    {
     "name": "stdout",
     "output_type": "stream",
     "text": [
      "Epoch: [7][0/1715] Elapsed 0m 1s (remain 46m 28s) Loss avg.: 0.4385 Grad: 0.2949 LR: 0.00041  \n",
      "Epoch: [7][100/1715] Elapsed 0m 34s (remain 9m 4s) Loss avg.: 0.4514 Grad: 0.3445 LR: 0.00041  \n",
      "Epoch: [7][200/1715] Elapsed 1m 6s (remain 8m 20s) Loss avg.: 0.4510 Grad: 0.3558 LR: 0.00041  \n",
      "Epoch: [7][300/1715] Elapsed 1m 39s (remain 7m 45s) Loss avg.: 0.4503 Grad: 0.3917 LR: 0.00041  \n",
      "Epoch: [7][400/1715] Elapsed 2m 11s (remain 7m 10s) Loss avg.: 0.4508 Grad: 0.3489 LR: 0.00041  \n",
      "Epoch: [7][500/1715] Elapsed 2m 43s (remain 6m 37s) Loss avg.: 0.4509 Grad: 0.4114 LR: 0.00041  \n",
      "Epoch: [7][600/1715] Elapsed 3m 16s (remain 6m 4s) Loss avg.: 0.4507 Grad: 0.4077 LR: 0.00041  \n",
      "Epoch: [7][700/1715] Elapsed 3m 49s (remain 5m 31s) Loss avg.: 0.4509 Grad: 0.3160 LR: 0.00041  \n",
      "Epoch: [7][800/1715] Elapsed 4m 21s (remain 4m 58s) Loss avg.: 0.4508 Grad: 0.2658 LR: 0.00041  \n",
      "Epoch: [7][900/1715] Elapsed 4m 53s (remain 4m 25s) Loss avg.: 0.4509 Grad: 0.2840 LR: 0.00041  \n",
      "Epoch: [7][1000/1715] Elapsed 5m 26s (remain 3m 52s) Loss avg.: 0.4510 Grad: 0.2724 LR: 0.00041  \n",
      "Epoch: [7][1100/1715] Elapsed 5m 58s (remain 3m 20s) Loss avg.: 0.4509 Grad: 0.2502 LR: 0.00041  \n",
      "Epoch: [7][1200/1715] Elapsed 6m 31s (remain 2m 47s) Loss avg.: 0.4510 Grad: 0.3672 LR: 0.00041  \n",
      "Epoch: [7][1300/1715] Elapsed 7m 3s (remain 2m 14s) Loss avg.: 0.4510 Grad: 0.5238 LR: 0.00041  \n",
      "Epoch: [7][1400/1715] Elapsed 7m 36s (remain 1m 42s) Loss avg.: 0.4511 Grad: 0.2528 LR: 0.00041  \n",
      "Epoch: [7][1500/1715] Elapsed 8m 8s (remain 1m 9s) Loss avg.: 0.4514 Grad: 0.3440 LR: 0.00041  \n",
      "Epoch: [7][1600/1715] Elapsed 8m 41s (remain 0m 37s) Loss avg.: 0.4514 Grad: 0.4287 LR: 0.00041  \n",
      "Epoch: [7][1700/1715] Elapsed 9m 13s (remain 0m 4s) Loss avg.: 0.4514 Grad: 0.2960 LR: 0.00041  \n",
      "Epoch: [7][1714/1715] Elapsed 9m 18s (remain 0m 0s) Loss avg.: 0.4515 Grad: 0.2802 LR: 0.00041  \n",
      "Eval: [0/429] Elapsed 0m 0s (remain 6m 15s) Loss avg.: 0.4322 \n",
      "Eval: [100/429] Elapsed 0m 9s (remain 0m 29s) Loss avg.: 0.4479 \n",
      "Eval: [200/429] Elapsed 0m 17s (remain 0m 19s) Loss avg.: 0.4490 \n",
      "Eval: [300/429] Elapsed 0m 25s (remain 0m 10s) Loss avg.: 0.4492 \n",
      "Eval: [400/429] Elapsed 0m 34s (remain 0m 2s) Loss avg.: 0.4491 \n",
      "Eval: [428/429] Elapsed 0m 36s (remain 0m 0s) Loss avg.: 0.4494 \n"
     ]
    },
    {
     "name": "stderr",
     "output_type": "stream",
     "text": [
      "Epoch 7 - avg_train_loss: 0.4515  avg_val_loss: 0.4494  time: 595s\n",
      "Epoch 7 - Accuracy: 0.8065028587918598\n",
      "Epoch 7 - Save Best Score: 0.8065 Model\n"
     ]
    },
    {
     "name": "stdout",
     "output_type": "stream",
     "text": [
      "Epoch: [8][0/1715] Elapsed 0m 1s (remain 42m 51s) Loss avg.: 0.4484 Grad: 0.2638 LR: 0.00029  \n",
      "Epoch: [8][100/1715] Elapsed 0m 33s (remain 9m 1s) Loss avg.: 0.4493 Grad: 0.3171 LR: 0.00029  \n",
      "Epoch: [8][200/1715] Elapsed 1m 6s (remain 8m 18s) Loss avg.: 0.4484 Grad: 0.3824 LR: 0.00029  \n",
      "Epoch: [8][300/1715] Elapsed 1m 38s (remain 7m 42s) Loss avg.: 0.4481 Grad: 0.2607 LR: 0.00029  \n",
      "Epoch: [8][400/1715] Elapsed 2m 10s (remain 7m 8s) Loss avg.: 0.4483 Grad: 0.4003 LR: 0.00029  \n",
      "Epoch: [8][500/1715] Elapsed 2m 42s (remain 6m 34s) Loss avg.: 0.4485 Grad: 0.3850 LR: 0.00029  \n",
      "Epoch: [8][600/1715] Elapsed 3m 15s (remain 6m 1s) Loss avg.: 0.4485 Grad: 0.3693 LR: 0.00029  \n",
      "Epoch: [8][700/1715] Elapsed 3m 47s (remain 5m 29s) Loss avg.: 0.4486 Grad: 0.3398 LR: 0.00029  \n",
      "Epoch: [8][800/1715] Elapsed 4m 20s (remain 4m 56s) Loss avg.: 0.4487 Grad: 0.4650 LR: 0.00029  \n",
      "Epoch: [8][900/1715] Elapsed 4m 52s (remain 4m 24s) Loss avg.: 0.4487 Grad: 0.2704 LR: 0.00029  \n",
      "Epoch: [8][1000/1715] Elapsed 5m 24s (remain 3m 51s) Loss avg.: 0.4488 Grad: 0.3793 LR: 0.00029  \n",
      "Epoch: [8][1100/1715] Elapsed 5m 57s (remain 3m 19s) Loss avg.: 0.4489 Grad: 0.4100 LR: 0.00029  \n",
      "Epoch: [8][1200/1715] Elapsed 6m 30s (remain 2m 46s) Loss avg.: 0.4488 Grad: 0.3560 LR: 0.00029  \n",
      "Epoch: [8][1300/1715] Elapsed 7m 2s (remain 2m 14s) Loss avg.: 0.4487 Grad: 0.4064 LR: 0.00029  \n",
      "Epoch: [8][1400/1715] Elapsed 7m 34s (remain 1m 41s) Loss avg.: 0.4488 Grad: 0.3403 LR: 0.00029  \n",
      "Epoch: [8][1500/1715] Elapsed 8m 7s (remain 1m 9s) Loss avg.: 0.4489 Grad: 0.3161 LR: 0.00029  \n",
      "Epoch: [8][1600/1715] Elapsed 8m 40s (remain 0m 37s) Loss avg.: 0.4488 Grad: 0.3843 LR: 0.00029  \n",
      "Epoch: [8][1700/1715] Elapsed 9m 12s (remain 0m 4s) Loss avg.: 0.4487 Grad: 0.3648 LR: 0.00029  \n",
      "Epoch: [8][1714/1715] Elapsed 9m 17s (remain 0m 0s) Loss avg.: 0.4487 Grad: 0.3174 LR: 0.00029  \n",
      "Eval: [0/429] Elapsed 0m 0s (remain 6m 40s) Loss avg.: 0.4330 \n",
      "Eval: [100/429] Elapsed 0m 9s (remain 0m 30s) Loss avg.: 0.4461 \n",
      "Eval: [200/429] Elapsed 0m 17s (remain 0m 19s) Loss avg.: 0.4474 \n",
      "Eval: [300/429] Elapsed 0m 25s (remain 0m 11s) Loss avg.: 0.4476 \n",
      "Eval: [400/429] Elapsed 0m 34s (remain 0m 2s) Loss avg.: 0.4474 \n",
      "Eval: [428/429] Elapsed 0m 36s (remain 0m 0s) Loss avg.: 0.4478 \n"
     ]
    },
    {
     "name": "stderr",
     "output_type": "stream",
     "text": [
      "Epoch 8 - avg_train_loss: 0.4487  avg_val_loss: 0.4478  time: 595s\n",
      "Epoch 8 - Accuracy: 0.8073547394148913\n",
      "Epoch 8 - Save Best Score: 0.8074 Model\n"
     ]
    },
    {
     "name": "stdout",
     "output_type": "stream",
     "text": [
      "Epoch: [9][0/1715] Elapsed 0m 1s (remain 49m 29s) Loss avg.: 0.4494 Grad: 0.3360 LR: 0.00019  \n",
      "Epoch: [9][100/1715] Elapsed 0m 34s (remain 9m 10s) Loss avg.: 0.4466 Grad: 0.3354 LR: 0.00019  \n",
      "Epoch: [9][200/1715] Elapsed 1m 6s (remain 8m 24s) Loss avg.: 0.4466 Grad: 0.3115 LR: 0.00019  \n",
      "Epoch: [9][300/1715] Elapsed 1m 39s (remain 7m 47s) Loss avg.: 0.4464 Grad: 0.3432 LR: 0.00019  \n",
      "Epoch: [9][400/1715] Elapsed 2m 11s (remain 7m 12s) Loss avg.: 0.4465 Grad: 0.2729 LR: 0.00019  \n",
      "Epoch: [9][500/1715] Elapsed 2m 44s (remain 6m 38s) Loss avg.: 0.4466 Grad: 0.2819 LR: 0.00019  \n",
      "Epoch: [9][600/1715] Elapsed 3m 16s (remain 6m 5s) Loss avg.: 0.4461 Grad: 0.3310 LR: 0.00019  \n",
      "Epoch: [9][700/1715] Elapsed 3m 49s (remain 5m 31s) Loss avg.: 0.4463 Grad: 0.3818 LR: 0.00019  \n",
      "Epoch: [9][800/1715] Elapsed 4m 22s (remain 4m 59s) Loss avg.: 0.4463 Grad: 0.3010 LR: 0.00019  \n",
      "Epoch: [9][900/1715] Elapsed 4m 54s (remain 4m 26s) Loss avg.: 0.4463 Grad: 0.3387 LR: 0.00019  \n",
      "Epoch: [9][1000/1715] Elapsed 5m 27s (remain 3m 53s) Loss avg.: 0.4464 Grad: 0.3403 LR: 0.00019  \n",
      "Epoch: [9][1100/1715] Elapsed 5m 59s (remain 3m 20s) Loss avg.: 0.4463 Grad: 0.3418 LR: 0.00019  \n",
      "Epoch: [9][1200/1715] Elapsed 6m 32s (remain 2m 47s) Loss avg.: 0.4463 Grad: 0.2979 LR: 0.00019  \n",
      "Epoch: [9][1300/1715] Elapsed 7m 4s (remain 2m 15s) Loss avg.: 0.4464 Grad: 0.3293 LR: 0.00019  \n",
      "Epoch: [9][1400/1715] Elapsed 7m 37s (remain 1m 42s) Loss avg.: 0.4462 Grad: 0.2613 LR: 0.00019  \n",
      "Epoch: [9][1500/1715] Elapsed 8m 10s (remain 1m 9s) Loss avg.: 0.4462 Grad: 0.4572 LR: 0.00019  \n",
      "Epoch: [9][1600/1715] Elapsed 8m 42s (remain 0m 37s) Loss avg.: 0.4463 Grad: 0.2871 LR: 0.00019  \n",
      "Epoch: [9][1700/1715] Elapsed 9m 15s (remain 0m 4s) Loss avg.: 0.4463 Grad: 0.2630 LR: 0.00019  \n",
      "Epoch: [9][1714/1715] Elapsed 9m 19s (remain 0m 0s) Loss avg.: 0.4463 Grad: 0.3401 LR: 0.00019  \n",
      "Eval: [0/429] Elapsed 0m 0s (remain 6m 11s) Loss avg.: 0.4314 \n",
      "Eval: [100/429] Elapsed 0m 9s (remain 0m 29s) Loss avg.: 0.4447 \n",
      "Eval: [200/429] Elapsed 0m 17s (remain 0m 19s) Loss avg.: 0.4458 \n",
      "Eval: [300/429] Elapsed 0m 25s (remain 0m 11s) Loss avg.: 0.4461 \n",
      "Eval: [400/429] Elapsed 0m 34s (remain 0m 2s) Loss avg.: 0.4460 \n",
      "Eval: [428/429] Elapsed 0m 36s (remain 0m 0s) Loss avg.: 0.4463 \n"
     ]
    },
    {
     "name": "stderr",
     "output_type": "stream",
     "text": [
      "Epoch 9 - avg_train_loss: 0.4463  avg_val_loss: 0.4463  time: 597s\n",
      "Epoch 9 - Accuracy: 0.8079675979298353\n",
      "Epoch 9 - Save Best Score: 0.8080 Model\n"
     ]
    },
    {
     "name": "stdout",
     "output_type": "stream",
     "text": [
      "Epoch: [10][0/1715] Elapsed 0m 1s (remain 42m 16s) Loss avg.: 0.4521 Grad: 0.4037 LR: 0.00012  \n",
      "Epoch: [10][100/1715] Elapsed 0m 33s (remain 9m 3s) Loss avg.: 0.4458 Grad: 0.3194 LR: 0.00012  \n",
      "Epoch: [10][200/1715] Elapsed 1m 6s (remain 8m 21s) Loss avg.: 0.4452 Grad: 0.3525 LR: 0.00012  \n",
      "Epoch: [10][300/1715] Elapsed 1m 38s (remain 7m 44s) Loss avg.: 0.4452 Grad: 0.2429 LR: 0.00012  \n",
      "Epoch: [10][400/1715] Elapsed 2m 11s (remain 7m 10s) Loss avg.: 0.4455 Grad: 0.3351 LR: 0.00012  \n",
      "Epoch: [10][500/1715] Elapsed 2m 43s (remain 6m 36s) Loss avg.: 0.4456 Grad: 0.2851 LR: 0.00012  \n",
      "Epoch: [10][600/1715] Elapsed 3m 16s (remain 6m 3s) Loss avg.: 0.4454 Grad: 0.3434 LR: 0.00012  \n",
      "Epoch: [10][700/1715] Elapsed 3m 48s (remain 5m 31s) Loss avg.: 0.4453 Grad: 0.2687 LR: 0.00012  \n",
      "Epoch: [10][800/1715] Elapsed 4m 21s (remain 4m 58s) Loss avg.: 0.4454 Grad: 0.3530 LR: 0.00012  \n",
      "Epoch: [10][900/1715] Elapsed 4m 54s (remain 4m 25s) Loss avg.: 0.4455 Grad: 0.4915 LR: 0.00012  \n",
      "Epoch: [10][1000/1715] Elapsed 5m 26s (remain 3m 53s) Loss avg.: 0.4452 Grad: 0.2885 LR: 0.00012  \n",
      "Epoch: [10][1100/1715] Elapsed 5m 59s (remain 3m 20s) Loss avg.: 0.4449 Grad: 0.3194 LR: 0.00012  \n",
      "Epoch: [10][1200/1715] Elapsed 6m 31s (remain 2m 47s) Loss avg.: 0.4449 Grad: 0.2633 LR: 0.00012  \n",
      "Epoch: [10][1300/1715] Elapsed 7m 4s (remain 2m 14s) Loss avg.: 0.4448 Grad: 0.2900 LR: 0.00012  \n",
      "Epoch: [10][1400/1715] Elapsed 7m 36s (remain 1m 42s) Loss avg.: 0.4447 Grad: 0.3110 LR: 0.00012  \n",
      "Epoch: [10][1500/1715] Elapsed 8m 9s (remain 1m 9s) Loss avg.: 0.4448 Grad: 0.2776 LR: 0.00012  \n",
      "Epoch: [10][1600/1715] Elapsed 8m 41s (remain 0m 37s) Loss avg.: 0.4448 Grad: 0.2901 LR: 0.00012  \n",
      "Epoch: [10][1700/1715] Elapsed 9m 14s (remain 0m 4s) Loss avg.: 0.4448 Grad: 0.3160 LR: 0.00012  \n",
      "Epoch: [10][1714/1715] Elapsed 9m 19s (remain 0m 0s) Loss avg.: 0.4448 Grad: 0.4573 LR: 0.00012  \n",
      "Eval: [0/429] Elapsed 0m 0s (remain 6m 18s) Loss avg.: 0.4319 \n",
      "Eval: [100/429] Elapsed 0m 9s (remain 0m 29s) Loss avg.: 0.4441 \n",
      "Eval: [200/429] Elapsed 0m 17s (remain 0m 19s) Loss avg.: 0.4451 \n",
      "Eval: [300/429] Elapsed 0m 25s (remain 0m 11s) Loss avg.: 0.4454 \n",
      "Eval: [400/429] Elapsed 0m 34s (remain 0m 2s) Loss avg.: 0.4451 \n",
      "Eval: [428/429] Elapsed 0m 36s (remain 0m 0s) Loss avg.: 0.4455 \n"
     ]
    },
    {
     "name": "stderr",
     "output_type": "stream",
     "text": [
      "Epoch 10 - avg_train_loss: 0.4448  avg_val_loss: 0.4455  time: 597s\n",
      "Epoch 10 - Accuracy: 0.8084653177463713\n",
      "Epoch 10 - Save Best Score: 0.8085 Model\n",
      "Epoch 10 - Save final model\n",
      "========== fold: 3 result ==========\n",
      "Score: 0.80847\n",
      "========== fold: 4 training ==========\n"
     ]
    },
    {
     "name": "stdout",
     "output_type": "stream",
     "text": [
      "Epoch: [1][0/1715] Elapsed 0m 1s (remain 43m 58s) Loss avg.: 1.4471 Grad: 1.0173 LR: 0.00100  \n",
      "Epoch: [1][100/1715] Elapsed 0m 34s (remain 9m 3s) Loss avg.: 0.7622 Grad: 1.1758 LR: 0.00100  \n",
      "Epoch: [1][200/1715] Elapsed 1m 6s (remain 8m 20s) Loss avg.: 0.6819 Grad: 1.0880 LR: 0.00100  \n",
      "Epoch: [1][300/1715] Elapsed 1m 38s (remain 7m 44s) Loss avg.: 0.6451 Grad: 0.7273 LR: 0.00100  \n",
      "Epoch: [1][400/1715] Elapsed 2m 11s (remain 7m 9s) Loss avg.: 0.6232 Grad: 0.7319 LR: 0.00100  \n",
      "Epoch: [1][500/1715] Elapsed 2m 43s (remain 6m 35s) Loss avg.: 0.6071 Grad: 1.1024 LR: 0.00100  \n",
      "Epoch: [1][600/1715] Elapsed 3m 15s (remain 6m 2s) Loss avg.: 0.5945 Grad: 0.7784 LR: 0.00100  \n",
      "Epoch: [1][700/1715] Elapsed 3m 47s (remain 5m 29s) Loss avg.: 0.5846 Grad: 1.0238 LR: 0.00100  \n",
      "Epoch: [1][800/1715] Elapsed 4m 20s (remain 4m 56s) Loss avg.: 0.5760 Grad: 0.5395 LR: 0.00100  \n",
      "Epoch: [1][900/1715] Elapsed 4m 52s (remain 4m 24s) Loss avg.: 0.5691 Grad: 0.5657 LR: 0.00100  \n",
      "Epoch: [1][1000/1715] Elapsed 5m 24s (remain 3m 51s) Loss avg.: 0.5631 Grad: 0.6648 LR: 0.00100  \n",
      "Epoch: [1][1100/1715] Elapsed 5m 57s (remain 3m 19s) Loss avg.: 0.5580 Grad: 0.8043 LR: 0.00100  \n",
      "Epoch: [1][1200/1715] Elapsed 6m 29s (remain 2m 46s) Loss avg.: 0.5533 Grad: 0.5792 LR: 0.00100  \n",
      "Epoch: [1][1300/1715] Elapsed 7m 1s (remain 2m 14s) Loss avg.: 0.5494 Grad: 0.4975 LR: 0.00100  \n",
      "Epoch: [1][1400/1715] Elapsed 7m 34s (remain 1m 41s) Loss avg.: 0.5457 Grad: 0.7656 LR: 0.00100  \n",
      "Epoch: [1][1500/1715] Elapsed 8m 6s (remain 1m 9s) Loss avg.: 0.5425 Grad: 0.4583 LR: 0.00100  \n",
      "Epoch: [1][1600/1715] Elapsed 8m 38s (remain 0m 36s) Loss avg.: 0.5394 Grad: 0.6991 LR: 0.00100  \n",
      "Epoch: [1][1700/1715] Elapsed 9m 11s (remain 0m 4s) Loss avg.: 0.5366 Grad: 0.5653 LR: 0.00100  \n",
      "Epoch: [1][1714/1715] Elapsed 9m 15s (remain 0m 0s) Loss avg.: 0.5362 Grad: 0.6880 LR: 0.00100  \n",
      "Eval: [0/429] Elapsed 0m 1s (remain 7m 49s) Loss avg.: 0.4772 \n",
      "Eval: [100/429] Elapsed 0m 9s (remain 0m 31s) Loss avg.: 0.4814 \n",
      "Eval: [200/429] Elapsed 0m 17s (remain 0m 20s) Loss avg.: 0.4818 \n",
      "Eval: [300/429] Elapsed 0m 26s (remain 0m 11s) Loss avg.: 0.4813 \n",
      "Eval: [400/429] Elapsed 0m 34s (remain 0m 2s) Loss avg.: 0.4815 \n",
      "Eval: [428/429] Elapsed 0m 37s (remain 0m 0s) Loss avg.: 0.4822 \n"
     ]
    },
    {
     "name": "stderr",
     "output_type": "stream",
     "text": [
      "Epoch 1 - avg_train_loss: 0.5362  avg_val_loss: 0.4822  time: 593s\n",
      "Epoch 1 - Accuracy: 0.7901305731138022\n",
      "Epoch 1 - Save Best Score: 0.7901 Model\n"
     ]
    },
    {
     "name": "stdout",
     "output_type": "stream",
     "text": [
      "Epoch: [2][0/1715] Elapsed 0m 1s (remain 48m 21s) Loss avg.: 0.4623 Grad: 0.4323 LR: 0.00098  \n",
      "Epoch: [2][100/1715] Elapsed 0m 33s (remain 9m 2s) Loss avg.: 0.4889 Grad: 0.7319 LR: 0.00098  \n",
      "Epoch: [2][200/1715] Elapsed 1m 6s (remain 8m 18s) Loss avg.: 0.4888 Grad: 1.2436 LR: 0.00098  \n",
      "Epoch: [2][300/1715] Elapsed 1m 38s (remain 7m 42s) Loss avg.: 0.4881 Grad: 0.4333 LR: 0.00098  \n",
      "Epoch: [2][400/1715] Elapsed 2m 10s (remain 7m 9s) Loss avg.: 0.4872 Grad: 0.6838 LR: 0.00098  \n",
      "Epoch: [2][500/1715] Elapsed 2m 43s (remain 6m 35s) Loss avg.: 0.4868 Grad: 0.5375 LR: 0.00098  \n",
      "Epoch: [2][600/1715] Elapsed 3m 15s (remain 6m 2s) Loss avg.: 0.4862 Grad: 0.5643 LR: 0.00098  \n",
      "Epoch: [2][700/1715] Elapsed 3m 47s (remain 5m 29s) Loss avg.: 0.4856 Grad: 0.3724 LR: 0.00098  \n",
      "Epoch: [2][800/1715] Elapsed 4m 19s (remain 4m 56s) Loss avg.: 0.4853 Grad: 0.6151 LR: 0.00098  \n",
      "Epoch: [2][900/1715] Elapsed 4m 52s (remain 4m 23s) Loss avg.: 0.4851 Grad: 0.6176 LR: 0.00098  \n",
      "Epoch: [2][1000/1715] Elapsed 5m 24s (remain 3m 51s) Loss avg.: 0.4848 Grad: 0.9323 LR: 0.00098  \n",
      "Epoch: [2][1100/1715] Elapsed 5m 57s (remain 3m 19s) Loss avg.: 0.4843 Grad: 0.4400 LR: 0.00098  \n",
      "Epoch: [2][1200/1715] Elapsed 6m 29s (remain 2m 46s) Loss avg.: 0.4840 Grad: 0.4181 LR: 0.00098  \n",
      "Epoch: [2][1300/1715] Elapsed 7m 1s (remain 2m 14s) Loss avg.: 0.4836 Grad: 0.4613 LR: 0.00098  \n",
      "Epoch: [2][1400/1715] Elapsed 7m 34s (remain 1m 41s) Loss avg.: 0.4834 Grad: 0.4482 LR: 0.00098  \n",
      "Epoch: [2][1500/1715] Elapsed 8m 6s (remain 1m 9s) Loss avg.: 0.4831 Grad: 0.4737 LR: 0.00098  \n",
      "Epoch: [2][1600/1715] Elapsed 8m 38s (remain 0m 36s) Loss avg.: 0.4828 Grad: 0.5152 LR: 0.00098  \n",
      "Epoch: [2][1700/1715] Elapsed 9m 11s (remain 0m 4s) Loss avg.: 0.4824 Grad: 0.3185 LR: 0.00098  \n",
      "Epoch: [2][1714/1715] Elapsed 9m 15s (remain 0m 0s) Loss avg.: 0.4823 Grad: 0.3810 LR: 0.00098  \n",
      "Eval: [0/429] Elapsed 0m 0s (remain 6m 46s) Loss avg.: 0.4703 \n",
      "Eval: [100/429] Elapsed 0m 9s (remain 0m 30s) Loss avg.: 0.4718 \n",
      "Eval: [200/429] Elapsed 0m 17s (remain 0m 20s) Loss avg.: 0.4719 \n",
      "Eval: [300/429] Elapsed 0m 26s (remain 0m 11s) Loss avg.: 0.4713 \n",
      "Eval: [400/429] Elapsed 0m 34s (remain 0m 2s) Loss avg.: 0.4717 \n",
      "Eval: [428/429] Elapsed 0m 37s (remain 0m 0s) Loss avg.: 0.4723 \n"
     ]
    },
    {
     "name": "stderr",
     "output_type": "stream",
     "text": [
      "Epoch 2 - avg_train_loss: 0.4823  avg_val_loss: 0.4723  time: 594s\n",
      "Epoch 2 - Accuracy: 0.794855632104167\n",
      "Epoch 2 - Save Best Score: 0.7949 Model\n"
     ]
    },
    {
     "name": "stdout",
     "output_type": "stream",
     "text": [
      "Epoch: [3][0/1715] Elapsed 0m 1s (remain 45m 4s) Loss avg.: 0.4664 Grad: 0.6974 LR: 0.00091  \n",
      "Epoch: [3][100/1715] Elapsed 0m 33s (remain 9m 0s) Loss avg.: 0.4705 Grad: 0.5062 LR: 0.00091  \n",
      "Epoch: [3][200/1715] Elapsed 1m 6s (remain 8m 17s) Loss avg.: 0.4727 Grad: 0.5236 LR: 0.00091  \n",
      "Epoch: [3][300/1715] Elapsed 1m 38s (remain 7m 41s) Loss avg.: 0.4736 Grad: 0.5635 LR: 0.00091  \n",
      "Epoch: [3][400/1715] Elapsed 2m 10s (remain 7m 7s) Loss avg.: 0.4731 Grad: 0.3483 LR: 0.00091  \n",
      "Epoch: [3][500/1715] Elapsed 2m 43s (remain 6m 35s) Loss avg.: 0.4730 Grad: 0.3622 LR: 0.00091  \n",
      "Epoch: [3][600/1715] Elapsed 3m 15s (remain 6m 1s) Loss avg.: 0.4731 Grad: 0.5233 LR: 0.00091  \n",
      "Epoch: [3][700/1715] Elapsed 3m 47s (remain 5m 29s) Loss avg.: 0.4729 Grad: 0.5052 LR: 0.00091  \n",
      "Epoch: [3][800/1715] Elapsed 4m 19s (remain 4m 56s) Loss avg.: 0.4726 Grad: 0.4011 LR: 0.00091  \n",
      "Epoch: [3][900/1715] Elapsed 4m 51s (remain 4m 23s) Loss avg.: 0.4724 Grad: 0.4968 LR: 0.00091  \n",
      "Epoch: [3][1000/1715] Elapsed 5m 24s (remain 3m 51s) Loss avg.: 0.4723 Grad: 0.5849 LR: 0.00091  \n",
      "Epoch: [3][1100/1715] Elapsed 5m 56s (remain 3m 18s) Loss avg.: 0.4721 Grad: 0.3724 LR: 0.00091  \n",
      "Epoch: [3][1200/1715] Elapsed 6m 28s (remain 2m 46s) Loss avg.: 0.4719 Grad: 0.4282 LR: 0.00091  \n",
      "Epoch: [3][1300/1715] Elapsed 7m 0s (remain 2m 13s) Loss avg.: 0.4718 Grad: 0.4550 LR: 0.00091  \n",
      "Epoch: [3][1400/1715] Elapsed 7m 33s (remain 1m 41s) Loss avg.: 0.4716 Grad: 0.3085 LR: 0.00091  \n",
      "Epoch: [3][1500/1715] Elapsed 8m 5s (remain 1m 9s) Loss avg.: 0.4715 Grad: 0.5110 LR: 0.00091  \n",
      "Epoch: [3][1600/1715] Elapsed 8m 37s (remain 0m 36s) Loss avg.: 0.4713 Grad: 0.3755 LR: 0.00091  \n",
      "Epoch: [3][1700/1715] Elapsed 9m 9s (remain 0m 4s) Loss avg.: 0.4712 Grad: 0.2836 LR: 0.00091  \n",
      "Epoch: [3][1714/1715] Elapsed 9m 14s (remain 0m 0s) Loss avg.: 0.4712 Grad: 0.3538 LR: 0.00091  \n",
      "Eval: [0/429] Elapsed 0m 0s (remain 6m 46s) Loss avg.: 0.4616 \n",
      "Eval: [100/429] Elapsed 0m 9s (remain 0m 30s) Loss avg.: 0.4639 \n",
      "Eval: [200/429] Elapsed 0m 17s (remain 0m 20s) Loss avg.: 0.4637 \n",
      "Eval: [300/429] Elapsed 0m 26s (remain 0m 11s) Loss avg.: 0.4632 \n",
      "Eval: [400/429] Elapsed 0m 34s (remain 0m 2s) Loss avg.: 0.4636 \n",
      "Eval: [428/429] Elapsed 0m 36s (remain 0m 0s) Loss avg.: 0.4642 \n"
     ]
    },
    {
     "name": "stderr",
     "output_type": "stream",
     "text": [
      "Epoch 3 - avg_train_loss: 0.4712  avg_val_loss: 0.4642  time: 592s\n",
      "Epoch 3 - Accuracy: 0.7992301739177327\n",
      "Epoch 3 - Save Best Score: 0.7992 Model\n"
     ]
    },
    {
     "name": "stdout",
     "output_type": "stream",
     "text": [
      "Epoch: [4][0/1715] Elapsed 0m 1s (remain 46m 43s) Loss avg.: 0.4664 Grad: 0.5229 LR: 0.00081  \n",
      "Epoch: [4][100/1715] Elapsed 0m 33s (remain 9m 0s) Loss avg.: 0.4648 Grad: 0.4871 LR: 0.00081  \n",
      "Epoch: [4][200/1715] Elapsed 1m 6s (remain 8m 17s) Loss avg.: 0.4647 Grad: 0.3585 LR: 0.00081  \n",
      "Epoch: [4][300/1715] Elapsed 1m 38s (remain 7m 41s) Loss avg.: 0.4648 Grad: 0.2957 LR: 0.00081  \n",
      "Epoch: [4][400/1715] Elapsed 2m 10s (remain 7m 7s) Loss avg.: 0.4651 Grad: 0.3690 LR: 0.00081  \n",
      "Epoch: [4][500/1715] Elapsed 2m 42s (remain 6m 33s) Loss avg.: 0.4646 Grad: 0.4197 LR: 0.00081  \n",
      "Epoch: [4][600/1715] Elapsed 3m 14s (remain 6m 1s) Loss avg.: 0.4648 Grad: 0.2904 LR: 0.00081  \n",
      "Epoch: [4][700/1715] Elapsed 3m 47s (remain 5m 28s) Loss avg.: 0.4650 Grad: 0.2982 LR: 0.00081  \n",
      "Epoch: [4][800/1715] Elapsed 4m 19s (remain 4m 55s) Loss avg.: 0.4649 Grad: 0.4076 LR: 0.00081  \n",
      "Epoch: [4][900/1715] Elapsed 4m 51s (remain 4m 23s) Loss avg.: 0.4649 Grad: 0.4937 LR: 0.00081  \n",
      "Epoch: [4][1000/1715] Elapsed 5m 23s (remain 3m 50s) Loss avg.: 0.4648 Grad: 0.3700 LR: 0.00081  \n",
      "Epoch: [4][1100/1715] Elapsed 5m 55s (remain 3m 18s) Loss avg.: 0.4646 Grad: 0.3409 LR: 0.00081  \n",
      "Epoch: [4][1200/1715] Elapsed 6m 28s (remain 2m 46s) Loss avg.: 0.4646 Grad: 0.3083 LR: 0.00081  \n",
      "Epoch: [4][1300/1715] Elapsed 7m 0s (remain 2m 13s) Loss avg.: 0.4646 Grad: 0.2707 LR: 0.00081  \n",
      "Epoch: [4][1400/1715] Elapsed 7m 32s (remain 1m 41s) Loss avg.: 0.4645 Grad: 0.4397 LR: 0.00081  \n",
      "Epoch: [4][1500/1715] Elapsed 8m 4s (remain 1m 9s) Loss avg.: 0.4644 Grad: 0.4093 LR: 0.00081  \n",
      "Epoch: [4][1600/1715] Elapsed 8m 37s (remain 0m 36s) Loss avg.: 0.4643 Grad: 0.6926 LR: 0.00081  \n",
      "Epoch: [4][1700/1715] Elapsed 9m 9s (remain 0m 4s) Loss avg.: 0.4642 Grad: 0.2929 LR: 0.00081  \n",
      "Epoch: [4][1714/1715] Elapsed 9m 14s (remain 0m 0s) Loss avg.: 0.4642 Grad: 0.3248 LR: 0.00081  \n",
      "Eval: [0/429] Elapsed 0m 0s (remain 6m 54s) Loss avg.: 0.4586 \n",
      "Eval: [100/429] Elapsed 0m 9s (remain 0m 30s) Loss avg.: 0.4587 \n",
      "Eval: [200/429] Elapsed 0m 17s (remain 0m 20s) Loss avg.: 0.4584 \n",
      "Eval: [300/429] Elapsed 0m 26s (remain 0m 11s) Loss avg.: 0.4578 \n",
      "Eval: [400/429] Elapsed 0m 34s (remain 0m 2s) Loss avg.: 0.4582 \n",
      "Eval: [428/429] Elapsed 0m 37s (remain 0m 0s) Loss avg.: 0.4588 \n"
     ]
    },
    {
     "name": "stderr",
     "output_type": "stream",
     "text": [
      "Epoch 4 - avg_train_loss: 0.4642  avg_val_loss: 0.4588  time: 592s\n",
      "Epoch 4 - Accuracy: 0.8020875083256939\n",
      "Epoch 4 - Save Best Score: 0.8021 Model\n"
     ]
    },
    {
     "name": "stdout",
     "output_type": "stream",
     "text": [
      "Epoch: [5][0/1715] Elapsed 0m 1s (remain 46m 5s) Loss avg.: 0.4649 Grad: 0.3255 LR: 0.00069  \n",
      "Epoch: [5][100/1715] Elapsed 0m 33s (remain 9m 1s) Loss avg.: 0.4594 Grad: 0.3826 LR: 0.00069  \n",
      "Epoch: [5][200/1715] Elapsed 1m 6s (remain 8m 18s) Loss avg.: 0.4594 Grad: 0.5741 LR: 0.00069  \n",
      "Epoch: [5][300/1715] Elapsed 1m 38s (remain 7m 42s) Loss avg.: 0.4592 Grad: 0.3727 LR: 0.00069  \n",
      "Epoch: [5][400/1715] Elapsed 2m 10s (remain 7m 8s) Loss avg.: 0.4592 Grad: 0.4479 LR: 0.00069  \n",
      "Epoch: [5][500/1715] Elapsed 2m 42s (remain 6m 34s) Loss avg.: 0.4597 Grad: 0.4634 LR: 0.00069  \n",
      "Epoch: [5][600/1715] Elapsed 3m 15s (remain 6m 1s) Loss avg.: 0.4596 Grad: 0.3930 LR: 0.00069  \n",
      "Epoch: [5][700/1715] Elapsed 3m 47s (remain 5m 29s) Loss avg.: 0.4595 Grad: 0.3246 LR: 0.00069  \n",
      "Epoch: [5][800/1715] Elapsed 4m 19s (remain 4m 56s) Loss avg.: 0.4596 Grad: 0.3893 LR: 0.00069  \n",
      "Epoch: [5][900/1715] Elapsed 4m 52s (remain 4m 23s) Loss avg.: 0.4598 Grad: 0.3300 LR: 0.00069  \n",
      "Epoch: [5][1000/1715] Elapsed 5m 24s (remain 3m 51s) Loss avg.: 0.4598 Grad: 0.4071 LR: 0.00069  \n",
      "Epoch: [5][1100/1715] Elapsed 5m 56s (remain 3m 18s) Loss avg.: 0.4598 Grad: 0.4626 LR: 0.00069  \n",
      "Epoch: [5][1200/1715] Elapsed 6m 28s (remain 2m 46s) Loss avg.: 0.4597 Grad: 0.3529 LR: 0.00069  \n",
      "Epoch: [5][1300/1715] Elapsed 7m 0s (remain 2m 13s) Loss avg.: 0.4595 Grad: 0.2905 LR: 0.00069  \n",
      "Epoch: [5][1400/1715] Elapsed 7m 33s (remain 1m 41s) Loss avg.: 0.4595 Grad: 0.3245 LR: 0.00069  \n",
      "Epoch: [5][1500/1715] Elapsed 8m 5s (remain 1m 9s) Loss avg.: 0.4594 Grad: 0.4551 LR: 0.00069  \n",
      "Epoch: [5][1600/1715] Elapsed 8m 37s (remain 0m 36s) Loss avg.: 0.4594 Grad: 0.3866 LR: 0.00069  \n",
      "Epoch: [5][1700/1715] Elapsed 9m 10s (remain 0m 4s) Loss avg.: 0.4595 Grad: 0.2942 LR: 0.00069  \n",
      "Epoch: [5][1714/1715] Elapsed 9m 14s (remain 0m 0s) Loss avg.: 0.4595 Grad: 0.2982 LR: 0.00069  \n",
      "Eval: [0/429] Elapsed 0m 0s (remain 6m 49s) Loss avg.: 0.4448 \n",
      "Eval: [100/429] Elapsed 0m 9s (remain 0m 30s) Loss avg.: 0.4555 \n",
      "Eval: [200/429] Elapsed 0m 17s (remain 0m 20s) Loss avg.: 0.4552 \n",
      "Eval: [300/429] Elapsed 0m 26s (remain 0m 11s) Loss avg.: 0.4547 \n",
      "Eval: [400/429] Elapsed 0m 34s (remain 0m 2s) Loss avg.: 0.4552 \n",
      "Eval: [428/429] Elapsed 0m 37s (remain 0m 0s) Loss avg.: 0.4558 \n"
     ]
    },
    {
     "name": "stderr",
     "output_type": "stream",
     "text": [
      "Epoch 5 - avg_train_loss: 0.4595  avg_val_loss: 0.4558  time: 592s\n",
      "Epoch 5 - Accuracy: 0.803073474521555\n",
      "Epoch 5 - Save Best Score: 0.8031 Model\n"
     ]
    },
    {
     "name": "stdout",
     "output_type": "stream",
     "text": [
      "Epoch: [6][0/1715] Elapsed 0m 1s (remain 45m 13s) Loss avg.: 0.4659 Grad: 0.2759 LR: 0.00055  \n",
      "Epoch: [6][100/1715] Elapsed 0m 33s (remain 9m 0s) Loss avg.: 0.4566 Grad: 0.3840 LR: 0.00055  \n",
      "Epoch: [6][200/1715] Elapsed 1m 6s (remain 8m 17s) Loss avg.: 0.4560 Grad: 0.2652 LR: 0.00055  \n",
      "Epoch: [6][300/1715] Elapsed 1m 38s (remain 7m 42s) Loss avg.: 0.4564 Grad: 0.3022 LR: 0.00055  \n",
      "Epoch: [6][400/1715] Elapsed 2m 10s (remain 7m 7s) Loss avg.: 0.4567 Grad: 0.3586 LR: 0.00055  \n",
      "Epoch: [6][500/1715] Elapsed 2m 42s (remain 6m 34s) Loss avg.: 0.4564 Grad: 0.3323 LR: 0.00055  \n",
      "Epoch: [6][600/1715] Elapsed 3m 15s (remain 6m 1s) Loss avg.: 0.4562 Grad: 0.3699 LR: 0.00055  \n",
      "Epoch: [6][700/1715] Elapsed 3m 47s (remain 5m 28s) Loss avg.: 0.4559 Grad: 0.2767 LR: 0.00055  \n",
      "Epoch: [6][800/1715] Elapsed 4m 19s (remain 4m 56s) Loss avg.: 0.4558 Grad: 0.4390 LR: 0.00055  \n",
      "Epoch: [6][900/1715] Elapsed 4m 52s (remain 4m 23s) Loss avg.: 0.4555 Grad: 0.3590 LR: 0.00055  \n",
      "Epoch: [6][1000/1715] Elapsed 5m 24s (remain 3m 51s) Loss avg.: 0.4554 Grad: 0.2771 LR: 0.00055  \n",
      "Epoch: [6][1100/1715] Elapsed 5m 56s (remain 3m 18s) Loss avg.: 0.4554 Grad: 0.4491 LR: 0.00055  \n",
      "Epoch: [6][1200/1715] Elapsed 6m 28s (remain 2m 46s) Loss avg.: 0.4555 Grad: 0.2784 LR: 0.00055  \n",
      "Epoch: [6][1300/1715] Elapsed 7m 1s (remain 2m 14s) Loss avg.: 0.4555 Grad: 0.3666 LR: 0.00055  \n",
      "Epoch: [6][1400/1715] Elapsed 7m 33s (remain 1m 41s) Loss avg.: 0.4554 Grad: 0.3549 LR: 0.00055  \n",
      "Epoch: [6][1500/1715] Elapsed 8m 6s (remain 1m 9s) Loss avg.: 0.4554 Grad: 0.2558 LR: 0.00055  \n",
      "Epoch: [6][1600/1715] Elapsed 8m 38s (remain 0m 36s) Loss avg.: 0.4553 Grad: 0.3273 LR: 0.00055  \n",
      "Epoch: [6][1700/1715] Elapsed 9m 10s (remain 0m 4s) Loss avg.: 0.4553 Grad: 0.4220 LR: 0.00055  \n",
      "Epoch: [6][1714/1715] Elapsed 9m 15s (remain 0m 0s) Loss avg.: 0.4553 Grad: 0.3157 LR: 0.00055  \n",
      "Eval: [0/429] Elapsed 0m 0s (remain 6m 46s) Loss avg.: 0.4429 \n",
      "Eval: [100/429] Elapsed 0m 9s (remain 0m 30s) Loss avg.: 0.4526 \n",
      "Eval: [200/429] Elapsed 0m 17s (remain 0m 20s) Loss avg.: 0.4527 \n",
      "Eval: [300/429] Elapsed 0m 26s (remain 0m 11s) Loss avg.: 0.4521 \n",
      "Eval: [400/429] Elapsed 0m 34s (remain 0m 2s) Loss avg.: 0.4527 \n",
      "Eval: [428/429] Elapsed 0m 37s (remain 0m 0s) Loss avg.: 0.4532 \n"
     ]
    },
    {
     "name": "stderr",
     "output_type": "stream",
     "text": [
      "Epoch 6 - avg_train_loss: 0.4553  avg_val_loss: 0.4532  time: 593s\n",
      "Epoch 6 - Accuracy: 0.8045506020004984\n",
      "Epoch 6 - Save Best Score: 0.8046 Model\n"
     ]
    },
    {
     "name": "stdout",
     "output_type": "stream",
     "text": [
      "Epoch: [7][0/1715] Elapsed 0m 1s (remain 49m 16s) Loss avg.: 0.4670 Grad: 0.3898 LR: 0.00041  \n",
      "Epoch: [7][100/1715] Elapsed 0m 34s (remain 9m 7s) Loss avg.: 0.4511 Grad: 0.3564 LR: 0.00041  \n",
      "Epoch: [7][200/1715] Elapsed 1m 6s (remain 8m 20s) Loss avg.: 0.4520 Grad: 0.3892 LR: 0.00041  \n",
      "Epoch: [7][300/1715] Elapsed 1m 38s (remain 7m 43s) Loss avg.: 0.4517 Grad: 0.3053 LR: 0.00041  \n",
      "Epoch: [7][400/1715] Elapsed 2m 11s (remain 7m 9s) Loss avg.: 0.4516 Grad: 0.2754 LR: 0.00041  \n",
      "Epoch: [7][500/1715] Elapsed 2m 43s (remain 6m 35s) Loss avg.: 0.4516 Grad: 0.3108 LR: 0.00041  \n",
      "Epoch: [7][600/1715] Elapsed 3m 15s (remain 6m 2s) Loss avg.: 0.4519 Grad: 0.2914 LR: 0.00041  \n",
      "Epoch: [7][700/1715] Elapsed 3m 47s (remain 5m 29s) Loss avg.: 0.4519 Grad: 0.2626 LR: 0.00041  \n",
      "Epoch: [7][800/1715] Elapsed 4m 20s (remain 4m 56s) Loss avg.: 0.4519 Grad: 0.4450 LR: 0.00041  \n",
      "Epoch: [7][900/1715] Elapsed 4m 52s (remain 4m 24s) Loss avg.: 0.4520 Grad: 0.3471 LR: 0.00041  \n",
      "Epoch: [7][1000/1715] Elapsed 5m 24s (remain 3m 51s) Loss avg.: 0.4521 Grad: 0.3362 LR: 0.00041  \n",
      "Epoch: [7][1100/1715] Elapsed 5m 57s (remain 3m 19s) Loss avg.: 0.4520 Grad: 0.3783 LR: 0.00041  \n",
      "Epoch: [7][1200/1715] Elapsed 6m 29s (remain 2m 46s) Loss avg.: 0.4521 Grad: 0.3881 LR: 0.00041  \n",
      "Epoch: [7][1300/1715] Elapsed 7m 1s (remain 2m 14s) Loss avg.: 0.4520 Grad: 0.3268 LR: 0.00041  \n",
      "Epoch: [7][1400/1715] Elapsed 7m 34s (remain 1m 41s) Loss avg.: 0.4522 Grad: 0.2971 LR: 0.00041  \n",
      "Epoch: [7][1500/1715] Elapsed 8m 6s (remain 1m 9s) Loss avg.: 0.4520 Grad: 0.3601 LR: 0.00041  \n",
      "Epoch: [7][1600/1715] Elapsed 8m 38s (remain 0m 36s) Loss avg.: 0.4520 Grad: 0.2849 LR: 0.00041  \n",
      "Epoch: [7][1700/1715] Elapsed 9m 11s (remain 0m 4s) Loss avg.: 0.4519 Grad: 0.3643 LR: 0.00041  \n",
      "Epoch: [7][1714/1715] Elapsed 9m 15s (remain 0m 0s) Loss avg.: 0.4519 Grad: 0.3602 LR: 0.00041  \n",
      "Eval: [0/429] Elapsed 0m 0s (remain 6m 41s) Loss avg.: 0.4461 \n",
      "Eval: [100/429] Elapsed 0m 9s (remain 0m 30s) Loss avg.: 0.4503 \n",
      "Eval: [200/429] Elapsed 0m 17s (remain 0m 20s) Loss avg.: 0.4503 \n",
      "Eval: [300/429] Elapsed 0m 26s (remain 0m 11s) Loss avg.: 0.4496 \n",
      "Eval: [400/429] Elapsed 0m 34s (remain 0m 2s) Loss avg.: 0.4501 \n",
      "Eval: [428/429] Elapsed 0m 37s (remain 0m 0s) Loss avg.: 0.4506 \n"
     ]
    },
    {
     "name": "stderr",
     "output_type": "stream",
     "text": [
      "Epoch 7 - avg_train_loss: 0.4519  avg_val_loss: 0.4506  time: 593s\n",
      "Epoch 7 - Accuracy: 0.8060299156572598\n",
      "Epoch 7 - Save Best Score: 0.8060 Model\n"
     ]
    },
    {
     "name": "stdout",
     "output_type": "stream",
     "text": [
      "Epoch: [8][0/1715] Elapsed 0m 1s (remain 46m 7s) Loss avg.: 0.4375 Grad: 0.2789 LR: 0.00029  \n",
      "Epoch: [8][100/1715] Elapsed 0m 33s (remain 9m 1s) Loss avg.: 0.4480 Grad: 0.3005 LR: 0.00029  \n",
      "Epoch: [8][200/1715] Elapsed 1m 6s (remain 8m 19s) Loss avg.: 0.4483 Grad: 0.3659 LR: 0.00029  \n",
      "Epoch: [8][300/1715] Elapsed 1m 38s (remain 7m 42s) Loss avg.: 0.4483 Grad: 0.3299 LR: 0.00029  \n",
      "Epoch: [8][400/1715] Elapsed 2m 10s (remain 7m 8s) Loss avg.: 0.4487 Grad: 0.3553 LR: 0.00029  \n",
      "Epoch: [8][500/1715] Elapsed 2m 42s (remain 6m 34s) Loss avg.: 0.4487 Grad: 0.2989 LR: 0.00029  \n",
      "Epoch: [8][600/1715] Elapsed 3m 15s (remain 6m 1s) Loss avg.: 0.4485 Grad: 0.2754 LR: 0.00029  \n",
      "Epoch: [8][700/1715] Elapsed 3m 47s (remain 5m 28s) Loss avg.: 0.4487 Grad: 0.3756 LR: 0.00029  \n",
      "Epoch: [8][800/1715] Elapsed 4m 19s (remain 4m 56s) Loss avg.: 0.4488 Grad: 0.3180 LR: 0.00029  \n",
      "Epoch: [8][900/1715] Elapsed 4m 51s (remain 4m 23s) Loss avg.: 0.4489 Grad: 0.3027 LR: 0.00029  \n",
      "Epoch: [8][1000/1715] Elapsed 5m 23s (remain 3m 51s) Loss avg.: 0.4487 Grad: 0.2570 LR: 0.00029  \n",
      "Epoch: [8][1100/1715] Elapsed 5m 56s (remain 3m 18s) Loss avg.: 0.4488 Grad: 0.2601 LR: 0.00029  \n",
      "Epoch: [8][1200/1715] Elapsed 6m 28s (remain 2m 46s) Loss avg.: 0.4488 Grad: 0.2918 LR: 0.00029  \n",
      "Epoch: [8][1300/1715] Elapsed 7m 0s (remain 2m 13s) Loss avg.: 0.4490 Grad: 0.3240 LR: 0.00029  \n",
      "Epoch: [8][1400/1715] Elapsed 7m 32s (remain 1m 41s) Loss avg.: 0.4489 Grad: 0.2799 LR: 0.00029  \n",
      "Epoch: [8][1500/1715] Elapsed 8m 5s (remain 1m 9s) Loss avg.: 0.4488 Grad: 0.4312 LR: 0.00029  \n",
      "Epoch: [8][1600/1715] Elapsed 8m 37s (remain 0m 36s) Loss avg.: 0.4489 Grad: 0.3603 LR: 0.00029  \n",
      "Epoch: [8][1700/1715] Elapsed 9m 9s (remain 0m 4s) Loss avg.: 0.4490 Grad: 0.3420 LR: 0.00029  \n",
      "Epoch: [8][1714/1715] Elapsed 9m 14s (remain 0m 0s) Loss avg.: 0.4490 Grad: 0.3657 LR: 0.00029  \n",
      "Eval: [0/429] Elapsed 0m 0s (remain 6m 45s) Loss avg.: 0.4411 \n",
      "Eval: [100/429] Elapsed 0m 9s (remain 0m 30s) Loss avg.: 0.4475 \n",
      "Eval: [200/429] Elapsed 0m 17s (remain 0m 20s) Loss avg.: 0.4476 \n",
      "Eval: [300/429] Elapsed 0m 26s (remain 0m 11s) Loss avg.: 0.4471 \n",
      "Eval: [400/429] Elapsed 0m 34s (remain 0m 2s) Loss avg.: 0.4475 \n",
      "Eval: [428/429] Elapsed 0m 36s (remain 0m 0s) Loss avg.: 0.4481 \n"
     ]
    },
    {
     "name": "stderr",
     "output_type": "stream",
     "text": [
      "Epoch 8 - avg_train_loss: 0.4490  avg_val_loss: 0.4481  time: 592s\n",
      "Epoch 8 - Accuracy: 0.8072702072059336\n",
      "Epoch 8 - Save Best Score: 0.8073 Model\n"
     ]
    },
    {
     "name": "stdout",
     "output_type": "stream",
     "text": [
      "Epoch: [9][0/1715] Elapsed 0m 1s (remain 46m 30s) Loss avg.: 0.4481 Grad: 0.3981 LR: 0.00019  \n",
      "Epoch: [9][100/1715] Elapsed 0m 33s (remain 9m 1s) Loss avg.: 0.4483 Grad: 0.2456 LR: 0.00019  \n",
      "Epoch: [9][200/1715] Elapsed 1m 6s (remain 8m 18s) Loss avg.: 0.4477 Grad: 0.3969 LR: 0.00019  \n",
      "Epoch: [9][300/1715] Elapsed 1m 38s (remain 7m 43s) Loss avg.: 0.4468 Grad: 0.3155 LR: 0.00019  \n",
      "Epoch: [9][400/1715] Elapsed 2m 10s (remain 7m 8s) Loss avg.: 0.4467 Grad: 0.2555 LR: 0.00019  \n",
      "Epoch: [9][500/1715] Elapsed 2m 43s (remain 6m 35s) Loss avg.: 0.4466 Grad: 0.3003 LR: 0.00019  \n",
      "Epoch: [9][600/1715] Elapsed 3m 15s (remain 6m 2s) Loss avg.: 0.4465 Grad: 0.3288 LR: 0.00019  \n",
      "Epoch: [9][700/1715] Elapsed 3m 47s (remain 5m 29s) Loss avg.: 0.4464 Grad: 0.2612 LR: 0.00019  \n",
      "Epoch: [9][800/1715] Elapsed 4m 19s (remain 4m 56s) Loss avg.: 0.4464 Grad: 0.2936 LR: 0.00019  \n",
      "Epoch: [9][900/1715] Elapsed 4m 52s (remain 4m 23s) Loss avg.: 0.4466 Grad: 0.3700 LR: 0.00019  \n",
      "Epoch: [9][1000/1715] Elapsed 5m 24s (remain 3m 51s) Loss avg.: 0.4465 Grad: 0.3003 LR: 0.00019  \n",
      "Epoch: [9][1100/1715] Elapsed 5m 56s (remain 3m 19s) Loss avg.: 0.4467 Grad: 0.2927 LR: 0.00019  \n",
      "Epoch: [9][1200/1715] Elapsed 6m 29s (remain 2m 46s) Loss avg.: 0.4464 Grad: 0.3453 LR: 0.00019  \n",
      "Epoch: [9][1300/1715] Elapsed 7m 1s (remain 2m 14s) Loss avg.: 0.4464 Grad: 0.3153 LR: 0.00019  \n",
      "Epoch: [9][1400/1715] Elapsed 7m 33s (remain 1m 41s) Loss avg.: 0.4466 Grad: 0.3425 LR: 0.00019  \n",
      "Epoch: [9][1500/1715] Elapsed 8m 6s (remain 1m 9s) Loss avg.: 0.4465 Grad: 0.3047 LR: 0.00019  \n",
      "Epoch: [9][1600/1715] Elapsed 8m 38s (remain 0m 36s) Loss avg.: 0.4466 Grad: 0.3343 LR: 0.00019  \n",
      "Epoch: [9][1700/1715] Elapsed 9m 10s (remain 0m 4s) Loss avg.: 0.4465 Grad: 0.3983 LR: 0.00019  \n",
      "Epoch: [9][1714/1715] Elapsed 9m 15s (remain 0m 0s) Loss avg.: 0.4466 Grad: 0.2685 LR: 0.00019  \n",
      "Eval: [0/429] Elapsed 0m 1s (remain 7m 45s) Loss avg.: 0.4429 \n",
      "Eval: [100/429] Elapsed 0m 9s (remain 0m 30s) Loss avg.: 0.4458 \n",
      "Eval: [200/429] Elapsed 0m 17s (remain 0m 20s) Loss avg.: 0.4459 \n",
      "Eval: [300/429] Elapsed 0m 26s (remain 0m 11s) Loss avg.: 0.4453 \n",
      "Eval: [400/429] Elapsed 0m 34s (remain 0m 2s) Loss avg.: 0.4458 \n",
      "Eval: [428/429] Elapsed 0m 36s (remain 0m 0s) Loss avg.: 0.4463 \n"
     ]
    },
    {
     "name": "stderr",
     "output_type": "stream",
     "text": [
      "Epoch 9 - avg_train_loss: 0.4466  avg_val_loss: 0.4463  time: 593s\n",
      "Epoch 9 - Accuracy: 0.8080127789380714\n",
      "Epoch 9 - Save Best Score: 0.8080 Model\n"
     ]
    },
    {
     "name": "stdout",
     "output_type": "stream",
     "text": [
      "Epoch: [10][0/1715] Elapsed 0m 1s (remain 46m 20s) Loss avg.: 0.4505 Grad: 0.3325 LR: 0.00012  \n",
      "Epoch: [10][100/1715] Elapsed 0m 33s (remain 9m 1s) Loss avg.: 0.4430 Grad: 0.2860 LR: 0.00012  \n",
      "Epoch: [10][200/1715] Elapsed 1m 6s (remain 8m 18s) Loss avg.: 0.4439 Grad: 0.2639 LR: 0.00012  \n",
      "Epoch: [10][300/1715] Elapsed 1m 38s (remain 7m 42s) Loss avg.: 0.4437 Grad: 0.2943 LR: 0.00012  \n",
      "Epoch: [10][400/1715] Elapsed 2m 11s (remain 7m 9s) Loss avg.: 0.4444 Grad: 0.4345 LR: 0.00012  \n",
      "Epoch: [10][500/1715] Elapsed 2m 43s (remain 6m 35s) Loss avg.: 0.4441 Grad: 0.2548 LR: 0.00012  \n",
      "Epoch: [10][600/1715] Elapsed 3m 15s (remain 6m 2s) Loss avg.: 0.4440 Grad: 0.2932 LR: 0.00012  \n",
      "Epoch: [10][700/1715] Elapsed 3m 47s (remain 5m 29s) Loss avg.: 0.4444 Grad: 0.2719 LR: 0.00012  \n",
      "Epoch: [10][800/1715] Elapsed 4m 20s (remain 4m 56s) Loss avg.: 0.4448 Grad: 0.2551 LR: 0.00012  \n",
      "Epoch: [10][900/1715] Elapsed 4m 52s (remain 4m 24s) Loss avg.: 0.4448 Grad: 0.3462 LR: 0.00012  \n",
      "Epoch: [10][1000/1715] Elapsed 5m 24s (remain 3m 51s) Loss avg.: 0.4449 Grad: 0.4054 LR: 0.00012  \n",
      "Epoch: [10][1100/1715] Elapsed 5m 56s (remain 3m 18s) Loss avg.: 0.4448 Grad: 0.3110 LR: 0.00012  \n",
      "Epoch: [10][1200/1715] Elapsed 6m 29s (remain 2m 46s) Loss avg.: 0.4449 Grad: 0.3522 LR: 0.00012  \n",
      "Epoch: [10][1300/1715] Elapsed 7m 1s (remain 2m 14s) Loss avg.: 0.4449 Grad: 0.2538 LR: 0.00012  \n",
      "Epoch: [10][1400/1715] Elapsed 7m 33s (remain 1m 41s) Loss avg.: 0.4449 Grad: 0.3358 LR: 0.00012  \n",
      "Epoch: [10][1500/1715] Elapsed 8m 5s (remain 1m 9s) Loss avg.: 0.4450 Grad: 0.3111 LR: 0.00012  \n",
      "Epoch: [10][1600/1715] Elapsed 8m 38s (remain 0m 36s) Loss avg.: 0.4450 Grad: 0.3348 LR: 0.00012  \n",
      "Epoch: [10][1700/1715] Elapsed 9m 10s (remain 0m 4s) Loss avg.: 0.4450 Grad: 0.2784 LR: 0.00012  \n",
      "Epoch: [10][1714/1715] Elapsed 9m 14s (remain 0m 0s) Loss avg.: 0.4450 Grad: 0.2711 LR: 0.00012  \n",
      "Eval: [0/429] Elapsed 0m 0s (remain 6m 41s) Loss avg.: 0.4402 \n",
      "Eval: [100/429] Elapsed 0m 9s (remain 0m 30s) Loss avg.: 0.4451 \n",
      "Eval: [200/429] Elapsed 0m 18s (remain 0m 20s) Loss avg.: 0.4453 \n",
      "Eval: [300/429] Elapsed 0m 26s (remain 0m 11s) Loss avg.: 0.4446 \n",
      "Eval: [400/429] Elapsed 0m 34s (remain 0m 2s) Loss avg.: 0.4451 \n",
      "Eval: [428/429] Elapsed 0m 37s (remain 0m 0s) Loss avg.: 0.4456 \n"
     ]
    },
    {
     "name": "stderr",
     "output_type": "stream",
     "text": [
      "Epoch 10 - avg_train_loss: 0.4450  avg_val_loss: 0.4456  time: 593s\n",
      "Epoch 10 - Accuracy: 0.8084456421460104\n",
      "Epoch 10 - Save Best Score: 0.8084 Model\n",
      "Epoch 10 - Save final model\n",
      "========== fold: 4 result ==========\n",
      "Score: 0.80845\n",
      "========== CV ==========\n",
      "Score: 0.80868\n"
     ]
    }
   ],
   "source": [
    "if __name__ == \"__main__\":\n",
    "    main()"
   ]
  },
  {
   "cell_type": "code",
   "execution_count": null,
   "metadata": {},
   "outputs": [],
   "source": []
  }
 ],
 "metadata": {
  "accelerator": "GPU",
  "colab": {
   "collapsed_sections": [],
   "include_colab_link": true,
   "name": "hungry-geese-train-by-episode.ipynb",
   "provenance": [],
   "toc_visible": true
  },
  "kernelspec": {
   "display_name": "pytorch",
   "language": "python",
   "name": "pytorch"
  },
  "language_info": {
   "codemirror_mode": {
    "name": "ipython",
    "version": 3
   },
   "file_extension": ".py",
   "mimetype": "text/x-python",
   "name": "python",
   "nbconvert_exporter": "python",
   "pygments_lexer": "ipython3",
   "version": "3.7.8"
  },
  "papermill": {
   "default_parameters": {},
   "duration": 2945.71762,
   "end_time": "2021-05-12T03:50:02.012348",
   "environment_variables": {},
   "exception": null,
   "input_path": "__notebook__.ipynb",
   "output_path": "__notebook__.ipynb",
   "parameters": {},
   "start_time": "2021-05-12T03:00:56.294728",
   "version": "2.3.3"
  },
  "widgets": {
   "application/vnd.jupyter.widget-state+json": {
    "04a486aa6f454d8f92e388dba1b9ee21": {
     "model_module": "@jupyter-widgets/controls",
     "model_name": "DescriptionStyleModel",
     "state": {
      "_model_module": "@jupyter-widgets/controls",
      "_model_module_version": "1.5.0",
      "_model_name": "DescriptionStyleModel",
      "_view_count": null,
      "_view_module": "@jupyter-widgets/base",
      "_view_module_version": "1.2.0",
      "_view_name": "StyleView",
      "description_width": ""
     }
    },
    "0857c0fa22b544488d65bb2c7dad18ee": {
     "model_module": "@jupyter-widgets/controls",
     "model_name": "FloatProgressModel",
     "state": {
      "_dom_classes": [],
      "_model_module": "@jupyter-widgets/controls",
      "_model_module_version": "1.5.0",
      "_model_name": "FloatProgressModel",
      "_view_count": null,
      "_view_module": "@jupyter-widgets/controls",
      "_view_module_version": "1.5.0",
      "_view_name": "ProgressView",
      "bar_style": "success",
      "description": "100%",
      "description_tooltip": null,
      "layout": "IPY_MODEL_f905db5005be40b194ea150c8b0deb9f",
      "max": 1001,
      "min": 0,
      "orientation": "horizontal",
      "style": "IPY_MODEL_c96b7bfbdf0243a8ae1dbb3d9aedf123",
      "value": 1001
     }
    },
    "4134662bdbe04a918d9809632e268ef8": {
     "model_module": "@jupyter-widgets/controls",
     "model_name": "HBoxModel",
     "state": {
      "_dom_classes": [],
      "_model_module": "@jupyter-widgets/controls",
      "_model_module_version": "1.5.0",
      "_model_name": "HBoxModel",
      "_view_count": null,
      "_view_module": "@jupyter-widgets/controls",
      "_view_module_version": "1.5.0",
      "_view_name": "HBoxView",
      "box_style": "",
      "children": [
       "IPY_MODEL_0857c0fa22b544488d65bb2c7dad18ee",
       "IPY_MODEL_e33e4f894b424988b316c468bc9225ce"
      ],
      "layout": "IPY_MODEL_8ddb49ac3c91409f99a569a061a70b3d"
     }
    },
    "507d2b6a02bb43d0bb4c8c2734f19cbb": {
     "model_module": "@jupyter-widgets/base",
     "model_name": "LayoutModel",
     "state": {
      "_model_module": "@jupyter-widgets/base",
      "_model_module_version": "1.2.0",
      "_model_name": "LayoutModel",
      "_view_count": null,
      "_view_module": "@jupyter-widgets/base",
      "_view_module_version": "1.2.0",
      "_view_name": "LayoutView",
      "align_content": null,
      "align_items": null,
      "align_self": null,
      "border": null,
      "bottom": null,
      "display": null,
      "flex": null,
      "flex_flow": null,
      "grid_area": null,
      "grid_auto_columns": null,
      "grid_auto_flow": null,
      "grid_auto_rows": null,
      "grid_column": null,
      "grid_gap": null,
      "grid_row": null,
      "grid_template_areas": null,
      "grid_template_columns": null,
      "grid_template_rows": null,
      "height": null,
      "justify_content": null,
      "justify_items": null,
      "left": null,
      "margin": null,
      "max_height": null,
      "max_width": null,
      "min_height": null,
      "min_width": null,
      "object_fit": null,
      "object_position": null,
      "order": null,
      "overflow": null,
      "overflow_x": null,
      "overflow_y": null,
      "padding": null,
      "right": null,
      "top": null,
      "visibility": null,
      "width": null
     }
    },
    "8ddb49ac3c91409f99a569a061a70b3d": {
     "model_module": "@jupyter-widgets/base",
     "model_name": "LayoutModel",
     "state": {
      "_model_module": "@jupyter-widgets/base",
      "_model_module_version": "1.2.0",
      "_model_name": "LayoutModel",
      "_view_count": null,
      "_view_module": "@jupyter-widgets/base",
      "_view_module_version": "1.2.0",
      "_view_name": "LayoutView",
      "align_content": null,
      "align_items": null,
      "align_self": null,
      "border": null,
      "bottom": null,
      "display": null,
      "flex": null,
      "flex_flow": null,
      "grid_area": null,
      "grid_auto_columns": null,
      "grid_auto_flow": null,
      "grid_auto_rows": null,
      "grid_column": null,
      "grid_gap": null,
      "grid_row": null,
      "grid_template_areas": null,
      "grid_template_columns": null,
      "grid_template_rows": null,
      "height": null,
      "justify_content": null,
      "justify_items": null,
      "left": null,
      "margin": null,
      "max_height": null,
      "max_width": null,
      "min_height": null,
      "min_width": null,
      "object_fit": null,
      "object_position": null,
      "order": null,
      "overflow": null,
      "overflow_x": null,
      "overflow_y": null,
      "padding": null,
      "right": null,
      "top": null,
      "visibility": null,
      "width": null
     }
    },
    "c96b7bfbdf0243a8ae1dbb3d9aedf123": {
     "model_module": "@jupyter-widgets/controls",
     "model_name": "ProgressStyleModel",
     "state": {
      "_model_module": "@jupyter-widgets/controls",
      "_model_module_version": "1.5.0",
      "_model_name": "ProgressStyleModel",
      "_view_count": null,
      "_view_module": "@jupyter-widgets/base",
      "_view_module_version": "1.2.0",
      "_view_name": "StyleView",
      "bar_color": null,
      "description_width": "initial"
     }
    },
    "e33e4f894b424988b316c468bc9225ce": {
     "model_module": "@jupyter-widgets/controls",
     "model_name": "HTMLModel",
     "state": {
      "_dom_classes": [],
      "_model_module": "@jupyter-widgets/controls",
      "_model_module_version": "1.5.0",
      "_model_name": "HTMLModel",
      "_view_count": null,
      "_view_module": "@jupyter-widgets/controls",
      "_view_module_version": "1.5.0",
      "_view_name": "HTMLView",
      "description": "",
      "description_tooltip": null,
      "layout": "IPY_MODEL_507d2b6a02bb43d0bb4c8c2734f19cbb",
      "placeholder": "​",
      "style": "IPY_MODEL_04a486aa6f454d8f92e388dba1b9ee21",
      "value": " 1001/1001 [03:35&lt;00:00,  4.64it/s]"
     }
    },
    "f905db5005be40b194ea150c8b0deb9f": {
     "model_module": "@jupyter-widgets/base",
     "model_name": "LayoutModel",
     "state": {
      "_model_module": "@jupyter-widgets/base",
      "_model_module_version": "1.2.0",
      "_model_name": "LayoutModel",
      "_view_count": null,
      "_view_module": "@jupyter-widgets/base",
      "_view_module_version": "1.2.0",
      "_view_name": "LayoutView",
      "align_content": null,
      "align_items": null,
      "align_self": null,
      "border": null,
      "bottom": null,
      "display": null,
      "flex": null,
      "flex_flow": null,
      "grid_area": null,
      "grid_auto_columns": null,
      "grid_auto_flow": null,
      "grid_auto_rows": null,
      "grid_column": null,
      "grid_gap": null,
      "grid_row": null,
      "grid_template_areas": null,
      "grid_template_columns": null,
      "grid_template_rows": null,
      "height": null,
      "justify_content": null,
      "justify_items": null,
      "left": null,
      "margin": null,
      "max_height": null,
      "max_width": null,
      "min_height": null,
      "min_width": null,
      "object_fit": null,
      "object_position": null,
      "order": null,
      "overflow": null,
      "overflow_x": null,
      "overflow_y": null,
      "padding": null,
      "right": null,
      "top": null,
      "visibility": null,
      "width": null
     }
    }
   }
  }
 },
 "nbformat": 4,
 "nbformat_minor": 5
}
