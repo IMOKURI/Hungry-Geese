{
 "cells": [
  {
   "cell_type": "markdown",
   "metadata": {
    "id": "abroad-piece",
    "papermill": {
     "duration": 0.025714,
     "end_time": "2021-05-12T03:01:02.640708",
     "exception": false,
     "start_time": "2021-05-12T03:01:02.614994",
     "status": "completed"
    },
    "tags": []
   },
   "source": [
    "# About this notebook ..."
   ]
  },
  {
   "cell_type": "markdown",
   "metadata": {
    "id": "pressing-commercial",
    "papermill": {
     "duration": 0.024272,
     "end_time": "2021-05-12T03:01:02.689850",
     "exception": false,
     "start_time": "2021-05-12T03:01:02.665578",
     "status": "completed"
    },
    "tags": []
   },
   "source": [
    "## Library"
   ]
  },
  {
   "cell_type": "code",
   "execution_count": 1,
   "metadata": {
    "id": "german-ethics",
    "papermill": {
     "duration": 1.852306,
     "end_time": "2021-05-12T03:01:04.566362",
     "exception": false,
     "start_time": "2021-05-12T03:01:02.714056",
     "status": "completed"
    },
    "tags": []
   },
   "outputs": [],
   "source": [
    "import glob\n",
    "import json\n",
    "import math\n",
    "import os\n",
    "import random\n",
    "import time\n",
    "import warnings\n",
    "from collections import defaultdict\n",
    "from contextlib import contextmanager\n",
    "\n",
    "import numpy as np\n",
    "import pandas as pd\n",
    "import torch\n",
    "import torch.nn as nn\n",
    "import torch.nn.functional as F\n",
    "import wandb\n",
    "from sklearn.metrics import accuracy_score\n",
    "from sklearn.model_selection import StratifiedKFold\n",
    "from torch.optim import SGD, Adam\n",
    "from torch.optim.lr_scheduler import CosineAnnealingLR, CosineAnnealingWarmRestarts, ReduceLROnPlateau\n",
    "from torch.utils.data import DataLoader, Dataset\n",
    "from tqdm.notebook import tqdm"
   ]
  },
  {
   "cell_type": "code",
   "execution_count": 2,
   "metadata": {
    "id": "apparent-fiction",
    "papermill": {
     "duration": 0.030961,
     "end_time": "2021-05-12T03:01:04.622818",
     "exception": false,
     "start_time": "2021-05-12T03:01:04.591857",
     "status": "completed"
    },
    "tags": []
   },
   "outputs": [],
   "source": [
    "warnings.filterwarnings(\"ignore\")"
   ]
  },
  {
   "cell_type": "markdown",
   "metadata": {
    "id": "editorial-haiti",
    "papermill": {
     "duration": 0.024908,
     "end_time": "2021-05-12T03:01:05.115280",
     "exception": false,
     "start_time": "2021-05-12T03:01:05.090372",
     "status": "completed"
    },
    "tags": []
   },
   "source": [
    "## Config"
   ]
  },
  {
   "cell_type": "code",
   "execution_count": 3,
   "metadata": {},
   "outputs": [],
   "source": [
    "config_defaults = {\n",
    "    \"seed\": 440,\n",
    "    \"data_size\": 7_000_000,\n",
    "    \"n_class\": 4,\n",
    "    \"n_fold\": 10,\n",
    "    \"geese_net_layers\": 12,\n",
    "    \"geese_net_filters\": 48,\n",
    "    \"gradient_accumulation_steps\": 1,\n",
    "    \"max_grad_norm\": 1000,\n",
    "    \"num_workers\": 4,\n",
    "    \"batch_size\": 3200,\n",
    "    \"epochs\": 10,\n",
    "    \"scheduler\": \"CosineAnnealingWarmRestarts\",\n",
    "    \"criterion\": \"CrossEntropyLoss\",\n",
    "    \"lr\": 1e-3,\n",
    "    \"min_lr\": 1e-4,\n",
    "    \"weight_decay\": 1e-5,\n",
    "    \"model_name\": \"geese_net_alpha\",\n",
    "}"
   ]
  },
  {
   "cell_type": "code",
   "execution_count": 4,
   "metadata": {},
   "outputs": [],
   "source": [
    "if config_defaults[\"scheduler\"] == \"CosineAnnealingWarmRestarts\":\n",
    "    config_defaults[\"T_0\"] = config_defaults[\"epochs\"]\n",
    "\n",
    "elif config_defaults[\"scheduler\"] == \"CosineAnnealingLR\":\n",
    "    config_defaults[\"T_max\"] = config_defaults[\"epochs\"]\n",
    "\n",
    "elif config_defaults[\"scheduler\"] == \"ReduceLROnPlateau\":\n",
    "    config_defaults[\"factor\"] = 0.2\n",
    "    config_defaults[\"patience\"] = 4\n",
    "    config_defaults[\"eps\"] = 1e-6"
   ]
  },
  {
   "cell_type": "code",
   "execution_count": 5,
   "metadata": {
    "id": "opened-python",
    "papermill": {
     "duration": 0.035637,
     "end_time": "2021-05-12T03:01:05.176119",
     "exception": false,
     "start_time": "2021-05-12T03:01:05.140482",
     "status": "completed"
    },
    "tags": []
   },
   "outputs": [],
   "source": [
    "class Config:\n",
    "    pre_train_file = \"\"\n",
    "    print_freq = 100\n",
    "    train = True\n",
    "    debug = False\n",
    "    apex = False"
   ]
  },
  {
   "cell_type": "code",
   "execution_count": 6,
   "metadata": {},
   "outputs": [
    {
     "name": "stderr",
     "output_type": "stream",
     "text": [
      "Failed to detect the name of this notebook, you can set it manually with the WANDB_NOTEBOOK_NAME environment variable to enable code saving.\n",
      "\u001b[34m\u001b[1mwandb\u001b[0m: Currently logged in as: \u001b[33mimokuri\u001b[0m (use `wandb login --relogin` to force relogin)\n"
     ]
    },
    {
     "data": {
      "text/html": [
       "\n",
       "                Tracking run with wandb version 0.10.33<br/>\n",
       "                Syncing run <strong style=\"color:#cdcd00\">smart-elevator-4</strong> to <a href=\"https://wandb.ai\" target=\"_blank\">Weights & Biases</a> <a href=\"https://docs.wandb.com/integrations/jupyter.html\" target=\"_blank\">(Documentation)</a>.<br/>\n",
       "                Project page: <a href=\"https://wandb.ai/imokuri/hungry-geese\" target=\"_blank\">https://wandb.ai/imokuri/hungry-geese</a><br/>\n",
       "                Run page: <a href=\"https://wandb.ai/imokuri/hungry-geese/runs/22q24n02\" target=\"_blank\">https://wandb.ai/imokuri/hungry-geese/runs/22q24n02</a><br/>\n",
       "                Run data is saved locally in <code>/home/ubuntu/github/Hungry-Geese2/wandb/run-20210704_214117-22q24n02</code><br/><br/>\n",
       "            "
      ],
      "text/plain": [
       "<IPython.core.display.HTML object>"
      ]
     },
     "metadata": {},
     "output_type": "display_data"
    }
   ],
   "source": [
    "if Config.debug:\n",
    "    wandb.init(project=\"hungry-geese\", config=config_defaults, mode=\"disabled\")\n",
    "else:\n",
    "    wandb.init(project=\"hungry-geese\", config=config_defaults)"
   ]
  },
  {
   "cell_type": "code",
   "execution_count": 7,
   "metadata": {},
   "outputs": [],
   "source": [
    "config = wandb.config"
   ]
  },
  {
   "cell_type": "code",
   "execution_count": 8,
   "metadata": {
    "id": "contained-singles",
    "papermill": {
     "duration": 0.031266,
     "end_time": "2021-05-12T03:01:05.235456",
     "exception": false,
     "start_time": "2021-05-12T03:01:05.204190",
     "status": "completed"
    },
    "tags": []
   },
   "outputs": [],
   "source": [
    "if Config.debug:\n",
    "    config.update({\"epochs\": 1, \"data_size\": 10_000}, allow_val_change=True)"
   ]
  },
  {
   "cell_type": "code",
   "execution_count": 9,
   "metadata": {
    "id": "dietary-track",
    "papermill": {
     "duration": 0.031421,
     "end_time": "2021-05-12T03:01:05.292382",
     "exception": false,
     "start_time": "2021-05-12T03:01:05.260961",
     "status": "completed"
    },
    "tags": []
   },
   "outputs": [],
   "source": [
    "if Config.apex:\n",
    "    from apex import amp"
   ]
  },
  {
   "cell_type": "code",
   "execution_count": 10,
   "metadata": {
    "id": "invalid-dispute",
    "papermill": {
     "duration": 0.169531,
     "end_time": "2021-05-12T03:01:05.488665",
     "exception": false,
     "start_time": "2021-05-12T03:01:05.319134",
     "status": "completed"
    },
    "tags": []
   },
   "outputs": [],
   "source": [
    "device = torch.device(\"cuda\" if torch.cuda.is_available() else \"cpu\")"
   ]
  },
  {
   "cell_type": "markdown",
   "metadata": {
    "id": "robust-humanity",
    "papermill": {
     "duration": 0.024539,
     "end_time": "2021-05-12T03:01:04.672270",
     "exception": false,
     "start_time": "2021-05-12T03:01:04.647731",
     "status": "completed"
    },
    "tags": []
   },
   "source": [
    "## Load Data"
   ]
  },
  {
   "cell_type": "code",
   "execution_count": 11,
   "metadata": {
    "id": "designed-effect",
    "papermill": {
     "duration": 0.031167,
     "end_time": "2021-05-12T03:01:04.728079",
     "exception": false,
     "start_time": "2021-05-12T03:01:04.696912",
     "status": "completed"
    },
    "tags": []
   },
   "outputs": [],
   "source": [
    "BASE_DIR = \"../input/hungrygeeseepisode/hungry-geese-episode/\"\n",
    "OUTPUT_DIR = \"pre-models/\"\n",
    "\n",
    "if not os.path.exists(OUTPUT_DIR):\n",
    "    os.makedirs(OUTPUT_DIR)"
   ]
  },
  {
   "cell_type": "code",
   "execution_count": 12,
   "metadata": {
    "colab": {
     "base_uri": "https://localhost:8080/"
    },
    "id": "special-broadcast",
    "outputId": "c440e1e9-5651-42ee-eb0f-08c822d7471a",
    "papermill": {
     "duration": 0.31211,
     "end_time": "2021-05-12T03:01:05.064722",
     "exception": false,
     "start_time": "2021-05-12T03:01:04.752612",
     "status": "completed"
    },
    "tags": []
   },
   "outputs": [
    {
     "name": "stdout",
     "output_type": "stream",
     "text": [
      "29048\n"
     ]
    }
   ],
   "source": [
    "paths = [path for path in glob.glob(BASE_DIR + \"*.json\") if \"info\" not in path]\n",
    "print(len(paths))"
   ]
  },
  {
   "cell_type": "markdown",
   "metadata": {
    "id": "treated-serum",
    "papermill": {
     "duration": 0.025219,
     "end_time": "2021-05-12T03:01:05.539482",
     "exception": false,
     "start_time": "2021-05-12T03:01:05.514263",
     "status": "completed"
    },
    "tags": []
   },
   "source": [
    "## Utils"
   ]
  },
  {
   "cell_type": "code",
   "execution_count": 13,
   "metadata": {
    "id": "gothic-alloy",
    "papermill": {
     "duration": 0.070842,
     "end_time": "2021-05-12T03:01:05.642364",
     "exception": false,
     "start_time": "2021-05-12T03:01:05.571522",
     "status": "completed"
    },
    "tags": []
   },
   "outputs": [],
   "source": [
    "@contextmanager\n",
    "def timer(name):\n",
    "    t0 = time.time()\n",
    "    LOGGER.info(f\"[{name}] start\")\n",
    "    yield\n",
    "    LOGGER.info(f\"[{name}] done in {time.time() - t0:.0f} s.\")\n",
    "\n",
    "\n",
    "def init_logger(log_file=OUTPUT_DIR + \"train.log\"):\n",
    "    from logging import INFO, FileHandler, Formatter, StreamHandler, getLogger\n",
    "\n",
    "    logger = getLogger(__name__)\n",
    "    logger.setLevel(INFO)\n",
    "    handler1 = StreamHandler()\n",
    "    handler1.setFormatter(Formatter(\"%(message)s\"))\n",
    "    handler2 = FileHandler(filename=log_file)\n",
    "    handler2.setFormatter(Formatter(\"%(message)s\"))\n",
    "    logger.addHandler(handler1)\n",
    "    logger.addHandler(handler2)\n",
    "    return logger\n",
    "\n",
    "\n",
    "LOGGER = init_logger()\n",
    "\n",
    "\n",
    "def seed_torch(seed=42):\n",
    "    random.seed(seed)\n",
    "    os.environ[\"PYTHONHASHSEED\"] = str(seed)\n",
    "    np.random.seed(seed)\n",
    "    torch.manual_seed(seed)\n",
    "    torch.cuda.manual_seed(seed)\n",
    "    torch.backends.cudnn.deterministic = True\n",
    "\n",
    "\n",
    "seed_torch(seed=config.seed)"
   ]
  },
  {
   "cell_type": "code",
   "execution_count": 14,
   "metadata": {
    "id": "experienced-correspondence",
    "papermill": {
     "duration": 0.053842,
     "end_time": "2021-05-12T03:01:05.741858",
     "exception": false,
     "start_time": "2021-05-12T03:01:05.688016",
     "status": "completed"
    },
    "tags": []
   },
   "outputs": [],
   "source": [
    "def ident(y):\n",
    "    return y\n",
    "\n",
    "\n",
    "def reverse_ns(y):\n",
    "    if y == 0:\n",
    "        return 1\n",
    "    if y == 1:\n",
    "        return 0\n",
    "    return y\n",
    "\n",
    "\n",
    "def reverse_we(y):\n",
    "    if y == 2:\n",
    "        return 3\n",
    "    if y == 3:\n",
    "        return 2\n",
    "    return y\n",
    "\n",
    "\n",
    "def reverse_nswe(y):\n",
    "    return reverse_ns(reverse_we(y))"
   ]
  },
  {
   "cell_type": "code",
   "execution_count": 15,
   "metadata": {},
   "outputs": [],
   "source": [
    "def no_flip(image):\n",
    "    return image\n",
    "\n",
    "\n",
    "def h_flip(image):\n",
    "    return image[:, :, ::-1]\n",
    "\n",
    "\n",
    "def v_flip(image):\n",
    "    return image[:, ::-1, :]\n",
    "\n",
    "\n",
    "def hv_flip(image):\n",
    "    return image[:, ::-1, ::-1]"
   ]
  },
  {
   "cell_type": "markdown",
   "metadata": {
    "id": "further-transaction",
    "papermill": {
     "duration": 0.042365,
     "end_time": "2021-05-12T03:01:05.826807",
     "exception": false,
     "start_time": "2021-05-12T03:01:05.784442",
     "status": "completed"
    },
    "tags": []
   },
   "source": [
    "## Observation"
   ]
  },
  {
   "cell_type": "code",
   "execution_count": 16,
   "metadata": {},
   "outputs": [],
   "source": [
    "next_position_map = {}\n",
    "for pos in range(77):\n",
    "    position = []\n",
    "    position.append((11 * (1 + pos // 11) + pos % 11) % 77)\n",
    "    position.append((11 * (-1 + pos // 11) + pos % 11) % 77)\n",
    "    position.append((11 * (pos // 11) + (pos + 1) % 11) % 77)\n",
    "    position.append((11 * (pos // 11) + (pos - 1) % 11) % 77)\n",
    "    next_position_map[pos] = set(position)"
   ]
  },
  {
   "cell_type": "code",
   "execution_count": 17,
   "metadata": {
    "id": "naughty-clause",
    "papermill": {
     "duration": 0.058537,
     "end_time": "2021-05-12T03:01:05.928292",
     "exception": false,
     "start_time": "2021-05-12T03:01:05.869755",
     "status": "completed"
    },
    "tags": []
   },
   "outputs": [],
   "source": [
    "def make_input(obses):\n",
    "    b = np.zeros((17, 7 * 11), dtype=np.float32)\n",
    "    obs = obses[-1]\n",
    "\n",
    "    for p, pos_list in enumerate(obs[\"geese\"]):\n",
    "        pid = (p - obs[\"index\"]) % 4\n",
    "\n",
    "        # head position\n",
    "        for pos in pos_list[:1]:\n",
    "            b[0 + pid, pos] = 1\n",
    "        # tip position\n",
    "        for pos in pos_list[-1:]:\n",
    "            b[4 + pid, pos] = 1\n",
    "        # whole position\n",
    "        for pos in pos_list:\n",
    "            b[8 + pid, pos] = 1\n",
    "\n",
    "    # previous head position\n",
    "    if len(obses) > 1:\n",
    "        obs_prev = obses[-2]\n",
    "        for p, pos_list in enumerate(obs_prev[\"geese\"]):\n",
    "            for pos in pos_list[:1]:\n",
    "                b[12 + (p - obs[\"index\"]) % 4, pos] = 1\n",
    "\n",
    "    # food\n",
    "    for pos in obs[\"food\"]:\n",
    "        b[16, pos] = 1\n",
    "\n",
    "    return b.reshape(-1, 7, 11)"
   ]
  },
  {
   "cell_type": "code",
   "execution_count": 18,
   "metadata": {},
   "outputs": [],
   "source": [
    "def get_reverse_cube(obses):\n",
    "    \"\"\"\n",
    "    尻尾から順番に 1, 0.9, 0.8, ... という並び\n",
    "    \"\"\"\n",
    "    b = np.zeros((4, 7 * 11), dtype=np.float32)\n",
    "    obs = obses[-1]\n",
    "\n",
    "    for p, geese in enumerate(obs[\"geese\"]):\n",
    "        # whole position reverse\n",
    "        for num_reverse, pos in enumerate(geese[::-1]):\n",
    "            b[(p - obs[\"index\"]) % 4, pos] = 1 - num_reverse * 0.1\n",
    "\n",
    "    return b.reshape(-1, 7, 11)"
   ]
  },
  {
   "cell_type": "code",
   "execution_count": 19,
   "metadata": {},
   "outputs": [],
   "source": [
    "def get_next_disappear_cube(obses):\n",
    "    \"\"\"\n",
    "    次になくなる場所: 1\n",
    "    次になくなる可能性のある場所: 0.5\n",
    "    \"\"\"\n",
    "    b = np.zeros((4, 7 * 11), dtype=np.float32)\n",
    "    obs = obses[-1]\n",
    "    step = obs[\"step\"]\n",
    "\n",
    "    # foodを食べる可能性があるか。\n",
    "    eat_food_possibility = defaultdict(int)\n",
    "    for p, geese in enumerate(obs[\"geese\"]):\n",
    "        for pos in geese[:1]:\n",
    "            if not next_position_map[pos].isdisjoint(obs[\"food\"]):\n",
    "                eat_food_possibility[p] = 1\n",
    "\n",
    "    if (step % 40) == 39:  # 1つ短くなる\n",
    "        for p, geese in enumerate(obs[\"geese\"]):\n",
    "            if eat_food_possibility[p]:  # 尻尾が1、尻尾の１つ前0.5\n",
    "                for pos in geese[-1:]:\n",
    "                    b[(p - obs[\"index\"]) % 4, pos] = 1\n",
    "                for pos in geese[-2:-1]:\n",
    "                    b[(p - obs[\"index\"]) % 4, pos] = 0.5\n",
    "            else:  # 食べる可能性なし -> 尻尾が1, 尻尾の1つ前1\n",
    "                for pos in geese[-2:]:\n",
    "                    b[(p - obs[\"index\"]) % 4, pos] = 1\n",
    "    else:  # 1つ短くならない\n",
    "        for p, geese in enumerate(obs[\"geese\"]):\n",
    "            if eat_food_possibility[p]:  # 食べる可能性があり -> 尻尾を0.5\n",
    "                for pos in geese[-1:]:\n",
    "                    b[(p - obs[\"index\"]) % 4, pos] = 0.5\n",
    "            else:  # 食べる可能性なし # 尻尾を1\n",
    "                for pos in geese[-1:]:\n",
    "                    b[(p - obs[\"index\"]) % 4, pos] = 1\n",
    "\n",
    "    return b.reshape(-1, 7, 11)"
   ]
  },
  {
   "cell_type": "code",
   "execution_count": 20,
   "metadata": {},
   "outputs": [],
   "source": [
    "def get_step_cube_v3(obses):\n",
    "    b = np.zeros((2, 7, 11), dtype=np.float32)\n",
    "    obs = obses[-1]\n",
    "    step = obs[\"step\"]\n",
    "\n",
    "    b[0, :, :] = (step - 188) / 10 if step > 188 else 0\n",
    "    b[1, :, :] = (step % 40 - 29) / 10 if step % 40 > 29 else 0\n",
    "\n",
    "    return b"
   ]
  },
  {
   "cell_type": "code",
   "execution_count": 21,
   "metadata": {},
   "outputs": [],
   "source": [
    "def get_length_cube_v2(obses):\n",
    "    b = np.zeros((3, 7, 11), dtype=np.float32)\n",
    "    obs = obses[-1]\n",
    "\n",
    "    my_length = len(obs[\"geese\"][obs[\"index\"]])\n",
    "    o1_length = len(obs[\"geese\"][(obs[\"index\"] + 1) % 4])\n",
    "    o2_length = len(obs[\"geese\"][(obs[\"index\"] + 2) % 4])\n",
    "    o3_length = len(obs[\"geese\"][(obs[\"index\"] + 3) % 4])\n",
    "\n",
    "    b[0, :, :] = max(min((my_length - o1_length) * 0.1 + 0.5, 1.0), -1.0)\n",
    "    b[1, :, :] = max(min((my_length - o2_length) * 0.1 + 0.5, 1.0), -1.0)\n",
    "    b[2, :, :] = max(min((my_length - o3_length) * 0.1 + 0.5, 1.0), -1.0)\n",
    "\n",
    "    return b"
   ]
  },
  {
   "cell_type": "markdown",
   "metadata": {
    "id": "pretty-aaron",
    "papermill": {
     "duration": 0.042985,
     "end_time": "2021-05-12T03:01:06.014038",
     "exception": false,
     "start_time": "2021-05-12T03:01:05.971053",
     "status": "completed"
    },
    "tags": []
   },
   "source": [
    "## Data"
   ]
  },
  {
   "cell_type": "code",
   "execution_count": 22,
   "metadata": {},
   "outputs": [],
   "source": [
    "X_train = np.zeros((config.data_size, 30, 7, 11), dtype=np.float32)\n",
    "y_train = np.zeros((config.data_size,), dtype=np.uint8)\n",
    "\n",
    "X_count = 0\n",
    "y_count = 0"
   ]
  },
  {
   "cell_type": "code",
   "execution_count": 23,
   "metadata": {
    "id": "international-secret",
    "papermill": {
     "duration": 0.064855,
     "end_time": "2021-05-12T03:01:06.121648",
     "exception": false,
     "start_time": "2021-05-12T03:01:06.056793",
     "status": "completed"
    },
    "tags": []
   },
   "outputs": [],
   "source": [
    "def create_dataset_from_json(filepath, json_object=None, standing=0):\n",
    "    global X_train\n",
    "    global y_train\n",
    "    global X_count\n",
    "    global y_count\n",
    "\n",
    "    if json_object is None:\n",
    "        json_open = open(path, \"r\")\n",
    "        json_load = json.load(json_open)\n",
    "    else:\n",
    "        json_load = json_object\n",
    "\n",
    "    try:\n",
    "        winner_index = np.argmax(np.argsort(json_load[\"rewards\"]) == 3 - standing)\n",
    "\n",
    "        obses = []\n",
    "        actions = {\"NORTH\": 0, \"SOUTH\": 1, \"WEST\": 2, \"EAST\": 3}\n",
    "\n",
    "        for i in range(len(json_load[\"steps\"]) - 1):\n",
    "            if json_load[\"steps\"][i][winner_index][\"status\"] == \"ACTIVE\":\n",
    "                y_ = json_load[\"steps\"][i + 1][winner_index][\"action\"]\n",
    "                if y_ is not None:\n",
    "                    step = json_load[\"steps\"][i]\n",
    "                    step[winner_index][\"observation\"][\"geese\"] = step[0][\"observation\"][\"geese\"]\n",
    "                    step[winner_index][\"observation\"][\"food\"] = step[0][\"observation\"][\"food\"]\n",
    "                    step[winner_index][\"observation\"][\"step\"] = step[0][\"observation\"][\"step\"]\n",
    "                    obses.append(step[winner_index][\"observation\"])\n",
    "\n",
    "                    for func in [ident, reverse_ns, reverse_we, reverse_nswe]:\n",
    "                        if y_count >= config.data_size:\n",
    "                            break\n",
    "\n",
    "                        y_train[y_count] = func(actions[y_])\n",
    "                        y_count += 1\n",
    "\n",
    "                    if y_count >= config.data_size:\n",
    "                        break\n",
    "\n",
    "        for j in range(len(obses)):\n",
    "            # X_ = make_input(obses[: j + 1])\n",
    "\n",
    "            # 反転可能な特徴量\n",
    "            X_ = []\n",
    "            X_.append(make_input(obses[: j + 1]))\n",
    "            X_.append(get_reverse_cube(obses[: j + 1]))\n",
    "            X_.append(get_next_disappear_cube(obses[: j + 1]))\n",
    "\n",
    "            # 反転不可能な特徴量\n",
    "            X_i = []\n",
    "            X_i.append(get_step_cube_v3(obses[: j + 1]))\n",
    "            X_i.append(get_length_cube_v2(obses[: j + 1]))\n",
    "\n",
    "            X_ = np.concatenate(X_)\n",
    "            X_i = np.concatenate(X_i)\n",
    "\n",
    "            for func in [no_flip, v_flip, h_flip, hv_flip]:\n",
    "                if X_count >= config.data_size:\n",
    "                    break\n",
    "\n",
    "                X_train[X_count] = np.concatenate([func(X_), X_i])\n",
    "                X_count += 1\n",
    "\n",
    "            if X_count >= config.data_size:\n",
    "                break\n",
    "\n",
    "        return\n",
    "    except Exception as e:\n",
    "        if Config.debug:\n",
    "            raise Exception from e\n",
    "        return"
   ]
  },
  {
   "cell_type": "code",
   "execution_count": 24,
   "metadata": {
    "colab": {
     "base_uri": "https://localhost:8080/",
     "height": 84,
     "referenced_widgets": [
      "4134662bdbe04a918d9809632e268ef8",
      "8ddb49ac3c91409f99a569a061a70b3d",
      "0857c0fa22b544488d65bb2c7dad18ee",
      "e33e4f894b424988b316c468bc9225ce",
      "c96b7bfbdf0243a8ae1dbb3d9aedf123",
      "f905db5005be40b194ea150c8b0deb9f",
      "04a486aa6f454d8f92e388dba1b9ee21",
      "507d2b6a02bb43d0bb4c8c2734f19cbb"
     ]
    },
    "id": "handled-pleasure",
    "outputId": "955c1c6b-36bc-4b30-dc44-b72b05398f8c",
    "papermill": {
     "duration": 15.320591,
     "end_time": "2021-05-12T03:01:21.474816",
     "exception": false,
     "start_time": "2021-05-12T03:01:06.154225",
     "status": "completed"
    },
    "tags": []
   },
   "outputs": [
    {
     "data": {
      "application/vnd.jupyter.widget-view+json": {
       "model_id": "55b8847f797d4859af9a6f8b449afb1e",
       "version_major": 2,
       "version_minor": 0
      },
      "text/plain": [
       "HBox(children=(HTML(value=''), FloatProgress(value=0.0, max=29048.0), HTML(value='')))"
      ]
     },
     "metadata": {},
     "output_type": "display_data"
    },
    {
     "name": "stdout",
     "output_type": "stream",
     "text": [
      "\n",
      "Num episode: 7,000,000\n"
     ]
    }
   ],
   "source": [
    "for path in tqdm(paths[::-1]):\n",
    "    create_dataset_from_json(path, standing=0)  # use only winners' moves\n",
    "    if X_count >= config.data_size:\n",
    "        break\n",
    "\n",
    "print(f\"Num episode: {len(X_train):,}\")"
   ]
  },
  {
   "cell_type": "code",
   "execution_count": 25,
   "metadata": {
    "id": "micro-french",
    "papermill": {
     "duration": 0.033413,
     "end_time": "2021-05-12T03:03:15.360395",
     "exception": false,
     "start_time": "2021-05-12T03:03:15.326982",
     "status": "completed"
    },
    "tags": []
   },
   "outputs": [],
   "source": [
    "if Config.debug:\n",
    "    X_train = X_train[:1000]\n",
    "    y_train = y_train[:1000]"
   ]
  },
  {
   "cell_type": "code",
   "execution_count": 26,
   "metadata": {
    "colab": {
     "base_uri": "https://localhost:8080/",
     "height": 415
    },
    "id": "wrong-pastor",
    "outputId": "406a2f1d-0b8a-46bf-ca01-546f3110c301",
    "papermill": {
     "duration": 0.036161,
     "end_time": "2021-05-12T03:03:15.425149",
     "exception": false,
     "start_time": "2021-05-12T03:03:15.388988",
     "status": "completed"
    },
    "tags": []
   },
   "outputs": [
    {
     "data": {
      "text/html": [
       "<div>\n",
       "<style scoped>\n",
       "    .dataframe tbody tr th:only-of-type {\n",
       "        vertical-align: middle;\n",
       "    }\n",
       "\n",
       "    .dataframe tbody tr th {\n",
       "        vertical-align: top;\n",
       "    }\n",
       "\n",
       "    .dataframe thead th {\n",
       "        text-align: right;\n",
       "    }\n",
       "</style>\n",
       "<table border=\"1\" class=\"dataframe\">\n",
       "  <thead>\n",
       "    <tr style=\"text-align: right;\">\n",
       "      <th></th>\n",
       "      <th>action</th>\n",
       "    </tr>\n",
       "  </thead>\n",
       "  <tbody>\n",
       "    <tr>\n",
       "      <th>0</th>\n",
       "      <td>2</td>\n",
       "    </tr>\n",
       "    <tr>\n",
       "      <th>1</th>\n",
       "      <td>2</td>\n",
       "    </tr>\n",
       "    <tr>\n",
       "      <th>2</th>\n",
       "      <td>3</td>\n",
       "    </tr>\n",
       "    <tr>\n",
       "      <th>3</th>\n",
       "      <td>3</td>\n",
       "    </tr>\n",
       "    <tr>\n",
       "      <th>4</th>\n",
       "      <td>0</td>\n",
       "    </tr>\n",
       "    <tr>\n",
       "      <th>...</th>\n",
       "      <td>...</td>\n",
       "    </tr>\n",
       "    <tr>\n",
       "      <th>6999995</th>\n",
       "      <td>1</td>\n",
       "    </tr>\n",
       "    <tr>\n",
       "      <th>6999996</th>\n",
       "      <td>0</td>\n",
       "    </tr>\n",
       "    <tr>\n",
       "      <th>6999997</th>\n",
       "      <td>1</td>\n",
       "    </tr>\n",
       "    <tr>\n",
       "      <th>6999998</th>\n",
       "      <td>0</td>\n",
       "    </tr>\n",
       "    <tr>\n",
       "      <th>6999999</th>\n",
       "      <td>1</td>\n",
       "    </tr>\n",
       "  </tbody>\n",
       "</table>\n",
       "<p>7000000 rows × 1 columns</p>\n",
       "</div>"
      ],
      "text/plain": [
       "         action\n",
       "0             2\n",
       "1             2\n",
       "2             3\n",
       "3             3\n",
       "4             0\n",
       "...         ...\n",
       "6999995       1\n",
       "6999996       0\n",
       "6999997       1\n",
       "6999998       0\n",
       "6999999       1\n",
       "\n",
       "[7000000 rows x 1 columns]"
      ]
     },
     "execution_count": 26,
     "metadata": {},
     "output_type": "execute_result"
    }
   ],
   "source": [
    "y_df = pd.DataFrame(y_train, dtype=np.uint8)\n",
    "y_df.columns = [\"action\"]\n",
    "y_df"
   ]
  },
  {
   "cell_type": "markdown",
   "metadata": {
    "id": "touched-coordinate",
    "papermill": {
     "duration": 0.027968,
     "end_time": "2021-05-12T03:03:15.557122",
     "exception": false,
     "start_time": "2021-05-12T03:03:15.529154",
     "status": "completed"
    },
    "tags": []
   },
   "source": [
    "## CV Split"
   ]
  },
  {
   "cell_type": "code",
   "execution_count": 27,
   "metadata": {
    "colab": {
     "base_uri": "https://localhost:8080/"
    },
    "id": "moving-skill",
    "outputId": "7542c4b4-f7d3-444c-8450-50bffddb1892",
    "papermill": {
     "duration": 0.202337,
     "end_time": "2021-05-12T03:03:15.787529",
     "exception": false,
     "start_time": "2021-05-12T03:03:15.585192",
     "status": "completed"
    },
    "tags": []
   },
   "outputs": [
    {
     "name": "stdout",
     "output_type": "stream",
     "text": [
      "fold  action\n",
      "0     0         169034\n",
      "      1         169034\n",
      "      2         180966\n",
      "      3         180966\n",
      "1     0         169034\n",
      "      1         169034\n",
      "      2         180966\n",
      "      3         180966\n",
      "2     0         169035\n",
      "      1         169034\n",
      "      2         180966\n",
      "      3         180965\n",
      "3     0         169035\n",
      "      1         169034\n",
      "      2         180966\n",
      "      3         180965\n",
      "4     0         169035\n",
      "      1         169034\n",
      "      2         180966\n",
      "      3         180965\n",
      "5     0         169035\n",
      "      1         169034\n",
      "      2         180966\n",
      "      3         180965\n",
      "6     0         169034\n",
      "      1         169035\n",
      "      2         180965\n",
      "      3         180966\n",
      "7     0         169034\n",
      "      1         169035\n",
      "      2         180965\n",
      "      3         180966\n",
      "8     0         169034\n",
      "      1         169035\n",
      "      2         180965\n",
      "      3         180966\n",
      "9     0         169034\n",
      "      1         169035\n",
      "      2         180965\n",
      "      3         180966\n",
      "dtype: int64\n"
     ]
    }
   ],
   "source": [
    "folds = y_df.copy()\n",
    "Fold = StratifiedKFold(n_splits=config.n_fold, shuffle=True, random_state=config.seed)\n",
    "for n, (train_index, val_index) in enumerate(Fold.split(folds, folds[\"action\"])):\n",
    "    folds.loc[val_index, \"fold\"] = int(n)\n",
    "folds[\"fold\"] = folds[\"fold\"].astype(np.uint8)\n",
    "print(folds.groupby([\"fold\", \"action\"]).size())"
   ]
  },
  {
   "cell_type": "markdown",
   "metadata": {
    "id": "creative-football",
    "papermill": {
     "duration": 0.029031,
     "end_time": "2021-05-12T03:03:15.845114",
     "exception": false,
     "start_time": "2021-05-12T03:03:15.816083",
     "status": "completed"
    },
    "tags": []
   },
   "source": [
    "## Dataset"
   ]
  },
  {
   "cell_type": "code",
   "execution_count": 28,
   "metadata": {
    "id": "other-murder",
    "papermill": {
     "duration": 0.037264,
     "end_time": "2021-05-12T03:03:15.911219",
     "exception": false,
     "start_time": "2021-05-12T03:03:15.873955",
     "status": "completed"
    },
    "tags": []
   },
   "outputs": [],
   "source": [
    "class TrainDataset(Dataset):\n",
    "    def __init__(self, array, label):\n",
    "        self.array = array\n",
    "        self.label = label\n",
    "\n",
    "    def __len__(self):\n",
    "        return self.array.shape[0]\n",
    "\n",
    "    def __getitem__(self, idx):\n",
    "        return self.array[idx], torch.tensor(self.label[idx]).long()\n",
    "\n",
    "\n",
    "class TestDataset(Dataset):\n",
    "    def __init__(self, array):\n",
    "        self.array = array\n",
    "\n",
    "    def __len__(self):\n",
    "        return self.array.shape[0]\n",
    "\n",
    "    def __getitem__(self, idx):\n",
    "        return self.array[idx]"
   ]
  },
  {
   "cell_type": "code",
   "execution_count": 29,
   "metadata": {
    "colab": {
     "base_uri": "https://localhost:8080/"
    },
    "id": "adjusted-delhi",
    "outputId": "39504950-84bc-4692-8b90-8a5b64f741e0",
    "papermill": {
     "duration": 0.063691,
     "end_time": "2021-05-12T03:03:16.003693",
     "exception": false,
     "start_time": "2021-05-12T03:03:15.940002",
     "status": "completed"
    },
    "tags": []
   },
   "outputs": [],
   "source": [
    "# Test\n",
    "\n",
    "if Config.debug or False:\n",
    "    train_ds = TrainDataset(X_train, y_train)\n",
    "\n",
    "    for i in range(1):\n",
    "        obs, action = train_ds[i]\n",
    "        print(obs.shape, action)"
   ]
  },
  {
   "cell_type": "markdown",
   "metadata": {
    "id": "ceramic-startup",
    "papermill": {
     "duration": 0.02876,
     "end_time": "2021-05-12T03:03:16.061575",
     "exception": false,
     "start_time": "2021-05-12T03:03:16.032815",
     "status": "completed"
    },
    "tags": []
   },
   "source": [
    "## Model"
   ]
  },
  {
   "cell_type": "code",
   "execution_count": 30,
   "metadata": {
    "id": "unique-trick",
    "papermill": {
     "duration": 0.039055,
     "end_time": "2021-05-12T03:03:16.130239",
     "exception": false,
     "start_time": "2021-05-12T03:03:16.091184",
     "status": "completed"
    },
    "tags": []
   },
   "outputs": [],
   "source": [
    "class TorusConv2d(nn.Module):\n",
    "    def __init__(self, input_dim, output_dim, kernel_size, bn):\n",
    "        super().__init__()\n",
    "        self.edge_size = (kernel_size[0] // 2, kernel_size[1] // 2)\n",
    "        self.conv = nn.Conv2d(input_dim, output_dim, kernel_size=kernel_size)\n",
    "        self.bn = nn.BatchNorm2d(output_dim) if bn else None\n",
    "\n",
    "    def forward(self, x):\n",
    "        h = torch.cat([x[:, :, :, -self.edge_size[1] :], x, x[:, :, :, : self.edge_size[1]]], dim=3)\n",
    "        h = torch.cat([h[:, :, -self.edge_size[0] :], h, h[:, :, : self.edge_size[0]]], dim=2)\n",
    "        h = self.conv(h)\n",
    "        h = self.bn(h) if self.bn is not None else h\n",
    "        return h"
   ]
  },
  {
   "cell_type": "code",
   "execution_count": 32,
   "metadata": {
    "id": "jspEE71c2Yma"
   },
   "outputs": [],
   "source": [
    "class GeeseNetAlpha(nn.Module):\n",
    "    def __init__(self):\n",
    "        super().__init__()\n",
    "        layers, filters = 12, 32\n",
    "        hidden = filters // 4\n",
    "        dim1 = filters * 2\n",
    "        dim2 = dim1 // 2\n",
    "\n",
    "        self.conv0 = TorusConv2d(30, filters, (3, 3), True)\n",
    "        self.cnn_blocks = nn.ModuleList([TorusConv2d(filters, filters, (3, 3), True) for _ in range(layers)])\n",
    "\n",
    "        self.conv_p = TorusConv2d(filters, filters, (3, 3), True)\n",
    "        self.conv_v = TorusConv2d(filters, filters, (3, 3), True)\n",
    "\n",
    "        self.head_p1 = nn.Linear(dim1, dim2, bias=False)\n",
    "        self.head_p2 = nn.Linear(dim2, 4, bias=False)\n",
    "        self.head_v1 = nn.Linear(dim1, dim2, bias=False)\n",
    "        self.head_v2 = nn.Linear(dim2, 1, bias=False)\n",
    "\n",
    "    def forward(self, x, _=None):\n",
    "        h = F.relu_(self.conv0(x))\n",
    "        for cnn in self.cnn_blocks:\n",
    "            h = F.relu_(h + cnn(h))\n",
    "\n",
    "        h_p = F.relu_(self.conv_p(h))\n",
    "        h_head_p = (h_p * x[:, :1]).view(h_p.size(0), h_p.size(1), -1).sum(-1)\n",
    "        h_avg_p = h_p.view(h_p.size(0), h_p.size(1), -1).mean(-1)\n",
    "\n",
    "        h_p = F.relu_(self.head_p1(torch.cat([h_head_p, h_avg_p], 1)))\n",
    "        p = self.head_p2(h_p)\n",
    "\n",
    "        h_v = F.relu_(self.conv_v(h))\n",
    "        h_head_v = (h_v * x[:, :1]).view(h_v.size(0), h_v.size(1), -1).sum(-1)\n",
    "        h_avg_v = h_v.view(h_v.size(0), h_v.size(1), -1).mean(-1)\n",
    "\n",
    "        h_v = F.relu_(self.head_v1(torch.cat([h_head_v, h_avg_v], 1)))\n",
    "        v = torch.tanh(self.head_v2(h_v))\n",
    "\n",
    "        return {\"policy\": p, \"value\": v}"
   ]
  },
  {
   "cell_type": "code",
   "execution_count": 33,
   "metadata": {
    "colab": {
     "base_uri": "https://localhost:8080/"
    },
    "id": "objective-victoria",
    "outputId": "1ab137a5-e26e-4b9c-ff85-95fef713b755",
    "papermill": {
     "duration": 4.955868,
     "end_time": "2021-05-12T03:03:21.187355",
     "exception": false,
     "start_time": "2021-05-12T03:03:16.231487",
     "status": "completed"
    },
    "tags": []
   },
   "outputs": [],
   "source": [
    "# Test\n",
    "\n",
    "if Config.debug or False:\n",
    "    model = GeeseNetAlpha()\n",
    "    # print(model)\n",
    "\n",
    "    params = sum(p.numel() for p in model.parameters())\n",
    "    print(f\"params: {params:,}\")\n",
    "\n",
    "    train_ds = TrainDataset(X_train, y_train)\n",
    "    train_loader = DataLoader(train_ds, batch_size=4, shuffle=True, num_workers=4, pin_memory=True, drop_last=True)\n",
    "\n",
    "    for obs, action in train_loader:\n",
    "        print(f\"input shape: {obs.shape}\")\n",
    "        output = model(obs)\n",
    "        print(output)\n",
    "        print(f\"{torch.argmax(output['policy'], dim=1)}\")\n",
    "        break"
   ]
  },
  {
   "cell_type": "markdown",
   "metadata": {
    "id": "military-fiction",
    "papermill": {
     "duration": 0.033001,
     "end_time": "2021-05-12T03:03:21.255277",
     "exception": false,
     "start_time": "2021-05-12T03:03:21.222276",
     "status": "completed"
    },
    "tags": []
   },
   "source": [
    "## Loss"
   ]
  },
  {
   "cell_type": "code",
   "execution_count": null,
   "metadata": {
    "id": "sophisticated-hearts",
    "papermill": {
     "duration": 0.031759,
     "end_time": "2021-05-12T03:03:21.319849",
     "exception": false,
     "start_time": "2021-05-12T03:03:21.288090",
     "status": "completed"
    },
    "tags": []
   },
   "outputs": [],
   "source": []
  },
  {
   "cell_type": "markdown",
   "metadata": {
    "id": "designing-detective",
    "papermill": {
     "duration": 0.03139,
     "end_time": "2021-05-12T03:03:21.383038",
     "exception": false,
     "start_time": "2021-05-12T03:03:21.351648",
     "status": "completed"
    },
    "tags": []
   },
   "source": [
    "## Scoring"
   ]
  },
  {
   "cell_type": "code",
   "execution_count": 34,
   "metadata": {
    "id": "passive-cooper",
    "papermill": {
     "duration": 0.038846,
     "end_time": "2021-05-12T03:03:21.454085",
     "exception": false,
     "start_time": "2021-05-12T03:03:21.415239",
     "status": "completed"
    },
    "tags": []
   },
   "outputs": [],
   "source": [
    "def get_score(y_true, y_pred):\n",
    "    return accuracy_score(y_true, y_pred)"
   ]
  },
  {
   "cell_type": "code",
   "execution_count": 35,
   "metadata": {},
   "outputs": [],
   "source": [
    "def get_result(result_df):\n",
    "    preds = result_df[\"preds\"].values\n",
    "    labels = result_df[\"action\"].values\n",
    "    score = get_score(labels, preds)\n",
    "    LOGGER.info(f\"Score: {score:<.5f}\")\n",
    "    return score"
   ]
  },
  {
   "cell_type": "markdown",
   "metadata": {
    "id": "thirty-tracy",
    "papermill": {
     "duration": 0.0293,
     "end_time": "2021-05-12T03:03:21.514179",
     "exception": false,
     "start_time": "2021-05-12T03:03:21.484879",
     "status": "completed"
    },
    "tags": []
   },
   "source": [
    "## Helper functions"
   ]
  },
  {
   "cell_type": "code",
   "execution_count": 36,
   "metadata": {
    "id": "introductory-brooklyn",
    "papermill": {
     "duration": 0.039424,
     "end_time": "2021-05-12T03:03:21.582969",
     "exception": false,
     "start_time": "2021-05-12T03:03:21.543545",
     "status": "completed"
    },
    "tags": []
   },
   "outputs": [],
   "source": [
    "class AverageMeter(object):\n",
    "    \"\"\"Computes and stores the average and current value\"\"\"\n",
    "\n",
    "    def __init__(self):\n",
    "        self.reset()\n",
    "\n",
    "    def reset(self):\n",
    "        self.val = 0\n",
    "        self.avg = 0\n",
    "        self.sum = 0\n",
    "        self.count = 0\n",
    "\n",
    "    def update(self, val, n=1):\n",
    "        self.val = val\n",
    "        self.sum += val * n\n",
    "        self.count += n\n",
    "        self.avg = self.sum / self.count\n",
    "\n",
    "\n",
    "def asMinutes(s):\n",
    "    m = math.floor(s / 60)\n",
    "    s -= m * 60\n",
    "    return \"%dm %ds\" % (m, s)\n",
    "\n",
    "\n",
    "def timeSince(since, percent):\n",
    "    now = time.time()\n",
    "    s = now - since\n",
    "    es = s / (percent)\n",
    "    rs = es - s\n",
    "    return \"%s (remain %s)\" % (asMinutes(s), asMinutes(rs))"
   ]
  },
  {
   "cell_type": "code",
   "execution_count": 37,
   "metadata": {
    "id": "raising-laugh",
    "papermill": {
     "duration": 0.042063,
     "end_time": "2021-05-12T03:03:21.654559",
     "exception": false,
     "start_time": "2021-05-12T03:03:21.612496",
     "status": "completed"
    },
    "tags": []
   },
   "outputs": [],
   "source": [
    "def train_fn(train_loader, model, criterion, optimizer, epoch, scheduler, device):\n",
    "    losses = AverageMeter()\n",
    "\n",
    "    # switch to train mode\n",
    "    model.train()\n",
    "    start = time.time()\n",
    "\n",
    "    for step, (obs, action) in enumerate(train_loader):\n",
    "        obs = obs.to(device)\n",
    "        action = action.to(device)\n",
    "        batch_size = action.size(0)\n",
    "\n",
    "        y_preds = model(obs)[\"policy\"]\n",
    "\n",
    "        loss = criterion(y_preds, action)\n",
    "        losses.update(loss.item(), batch_size)\n",
    "        if config.gradient_accumulation_steps > 1:\n",
    "            loss = loss / config.gradient_accumulation_steps\n",
    "        if Config.apex:\n",
    "            with amp.scale_loss(loss, optimizer) as scaled_loss:\n",
    "                scaled_loss.backward()\n",
    "        else:\n",
    "            loss.backward()\n",
    "\n",
    "        grad_norm = torch.nn.utils.clip_grad_norm_(model.parameters(), config.max_grad_norm)\n",
    "\n",
    "        if (step + 1) % config.gradient_accumulation_steps == 0:\n",
    "            optimizer.step()\n",
    "            optimizer.zero_grad()\n",
    "\n",
    "        if step % Config.print_freq == 0 or step == (len(train_loader) - 1):\n",
    "            print(\n",
    "                f\"Epoch: [{epoch + 1}][{step}/{len(train_loader)}] \"\n",
    "                f\"Elapsed {timeSince(start, float(step + 1) / len(train_loader)):s} \"\n",
    "                f\"Loss avg.: {losses.avg:.4f} \"\n",
    "                f\"Grad: {grad_norm:.4f} \"\n",
    "                f\"LR: {scheduler.get_last_lr()[0]:.5f}  \"\n",
    "            )\n",
    "\n",
    "    return losses.avg"
   ]
  },
  {
   "cell_type": "code",
   "execution_count": 38,
   "metadata": {
    "id": "plain-neighbor",
    "papermill": {
     "duration": 0.041056,
     "end_time": "2021-05-12T03:03:21.726585",
     "exception": false,
     "start_time": "2021-05-12T03:03:21.685529",
     "status": "completed"
    },
    "tags": []
   },
   "outputs": [],
   "source": [
    "def valid_fn(valid_loader, model, criterion, device):\n",
    "    losses = AverageMeter()\n",
    "\n",
    "    # switch to evaluation mode\n",
    "    model.eval()\n",
    "    preds = []\n",
    "    start = time.time()\n",
    "\n",
    "    for step, (obs, action) in enumerate(valid_loader):\n",
    "        obs = obs.to(device)\n",
    "        action = action.to(device)\n",
    "        batch_size = action.size(0)\n",
    "\n",
    "        # compute loss\n",
    "        with torch.no_grad():\n",
    "            y_preds = model(obs)[\"policy\"]\n",
    "\n",
    "        loss = criterion(y_preds, action)\n",
    "        losses.update(loss.item(), batch_size)\n",
    "\n",
    "        # record accuracy\n",
    "        preds.append(y_preds.softmax(1).to(\"cpu\").numpy())\n",
    "        if config.gradient_accumulation_steps > 1:\n",
    "            loss = loss / config.gradient_accumulation_steps\n",
    "\n",
    "        if step % Config.print_freq == 0 or step == (len(valid_loader) - 1):\n",
    "            print(\n",
    "                f\"Eval: [{step}/{len(valid_loader)}] \"\n",
    "                f\"Elapsed {timeSince(start, float(step + 1) / len(valid_loader)):s} \"\n",
    "                f\"Loss avg.: {losses.avg:.4f} \"\n",
    "            )\n",
    "    predictions = np.concatenate(preds)\n",
    "    return losses.avg, predictions"
   ]
  },
  {
   "cell_type": "markdown",
   "metadata": {
    "id": "integrated-classification",
    "papermill": {
     "duration": 0.029832,
     "end_time": "2021-05-12T03:03:21.786427",
     "exception": false,
     "start_time": "2021-05-12T03:03:21.756595",
     "status": "completed"
    },
    "tags": []
   },
   "source": [
    "## Train loop"
   ]
  },
  {
   "cell_type": "code",
   "execution_count": 39,
   "metadata": {
    "id": "harmful-explanation",
    "papermill": {
     "duration": 0.05136,
     "end_time": "2021-05-12T03:03:21.868561",
     "exception": false,
     "start_time": "2021-05-12T03:03:21.817201",
     "status": "completed"
    },
    "tags": []
   },
   "outputs": [],
   "source": [
    "def train_loop(folds, fold):\n",
    "\n",
    "    LOGGER.info(f\"========== fold: {fold} training ==========\")\n",
    "\n",
    "    # ====================================================\n",
    "    # Data Loader\n",
    "    # ====================================================\n",
    "    # X_train_folds = X_train[folds[\"fold\"] != fold]\n",
    "    # X_valid_folds = X_train[folds[\"fold\"] == fold]\n",
    "\n",
    "    # y_train_folds = y_train[folds[\"fold\"] != fold]\n",
    "    y_valid_folds = y_train[folds[\"fold\"] == fold]\n",
    "\n",
    "    # y_df_train_folds = y_df[folds[\"fold\"] != fold]\n",
    "    y_df_valid_folds = y_df[folds[\"fold\"] == fold]\n",
    "\n",
    "    # train_dataset = TrainDataset(X_train[folds[\"fold\"] != fold], y_train[folds[\"fold\"] != fold])\n",
    "    # valid_dataset = TrainDataset(X_train[folds[\"fold\"] == fold], y_valid_folds)\n",
    "\n",
    "    train_loader = DataLoader(\n",
    "        TrainDataset(X_train[folds[\"fold\"] != fold], y_train[folds[\"fold\"] != fold]),\n",
    "        batch_size=config.batch_size,\n",
    "        shuffle=True,\n",
    "        num_workers=config.num_workers,\n",
    "        pin_memory=True,\n",
    "        drop_last=True,\n",
    "    )\n",
    "    valid_loader = DataLoader(\n",
    "        TrainDataset(X_train[folds[\"fold\"] == fold], y_valid_folds),\n",
    "        batch_size=config.batch_size,\n",
    "        shuffle=False,\n",
    "        num_workers=config.num_workers,\n",
    "        pin_memory=True,\n",
    "        drop_last=False,\n",
    "    )\n",
    "\n",
    "    # ====================================================\n",
    "    # Scheduler\n",
    "    # ====================================================\n",
    "    def get_scheduler(optimizer):\n",
    "        if config.scheduler == \"ReduceLROnPlateau\":\n",
    "            scheduler = ReduceLROnPlateau(\n",
    "                optimizer, mode=\"min\", factor=config.factor, patience=config.patience, verbose=True, eps=config.eps\n",
    "            )\n",
    "        elif config.scheduler == \"CosineAnnealingLR\":\n",
    "            scheduler = CosineAnnealingLR(optimizer, T_max=config.T_max, eta_min=config.min_lr, last_epoch=-1)\n",
    "        elif config.scheduler == \"CosineAnnealingWarmRestarts\":\n",
    "            scheduler = CosineAnnealingWarmRestarts(\n",
    "                optimizer, T_0=config.T_0, T_mult=1, eta_min=config.min_lr, last_epoch=-1\n",
    "            )\n",
    "        return scheduler\n",
    "\n",
    "    # ====================================================\n",
    "    # model & optimizer\n",
    "    # ====================================================\n",
    "    model = GeeseNetAlpha()\n",
    "    # try:\n",
    "    #     model.load_state_dict(torch.load(os.path.join(OUTPUT_DIR, Config.pre_train_file)))\n",
    "    # except:\n",
    "    #     print(f\"Failed to load pre-train weight.\")\n",
    "\n",
    "    # Disable training for value network\n",
    "    # for param in model.head_v1.parameters():\n",
    "    #     param.requires_grad = False\n",
    "    # for param in model.head_v2.parameters():\n",
    "    #     param.requires_grad = False\n",
    "\n",
    "    model.to(device)\n",
    "\n",
    "    # Use multi GPU\n",
    "    if device == torch.device(\"cuda\") and not Config.apex:\n",
    "        model = torch.nn.DataParallel(model)  # make parallel\n",
    "\n",
    "    optimizer = Adam(model.parameters(), lr=config.lr, weight_decay=config.weight_decay, amsgrad=False)\n",
    "    scheduler = get_scheduler(optimizer)\n",
    "\n",
    "    # ====================================================\n",
    "    # apex\n",
    "    # ====================================================\n",
    "    if Config.apex:\n",
    "        model, optimizer = amp.initialize(model, optimizer, opt_level=\"O1\", verbosity=0)\n",
    "\n",
    "    # ====================================================\n",
    "    # Criterion\n",
    "    # ====================================================\n",
    "    def get_criterion():\n",
    "        if config.criterion == \"CrossEntropyLoss\":\n",
    "            criterion = nn.CrossEntropyLoss()\n",
    "        return criterion\n",
    "\n",
    "    criterion = get_criterion()\n",
    "\n",
    "    # ====================================================\n",
    "    # loop\n",
    "    # ====================================================\n",
    "    best_score = 0.0\n",
    "    best_loss = np.inf\n",
    "    best_preds = None\n",
    "\n",
    "    # wandb.watch(model, log_freq=Config.print_freq)\n",
    "\n",
    "    for epoch in range(config.epochs):\n",
    "\n",
    "        start_time = time.time()\n",
    "\n",
    "        # train\n",
    "        avg_loss = train_fn(train_loader, model, criterion, optimizer, epoch, scheduler, device)\n",
    "\n",
    "        # eval\n",
    "        avg_val_loss, preds = valid_fn(valid_loader, model, criterion, device)\n",
    "\n",
    "        if isinstance(scheduler, ReduceLROnPlateau):\n",
    "            scheduler.step(avg_val_loss)\n",
    "        elif isinstance(scheduler, CosineAnnealingLR):\n",
    "            scheduler.step()\n",
    "        elif isinstance(scheduler, CosineAnnealingWarmRestarts):\n",
    "            scheduler.step()\n",
    "\n",
    "        # scoring\n",
    "        score = get_score(y_valid_folds, preds.argmax(1))\n",
    "\n",
    "        elapsed = time.time() - start_time\n",
    "\n",
    "        LOGGER.info(\n",
    "            f\"Epoch {epoch+1} - avg_train_loss: {avg_loss:.4f}  avg_val_loss: {avg_val_loss:.4f}  time: {elapsed:.0f}s\"\n",
    "        )\n",
    "        LOGGER.info(f\"Epoch {epoch+1} - Accuracy: {score}\")\n",
    "\n",
    "        wandb.log(\n",
    "            {\n",
    "                \"epoch\": epoch + 1,\n",
    "                f\"loss/train_fold{fold}\": avg_loss,\n",
    "                f\"loss/val_fold{fold}\": avg_val_loss,\n",
    "                f\"accuracy/fold{fold}\": score,\n",
    "            }\n",
    "        )\n",
    "\n",
    "        if score > best_score:\n",
    "            best_score = score\n",
    "            LOGGER.info(f\"Epoch {epoch+1} - Save Best Score: {best_score:.4f} Model\")\n",
    "            torch.save(model.module.state_dict(), OUTPUT_DIR + f\"{config.model_name}_fold{fold}_best.pth\")\n",
    "            best_preds = preds\n",
    "\n",
    "        if epoch == config.epochs - 1:\n",
    "            LOGGER.info(f\"Epoch {epoch+1} - Save final model\")\n",
    "            torch.save(model.module.state_dict(), OUTPUT_DIR + f\"{config.model_name}_fold{fold}_final.pth\")\n",
    "\n",
    "    y_df_valid_folds[[str(c) for c in range(config.n_class)]] = best_preds\n",
    "    y_df_valid_folds[\"preds\"] = best_preds.argmax(1)\n",
    "\n",
    "    return y_df_valid_folds"
   ]
  },
  {
   "cell_type": "markdown",
   "metadata": {
    "id": "complimentary-wright",
    "papermill": {
     "duration": 0.030218,
     "end_time": "2021-05-12T03:03:21.928896",
     "exception": false,
     "start_time": "2021-05-12T03:03:21.898678",
     "status": "completed"
    },
    "tags": []
   },
   "source": [
    "## Main\n"
   ]
  },
  {
   "cell_type": "code",
   "execution_count": 40,
   "metadata": {
    "id": "particular-adaptation",
    "papermill": {
     "duration": 0.04089,
     "end_time": "2021-05-12T03:03:22.000150",
     "exception": false,
     "start_time": "2021-05-12T03:03:21.959260",
     "status": "completed"
    },
    "tags": []
   },
   "outputs": [],
   "source": [
    "def main():\n",
    "    if Config.train:\n",
    "        # train\n",
    "        oof_df = pd.DataFrame()\n",
    "        for fold in range(config.n_fold):\n",
    "            _oof_df = train_loop(folds, fold)\n",
    "            oof_df = pd.concat([oof_df, _oof_df])\n",
    "            LOGGER.info(f\"========== fold: {fold} result ==========\")\n",
    "            get_result(_oof_df)\n",
    "            break  # fold 1つだけ\n",
    "        # CV result\n",
    "        # LOGGER.info(f\"========== CV ==========\")\n",
    "        # get_result(oof_df)\n",
    "        # save result\n",
    "        oof_df.to_csv(OUTPUT_DIR + \"oof_df.csv\", index=False)"
   ]
  },
  {
   "cell_type": "code",
   "execution_count": 41,
   "metadata": {
    "colab": {
     "base_uri": "https://localhost:8080/",
     "height": 1000
    },
    "id": "backed-journal",
    "outputId": "c9f0ff3d-795e-466b-e22e-9ba21d08c874",
    "papermill": {
     "duration": 2797.64711,
     "end_time": "2021-05-12T03:49:59.678400",
     "exception": false,
     "start_time": "2021-05-12T03:03:22.031290",
     "status": "completed"
    },
    "tags": []
   },
   "outputs": [
    {
     "name": "stderr",
     "output_type": "stream",
     "text": [
      "========== fold: 0 training ==========\n"
     ]
    },
    {
     "name": "stdout",
     "output_type": "stream",
     "text": [
      "Epoch: [1][0/1968] Elapsed 0m 54s (remain 1790m 47s) Loss avg.: 1.3949 Grad: 0.2840 LR: 0.00100  \n",
      "Epoch: [1][100/1968] Elapsed 1m 24s (remain 26m 5s) Loss avg.: 0.7426 Grad: 0.7254 LR: 0.00100  \n",
      "Epoch: [1][200/1968] Elapsed 1m 53s (remain 16m 41s) Loss avg.: 0.6633 Grad: 1.6122 LR: 0.00100  \n",
      "Epoch: [1][300/1968] Elapsed 2m 23s (remain 13m 13s) Loss avg.: 0.6292 Grad: 0.8556 LR: 0.00100  \n",
      "Epoch: [1][400/1968] Elapsed 2m 52s (remain 11m 15s) Loss avg.: 0.6073 Grad: 0.7743 LR: 0.00100  \n",
      "Epoch: [1][500/1968] Elapsed 3m 22s (remain 9m 51s) Loss avg.: 0.5918 Grad: 0.5208 LR: 0.00100  \n",
      "Epoch: [1][600/1968] Elapsed 3m 51s (remain 8m 46s) Loss avg.: 0.5797 Grad: 0.6178 LR: 0.00100  \n",
      "Epoch: [1][700/1968] Elapsed 4m 20s (remain 7m 51s) Loss avg.: 0.5697 Grad: 0.8074 LR: 0.00100  \n",
      "Epoch: [1][800/1968] Elapsed 4m 49s (remain 7m 2s) Loss avg.: 0.5614 Grad: 0.6357 LR: 0.00100  \n",
      "Epoch: [1][900/1968] Elapsed 5m 19s (remain 6m 18s) Loss avg.: 0.5545 Grad: 0.7044 LR: 0.00100  \n",
      "Epoch: [1][1000/1968] Elapsed 5m 48s (remain 5m 36s) Loss avg.: 0.5485 Grad: 0.6168 LR: 0.00100  \n",
      "Epoch: [1][1100/1968] Elapsed 6m 17s (remain 4m 57s) Loss avg.: 0.5434 Grad: 0.6412 LR: 0.00100  \n",
      "Epoch: [1][1200/1968] Elapsed 6m 47s (remain 4m 20s) Loss avg.: 0.5389 Grad: 0.7091 LR: 0.00100  \n",
      "Epoch: [1][1300/1968] Elapsed 7m 16s (remain 3m 43s) Loss avg.: 0.5349 Grad: 0.6652 LR: 0.00100  \n",
      "Epoch: [1][1400/1968] Elapsed 7m 45s (remain 3m 8s) Loss avg.: 0.5314 Grad: 0.4964 LR: 0.00100  \n",
      "Epoch: [1][1500/1968] Elapsed 8m 14s (remain 2m 33s) Loss avg.: 0.5281 Grad: 0.4569 LR: 0.00100  \n",
      "Epoch: [1][1600/1968] Elapsed 8m 44s (remain 2m 0s) Loss avg.: 0.5251 Grad: 0.4940 LR: 0.00100  \n",
      "Epoch: [1][1700/1968] Elapsed 9m 13s (remain 1m 26s) Loss avg.: 0.5224 Grad: 0.4215 LR: 0.00100  \n",
      "Epoch: [1][1800/1968] Elapsed 9m 42s (remain 0m 54s) Loss avg.: 0.5200 Grad: 0.4774 LR: 0.00100  \n",
      "Epoch: [1][1900/1968] Elapsed 10m 11s (remain 0m 21s) Loss avg.: 0.5178 Grad: 0.5091 LR: 0.00100  \n",
      "Epoch: [1][1967/1968] Elapsed 10m 31s (remain 0m 0s) Loss avg.: 0.5164 Grad: 0.5223 LR: 0.00100  \n",
      "Eval: [0/219] Elapsed 0m 3s (remain 10m 58s) Loss avg.: 0.5047 \n",
      "Eval: [100/219] Elapsed 0m 11s (remain 0m 13s) Loss avg.: 0.4843 \n",
      "Eval: [200/219] Elapsed 0m 19s (remain 0m 1s) Loss avg.: 0.4830 \n",
      "Eval: [218/219] Elapsed 0m 21s (remain 0m 0s) Loss avg.: 0.4828 \n"
     ]
    },
    {
     "name": "stderr",
     "output_type": "stream",
     "text": [
      "Epoch 1 - avg_train_loss: 0.5164  avg_val_loss: 0.4828  time: 655s\n",
      "Epoch 1 - Accuracy: 0.7886271428571429\n",
      "Epoch 1 - Save Best Score: 0.7886 Model\n"
     ]
    },
    {
     "name": "stdout",
     "output_type": "stream",
     "text": [
      "Epoch: [2][0/1968] Elapsed 0m 3s (remain 115m 47s) Loss avg.: 0.4771 Grad: 0.4759 LR: 0.00098  \n",
      "Epoch: [2][100/1968] Elapsed 0m 32s (remain 10m 6s) Loss avg.: 0.4729 Grad: 0.7491 LR: 0.00098  \n",
      "Epoch: [2][200/1968] Elapsed 1m 2s (remain 9m 6s) Loss avg.: 0.4731 Grad: 0.4477 LR: 0.00098  \n",
      "Epoch: [2][300/1968] Elapsed 1m 31s (remain 8m 27s) Loss avg.: 0.4725 Grad: 0.4139 LR: 0.00098  \n",
      "Epoch: [2][400/1968] Elapsed 2m 0s (remain 7m 52s) Loss avg.: 0.4730 Grad: 0.4912 LR: 0.00098  \n",
      "Epoch: [2][500/1968] Elapsed 2m 30s (remain 7m 19s) Loss avg.: 0.4724 Grad: 0.4351 LR: 0.00098  \n",
      "Epoch: [2][600/1968] Elapsed 2m 59s (remain 6m 48s) Loss avg.: 0.4716 Grad: 0.4767 LR: 0.00098  \n",
      "Epoch: [2][700/1968] Elapsed 3m 28s (remain 6m 17s) Loss avg.: 0.4713 Grad: 0.7635 LR: 0.00098  \n",
      "Epoch: [2][800/1968] Elapsed 3m 58s (remain 5m 46s) Loss avg.: 0.4706 Grad: 0.4517 LR: 0.00098  \n",
      "Epoch: [2][900/1968] Elapsed 4m 27s (remain 5m 16s) Loss avg.: 0.4703 Grad: 0.7394 LR: 0.00098  \n",
      "Epoch: [2][1000/1968] Elapsed 4m 56s (remain 4m 46s) Loss avg.: 0.4699 Grad: 0.3933 LR: 0.00098  \n",
      "Epoch: [2][1100/1968] Elapsed 5m 26s (remain 4m 16s) Loss avg.: 0.4695 Grad: 0.5054 LR: 0.00098  \n",
      "Epoch: [2][1200/1968] Elapsed 5m 55s (remain 3m 46s) Loss avg.: 0.4692 Grad: 0.7017 LR: 0.00098  \n",
      "Epoch: [2][1300/1968] Elapsed 6m 24s (remain 3m 17s) Loss avg.: 0.4689 Grad: 0.3923 LR: 0.00098  \n",
      "Epoch: [2][1400/1968] Elapsed 6m 53s (remain 2m 47s) Loss avg.: 0.4686 Grad: 0.5063 LR: 0.00098  \n",
      "Epoch: [2][1500/1968] Elapsed 7m 23s (remain 2m 17s) Loss avg.: 0.4682 Grad: 0.5267 LR: 0.00098  \n",
      "Epoch: [2][1600/1968] Elapsed 7m 52s (remain 1m 48s) Loss avg.: 0.4679 Grad: 0.3516 LR: 0.00098  \n",
      "Epoch: [2][1700/1968] Elapsed 8m 21s (remain 1m 18s) Loss avg.: 0.4676 Grad: 0.3727 LR: 0.00098  \n",
      "Epoch: [2][1800/1968] Elapsed 8m 51s (remain 0m 49s) Loss avg.: 0.4673 Grad: 0.3270 LR: 0.00098  \n",
      "Epoch: [2][1900/1968] Elapsed 9m 20s (remain 0m 19s) Loss avg.: 0.4670 Grad: 0.3705 LR: 0.00098  \n",
      "Epoch: [2][1967/1968] Elapsed 9m 40s (remain 0m 0s) Loss avg.: 0.4668 Grad: 0.3642 LR: 0.00098  \n",
      "Eval: [0/219] Elapsed 0m 2s (remain 10m 23s) Loss avg.: 0.4823 \n",
      "Eval: [100/219] Elapsed 0m 11s (remain 0m 13s) Loss avg.: 0.4635 \n",
      "Eval: [200/219] Elapsed 0m 19s (remain 0m 1s) Loss avg.: 0.4624 \n",
      "Eval: [218/219] Elapsed 0m 21s (remain 0m 0s) Loss avg.: 0.4621 \n"
     ]
    },
    {
     "name": "stderr",
     "output_type": "stream",
     "text": [
      "Epoch 2 - avg_train_loss: 0.4668  avg_val_loss: 0.4621  time: 604s\n",
      "Epoch 2 - Accuracy: 0.80009\n",
      "Epoch 2 - Save Best Score: 0.8001 Model\n"
     ]
    },
    {
     "name": "stdout",
     "output_type": "stream",
     "text": [
      "Epoch: [3][0/1968] Elapsed 0m 3s (remain 117m 55s) Loss avg.: 0.4621 Grad: 0.4014 LR: 0.00091  \n",
      "Epoch: [3][100/1968] Elapsed 0m 32s (remain 10m 8s) Loss avg.: 0.4579 Grad: 0.4388 LR: 0.00091  \n",
      "Epoch: [3][200/1968] Elapsed 1m 2s (remain 9m 8s) Loss avg.: 0.4581 Grad: 0.3429 LR: 0.00091  \n",
      "Epoch: [3][300/1968] Elapsed 1m 31s (remain 8m 27s) Loss avg.: 0.4589 Grad: 0.3277 LR: 0.00091  \n",
      "Epoch: [3][400/1968] Elapsed 2m 0s (remain 7m 52s) Loss avg.: 0.4589 Grad: 0.5213 LR: 0.00091  \n",
      "Epoch: [3][500/1968] Elapsed 2m 30s (remain 7m 19s) Loss avg.: 0.4589 Grad: 0.3505 LR: 0.00091  \n",
      "Epoch: [3][600/1968] Elapsed 2m 59s (remain 6m 48s) Loss avg.: 0.4587 Grad: 0.3941 LR: 0.00091  \n",
      "Epoch: [3][700/1968] Elapsed 3m 28s (remain 6m 17s) Loss avg.: 0.4586 Grad: 0.3499 LR: 0.00091  \n",
      "Epoch: [3][800/1968] Elapsed 3m 58s (remain 5m 46s) Loss avg.: 0.4584 Grad: 0.3223 LR: 0.00091  \n",
      "Epoch: [3][900/1968] Elapsed 4m 27s (remain 5m 16s) Loss avg.: 0.4582 Grad: 0.4561 LR: 0.00091  \n",
      "Epoch: [3][1000/1968] Elapsed 4m 56s (remain 4m 46s) Loss avg.: 0.4580 Grad: 0.3457 LR: 0.00091  \n",
      "Epoch: [3][1100/1968] Elapsed 5m 26s (remain 4m 16s) Loss avg.: 0.4579 Grad: 0.4273 LR: 0.00091  \n",
      "Epoch: [3][1200/1968] Elapsed 5m 55s (remain 3m 46s) Loss avg.: 0.4579 Grad: 0.3900 LR: 0.00091  \n",
      "Epoch: [3][1300/1968] Elapsed 6m 24s (remain 3m 17s) Loss avg.: 0.4577 Grad: 0.3312 LR: 0.00091  \n",
      "Epoch: [3][1400/1968] Elapsed 6m 54s (remain 2m 47s) Loss avg.: 0.4575 Grad: 0.3067 LR: 0.00091  \n",
      "Epoch: [3][1500/1968] Elapsed 7m 23s (remain 2m 17s) Loss avg.: 0.4574 Grad: 0.4051 LR: 0.00091  \n",
      "Epoch: [3][1600/1968] Elapsed 7m 52s (remain 1m 48s) Loss avg.: 0.4573 Grad: 0.3391 LR: 0.00091  \n",
      "Epoch: [3][1700/1968] Elapsed 8m 22s (remain 1m 18s) Loss avg.: 0.4572 Grad: 0.4322 LR: 0.00091  \n",
      "Epoch: [3][1800/1968] Elapsed 8m 51s (remain 0m 49s) Loss avg.: 0.4570 Grad: 0.5071 LR: 0.00091  \n",
      "Epoch: [3][1900/1968] Elapsed 9m 20s (remain 0m 19s) Loss avg.: 0.4569 Grad: 0.3449 LR: 0.00091  \n",
      "Epoch: [3][1967/1968] Elapsed 9m 40s (remain 0m 0s) Loss avg.: 0.4568 Grad: 0.3541 LR: 0.00091  \n",
      "Eval: [0/219] Elapsed 0m 2s (remain 9m 42s) Loss avg.: 0.4798 \n",
      "Eval: [100/219] Elapsed 0m 11s (remain 0m 12s) Loss avg.: 0.4549 \n",
      "Eval: [200/219] Elapsed 0m 19s (remain 0m 1s) Loss avg.: 0.4542 \n",
      "Eval: [218/219] Elapsed 0m 20s (remain 0m 0s) Loss avg.: 0.4539 \n"
     ]
    },
    {
     "name": "stderr",
     "output_type": "stream",
     "text": [
      "Epoch 3 - avg_train_loss: 0.4568  avg_val_loss: 0.4539  time: 605s\n",
      "Epoch 3 - Accuracy: 0.8047471428571429\n",
      "Epoch 3 - Save Best Score: 0.8047 Model\n"
     ]
    },
    {
     "name": "stdout",
     "output_type": "stream",
     "text": [
      "Epoch: [4][0/1968] Elapsed 0m 3s (remain 112m 17s) Loss avg.: 0.4634 Grad: 0.3080 LR: 0.00081  \n",
      "Epoch: [4][100/1968] Elapsed 0m 32s (remain 10m 5s) Loss avg.: 0.4522 Grad: 0.2994 LR: 0.00081  \n",
      "Epoch: [4][200/1968] Elapsed 1m 2s (remain 9m 7s) Loss avg.: 0.4523 Grad: 0.3357 LR: 0.00081  \n",
      "Epoch: [4][300/1968] Elapsed 1m 31s (remain 8m 27s) Loss avg.: 0.4512 Grad: 0.3725 LR: 0.00081  \n",
      "Epoch: [4][400/1968] Elapsed 2m 0s (remain 7m 52s) Loss avg.: 0.4512 Grad: 0.5433 LR: 0.00081  \n",
      "Epoch: [4][500/1968] Elapsed 2m 30s (remain 7m 19s) Loss avg.: 0.4513 Grad: 0.3716 LR: 0.00081  \n",
      "Epoch: [4][600/1968] Elapsed 2m 59s (remain 6m 48s) Loss avg.: 0.4514 Grad: 0.4530 LR: 0.00081  \n",
      "Epoch: [4][700/1968] Elapsed 3m 28s (remain 6m 17s) Loss avg.: 0.4515 Grad: 0.2874 LR: 0.00081  \n",
      "Epoch: [4][800/1968] Elapsed 3m 58s (remain 5m 46s) Loss avg.: 0.4514 Grad: 0.2707 LR: 0.00081  \n",
      "Epoch: [4][900/1968] Elapsed 4m 27s (remain 5m 16s) Loss avg.: 0.4515 Grad: 0.2931 LR: 0.00081  \n",
      "Epoch: [4][1000/1968] Elapsed 4m 56s (remain 4m 46s) Loss avg.: 0.4513 Grad: 0.4236 LR: 0.00081  \n",
      "Epoch: [4][1100/1968] Elapsed 5m 26s (remain 4m 16s) Loss avg.: 0.4514 Grad: 0.2513 LR: 0.00081  \n",
      "Epoch: [4][1200/1968] Elapsed 5m 55s (remain 3m 47s) Loss avg.: 0.4514 Grad: 0.2600 LR: 0.00081  \n",
      "Epoch: [4][1300/1968] Elapsed 6m 24s (remain 3m 17s) Loss avg.: 0.4512 Grad: 0.2932 LR: 0.00081  \n",
      "Epoch: [4][1400/1968] Elapsed 6m 54s (remain 2m 47s) Loss avg.: 0.4512 Grad: 0.3283 LR: 0.00081  \n",
      "Epoch: [4][1500/1968] Elapsed 7m 23s (remain 2m 17s) Loss avg.: 0.4510 Grad: 0.2938 LR: 0.00081  \n",
      "Epoch: [4][1600/1968] Elapsed 7m 52s (remain 1m 48s) Loss avg.: 0.4510 Grad: 0.2918 LR: 0.00081  \n",
      "Epoch: [4][1700/1968] Elapsed 8m 22s (remain 1m 18s) Loss avg.: 0.4509 Grad: 0.3970 LR: 0.00081  \n",
      "Epoch: [4][1800/1968] Elapsed 8m 51s (remain 0m 49s) Loss avg.: 0.4509 Grad: 0.3147 LR: 0.00081  \n",
      "Epoch: [4][1900/1968] Elapsed 9m 20s (remain 0m 19s) Loss avg.: 0.4509 Grad: 0.3561 LR: 0.00081  \n",
      "Epoch: [4][1967/1968] Elapsed 9m 40s (remain 0m 0s) Loss avg.: 0.4508 Grad: 0.2617 LR: 0.00081  \n",
      "Eval: [0/219] Elapsed 0m 2s (remain 10m 49s) Loss avg.: 0.4739 \n",
      "Eval: [100/219] Elapsed 0m 11s (remain 0m 13s) Loss avg.: 0.4519 \n",
      "Eval: [200/219] Elapsed 0m 19s (remain 0m 1s) Loss avg.: 0.4512 \n",
      "Eval: [218/219] Elapsed 0m 21s (remain 0m 0s) Loss avg.: 0.4510 \n"
     ]
    },
    {
     "name": "stderr",
     "output_type": "stream",
     "text": [
      "Epoch 4 - avg_train_loss: 0.4508  avg_val_loss: 0.4510  time: 605s\n",
      "Epoch 4 - Accuracy: 0.8060042857142857\n",
      "Epoch 4 - Save Best Score: 0.8060 Model\n"
     ]
    },
    {
     "name": "stdout",
     "output_type": "stream",
     "text": [
      "Epoch: [5][0/1968] Elapsed 0m 3s (remain 130m 19s) Loss avg.: 0.4241 Grad: 0.3875 LR: 0.00069  \n",
      "Epoch: [5][100/1968] Elapsed 0m 33s (remain 10m 16s) Loss avg.: 0.4463 Grad: 0.3918 LR: 0.00069  \n",
      "Epoch: [5][200/1968] Elapsed 1m 2s (remain 9m 12s) Loss avg.: 0.4462 Grad: 0.3042 LR: 0.00069  \n",
      "Epoch: [5][300/1968] Elapsed 1m 32s (remain 8m 30s) Loss avg.: 0.4459 Grad: 0.3228 LR: 0.00069  \n",
      "Epoch: [5][400/1968] Elapsed 2m 1s (remain 7m 54s) Loss avg.: 0.4462 Grad: 0.3137 LR: 0.00069  \n",
      "Epoch: [5][500/1968] Elapsed 2m 30s (remain 7m 21s) Loss avg.: 0.4462 Grad: 0.4773 LR: 0.00069  \n",
      "Epoch: [5][600/1968] Elapsed 2m 59s (remain 6m 49s) Loss avg.: 0.4459 Grad: 0.3543 LR: 0.00069  \n",
      "Epoch: [5][700/1968] Elapsed 3m 29s (remain 6m 18s) Loss avg.: 0.4463 Grad: 0.3202 LR: 0.00069  \n",
      "Epoch: [5][800/1968] Elapsed 3m 58s (remain 5m 47s) Loss avg.: 0.4460 Grad: 0.2503 LR: 0.00069  \n",
      "Epoch: [5][900/1968] Elapsed 4m 27s (remain 5m 17s) Loss avg.: 0.4460 Grad: 0.3003 LR: 0.00069  \n",
      "Epoch: [5][1000/1968] Elapsed 4m 57s (remain 4m 47s) Loss avg.: 0.4460 Grad: 0.2617 LR: 0.00069  \n",
      "Epoch: [5][1100/1968] Elapsed 5m 26s (remain 4m 17s) Loss avg.: 0.4461 Grad: 0.3223 LR: 0.00069  \n",
      "Epoch: [5][1200/1968] Elapsed 5m 55s (remain 3m 47s) Loss avg.: 0.4460 Grad: 0.2647 LR: 0.00069  \n",
      "Epoch: [5][1300/1968] Elapsed 6m 24s (remain 3m 17s) Loss avg.: 0.4461 Grad: 0.3340 LR: 0.00069  \n",
      "Epoch: [5][1400/1968] Elapsed 6m 54s (remain 2m 47s) Loss avg.: 0.4461 Grad: 0.3107 LR: 0.00069  \n",
      "Epoch: [5][1500/1968] Elapsed 7m 23s (remain 2m 17s) Loss avg.: 0.4461 Grad: 0.3149 LR: 0.00069  \n",
      "Epoch: [5][1600/1968] Elapsed 7m 52s (remain 1m 48s) Loss avg.: 0.4461 Grad: 0.3063 LR: 0.00069  \n",
      "Epoch: [5][1700/1968] Elapsed 8m 22s (remain 1m 18s) Loss avg.: 0.4461 Grad: 0.3165 LR: 0.00069  \n",
      "Epoch: [5][1800/1968] Elapsed 8m 51s (remain 0m 49s) Loss avg.: 0.4460 Grad: 0.2866 LR: 0.00069  \n",
      "Epoch: [5][1900/1968] Elapsed 9m 20s (remain 0m 19s) Loss avg.: 0.4460 Grad: 0.2624 LR: 0.00069  \n",
      "Epoch: [5][1967/1968] Elapsed 9m 40s (remain 0m 0s) Loss avg.: 0.4460 Grad: 0.4602 LR: 0.00069  \n",
      "Eval: [0/219] Elapsed 0m 2s (remain 9m 32s) Loss avg.: 0.4664 \n",
      "Eval: [100/219] Elapsed 0m 10s (remain 0m 12s) Loss avg.: 0.4490 \n",
      "Eval: [200/219] Elapsed 0m 19s (remain 0m 1s) Loss avg.: 0.4482 \n",
      "Eval: [218/219] Elapsed 0m 20s (remain 0m 0s) Loss avg.: 0.4479 \n"
     ]
    },
    {
     "name": "stderr",
     "output_type": "stream",
     "text": [
      "Epoch 5 - avg_train_loss: 0.4460  avg_val_loss: 0.4479  time: 603s\n",
      "Epoch 5 - Accuracy: 0.8066814285714285\n",
      "Epoch 5 - Save Best Score: 0.8067 Model\n"
     ]
    },
    {
     "name": "stdout",
     "output_type": "stream",
     "text": [
      "Epoch: [6][0/1968] Elapsed 0m 3s (remain 110m 25s) Loss avg.: 0.4517 Grad: 0.2852 LR: 0.00055  \n",
      "Epoch: [6][100/1968] Elapsed 0m 32s (remain 10m 3s) Loss avg.: 0.4416 Grad: 0.2851 LR: 0.00055  \n",
      "Epoch: [6][200/1968] Elapsed 1m 2s (remain 9m 6s) Loss avg.: 0.4426 Grad: 0.2434 LR: 0.00055  \n",
      "Epoch: [6][300/1968] Elapsed 1m 31s (remain 8m 26s) Loss avg.: 0.4422 Grad: 0.3680 LR: 0.00055  \n",
      "Epoch: [6][400/1968] Elapsed 2m 0s (remain 7m 51s) Loss avg.: 0.4424 Grad: 0.2878 LR: 0.00055  \n",
      "Epoch: [6][500/1968] Elapsed 2m 30s (remain 7m 19s) Loss avg.: 0.4428 Grad: 0.3051 LR: 0.00055  \n",
      "Epoch: [6][600/1968] Elapsed 2m 59s (remain 6m 47s) Loss avg.: 0.4427 Grad: 0.3776 LR: 0.00055  \n",
      "Epoch: [6][700/1968] Elapsed 3m 28s (remain 6m 16s) Loss avg.: 0.4423 Grad: 0.2771 LR: 0.00055  \n",
      "Epoch: [6][800/1968] Elapsed 3m 57s (remain 5m 46s) Loss avg.: 0.4420 Grad: 0.2834 LR: 0.00055  \n",
      "Epoch: [6][900/1968] Elapsed 4m 27s (remain 5m 16s) Loss avg.: 0.4419 Grad: 0.2814 LR: 0.00055  \n",
      "Epoch: [6][1000/1968] Elapsed 4m 56s (remain 4m 46s) Loss avg.: 0.4419 Grad: 0.2994 LR: 0.00055  \n",
      "Epoch: [6][1100/1968] Elapsed 5m 25s (remain 4m 16s) Loss avg.: 0.4421 Grad: 0.2869 LR: 0.00055  \n",
      "Epoch: [6][1200/1968] Elapsed 5m 55s (remain 3m 46s) Loss avg.: 0.4422 Grad: 0.3412 LR: 0.00055  \n",
      "Epoch: [6][1300/1968] Elapsed 6m 24s (remain 3m 17s) Loss avg.: 0.4423 Grad: 0.2818 LR: 0.00055  \n",
      "Epoch: [6][1400/1968] Elapsed 6m 53s (remain 2m 47s) Loss avg.: 0.4422 Grad: 0.3833 LR: 0.00055  \n",
      "Epoch: [6][1500/1968] Elapsed 7m 23s (remain 2m 17s) Loss avg.: 0.4421 Grad: 0.3903 LR: 0.00055  \n",
      "Epoch: [6][1600/1968] Elapsed 7m 52s (remain 1m 48s) Loss avg.: 0.4421 Grad: 0.2516 LR: 0.00055  \n",
      "Epoch: [6][1700/1968] Elapsed 8m 21s (remain 1m 18s) Loss avg.: 0.4421 Grad: 0.3001 LR: 0.00055  \n",
      "Epoch: [6][1800/1968] Elapsed 8m 51s (remain 0m 49s) Loss avg.: 0.4421 Grad: 0.2987 LR: 0.00055  \n",
      "Epoch: [6][1900/1968] Elapsed 9m 20s (remain 0m 19s) Loss avg.: 0.4420 Grad: 0.3001 LR: 0.00055  \n",
      "Epoch: [6][1967/1968] Elapsed 9m 40s (remain 0m 0s) Loss avg.: 0.4420 Grad: 0.2830 LR: 0.00055  \n",
      "Eval: [0/219] Elapsed 0m 2s (remain 9m 14s) Loss avg.: 0.4620 \n",
      "Eval: [100/219] Elapsed 0m 10s (remain 0m 12s) Loss avg.: 0.4450 \n",
      "Eval: [200/219] Elapsed 0m 19s (remain 0m 1s) Loss avg.: 0.4443 \n",
      "Eval: [218/219] Elapsed 0m 20s (remain 0m 0s) Loss avg.: 0.4439 \n"
     ]
    },
    {
     "name": "stderr",
     "output_type": "stream",
     "text": [
      "Epoch 6 - avg_train_loss: 0.4420  avg_val_loss: 0.4439  time: 604s\n",
      "Epoch 6 - Accuracy: 0.80921\n",
      "Epoch 6 - Save Best Score: 0.8092 Model\n"
     ]
    },
    {
     "name": "stdout",
     "output_type": "stream",
     "text": [
      "Epoch: [7][0/1968] Elapsed 0m 3s (remain 108m 56s) Loss avg.: 0.4206 Grad: 0.2226 LR: 0.00041  \n",
      "Epoch: [7][100/1968] Elapsed 0m 32s (remain 10m 4s) Loss avg.: 0.4381 Grad: 0.2883 LR: 0.00041  \n",
      "Epoch: [7][200/1968] Elapsed 1m 2s (remain 9m 6s) Loss avg.: 0.4377 Grad: 0.3768 LR: 0.00041  \n",
      "Epoch: [7][300/1968] Elapsed 1m 31s (remain 8m 26s) Loss avg.: 0.4381 Grad: 0.3899 LR: 0.00041  \n",
      "Epoch: [7][400/1968] Elapsed 2m 0s (remain 7m 51s) Loss avg.: 0.4381 Grad: 0.2856 LR: 0.00041  \n",
      "Epoch: [7][500/1968] Elapsed 2m 29s (remain 7m 19s) Loss avg.: 0.4381 Grad: 0.3066 LR: 0.00041  \n",
      "Epoch: [7][600/1968] Elapsed 2m 59s (remain 6m 47s) Loss avg.: 0.4379 Grad: 0.2621 LR: 0.00041  \n",
      "Epoch: [7][700/1968] Elapsed 3m 28s (remain 6m 16s) Loss avg.: 0.4382 Grad: 0.3011 LR: 0.00041  \n",
      "Epoch: [7][800/1968] Elapsed 3m 57s (remain 5m 46s) Loss avg.: 0.4385 Grad: 0.3024 LR: 0.00041  \n",
      "Epoch: [7][900/1968] Elapsed 4m 27s (remain 5m 16s) Loss avg.: 0.4386 Grad: 0.2453 LR: 0.00041  \n",
      "Epoch: [7][1000/1968] Elapsed 4m 56s (remain 4m 46s) Loss avg.: 0.4387 Grad: 0.3335 LR: 0.00041  \n",
      "Epoch: [7][1100/1968] Elapsed 5m 25s (remain 4m 16s) Loss avg.: 0.4385 Grad: 0.3179 LR: 0.00041  \n",
      "Epoch: [7][1200/1968] Elapsed 5m 55s (remain 3m 46s) Loss avg.: 0.4386 Grad: 0.3009 LR: 0.00041  \n",
      "Epoch: [7][1300/1968] Elapsed 6m 24s (remain 3m 17s) Loss avg.: 0.4388 Grad: 0.3383 LR: 0.00041  \n",
      "Epoch: [7][1400/1968] Elapsed 6m 53s (remain 2m 47s) Loss avg.: 0.4387 Grad: 0.3824 LR: 0.00041  \n",
      "Epoch: [7][1500/1968] Elapsed 7m 23s (remain 2m 17s) Loss avg.: 0.4387 Grad: 0.4110 LR: 0.00041  \n",
      "Epoch: [7][1600/1968] Elapsed 7m 52s (remain 1m 48s) Loss avg.: 0.4386 Grad: 0.3237 LR: 0.00041  \n",
      "Epoch: [7][1700/1968] Elapsed 8m 21s (remain 1m 18s) Loss avg.: 0.4385 Grad: 0.2547 LR: 0.00041  \n",
      "Epoch: [7][1800/1968] Elapsed 8m 51s (remain 0m 49s) Loss avg.: 0.4385 Grad: 0.2312 LR: 0.00041  \n",
      "Epoch: [7][1900/1968] Elapsed 9m 20s (remain 0m 19s) Loss avg.: 0.4386 Grad: 0.2670 LR: 0.00041  \n",
      "Epoch: [7][1967/1968] Elapsed 9m 40s (remain 0m 0s) Loss avg.: 0.4386 Grad: 0.3633 LR: 0.00041  \n",
      "Eval: [0/219] Elapsed 0m 2s (remain 9m 16s) Loss avg.: 0.4574 \n",
      "Eval: [100/219] Elapsed 0m 10s (remain 0m 12s) Loss avg.: 0.4444 \n",
      "Eval: [200/219] Elapsed 0m 19s (remain 0m 1s) Loss avg.: 0.4434 \n",
      "Eval: [218/219] Elapsed 0m 20s (remain 0m 0s) Loss avg.: 0.4431 \n"
     ]
    },
    {
     "name": "stderr",
     "output_type": "stream",
     "text": [
      "Epoch 7 - avg_train_loss: 0.4386  avg_val_loss: 0.4431  time: 604s\n",
      "Epoch 7 - Accuracy: 0.8093828571428572\n",
      "Epoch 7 - Save Best Score: 0.8094 Model\n"
     ]
    },
    {
     "name": "stdout",
     "output_type": "stream",
     "text": [
      "Epoch: [8][0/1968] Elapsed 0m 3s (remain 109m 54s) Loss avg.: 0.4385 Grad: 0.3875 LR: 0.00029  \n",
      "Epoch: [8][100/1968] Elapsed 0m 32s (remain 10m 4s) Loss avg.: 0.4358 Grad: 0.2992 LR: 0.00029  \n",
      "Epoch: [8][200/1968] Elapsed 1m 2s (remain 9m 6s) Loss avg.: 0.4353 Grad: 0.3822 LR: 0.00029  \n",
      "Epoch: [8][300/1968] Elapsed 1m 31s (remain 8m 26s) Loss avg.: 0.4351 Grad: 0.2532 LR: 0.00029  \n",
      "Epoch: [8][400/1968] Elapsed 2m 0s (remain 7m 51s) Loss avg.: 0.4352 Grad: 0.2536 LR: 0.00029  \n",
      "Epoch: [8][500/1968] Elapsed 2m 29s (remain 7m 19s) Loss avg.: 0.4351 Grad: 0.2722 LR: 0.00029  \n",
      "Epoch: [8][600/1968] Elapsed 2m 59s (remain 6m 47s) Loss avg.: 0.4350 Grad: 0.2613 LR: 0.00029  \n",
      "Epoch: [8][700/1968] Elapsed 3m 28s (remain 6m 16s) Loss avg.: 0.4352 Grad: 0.2542 LR: 0.00029  \n",
      "Epoch: [8][800/1968] Elapsed 3m 57s (remain 5m 46s) Loss avg.: 0.4352 Grad: 0.3421 LR: 0.00029  \n",
      "Epoch: [8][900/1968] Elapsed 4m 27s (remain 5m 16s) Loss avg.: 0.4351 Grad: 0.3088 LR: 0.00029  \n",
      "Epoch: [8][1000/1968] Elapsed 4m 56s (remain 4m 46s) Loss avg.: 0.4351 Grad: 0.3424 LR: 0.00029  \n",
      "Epoch: [8][1100/1968] Elapsed 5m 25s (remain 4m 16s) Loss avg.: 0.4353 Grad: 0.3287 LR: 0.00029  \n",
      "Epoch: [8][1200/1968] Elapsed 5m 55s (remain 3m 46s) Loss avg.: 0.4353 Grad: 0.2588 LR: 0.00029  \n",
      "Epoch: [8][1300/1968] Elapsed 6m 24s (remain 3m 17s) Loss avg.: 0.4354 Grad: 0.2745 LR: 0.00029  \n",
      "Epoch: [8][1400/1968] Elapsed 6m 53s (remain 2m 47s) Loss avg.: 0.4355 Grad: 0.3521 LR: 0.00029  \n",
      "Epoch: [8][1500/1968] Elapsed 7m 22s (remain 2m 17s) Loss avg.: 0.4355 Grad: 0.2392 LR: 0.00029  \n",
      "Epoch: [8][1600/1968] Elapsed 7m 52s (remain 1m 48s) Loss avg.: 0.4355 Grad: 0.2909 LR: 0.00029  \n",
      "Epoch: [8][1700/1968] Elapsed 8m 21s (remain 1m 18s) Loss avg.: 0.4356 Grad: 0.2630 LR: 0.00029  \n",
      "Epoch: [8][1800/1968] Elapsed 8m 51s (remain 0m 49s) Loss avg.: 0.4354 Grad: 0.3195 LR: 0.00029  \n",
      "Epoch: [8][1900/1968] Elapsed 9m 20s (remain 0m 19s) Loss avg.: 0.4355 Grad: 0.2533 LR: 0.00029  \n",
      "Epoch: [8][1967/1968] Elapsed 9m 40s (remain 0m 0s) Loss avg.: 0.4355 Grad: 0.4051 LR: 0.00029  \n",
      "Eval: [0/219] Elapsed 0m 2s (remain 10m 31s) Loss avg.: 0.4536 \n",
      "Eval: [100/219] Elapsed 0m 11s (remain 0m 13s) Loss avg.: 0.4414 \n",
      "Eval: [200/219] Elapsed 0m 19s (remain 0m 1s) Loss avg.: 0.4405 \n",
      "Eval: [218/219] Elapsed 0m 20s (remain 0m 0s) Loss avg.: 0.4402 \n"
     ]
    },
    {
     "name": "stderr",
     "output_type": "stream",
     "text": [
      "Epoch 8 - avg_train_loss: 0.4355  avg_val_loss: 0.4402  time: 604s\n",
      "Epoch 8 - Accuracy: 0.8108542857142857\n",
      "Epoch 8 - Save Best Score: 0.8109 Model\n"
     ]
    },
    {
     "name": "stdout",
     "output_type": "stream",
     "text": [
      "Epoch: [9][0/1968] Elapsed 0m 3s (remain 110m 20s) Loss avg.: 0.4455 Grad: 0.2769 LR: 0.00019  \n",
      "Epoch: [9][100/1968] Elapsed 0m 32s (remain 10m 6s) Loss avg.: 0.4325 Grad: 0.2671 LR: 0.00019  \n",
      "Epoch: [9][200/1968] Elapsed 1m 2s (remain 9m 7s) Loss avg.: 0.4324 Grad: 0.2460 LR: 0.00019  \n",
      "Epoch: [9][300/1968] Elapsed 1m 31s (remain 8m 27s) Loss avg.: 0.4325 Grad: 0.2733 LR: 0.00019  \n",
      "Epoch: [9][400/1968] Elapsed 2m 0s (remain 7m 52s) Loss avg.: 0.4323 Grad: 0.3128 LR: 0.00019  \n",
      "Epoch: [9][500/1968] Elapsed 2m 30s (remain 7m 20s) Loss avg.: 0.4324 Grad: 0.2499 LR: 0.00019  \n",
      "Epoch: [9][600/1968] Elapsed 2m 59s (remain 6m 48s) Loss avg.: 0.4325 Grad: 0.2605 LR: 0.00019  \n",
      "Epoch: [9][700/1968] Elapsed 3m 29s (remain 6m 17s) Loss avg.: 0.4327 Grad: 0.3019 LR: 0.00019  \n",
      "Epoch: [9][800/1968] Elapsed 3m 58s (remain 5m 47s) Loss avg.: 0.4328 Grad: 0.2625 LR: 0.00019  \n",
      "Epoch: [9][900/1968] Elapsed 4m 27s (remain 5m 17s) Loss avg.: 0.4329 Grad: 0.3372 LR: 0.00019  \n",
      "Epoch: [9][1000/1968] Elapsed 4m 57s (remain 4m 47s) Loss avg.: 0.4328 Grad: 0.2993 LR: 0.00019  \n",
      "Epoch: [9][1100/1968] Elapsed 5m 26s (remain 4m 17s) Loss avg.: 0.4327 Grad: 0.2853 LR: 0.00019  \n",
      "Epoch: [9][1200/1968] Elapsed 5m 55s (remain 3m 47s) Loss avg.: 0.4328 Grad: 0.2571 LR: 0.00019  \n",
      "Epoch: [9][1300/1968] Elapsed 6m 25s (remain 3m 17s) Loss avg.: 0.4328 Grad: 0.3253 LR: 0.00019  \n",
      "Epoch: [9][1400/1968] Elapsed 6m 54s (remain 2m 47s) Loss avg.: 0.4329 Grad: 0.4074 LR: 0.00019  \n",
      "Epoch: [9][1500/1968] Elapsed 7m 23s (remain 2m 18s) Loss avg.: 0.4330 Grad: 0.2926 LR: 0.00019  \n",
      "Epoch: [9][1600/1968] Elapsed 7m 53s (remain 1m 48s) Loss avg.: 0.4331 Grad: 0.2863 LR: 0.00019  \n",
      "Epoch: [9][1700/1968] Elapsed 8m 22s (remain 1m 18s) Loss avg.: 0.4331 Grad: 0.3897 LR: 0.00019  \n",
      "Epoch: [9][1800/1968] Elapsed 8m 52s (remain 0m 49s) Loss avg.: 0.4329 Grad: 0.3540 LR: 0.00019  \n",
      "Epoch: [9][1900/1968] Elapsed 9m 21s (remain 0m 19s) Loss avg.: 0.4329 Grad: 0.2583 LR: 0.00019  \n",
      "Epoch: [9][1967/1968] Elapsed 9m 41s (remain 0m 0s) Loss avg.: 0.4330 Grad: 0.2726 LR: 0.00019  \n",
      "Eval: [0/219] Elapsed 0m 2s (remain 9m 20s) Loss avg.: 0.4534 \n",
      "Eval: [100/219] Elapsed 0m 10s (remain 0m 12s) Loss avg.: 0.4400 \n",
      "Eval: [200/219] Elapsed 0m 19s (remain 0m 1s) Loss avg.: 0.4390 \n",
      "Eval: [218/219] Elapsed 0m 20s (remain 0m 0s) Loss avg.: 0.4387 \n"
     ]
    },
    {
     "name": "stderr",
     "output_type": "stream",
     "text": [
      "Epoch 9 - avg_train_loss: 0.4330  avg_val_loss: 0.4387  time: 605s\n",
      "Epoch 9 - Accuracy: 0.8115785714285715\n",
      "Epoch 9 - Save Best Score: 0.8116 Model\n"
     ]
    },
    {
     "name": "stdout",
     "output_type": "stream",
     "text": [
      "Epoch: [10][0/1968] Elapsed 0m 3s (remain 109m 57s) Loss avg.: 0.4164 Grad: 0.3117 LR: 0.00012  \n",
      "Epoch: [10][100/1968] Elapsed 0m 32s (remain 10m 5s) Loss avg.: 0.4290 Grad: 0.2728 LR: 0.00012  \n",
      "Epoch: [10][200/1968] Elapsed 1m 2s (remain 9m 7s) Loss avg.: 0.4305 Grad: 0.3094 LR: 0.00012  \n",
      "Epoch: [10][300/1968] Elapsed 1m 31s (remain 8m 26s) Loss avg.: 0.4305 Grad: 0.2593 LR: 0.00012  \n",
      "Epoch: [10][400/1968] Elapsed 2m 0s (remain 7m 51s) Loss avg.: 0.4306 Grad: 0.3155 LR: 0.00012  \n",
      "Epoch: [10][500/1968] Elapsed 2m 30s (remain 7m 19s) Loss avg.: 0.4305 Grad: 0.2449 LR: 0.00012  \n",
      "Epoch: [10][600/1968] Elapsed 2m 59s (remain 6m 47s) Loss avg.: 0.4307 Grad: 0.2464 LR: 0.00012  \n",
      "Epoch: [10][700/1968] Elapsed 3m 28s (remain 6m 16s) Loss avg.: 0.4310 Grad: 0.2926 LR: 0.00012  \n",
      "Epoch: [10][800/1968] Elapsed 3m 57s (remain 5m 46s) Loss avg.: 0.4309 Grad: 0.2898 LR: 0.00012  \n",
      "Epoch: [10][900/1968] Elapsed 4m 27s (remain 5m 16s) Loss avg.: 0.4312 Grad: 0.3259 LR: 0.00012  \n",
      "Epoch: [10][1000/1968] Elapsed 4m 56s (remain 4m 46s) Loss avg.: 0.4311 Grad: 0.2836 LR: 0.00012  \n",
      "Epoch: [10][1100/1968] Elapsed 5m 25s (remain 4m 16s) Loss avg.: 0.4312 Grad: 0.2510 LR: 0.00012  \n",
      "Epoch: [10][1200/1968] Elapsed 5m 55s (remain 3m 46s) Loss avg.: 0.4312 Grad: 0.2720 LR: 0.00012  \n",
      "Epoch: [10][1300/1968] Elapsed 6m 24s (remain 3m 17s) Loss avg.: 0.4311 Grad: 0.3383 LR: 0.00012  \n",
      "Epoch: [10][1400/1968] Elapsed 6m 53s (remain 2m 47s) Loss avg.: 0.4311 Grad: 0.2795 LR: 0.00012  \n",
      "Epoch: [10][1500/1968] Elapsed 7m 22s (remain 2m 17s) Loss avg.: 0.4311 Grad: 0.2529 LR: 0.00012  \n",
      "Epoch: [10][1600/1968] Elapsed 7m 52s (remain 1m 48s) Loss avg.: 0.4313 Grad: 0.3312 LR: 0.00012  \n",
      "Epoch: [10][1700/1968] Elapsed 8m 21s (remain 1m 18s) Loss avg.: 0.4312 Grad: 0.2583 LR: 0.00012  \n",
      "Epoch: [10][1800/1968] Elapsed 8m 50s (remain 0m 49s) Loss avg.: 0.4312 Grad: 0.2680 LR: 0.00012  \n",
      "Epoch: [10][1900/1968] Elapsed 9m 20s (remain 0m 19s) Loss avg.: 0.4313 Grad: 0.2884 LR: 0.00012  \n",
      "Epoch: [10][1967/1968] Elapsed 9m 39s (remain 0m 0s) Loss avg.: 0.4312 Grad: 0.2910 LR: 0.00012  \n",
      "Eval: [0/219] Elapsed 0m 2s (remain 9m 15s) Loss avg.: 0.4530 \n",
      "Eval: [100/219] Elapsed 0m 10s (remain 0m 12s) Loss avg.: 0.4390 \n",
      "Eval: [200/219] Elapsed 0m 19s (remain 0m 1s) Loss avg.: 0.4381 \n",
      "Eval: [218/219] Elapsed 0m 20s (remain 0m 0s) Loss avg.: 0.4378 \n"
     ]
    },
    {
     "name": "stderr",
     "output_type": "stream",
     "text": [
      "Epoch 10 - avg_train_loss: 0.4312  avg_val_loss: 0.4378  time: 602s\n",
      "Epoch 10 - Accuracy: 0.812\n",
      "Epoch 10 - Save Best Score: 0.8120 Model\n",
      "Epoch 10 - Save final model\n",
      "========== fold: 0 result ==========\n",
      "Score: 0.81200\n"
     ]
    }
   ],
   "source": [
    "if __name__ == \"__main__\":\n",
    "    main()"
   ]
  },
  {
   "cell_type": "code",
   "execution_count": null,
   "metadata": {},
   "outputs": [],
   "source": []
  }
 ],
 "metadata": {
  "accelerator": "GPU",
  "colab": {
   "collapsed_sections": [],
   "include_colab_link": true,
   "name": "hungry-geese-train-by-episode.ipynb",
   "provenance": [],
   "toc_visible": true
  },
  "kernelspec": {
   "display_name": "pytorch",
   "language": "python",
   "name": "pytorch"
  },
  "language_info": {
   "codemirror_mode": {
    "name": "ipython",
    "version": 3
   },
   "file_extension": ".py",
   "mimetype": "text/x-python",
   "name": "python",
   "nbconvert_exporter": "python",
   "pygments_lexer": "ipython3",
   "version": "3.7.8"
  },
  "papermill": {
   "default_parameters": {},
   "duration": 2945.71762,
   "end_time": "2021-05-12T03:50:02.012348",
   "environment_variables": {},
   "exception": null,
   "input_path": "__notebook__.ipynb",
   "output_path": "__notebook__.ipynb",
   "parameters": {},
   "start_time": "2021-05-12T03:00:56.294728",
   "version": "2.3.3"
  },
  "widgets": {
   "application/vnd.jupyter.widget-state+json": {
    "04a486aa6f454d8f92e388dba1b9ee21": {
     "model_module": "@jupyter-widgets/controls",
     "model_name": "DescriptionStyleModel",
     "state": {
      "_model_module": "@jupyter-widgets/controls",
      "_model_module_version": "1.5.0",
      "_model_name": "DescriptionStyleModel",
      "_view_count": null,
      "_view_module": "@jupyter-widgets/base",
      "_view_module_version": "1.2.0",
      "_view_name": "StyleView",
      "description_width": ""
     }
    },
    "0857c0fa22b544488d65bb2c7dad18ee": {
     "model_module": "@jupyter-widgets/controls",
     "model_name": "FloatProgressModel",
     "state": {
      "_dom_classes": [],
      "_model_module": "@jupyter-widgets/controls",
      "_model_module_version": "1.5.0",
      "_model_name": "FloatProgressModel",
      "_view_count": null,
      "_view_module": "@jupyter-widgets/controls",
      "_view_module_version": "1.5.0",
      "_view_name": "ProgressView",
      "bar_style": "success",
      "description": "100%",
      "description_tooltip": null,
      "layout": "IPY_MODEL_f905db5005be40b194ea150c8b0deb9f",
      "max": 1001,
      "min": 0,
      "orientation": "horizontal",
      "style": "IPY_MODEL_c96b7bfbdf0243a8ae1dbb3d9aedf123",
      "value": 1001
     }
    },
    "4134662bdbe04a918d9809632e268ef8": {
     "model_module": "@jupyter-widgets/controls",
     "model_name": "HBoxModel",
     "state": {
      "_dom_classes": [],
      "_model_module": "@jupyter-widgets/controls",
      "_model_module_version": "1.5.0",
      "_model_name": "HBoxModel",
      "_view_count": null,
      "_view_module": "@jupyter-widgets/controls",
      "_view_module_version": "1.5.0",
      "_view_name": "HBoxView",
      "box_style": "",
      "children": [
       "IPY_MODEL_0857c0fa22b544488d65bb2c7dad18ee",
       "IPY_MODEL_e33e4f894b424988b316c468bc9225ce"
      ],
      "layout": "IPY_MODEL_8ddb49ac3c91409f99a569a061a70b3d"
     }
    },
    "507d2b6a02bb43d0bb4c8c2734f19cbb": {
     "model_module": "@jupyter-widgets/base",
     "model_name": "LayoutModel",
     "state": {
      "_model_module": "@jupyter-widgets/base",
      "_model_module_version": "1.2.0",
      "_model_name": "LayoutModel",
      "_view_count": null,
      "_view_module": "@jupyter-widgets/base",
      "_view_module_version": "1.2.0",
      "_view_name": "LayoutView",
      "align_content": null,
      "align_items": null,
      "align_self": null,
      "border": null,
      "bottom": null,
      "display": null,
      "flex": null,
      "flex_flow": null,
      "grid_area": null,
      "grid_auto_columns": null,
      "grid_auto_flow": null,
      "grid_auto_rows": null,
      "grid_column": null,
      "grid_gap": null,
      "grid_row": null,
      "grid_template_areas": null,
      "grid_template_columns": null,
      "grid_template_rows": null,
      "height": null,
      "justify_content": null,
      "justify_items": null,
      "left": null,
      "margin": null,
      "max_height": null,
      "max_width": null,
      "min_height": null,
      "min_width": null,
      "object_fit": null,
      "object_position": null,
      "order": null,
      "overflow": null,
      "overflow_x": null,
      "overflow_y": null,
      "padding": null,
      "right": null,
      "top": null,
      "visibility": null,
      "width": null
     }
    },
    "8ddb49ac3c91409f99a569a061a70b3d": {
     "model_module": "@jupyter-widgets/base",
     "model_name": "LayoutModel",
     "state": {
      "_model_module": "@jupyter-widgets/base",
      "_model_module_version": "1.2.0",
      "_model_name": "LayoutModel",
      "_view_count": null,
      "_view_module": "@jupyter-widgets/base",
      "_view_module_version": "1.2.0",
      "_view_name": "LayoutView",
      "align_content": null,
      "align_items": null,
      "align_self": null,
      "border": null,
      "bottom": null,
      "display": null,
      "flex": null,
      "flex_flow": null,
      "grid_area": null,
      "grid_auto_columns": null,
      "grid_auto_flow": null,
      "grid_auto_rows": null,
      "grid_column": null,
      "grid_gap": null,
      "grid_row": null,
      "grid_template_areas": null,
      "grid_template_columns": null,
      "grid_template_rows": null,
      "height": null,
      "justify_content": null,
      "justify_items": null,
      "left": null,
      "margin": null,
      "max_height": null,
      "max_width": null,
      "min_height": null,
      "min_width": null,
      "object_fit": null,
      "object_position": null,
      "order": null,
      "overflow": null,
      "overflow_x": null,
      "overflow_y": null,
      "padding": null,
      "right": null,
      "top": null,
      "visibility": null,
      "width": null
     }
    },
    "c96b7bfbdf0243a8ae1dbb3d9aedf123": {
     "model_module": "@jupyter-widgets/controls",
     "model_name": "ProgressStyleModel",
     "state": {
      "_model_module": "@jupyter-widgets/controls",
      "_model_module_version": "1.5.0",
      "_model_name": "ProgressStyleModel",
      "_view_count": null,
      "_view_module": "@jupyter-widgets/base",
      "_view_module_version": "1.2.0",
      "_view_name": "StyleView",
      "bar_color": null,
      "description_width": "initial"
     }
    },
    "e33e4f894b424988b316c468bc9225ce": {
     "model_module": "@jupyter-widgets/controls",
     "model_name": "HTMLModel",
     "state": {
      "_dom_classes": [],
      "_model_module": "@jupyter-widgets/controls",
      "_model_module_version": "1.5.0",
      "_model_name": "HTMLModel",
      "_view_count": null,
      "_view_module": "@jupyter-widgets/controls",
      "_view_module_version": "1.5.0",
      "_view_name": "HTMLView",
      "description": "",
      "description_tooltip": null,
      "layout": "IPY_MODEL_507d2b6a02bb43d0bb4c8c2734f19cbb",
      "placeholder": "​",
      "style": "IPY_MODEL_04a486aa6f454d8f92e388dba1b9ee21",
      "value": " 1001/1001 [03:35&lt;00:00,  4.64it/s]"
     }
    },
    "f905db5005be40b194ea150c8b0deb9f": {
     "model_module": "@jupyter-widgets/base",
     "model_name": "LayoutModel",
     "state": {
      "_model_module": "@jupyter-widgets/base",
      "_model_module_version": "1.2.0",
      "_model_name": "LayoutModel",
      "_view_count": null,
      "_view_module": "@jupyter-widgets/base",
      "_view_module_version": "1.2.0",
      "_view_name": "LayoutView",
      "align_content": null,
      "align_items": null,
      "align_self": null,
      "border": null,
      "bottom": null,
      "display": null,
      "flex": null,
      "flex_flow": null,
      "grid_area": null,
      "grid_auto_columns": null,
      "grid_auto_flow": null,
      "grid_auto_rows": null,
      "grid_column": null,
      "grid_gap": null,
      "grid_row": null,
      "grid_template_areas": null,
      "grid_template_columns": null,
      "grid_template_rows": null,
      "height": null,
      "justify_content": null,
      "justify_items": null,
      "left": null,
      "margin": null,
      "max_height": null,
      "max_width": null,
      "min_height": null,
      "min_width": null,
      "object_fit": null,
      "object_position": null,
      "order": null,
      "overflow": null,
      "overflow_x": null,
      "overflow_y": null,
      "padding": null,
      "right": null,
      "top": null,
      "visibility": null,
      "width": null
     }
    }
   }
  }
 },
 "nbformat": 4,
 "nbformat_minor": 5
}
