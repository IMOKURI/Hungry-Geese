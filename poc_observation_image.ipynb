{
 "cells": [
  {
   "cell_type": "code",
   "execution_count": 113,
   "metadata": {},
   "outputs": [],
   "source": [
    "import io\n",
    "\n",
    "import cv2\n",
    "import matplotlib.pyplot as plt\n",
    "import numpy as np\n",
    "\n",
    "%matplotlib inline"
   ]
  },
  {
   "cell_type": "code",
   "execution_count": 114,
   "metadata": {},
   "outputs": [],
   "source": [
    "obs_list = [\n",
    "    [\n",
    "        {\n",
    "            \"action\": \"EAST\",\n",
    "            \"reward\": 902,\n",
    "            \"info\": {},\n",
    "            \"observation\": {\n",
    "                \"remainingOverageTime\": 60,\n",
    "                \"step\": 8,\n",
    "                \"geese\": [[53, 54], [65], [7, 73, 72], [2, 3, 4]],\n",
    "                \"food\": [29, 71],\n",
    "                \"index\": 0,\n",
    "            },\n",
    "            \"status\": \"ACTIVE\",\n",
    "        },\n",
    "        {\n",
    "            \"action\": \"NORTH\",\n",
    "            \"reward\": 901,\n",
    "            \"info\": {},\n",
    "            \"observation\": {\"remainingOverageTime\": 60, \"index\": 1},\n",
    "            \"status\": \"ACTIVE\",\n",
    "        },\n",
    "        {\n",
    "            \"action\": \"EAST\",\n",
    "            \"reward\": 903,\n",
    "            \"info\": {},\n",
    "            \"observation\": {\"remainingOverageTime\": 60, \"index\": 2},\n",
    "            \"status\": \"ACTIVE\",\n",
    "        },\n",
    "        {\n",
    "            \"action\": \"EAST\",\n",
    "            \"reward\": 903,\n",
    "            \"info\": {},\n",
    "            \"observation\": {\"remainingOverageTime\": 60, \"index\": 3},\n",
    "            \"status\": \"ACTIVE\",\n",
    "        },\n",
    "    ],\n",
    "    [\n",
    "        {\n",
    "            \"action\": \"EAST\",\n",
    "            \"reward\": 1002,\n",
    "            \"info\": {},\n",
    "            \"observation\": {\n",
    "                \"remainingOverageTime\": 60,\n",
    "                \"step\": 9,\n",
    "                \"geese\": [[56, 55, 44, 33], [66, 67, 68, 69], [8, 7, 73, 72, 71], [1]],\n",
    "                \"food\": [29, 60],\n",
    "                \"index\": 0,\n",
    "            },\n",
    "            \"status\": \"ACTIVE\",\n",
    "        },\n",
    "        {\n",
    "            \"action\": \"NORTH\",\n",
    "            \"reward\": 1001,\n",
    "            \"info\": {},\n",
    "            \"observation\": {\"remainingOverageTime\": 60, \"index\": 1},\n",
    "            \"status\": \"ACTIVE\",\n",
    "        },\n",
    "        {\n",
    "            \"action\": \"EAST\",\n",
    "            \"reward\": 1003,\n",
    "            \"info\": {},\n",
    "            \"observation\": {\"remainingOverageTime\": 60, \"index\": 2},\n",
    "            \"status\": \"ACTIVE\",\n",
    "        },\n",
    "        {\n",
    "            \"action\": \"EAST\",\n",
    "            \"reward\": 1003,\n",
    "            \"info\": {},\n",
    "            \"observation\": {\"remainingOverageTime\": 60, \"index\": 3},\n",
    "            \"status\": \"ACTIVE\",\n",
    "        },\n",
    "    ],\n",
    "]"
   ]
  },
  {
   "cell_type": "code",
   "execution_count": 115,
   "metadata": {},
   "outputs": [],
   "source": [
    "class GeeseImage:\n",
    "    GOOSE_ID_TO_COLOR = {0: \"blue\", 1: \"orange\", 2: \"orange\", 3: \"orange\"}\n",
    "    FOOD_COLOR = \"green\"\n",
    "    NUM_AGENTS = 4\n",
    "    NUM_ROW, NUM_COL = 7, 11\n",
    "\n",
    "    def __init__(self, **kwargs):\n",
    "        width = 0.88\n",
    "        height = 0.56\n",
    "        padding = 0.0\n",
    "\n",
    "        self.fig = plt.figure(dpi=100, figsize=(width, height), facecolor=(1, 1, 1))\n",
    "        plt.subplots_adjust(left=0, right=1, bottom=0, top=1)\n",
    "        ax = plt.axes()\n",
    "        plt.axis(\"off\")\n",
    "\n",
    "        self.plot_objects = self.init_func(ax, padding=padding, **kwargs)\n",
    "\n",
    "    def flat_to_point(self, _x):\n",
    "        assert 0 <= _x < self.NUM_COL * self.NUM_ROW\n",
    "        return _x % self.NUM_COL, self.NUM_ROW - _x // self.NUM_COL - 1\n",
    "\n",
    "    def food_positions(self, state):\n",
    "        points = state[0][\"observation\"][\"food\"]\n",
    "        points = [self.flat_to_point(x) for x in points]\n",
    "        assert len(points) == 2\n",
    "        x, y = [x[0] for x in points], [x[1] for x in points]\n",
    "        if x[0] == x[1] and y[0] == y[1]:\n",
    "            x[0] -= 0.25\n",
    "            x[1] += 0.25\n",
    "        return x, y\n",
    "\n",
    "    def player_positions(self, state, goose_id: int):\n",
    "        points = state[0][\"observation\"][\"geese\"][goose_id]\n",
    "        points = [self.flat_to_point(x) for x in points]\n",
    "\n",
    "        if len(points) == 0:\n",
    "            return [], []\n",
    "\n",
    "        if len(points) == 1:\n",
    "            return [points[0][0]], [points[0][1]]\n",
    "\n",
    "        last_x, last_y = points[0][0], points[0][1]\n",
    "        xx, yy = [last_x], [last_y]\n",
    "        for p in points[1:]:\n",
    "            x, y = p[0], p[1]\n",
    "\n",
    "            if x == 0 and last_x == self.NUM_COL - 1:\n",
    "                xx += [self.NUM_COL + 2, self.NUM_COL + 2, -2, -2]\n",
    "                yy += [y, -2, -2, y]\n",
    "\n",
    "            if x == self.NUM_COL - 1 and last_x == 0:\n",
    "                xx += [-2, -2, self.NUM_COL + 2, self.NUM_COL + 2]\n",
    "                yy += [y, -2, -2, y]\n",
    "\n",
    "            if y == 0 and last_y == self.NUM_ROW - 1:\n",
    "                xx += [x, -2, -2, x]\n",
    "                yy += [self.NUM_ROW + 2, self.NUM_ROW + 2, -2, -2]\n",
    "\n",
    "            if y == self.NUM_ROW - 1 and last_y == 0:\n",
    "                xx += [x, -2, -2, x]\n",
    "                yy += [-2, -2, self.NUM_ROW + 2, self.NUM_ROW + 2]\n",
    "\n",
    "            xx.append(x)\n",
    "            yy.append(y)\n",
    "            last_x, last_y = x, y\n",
    "\n",
    "        return xx, yy\n",
    "\n",
    "    def head_positions(self, state, goose_id: int):\n",
    "        points = state[0][\"observation\"][\"geese\"][goose_id]\n",
    "        points = [self.flat_to_point(x) for x in points]\n",
    "        return [x[0] for x in points[:1]], [x[1] for x in points[:1]]\n",
    "\n",
    "    def init_func(self, ax, padding=0.5):\n",
    "        ax.get_xaxis().set_visible(False)\n",
    "        ax.get_yaxis().set_visible(False)\n",
    "        ax.set_ylim(-0.5 - padding, self.NUM_ROW - 0.5 + padding)\n",
    "        ax.set_xlim(-0.5 - padding, self.NUM_COL - 0.5 + padding)\n",
    "\n",
    "        # FOOD\n",
    "        food, *_ = ax.plot([], [], \"D\", color=self.FOOD_COLOR, ms=3)\n",
    "\n",
    "        # GEESE\n",
    "        geese = []\n",
    "        heads = []\n",
    "        for i in range(self.NUM_AGENTS):\n",
    "            color = self.GOOSE_ID_TO_COLOR[i]\n",
    "            g, *_ = ax.plot([], [], color=color)\n",
    "            g.set_linewidth(1)\n",
    "            h, *_ = ax.plot([], [], \"o\", color=color, ms=2)\n",
    "            geese.append(g)\n",
    "            heads.append(h)\n",
    "\n",
    "        return food, geese, heads\n",
    "\n",
    "    def to_image(self, state, player=0):\n",
    "        food, geese, heads = self.plot_objects\n",
    "\n",
    "        # FOOD\n",
    "        food.set_data(self.food_positions(state))\n",
    "\n",
    "        # GEESE\n",
    "        for i in range(self.NUM_AGENTS):\n",
    "            geese[(i - player) % self.NUM_AGENTS].set_data(self.player_positions(state, i))\n",
    "            heads[(i - player) % self.NUM_AGENTS].set_data(self.head_positions(state, i))\n",
    "\n",
    "        return (food, *geese, *heads)\n",
    "\n",
    "    def to_numpy(self, state, player=0):\n",
    "        self.to_image(state, player)\n",
    "\n",
    "        buf = io.BytesIO()\n",
    "        self.fig.savefig(buf, format=\"png\")\n",
    "\n",
    "        buf.seek(0)\n",
    "        img_arr = np.frombuffer(buf.getvalue(), dtype=np.uint8)\n",
    "        buf.close()\n",
    "\n",
    "        img = cv2.imdecode(img_arr, 1)\n",
    "        # img = cv2.cvtColor(img, cv2.COLOR_BGR2RGB)\n",
    "        img = cv2.cvtColor(img, cv2.COLOR_BGR2GRAY)\n",
    "\n",
    "        return img"
   ]
  },
  {
   "cell_type": "code",
   "execution_count": 116,
   "metadata": {},
   "outputs": [
    {
     "data": {
      "image/png": "[encoded data removed]",
      "text/plain": [
       "<Figure size 88x56 with 1 Axes>"
      ]
     },
     "metadata": {},
     "output_type": "display_data"
    }
   ],
   "source": [
    "gm = GeeseImage()"
   ]
  },
  {
   "cell_type": "code",
   "execution_count": 117,
   "metadata": {},
   "outputs": [],
   "source": [
    "img = gm.to_numpy(obs_list[1], 0)"
   ]
  },
  {
   "cell_type": "code",
   "execution_count": 118,
   "metadata": {},
   "outputs": [
    {
     "data": {
      "text/plain": [
       "(56, 88)"
      ]
     },
     "execution_count": 118,
     "metadata": {},
     "output_type": "execute_result"
    }
   ],
   "source": [
    "img.shape"
   ]
  },
  {
   "cell_type": "code",
   "execution_count": 119,
   "metadata": {},
   "outputs": [
    {
     "data": {
      "image/png": "[encoded data removed]",
      "text/plain": [
       "<Figure size 432x288 with 1 Axes>"
      ]
     },
     "metadata": {
      "needs_background": "light"
     },
     "output_type": "display_data"
    }
   ],
   "source": [
    "# plt.imshow(img)\n",
    "plt.imshow(img, cmap=\"gray\")\n",
    "\n",
    "plt.show()"
   ]
  },
  {
   "cell_type": "code",
   "execution_count": 120,
   "metadata": {},
   "outputs": [
    {
     "data": {
      "text/plain": [
       "array([255, 255, 255, 211,  29, 211, 255, 255, 255, 255, 255, 255, 255,\n",
       "       255, 255, 255, 255, 255, 255, 255, 255, 255, 255, 255, 255, 255,\n",
       "       255, 255, 255, 255, 255, 255, 255, 255, 255, 255, 255, 255, 255,\n",
       "       255, 255, 255, 255, 255, 255, 255, 255, 255, 255, 255, 255, 255,\n",
       "       255, 255, 255, 255, 255, 255, 255, 255, 255, 255, 255, 255, 255,\n",
       "       255, 255, 255, 255, 255, 255, 255, 255, 255, 255, 255, 255, 255,\n",
       "       255, 255, 255, 255, 255, 255, 255, 255, 255, 255], dtype=uint8)"
      ]
     },
     "execution_count": 120,
     "metadata": {},
     "output_type": "execute_result"
    }
   ],
   "source": [
    "img[40]"
   ]
  }
 ],
 "metadata": {
  "kernelspec": {
   "display_name": "pytorch",
   "language": "python",
   "name": "pytorch"
  },
  "language_info": {
   "codemirror_mode": {
    "name": "ipython",
    "version": 3
   },
   "file_extension": ".py",
   "mimetype": "text/x-python",
   "name": "python",
   "nbconvert_exporter": "python",
   "pygments_lexer": "ipython3",
   "version": "3.7.8"
  }
 },
 "nbformat": 4,
 "nbformat_minor": 4
}
