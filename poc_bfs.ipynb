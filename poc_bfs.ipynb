{
 "cells": [
  {
   "cell_type": "code",
   "execution_count": 9,
   "metadata": {},
   "outputs": [],
   "source": [
    "import importlib\n",
    "from collections import defaultdict, deque\n",
    "\n",
    "import matplotlib.pyplot as plt\n",
    "import numpy as np\n",
    "import torch\n",
    "import torch.nn as nn\n",
    "import torch.nn.functional as F\n",
    "from kaggle_environments import make\n",
    "\n",
    "%matplotlib inline"
   ]
  },
  {
   "cell_type": "code",
   "execution_count": 10,
   "metadata": {},
   "outputs": [],
   "source": [
    "model_module = importlib.import_module(\"handyrl.model\")\n",
    "env_module = importlib.import_module(\"handyrl.envs.kaggle.hungry_geese\")"
   ]
  },
  {
   "cell_type": "code",
   "execution_count": 11,
   "metadata": {},
   "outputs": [],
   "source": [
    "e = env_module.Environment()\n",
    "e.reset()"
   ]
  },
  {
   "cell_type": "code",
   "execution_count": 12,
   "metadata": {},
   "outputs": [],
   "source": [
    "# while not e.terminal():\n",
    "for _ in range(50):\n",
    "    obs = e.observation()\n",
    "    actions = {}\n",
    "    for player in e.turns():\n",
    "        actions[player] = e.rule_based_action_smart_geese(player)\n",
    "    e.step(actions)\n",
    "    rewards = e.reward()\n",
    "# e.outcome()"
   ]
  },
  {
   "cell_type": "code",
   "execution_count": 13,
   "metadata": {},
   "outputs": [],
   "source": [
    "obs = e.observation()"
   ]
  },
  {
   "cell_type": "code",
   "execution_count": 35,
   "metadata": {},
   "outputs": [],
   "source": [
    "NUM_ROW = 7\n",
    "NUM_COL = 11\n",
    "CENTER_ROW = NUM_ROW // 2\n",
    "CENTER_COL = NUM_COL // 2\n",
    "\n",
    "\n",
    "def to_offset(x):\n",
    "    row = CENTER_ROW - x // NUM_COL\n",
    "    col = CENTER_COL - x % NUM_COL\n",
    "    return row, col\n",
    "\n",
    "\n",
    "def to_row(offset, x):\n",
    "    return (x // NUM_COL + offset) % NUM_ROW\n",
    "\n",
    "\n",
    "def to_col(offset, x):\n",
    "    return (x + offset) % NUM_COL"
   ]
  },
  {
   "cell_type": "code",
   "execution_count": 33,
   "metadata": {},
   "outputs": [],
   "source": [
    "def make_input_num_turn_of_fill(obses):\n",
    "    b = np.zeros((7, 11), dtype=np.float32)\n",
    "    obs = obses[-1]\n",
    "\n",
    "    player_goose_head = obs[0][\"observation\"][\"geese\"][obs[0][\"observation\"][\"index\"]][0]\n",
    "    o_row, o_col = to_offset(player_goose_head)\n",
    "\n",
    "    for p, geese in enumerate(obs[0][\"observation\"][\"geese\"]):\n",
    "        # マスが、何ターン後に空くか\n",
    "        for i, pos in enumerate(geese[::-1]):\n",
    "            b[to_row(o_row, pos), to_col(o_col, pos)] = i + 1\n",
    "\n",
    "        # 自分の頭は、逆に進めないので、空くのは1周後\n",
    "        if (p - obs[0][\"observation\"][\"index\"]) % 4 == 0:\n",
    "            for pos in geese[:1]:\n",
    "                if b[to_row(o_row, pos), to_col(o_col, pos)] < 4:\n",
    "                    b[to_row(o_row, pos), to_col(o_col, pos)] = 4\n",
    "\n",
    "    # previous head position\n",
    "    # 自分が直前にいた場所も、最短で、一周後\n",
    "    if len(obses) > 1:\n",
    "        obs_prev = obses[-2]\n",
    "        for p, geese in enumerate(obs_prev[0][\"observation\"][\"geese\"]):\n",
    "            if (p - obs[0][\"observation\"][\"index\"]) % 4 == 0:\n",
    "                for pos in geese[:1]:\n",
    "                    if b[to_row(o_row, pos), to_col(o_col, pos)] < 3:\n",
    "                        b[to_row(o_row, pos), to_col(o_col, pos)] = 3\n",
    "\n",
    "    return b"
   ]
  },
  {
   "cell_type": "code",
   "execution_count": 124,
   "metadata": {},
   "outputs": [],
   "source": [
    "def distance(a, b):\n",
    "    x = b[0] - a[0]\n",
    "    y = b[1] - a[1]\n",
    "    return (x, y), abs(x) + abs(y)\n",
    "\n",
    "\n",
    "def around(a):\n",
    "    return [\n",
    "        ((a[0] - 1) % 7, a[1]),\n",
    "        ((a[0] + 1) % 7, a[1]),\n",
    "        (a[0], (a[1] - 1) % 11),\n",
    "        (a[0], (a[1] + 1) % 11),\n",
    "    ]\n",
    "\n",
    "\n",
    "def empty_around_head(field, head, x):\n",
    "    return [e for e in around(x) if field[e[0], e[1]] <= (distance(head, x)[1] + 1)]\n",
    "\n",
    "\n",
    "def bfs_close_route(field, head, q_border=10):\n",
    "    q = deque([head])\n",
    "    searched = defaultdict(bool)\n",
    "    num_seed = 0\n",
    "    while len(q) != 0:\n",
    "        v = q.popleft()\n",
    "        searched[v] = True\n",
    "        num_seed += 1\n",
    "        edges = [a for a in empty_around_head(field, head, v) if not searched[a]]\n",
    "        print(f\"num_seed: {num_seed}, len_q: {len(q)}, queue: {q}\")\n",
    "        if len(q) > q_border:\n",
    "            break\n",
    "        for edge in edges:\n",
    "            q.append(edge)\n",
    "    return num_seed, len(q)"
   ]
  },
  {
   "cell_type": "code",
   "execution_count": 125,
   "metadata": {},
   "outputs": [],
   "source": [
    "def apply_rule2(b, prob):\n",
    "    \"\"\"\n",
    "    player head = (3, 5)\n",
    "    [\"NORTH\", \"SOUTH\", \"WEST\", \"EAST\"]\n",
    "    \"\"\"\n",
    "    north = (2, 5)\n",
    "    south = (4, 5)\n",
    "    west = (3, 4)\n",
    "    east = (3, 6)\n",
    "    neighbor = [north, south, west, east]\n",
    "\n",
    "    # 閉域探索\n",
    "    for i, n in enumerate(neighbor):\n",
    "        print(f\"neighbor: {n}\")\n",
    "        if b[n[0], n[1]] != 0:\n",
    "            continue\n",
    "        num_seed, len_q = bfs_close_route(b, n)\n",
    "        if len_q == 0:\n",
    "            prob[i] -= 100_000 // (num_seed + 1)\n",
    "\n",
    "    return prob"
   ]
  },
  {
   "cell_type": "code",
   "execution_count": 129,
   "metadata": {},
   "outputs": [],
   "source": [
    "demo_obses = [\n",
    "    [\n",
    "        {\n",
    "            \"action\": \"EAST\",\n",
    "            \"reward\": 1002,\n",
    "            \"info\": {},\n",
    "            \"observation\": {\n",
    "                \"remainingOverageTime\": 60,\n",
    "                \"step\": 9,\n",
    "                \"geese\": [\n",
    "                    [39],\n",
    "                    [66, 55, 44, 45, 46, 35, 24, 25, 26, 27, 28, 29],\n",
    "                    [8, 7, 73, 72, 71, 70, 69, 58, 47, 48, 59, 60, 61, 50, 51, 52],\n",
    "                    [1, 2, 3],\n",
    "                ],\n",
    "                \"food\": [29, 0],\n",
    "                \"index\": 0,\n",
    "            },\n",
    "            \"status\": \"ACTIVE\",\n",
    "        },\n",
    "        {\n",
    "            \"action\": \"NORTH\",\n",
    "            \"reward\": 1001,\n",
    "            \"info\": {},\n",
    "            \"observation\": {\"remainingOverageTime\": 60, \"index\": 1},\n",
    "            \"status\": \"ACTIVE\",\n",
    "        },\n",
    "        {\n",
    "            \"action\": \"EAST\",\n",
    "            \"reward\": 1003,\n",
    "            \"info\": {},\n",
    "            \"observation\": {\"remainingOverageTime\": 60, \"index\": 2},\n",
    "            \"status\": \"ACTIVE\",\n",
    "        },\n",
    "        {\n",
    "            \"action\": \"EAST\",\n",
    "            \"reward\": 1003,\n",
    "            \"info\": {},\n",
    "            \"observation\": {\"remainingOverageTime\": 60, \"index\": 3},\n",
    "            \"status\": \"ACTIVE\",\n",
    "        },\n",
    "    ],\n",
    "    [\n",
    "        {\n",
    "            \"action\": \"EAST\",\n",
    "            \"reward\": 1002,\n",
    "            \"info\": {},\n",
    "            \"observation\": {\n",
    "                \"remainingOverageTime\": 60,\n",
    "                \"step\": 9,\n",
    "                \"geese\": [\n",
    "                    [38],\n",
    "                    [66, 67,  56, 45, 34, 23, 24, 13, 14, 15, 26, 27, 28, 29],\n",
    "                    [8, 7, 73, 72, 71, 70, 69, 58, 47, 48, 59, 60, 61, 50],\n",
    "                    [1, 2, 3, 4, 5, 6, 17, 18, 19, 20],\n",
    "                ],\n",
    "                \"food\": [29, 0],\n",
    "                \"index\": 0,\n",
    "            },\n",
    "            \"status\": \"ACTIVE\",\n",
    "        },\n",
    "        {\n",
    "            \"action\": \"NORTH\",\n",
    "            \"reward\": 1001,\n",
    "            \"info\": {},\n",
    "            \"observation\": {\"remainingOverageTime\": 60, \"index\": 1},\n",
    "            \"status\": \"ACTIVE\",\n",
    "        },\n",
    "        {\n",
    "            \"action\": \"EAST\",\n",
    "            \"reward\": 1003,\n",
    "            \"info\": {},\n",
    "            \"observation\": {\"remainingOverageTime\": 60, \"index\": 2},\n",
    "            \"status\": \"ACTIVE\",\n",
    "        },\n",
    "        {\n",
    "            \"action\": \"EAST\",\n",
    "            \"reward\": 1003,\n",
    "            \"info\": {},\n",
    "            \"observation\": {\"remainingOverageTime\": 60, \"index\": 3},\n",
    "            \"status\": \"ACTIVE\",\n",
    "        },\n",
    "    ],\n",
    "]"
   ]
  },
  {
   "cell_type": "code",
   "execution_count": 130,
   "metadata": {},
   "outputs": [
    {
     "data": {
      "text/plain": [
       "array([[ 0., 10.,  9.,  8.,  7.,  6.,  5., 13., 14.,  0.,  0.],\n",
       "       [ 0.,  0.,  7.,  6.,  5.,  0.,  4.,  3.,  2.,  1.,  0.],\n",
       "       [ 0.,  9.,  8.,  0.,  4.,  3.,  2.,  1.,  0.,  0.,  0.],\n",
       "       [ 0., 10.,  0.,  0.,  0.,  4.,  3.,  0.,  0.,  0.,  0.],\n",
       "       [ 0., 11.,  0.,  6.,  5.,  0.,  1.,  0.,  0.,  0.,  0.],\n",
       "       [ 0., 12.,  0.,  7.,  4.,  3.,  2.,  0.,  0.,  0.,  0.],\n",
       "       [14., 13.,  0.,  8.,  9., 10., 11., 12.,  0.,  0.,  0.]],\n",
       "      dtype=float32)"
      ]
     },
     "execution_count": 130,
     "metadata": {},
     "output_type": "execute_result"
    }
   ],
   "source": [
    "board = make_input_num_turn_of_fill(demo_obses)\n",
    "board"
   ]
  },
  {
   "cell_type": "code",
   "execution_count": 131,
   "metadata": {},
   "outputs": [
    {
     "name": "stdout",
     "output_type": "stream",
     "text": [
      "neighbor: (2, 5)\n",
      "neighbor: (4, 5)\n",
      "num_seed: 1, len_q: 0, queue: deque([])\n",
      "num_seed: 2, len_q: 0, queue: deque([])\n",
      "num_seed: 3, len_q: 1, queue: deque([(4, 7)])\n",
      "num_seed: 4, len_q: 2, queue: deque([(5, 5), (5, 7)])\n",
      "num_seed: 5, len_q: 4, queue: deque([(5, 7), (3, 7), (5, 7), (4, 8)])\n",
      "num_seed: 6, len_q: 3, queue: deque([(3, 7), (5, 7), (4, 8)])\n",
      "num_seed: 7, len_q: 3, queue: deque([(5, 7), (4, 8), (5, 8)])\n",
      "num_seed: 8, len_q: 5, queue: deque([(4, 8), (5, 8), (2, 7), (3, 6), (3, 8)])\n",
      "num_seed: 9, len_q: 5, queue: deque([(5, 8), (2, 7), (3, 6), (3, 8), (5, 8)])\n",
      "num_seed: 10, len_q: 7, queue: deque([(2, 7), (3, 6), (3, 8), (5, 8), (3, 8), (5, 8), (4, 9)])\n",
      "num_seed: 11, len_q: 8, queue: deque([(3, 6), (3, 8), (5, 8), (3, 8), (5, 8), (4, 9), (6, 8), (5, 9)])\n",
      "num_seed: 12, len_q: 10, queue: deque([(3, 8), (5, 8), (3, 8), (5, 8), (4, 9), (6, 8), (5, 9), (1, 7), (2, 6), (2, 8)])\n",
      "num_seed: 13, len_q: 10, queue: deque([(5, 8), (3, 8), (5, 8), (4, 9), (6, 8), (5, 9), (1, 7), (2, 6), (2, 8), (2, 6)])\n",
      "num_seed: 14, len_q: 11, queue: deque([(3, 8), (5, 8), (4, 9), (6, 8), (5, 9), (1, 7), (2, 6), (2, 8), (2, 6), (2, 8), (3, 9)])\n",
      "neighbor: (3, 4)\n",
      "num_seed: 1, len_q: 0, queue: deque([])\n",
      "num_seed: 2, len_q: 0, queue: deque([])\n",
      "num_seed: 3, len_q: 1, queue: deque([(3, 2)])\n",
      "num_seed: 4, len_q: 0, queue: deque([])\n",
      "num_seed: 5, len_q: 0, queue: deque([])\n",
      "num_seed: 6, len_q: 0, queue: deque([])\n",
      "num_seed: 7, len_q: 0, queue: deque([])\n",
      "neighbor: (3, 6)\n"
     ]
    },
    {
     "data": {
      "text/plain": [
       "array([     0,      0, -12500,      0])"
      ]
     },
     "execution_count": 131,
     "metadata": {},
     "output_type": "execute_result"
    }
   ],
   "source": [
    "PROB = np.array([0, 0, 0, 0])\n",
    "\n",
    "apply_rule2(board, PROB)"
   ]
  },
  {
   "cell_type": "code",
   "execution_count": null,
   "metadata": {},
   "outputs": [],
   "source": []
  },
  {
   "cell_type": "code",
   "execution_count": null,
   "metadata": {},
   "outputs": [],
   "source": []
  }
 ],
 "metadata": {
  "kernelspec": {
   "display_name": "pytorch",
   "language": "python",
   "name": "pytorch"
  },
  "language_info": {
   "codemirror_mode": {
    "name": "ipython",
    "version": 3
   },
   "file_extension": ".py",
   "mimetype": "text/x-python",
   "name": "python",
   "nbconvert_exporter": "python",
   "pygments_lexer": "ipython3",
   "version": "3.7.8"
  }
 },
 "nbformat": 4,
 "nbformat_minor": 4
}
