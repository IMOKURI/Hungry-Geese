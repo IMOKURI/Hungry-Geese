{
 "cells": [
  {
   "cell_type": "code",
   "execution_count": 9,
   "metadata": {},
   "outputs": [],
   "source": [
    "import importlib\n",
    "from collections import defaultdict, deque\n",
    "\n",
    "import matplotlib.pyplot as plt\n",
    "import numpy as np\n",
    "import torch\n",
    "import torch.nn as nn\n",
    "import torch.nn.functional as F\n",
    "from kaggle_environments import make\n",
    "\n",
    "%matplotlib inline"
   ]
  },
  {
   "cell_type": "code",
   "execution_count": 10,
   "metadata": {},
   "outputs": [],
   "source": [
    "model_module = importlib.import_module(\"handyrl.model\")\n",
    "env_module = importlib.import_module(\"handyrl.envs.kaggle.hungry_geese\")"
   ]
  },
  {
   "cell_type": "code",
   "execution_count": 11,
   "metadata": {},
   "outputs": [],
   "source": [
    "e = env_module.Environment()\n",
    "e.reset()"
   ]
  },
  {
   "cell_type": "code",
   "execution_count": 12,
   "metadata": {},
   "outputs": [],
   "source": [
    "# while not e.terminal():\n",
    "for _ in range(50):\n",
    "    obs = e.observation()\n",
    "    actions = {}\n",
    "    for player in e.turns():\n",
    "        actions[player] = e.rule_based_action_smart_geese(player)\n",
    "    e.step(actions)\n",
    "    rewards = e.reward()\n",
    "# e.outcome()"
   ]
  },
  {
   "cell_type": "code",
   "execution_count": 13,
   "metadata": {},
   "outputs": [],
   "source": [
    "obs = e.observation()"
   ]
  },
  {
   "cell_type": "code",
   "execution_count": 14,
   "metadata": {},
   "outputs": [
    {
     "data": {
      "text/plain": [
       "array([[1., 1., 1., 1., 1., 1., 1., 1., 1., 0., 0.],\n",
       "       [1., 0., 0., 0., 0., 0., 0., 0., 0., 0., 0.],\n",
       "       [0., 0., 0., 0., 0., 0., 0., 0., 0., 0., 0.],\n",
       "       [0., 0., 0., 1., 0., 0., 1., 1., 0., 0., 0.],\n",
       "       [0., 0., 0., 1., 1., 1., 1., 1., 0., 0., 0.],\n",
       "       [0., 0., 0., 0., 0., 0., 0., 0., 1., 2., 1.],\n",
       "       [0., 0., 0., 1., 1., 1., 0., 0., 1., 0., 0.]], dtype=float32)"
      ]
     },
     "execution_count": 14,
     "metadata": {},
     "output_type": "execute_result"
    }
   ],
   "source": [
    "field = obs[8:13].sum(0)\n",
    "field"
   ]
  },
  {
   "cell_type": "code",
   "execution_count": 15,
   "metadata": {},
   "outputs": [],
   "source": [
    "def around(a):\n",
    "    a_ = [\n",
    "        ((a[0] - 1) % 7, a[1]),\n",
    "        ((a[0] + 1) % 7, a[1]),\n",
    "        (a[0], (a[1] - 1) % 11),\n",
    "        (a[0], (a[1] + 1) % 11),\n",
    "    ]\n",
    "    return [e for e in a_ if field[e[0], e[1]] == 0]"
   ]
  },
  {
   "cell_type": "code",
   "execution_count": 16,
   "metadata": {},
   "outputs": [
    {
     "name": "stdout",
     "output_type": "stream",
     "text": [
      "5, 10\n"
     ]
    }
   ],
   "source": [
    "heads = np.where(obs[0] == 1)\n",
    "\n",
    "for r, c in zip(heads[0], heads[1]):\n",
    "    break\n",
    "\n",
    "print(f\"{r}, {c}\")"
   ]
  },
  {
   "cell_type": "code",
   "execution_count": 17,
   "metadata": {},
   "outputs": [
    {
     "data": {
      "text/plain": [
       "[(4, 10), (6, 10), (5, 0)]"
      ]
     },
     "execution_count": 17,
     "metadata": {},
     "output_type": "execute_result"
    }
   ],
   "source": [
    "v = around((r, c))\n",
    "v"
   ]
  },
  {
   "cell_type": "code",
   "execution_count": 18,
   "metadata": {},
   "outputs": [],
   "source": [
    "def bfs(v):\n",
    "    q = deque([(r, c)])\n",
    "    movable = np.zeros([7, 11])\n",
    "    searched = defaultdict(bool)\n",
    "    while len(q) != 0:\n",
    "        v = q.popleft()\n",
    "        movable[v] = 1\n",
    "        searched[v] = True\n",
    "        edges = [a for a in around(v) if not searched[a]]\n",
    "        for edge in edges:\n",
    "            q.append(edge)\n",
    "    return movable"
   ]
  },
  {
   "cell_type": "code",
   "execution_count": 22,
   "metadata": {},
   "outputs": [
    {
     "data": {
      "text/plain": [
       "array([[0., 0., 0., 0., 0., 0., 0., 0., 0., 1., 1.],\n",
       "       [0., 1., 1., 1., 1., 1., 1., 1., 1., 1., 1.],\n",
       "       [1., 1., 1., 1., 1., 1., 1., 1., 1., 1., 1.],\n",
       "       [1., 1., 1., 0., 1., 1., 0., 0., 1., 1., 1.],\n",
       "       [1., 1., 1., 0., 0., 0., 0., 0., 1., 1., 1.],\n",
       "       [1., 1., 1., 1., 1., 1., 1., 1., 0., 0., 1.],\n",
       "       [1., 1., 1., 0., 0., 0., 1., 1., 0., 1., 1.]])"
      ]
     },
     "execution_count": 22,
     "metadata": {},
     "output_type": "execute_result"
    }
   ],
   "source": [
    "bfs(v)"
   ]
  },
  {
   "cell_type": "code",
   "execution_count": 20,
   "metadata": {},
   "outputs": [
    {
     "data": {
      "text/plain": [
       "array([[0., 0., 0., 0., 0., 0., 0., 0., 0., 0., 0.],\n",
       "       [0., 0., 0., 0., 0., 0., 0., 0., 0., 0., 0.],\n",
       "       [0., 0., 0., 0., 0., 0., 0., 0., 0., 0., 0.],\n",
       "       [0., 0., 0., 0., 0., 0., 0., 0., 0., 0., 0.],\n",
       "       [0., 0., 0., 0., 0., 0., 0., 0., 0., 0., 0.],\n",
       "       [0., 0., 0., 0., 0., 0., 0., 0., 0., 0., 1.],\n",
       "       [0., 0., 0., 0., 0., 0., 0., 0., 0., 0., 0.]], dtype=float32)"
      ]
     },
     "execution_count": 20,
     "metadata": {},
     "output_type": "execute_result"
    }
   ],
   "source": [
    "obs[0]"
   ]
  }
 ],
 "metadata": {
  "kernelspec": {
   "display_name": "pytorch",
   "language": "python",
   "name": "pytorch"
  },
  "language_info": {
   "codemirror_mode": {
    "name": "ipython",
    "version": 3
   },
   "file_extension": ".py",
   "mimetype": "text/x-python",
   "name": "python",
   "nbconvert_exporter": "python",
   "pygments_lexer": "ipython3",
   "version": "3.7.8"
  }
 },
 "nbformat": 4,
 "nbformat_minor": 4
}
