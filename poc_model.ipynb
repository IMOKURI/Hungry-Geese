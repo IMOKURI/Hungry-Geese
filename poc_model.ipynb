{
 "cells": [
  {
   "cell_type": "code",
   "execution_count": 1,
   "metadata": {},
   "outputs": [],
   "source": [
    "import importlib\n",
    "\n",
    "import matplotlib.pyplot as plt\n",
    "import numpy as np\n",
    "import torch\n",
    "import torch.nn as nn\n",
    "import torch.nn.functional as F\n",
    "\n",
    "%matplotlib inline"
   ]
  },
  {
   "cell_type": "code",
   "execution_count": 2,
   "metadata": {},
   "outputs": [
    {
     "name": "stdout",
     "output_type": "stream",
     "text": [
      "Loading environment football failed: No module named 'gfootball'\n"
     ]
    }
   ],
   "source": [
    "model_module = importlib.import_module(\"handyrl.model\")\n",
    "env_module = importlib.import_module(\"handyrl.envs.kaggle.hungry_geese\")"
   ]
  },
  {
   "cell_type": "code",
   "execution_count": 3,
   "metadata": {},
   "outputs": [],
   "source": [
    "e = env_module.Environment()\n",
    "e.reset()"
   ]
  },
  {
   "cell_type": "code",
   "execution_count": 4,
   "metadata": {},
   "outputs": [
    {
     "name": "stdout",
     "output_type": "stream",
     "text": [
      "size: torch.Size([2, 17, 7, 11]), type: torch.float32\n"
     ]
    }
   ],
   "source": [
    "obs = e.observation()\n",
    "obs = torch.from_numpy(obs.reshape(1, obs.shape[0], obs.shape[1], obs.shape[2])).clone()\n",
    "obs_ = torch.cat([obs, obs], dim=0)\n",
    "print(f\"size: {obs_.size()}, type: {obs_.dtype}\")"
   ]
  },
  {
   "cell_type": "code",
   "execution_count": 5,
   "metadata": {},
   "outputs": [
    {
     "name": "stdout",
     "output_type": "stream",
     "text": [
      "size: torch.Size([2, 17, 7, 11]), type: torch.float32\n"
     ]
    }
   ],
   "source": [
    "input_ = torch.randn(2, obs.shape[1], obs.shape[2], obs.shape[3])\n",
    "print(f\"size: {input_.size()}, type: {input_.dtype}\")"
   ]
  },
  {
   "cell_type": "code",
   "execution_count": 6,
   "metadata": {},
   "outputs": [],
   "source": [
    "net = env_module.GeeseNetKURI()"
   ]
  },
  {
   "cell_type": "code",
   "execution_count": 7,
   "metadata": {},
   "outputs": [],
   "source": [
    "# Disable trainable for pretrained weights.\n",
    "# for param in net.offensive.parameters():\n",
    "#     param.requires_grad = False\n",
    "# for param in net.defensive.parameters():\n",
    "#     param.requires_grad = False"
   ]
  },
  {
   "cell_type": "code",
   "execution_count": 8,
   "metadata": {},
   "outputs": [
    {
     "name": "stdout",
     "output_type": "stream",
     "text": [
      "size: torch.Size([2, 4]), type: torch.float32\n",
      "size: torch.Size([2, 1]), type: torch.float32\n"
     ]
    }
   ],
   "source": [
    "out = net(obs_)\n",
    "# print(f\"size: {out.size()}, type: {out.dtype}\")\n",
    "print(f\"size: {out['policy'].size()}, type: {out['policy'].dtype}\")\n",
    "print(f\"size: {out['value'].size()}, type: {out['value'].dtype}\")"
   ]
  },
  {
   "cell_type": "code",
   "execution_count": 9,
   "metadata": {},
   "outputs": [
    {
     "data": {
      "text/plain": [
       "{'policy': tensor([[-0.1486, -0.1936,  0.0860,  0.1506],\n",
       "         [-0.1486, -0.1936,  0.0860,  0.1506]], grad_fn=<MmBackward>),\n",
       " 'value': tensor([[0.1118],\n",
       "         [0.1118]], grad_fn=<TanhBackward>)}"
      ]
     },
     "execution_count": 9,
     "metadata": {},
     "output_type": "execute_result"
    }
   ],
   "source": [
    "out"
   ]
  },
  {
   "cell_type": "code",
   "execution_count": 10,
   "metadata": {},
   "outputs": [
    {
     "name": "stdout",
     "output_type": "stream",
     "text": [
      "40,384\n"
     ]
    }
   ],
   "source": [
    "# pytorch_total_params\n",
    "params = sum(p.numel() for p in net.parameters())\n",
    "print(f\"{params:,}\")"
   ]
  },
  {
   "cell_type": "code",
   "execution_count": 11,
   "metadata": {},
   "outputs": [
    {
     "name": "stdout",
     "output_type": "stream",
     "text": [
      "40,384\n"
     ]
    }
   ],
   "source": [
    "# pytorch_total_params (trainable)\n",
    "params = sum(p.numel() for p in net.parameters() if p.requires_grad)\n",
    "print(f\"{params:,}\")"
   ]
  },
  {
   "cell_type": "code",
   "execution_count": 12,
   "metadata": {},
   "outputs": [
    {
     "data": {
      "text/plain": [
       "GeeseNetKURI(\n",
       "  (conv0): TorusConv2d(\n",
       "    (conv): Conv2d(9, 16, kernel_size=(3, 3), stride=(1, 1))\n",
       "    (bn): BatchNorm2d(16, eps=1e-05, momentum=0.1, affine=True, track_running_stats=True)\n",
       "  )\n",
       "  (blocks): ModuleList(\n",
       "    (0): TorusConv2d(\n",
       "      (conv): Conv2d(16, 16, kernel_size=(3, 3), stride=(1, 1))\n",
       "      (bn): BatchNorm2d(16, eps=1e-05, momentum=0.1, affine=True, track_running_stats=True)\n",
       "    )\n",
       "    (1): TorusConv2d(\n",
       "      (conv): Conv2d(16, 16, kernel_size=(3, 3), stride=(1, 1))\n",
       "      (bn): BatchNorm2d(16, eps=1e-05, momentum=0.1, affine=True, track_running_stats=True)\n",
       "    )\n",
       "    (2): TorusConv2d(\n",
       "      (conv): Conv2d(16, 16, kernel_size=(3, 3), stride=(1, 1))\n",
       "      (bn): BatchNorm2d(16, eps=1e-05, momentum=0.1, affine=True, track_running_stats=True)\n",
       "    )\n",
       "    (3): TorusConv2d(\n",
       "      (conv): Conv2d(16, 16, kernel_size=(3, 3), stride=(1, 1))\n",
       "      (bn): BatchNorm2d(16, eps=1e-05, momentum=0.1, affine=True, track_running_stats=True)\n",
       "    )\n",
       "    (4): TorusConv2d(\n",
       "      (conv): Conv2d(16, 16, kernel_size=(3, 3), stride=(1, 1))\n",
       "      (bn): BatchNorm2d(16, eps=1e-05, momentum=0.1, affine=True, track_running_stats=True)\n",
       "    )\n",
       "    (5): TorusConv2d(\n",
       "      (conv): Conv2d(16, 16, kernel_size=(3, 3), stride=(1, 1))\n",
       "      (bn): BatchNorm2d(16, eps=1e-05, momentum=0.1, affine=True, track_running_stats=True)\n",
       "    )\n",
       "    (6): TorusConv2d(\n",
       "      (conv): Conv2d(16, 16, kernel_size=(3, 3), stride=(1, 1))\n",
       "      (bn): BatchNorm2d(16, eps=1e-05, momentum=0.1, affine=True, track_running_stats=True)\n",
       "    )\n",
       "    (7): TorusConv2d(\n",
       "      (conv): Conv2d(16, 16, kernel_size=(3, 3), stride=(1, 1))\n",
       "      (bn): BatchNorm2d(16, eps=1e-05, momentum=0.1, affine=True, track_running_stats=True)\n",
       "    )\n",
       "    (8): TorusConv2d(\n",
       "      (conv): Conv2d(16, 16, kernel_size=(3, 3), stride=(1, 1))\n",
       "      (bn): BatchNorm2d(16, eps=1e-05, momentum=0.1, affine=True, track_running_stats=True)\n",
       "    )\n",
       "    (9): TorusConv2d(\n",
       "      (conv): Conv2d(16, 16, kernel_size=(3, 3), stride=(1, 1))\n",
       "      (bn): BatchNorm2d(16, eps=1e-05, momentum=0.1, affine=True, track_running_stats=True)\n",
       "    )\n",
       "    (10): TorusConv2d(\n",
       "      (conv): Conv2d(16, 16, kernel_size=(3, 3), stride=(1, 1))\n",
       "      (bn): BatchNorm2d(16, eps=1e-05, momentum=0.1, affine=True, track_running_stats=True)\n",
       "    )\n",
       "    (11): TorusConv2d(\n",
       "      (conv): Conv2d(16, 16, kernel_size=(3, 3), stride=(1, 1))\n",
       "      (bn): BatchNorm2d(16, eps=1e-05, momentum=0.1, affine=True, track_running_stats=True)\n",
       "    )\n",
       "  )\n",
       "  (conv_p): TorusConv2d(\n",
       "    (conv): Conv2d(16, 16, kernel_size=(3, 3), stride=(1, 1))\n",
       "    (bn): BatchNorm2d(16, eps=1e-05, momentum=0.1, affine=True, track_running_stats=True)\n",
       "  )\n",
       "  (conv_v): TorusConv2d(\n",
       "    (conv): Conv2d(16, 16, kernel_size=(3, 3), stride=(1, 1))\n",
       "    (bn): BatchNorm2d(16, eps=1e-05, momentum=0.1, affine=True, track_running_stats=True)\n",
       "  )\n",
       "  (head_p1): Linear(in_features=93, out_features=32, bias=False)\n",
       "  (head_p2): Linear(in_features=32, out_features=4, bias=False)\n",
       "  (head_v1): Linear(in_features=93, out_features=32, bias=False)\n",
       "  (head_v2): Linear(in_features=32, out_features=1, bias=False)\n",
       ")"
      ]
     },
     "execution_count": 12,
     "metadata": {},
     "output_type": "execute_result"
    }
   ],
   "source": [
    "net"
   ]
  },
  {
   "cell_type": "code",
   "execution_count": null,
   "metadata": {},
   "outputs": [],
   "source": []
  }
 ],
 "metadata": {
  "kernelspec": {
   "display_name": "pytorch",
   "language": "python",
   "name": "pytorch"
  },
  "language_info": {
   "codemirror_mode": {
    "name": "ipython",
    "version": 3
   },
   "file_extension": ".py",
   "mimetype": "text/x-python",
   "name": "python",
   "nbconvert_exporter": "python",
   "pygments_lexer": "ipython3",
   "version": "3.7.8"
  }
 },
 "nbformat": 4,
 "nbformat_minor": 4
}
