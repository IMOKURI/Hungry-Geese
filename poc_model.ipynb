{
 "cells": [
  {
   "cell_type": "code",
   "execution_count": 1,
   "metadata": {},
   "outputs": [],
   "source": [
    "import importlib\n",
    "\n",
    "import matplotlib.pyplot as plt\n",
    "import numpy as np\n",
    "import torch\n",
    "import torch.nn as nn\n",
    "import torch.nn.functional as F\n",
    "\n",
    "%matplotlib inline"
   ]
  },
  {
   "cell_type": "code",
   "execution_count": 2,
   "metadata": {},
   "outputs": [
    {
     "name": "stdout",
     "output_type": "stream",
     "text": [
      "Loading environment football failed: No module named 'gfootball'\n"
     ]
    }
   ],
   "source": [
    "model_module = importlib.import_module(\"handyrl.model\")\n",
    "env_module = importlib.import_module(\"handyrl.envs.kaggle.hungry_geese\")"
   ]
  },
  {
   "cell_type": "code",
   "execution_count": 3,
   "metadata": {},
   "outputs": [],
   "source": [
    "e = env_module.Environment()\n",
    "e.reset()"
   ]
  },
  {
   "cell_type": "code",
   "execution_count": 4,
   "metadata": {},
   "outputs": [
    {
     "name": "stdout",
     "output_type": "stream",
     "text": [
      "size: torch.Size([2, 25, 7, 11]), type: torch.float32\n"
     ]
    }
   ],
   "source": [
    "obs = e.observation()\n",
    "obs = torch.from_numpy(obs.reshape(1, 25, 7, 11)).clone()\n",
    "obs_ = torch.cat([obs, obs], dim=0)\n",
    "print(f\"size: {obs_.size()}, type: {obs_.dtype}\")"
   ]
  },
  {
   "cell_type": "code",
   "execution_count": 5,
   "metadata": {},
   "outputs": [],
   "source": [
    "# plt.imshow(obs[0][0], cmap=\"gray\")\n",
    "# plt.show()"
   ]
  },
  {
   "cell_type": "code",
   "execution_count": 6,
   "metadata": {},
   "outputs": [
    {
     "name": "stdout",
     "output_type": "stream",
     "text": [
      "size: torch.Size([2, 25, 7, 11]), type: torch.float32\n"
     ]
    }
   ],
   "source": [
    "input_ = torch.randn(2, 25, 7, 11)\n",
    "print(f\"size: {input_.size()}, type: {input_.dtype}\")"
   ]
  },
  {
   "cell_type": "code",
   "execution_count": 7,
   "metadata": {},
   "outputs": [],
   "source": [
    "net = env_module.GeeseNet()"
   ]
  },
  {
   "cell_type": "code",
   "execution_count": 8,
   "metadata": {},
   "outputs": [],
   "source": [
    "# Disable trainable for pretrained weights.\n",
    "# for param in net.geese_net.parameters():\n",
    "#     param.requires_grad = False"
   ]
  },
  {
   "cell_type": "code",
   "execution_count": 9,
   "metadata": {},
   "outputs": [
    {
     "name": "stdout",
     "output_type": "stream",
     "text": [
      "size: torch.Size([2, 4]), type: torch.float32\n",
      "size: torch.Size([2, 1]), type: torch.float32\n"
     ]
    }
   ],
   "source": [
    "out = net(obs_)\n",
    "# print(f\"size: {out.size()}, type: {out.dtype}\")\n",
    "print(f\"size: {out['policy'].size()}, type: {out['policy'].dtype}\")\n",
    "print(f\"size: {out['value'].size()}, type: {out['value'].dtype}\")"
   ]
  },
  {
   "cell_type": "code",
   "execution_count": 10,
   "metadata": {},
   "outputs": [
    {
     "data": {
      "text/plain": [
       "{'policy': tensor([[-0.1369,  0.1105, -0.1841, -0.2424],\n",
       "         [-0.1369,  0.1105, -0.1841, -0.2424]], grad_fn=<MmBackward>),\n",
       " 'value': tensor([[0.0672],\n",
       "         [0.0672]], grad_fn=<TanhBackward>),\n",
       " 'h_head_p': tensor([[0.0000, 0.0000, 0.1198, 0.0000, 0.0000, 0.0000, 1.2525, 0.2832, 0.0000,\n",
       "          1.6655, 0.0601, 0.0000, 0.0000, 0.0000, 0.7961, 0.0000, 0.0000, 0.0000,\n",
       "          0.0000, 0.0000, 0.0000, 0.0000, 0.0000, 1.8546, 0.0000, 1.6145, 0.0000,\n",
       "          0.0000, 0.0000, 0.0000, 0.0000, 0.0000, 3.2710, 2.3532, 1.1565, 0.0000,\n",
       "          1.8052, 2.0600, 1.7020, 0.0000, 0.0000, 3.0512, 1.0049, 1.3538, 1.9245,\n",
       "          0.4764, 1.0338, 0.5130],\n",
       "         [0.0000, 0.0000, 0.1198, 0.0000, 0.0000, 0.0000, 1.2525, 0.2832, 0.0000,\n",
       "          1.6655, 0.0601, 0.0000, 0.0000, 0.0000, 0.7961, 0.0000, 0.0000, 0.0000,\n",
       "          0.0000, 0.0000, 0.0000, 0.0000, 0.0000, 1.8546, 0.0000, 1.6145, 0.0000,\n",
       "          0.0000, 0.0000, 0.0000, 0.0000, 0.0000, 3.2710, 2.3532, 1.1565, 0.0000,\n",
       "          1.8052, 2.0600, 1.7020, 0.0000, 0.0000, 3.0512, 1.0049, 1.3538, 1.9245,\n",
       "          0.4764, 1.0338, 0.5130]], grad_fn=<SumBackward1>),\n",
       " 'h_head_v': tensor([[0.0000, 0.0000, 0.0000, 0.0558, 1.6543, 0.0000, 0.0000, 0.0000, 0.0000,\n",
       "          0.0000, 0.0000, 0.2852, 0.0000, 2.7370, 2.2714, 1.1969, 0.0000, 0.0000,\n",
       "          0.0000, 0.9047, 1.6733, 0.1510, 0.0000, 0.8742, 0.0000, 2.7922, 0.0000,\n",
       "          0.8583, 0.8039, 0.0000, 0.0000, 0.9690, 2.5767, 0.8825, 2.7017, 0.0000,\n",
       "          0.0000, 0.8305, 0.0000, 0.4145, 0.6439, 0.0000, 1.8736, 0.0000, 0.0000,\n",
       "          0.0000, 0.0000, 0.2489],\n",
       "         [0.0000, 0.0000, 0.0000, 0.0558, 1.6543, 0.0000, 0.0000, 0.0000, 0.0000,\n",
       "          0.0000, 0.0000, 0.2852, 0.0000, 2.7370, 2.2714, 1.1969, 0.0000, 0.0000,\n",
       "          0.0000, 0.9047, 1.6733, 0.1510, 0.0000, 0.8742, 0.0000, 2.7922, 0.0000,\n",
       "          0.8583, 0.8039, 0.0000, 0.0000, 0.9690, 2.5767, 0.8825, 2.7017, 0.0000,\n",
       "          0.0000, 0.8305, 0.0000, 0.4145, 0.6439, 0.0000, 1.8736, 0.0000, 0.0000,\n",
       "          0.0000, 0.0000, 0.2489]], grad_fn=<SumBackward1>),\n",
       " 'h_avg_v': tensor([[0.3770, 0.4012, 0.3866, 0.3962, 0.4015, 0.3837, 0.3899, 0.4042, 0.3964,\n",
       "          0.4175, 0.4047, 0.3926, 0.3771, 0.4018, 0.3545, 0.3810, 0.3929, 0.4093,\n",
       "          0.3903, 0.4136, 0.4173, 0.3750, 0.3455, 0.4068, 0.3914, 0.4125, 0.3796,\n",
       "          0.3909, 0.3870, 0.4168, 0.3737, 0.3921, 0.4056, 0.4142, 0.4047, 0.3675,\n",
       "          0.3908, 0.4053, 0.3952, 0.3723, 0.4009, 0.3652, 0.3835, 0.4043, 0.3869,\n",
       "          0.4104, 0.3822, 0.3956],\n",
       "         [0.3770, 0.4012, 0.3866, 0.3962, 0.4015, 0.3837, 0.3899, 0.4042, 0.3964,\n",
       "          0.4175, 0.4047, 0.3926, 0.3771, 0.4018, 0.3545, 0.3810, 0.3929, 0.4093,\n",
       "          0.3903, 0.4136, 0.4173, 0.3750, 0.3455, 0.4068, 0.3914, 0.4125, 0.3796,\n",
       "          0.3909, 0.3870, 0.4168, 0.3737, 0.3921, 0.4056, 0.4142, 0.4047, 0.3675,\n",
       "          0.3908, 0.4053, 0.3952, 0.3723, 0.4009, 0.3652, 0.3835, 0.4043, 0.3869,\n",
       "          0.4104, 0.3822, 0.3956]], grad_fn=<MeanBackward1>)}"
      ]
     },
     "execution_count": 10,
     "metadata": {},
     "output_type": "execute_result"
    }
   ],
   "source": [
    "out"
   ]
  },
  {
   "cell_type": "code",
   "execution_count": 11,
   "metadata": {},
   "outputs": [
    {
     "name": "stdout",
     "output_type": "stream",
     "text": [
      "308,112\n"
     ]
    }
   ],
   "source": [
    "# pytorch_total_params\n",
    "params = sum(p.numel() for p in net.parameters())\n",
    "print(f\"{params:,}\")"
   ]
  },
  {
   "cell_type": "code",
   "execution_count": 12,
   "metadata": {},
   "outputs": [
    {
     "name": "stdout",
     "output_type": "stream",
     "text": [
      "308,112\n"
     ]
    }
   ],
   "source": [
    "# pytorch_total_params (trainable)\n",
    "params = sum(p.numel() for p in net.parameters() if p.requires_grad)\n",
    "print(f\"{params:,}\")"
   ]
  },
  {
   "cell_type": "code",
   "execution_count": 13,
   "metadata": {},
   "outputs": [
    {
     "data": {
      "text/plain": [
       "GeeseNet(\n",
       "  (conv0): TorusConv2d(\n",
       "    (conv): Conv2d(25, 48, kernel_size=(3, 3), stride=(1, 1))\n",
       "    (bn): BatchNorm2d(48, eps=1e-05, momentum=0.1, affine=True, track_running_stats=True)\n",
       "  )\n",
       "  (blocks): ModuleList(\n",
       "    (0): TorusConv2d(\n",
       "      (conv): Conv2d(48, 48, kernel_size=(3, 3), stride=(1, 1))\n",
       "      (bn): BatchNorm2d(48, eps=1e-05, momentum=0.1, affine=True, track_running_stats=True)\n",
       "    )\n",
       "    (1): TorusConv2d(\n",
       "      (conv): Conv2d(48, 48, kernel_size=(3, 3), stride=(1, 1))\n",
       "      (bn): BatchNorm2d(48, eps=1e-05, momentum=0.1, affine=True, track_running_stats=True)\n",
       "    )\n",
       "    (2): TorusConv2d(\n",
       "      (conv): Conv2d(48, 48, kernel_size=(3, 3), stride=(1, 1))\n",
       "      (bn): BatchNorm2d(48, eps=1e-05, momentum=0.1, affine=True, track_running_stats=True)\n",
       "    )\n",
       "    (3): TorusConv2d(\n",
       "      (conv): Conv2d(48, 48, kernel_size=(3, 3), stride=(1, 1))\n",
       "      (bn): BatchNorm2d(48, eps=1e-05, momentum=0.1, affine=True, track_running_stats=True)\n",
       "    )\n",
       "    (4): TorusConv2d(\n",
       "      (conv): Conv2d(48, 48, kernel_size=(3, 3), stride=(1, 1))\n",
       "      (bn): BatchNorm2d(48, eps=1e-05, momentum=0.1, affine=True, track_running_stats=True)\n",
       "    )\n",
       "    (5): TorusConv2d(\n",
       "      (conv): Conv2d(48, 48, kernel_size=(3, 3), stride=(1, 1))\n",
       "      (bn): BatchNorm2d(48, eps=1e-05, momentum=0.1, affine=True, track_running_stats=True)\n",
       "    )\n",
       "    (6): TorusConv2d(\n",
       "      (conv): Conv2d(48, 48, kernel_size=(3, 3), stride=(1, 1))\n",
       "      (bn): BatchNorm2d(48, eps=1e-05, momentum=0.1, affine=True, track_running_stats=True)\n",
       "    )\n",
       "    (7): TorusConv2d(\n",
       "      (conv): Conv2d(48, 48, kernel_size=(3, 3), stride=(1, 1))\n",
       "      (bn): BatchNorm2d(48, eps=1e-05, momentum=0.1, affine=True, track_running_stats=True)\n",
       "    )\n",
       "    (8): TorusConv2d(\n",
       "      (conv): Conv2d(48, 48, kernel_size=(3, 3), stride=(1, 1))\n",
       "      (bn): BatchNorm2d(48, eps=1e-05, momentum=0.1, affine=True, track_running_stats=True)\n",
       "    )\n",
       "    (9): TorusConv2d(\n",
       "      (conv): Conv2d(48, 48, kernel_size=(3, 3), stride=(1, 1))\n",
       "      (bn): BatchNorm2d(48, eps=1e-05, momentum=0.1, affine=True, track_running_stats=True)\n",
       "    )\n",
       "    (10): TorusConv2d(\n",
       "      (conv): Conv2d(48, 48, kernel_size=(3, 3), stride=(1, 1))\n",
       "      (bn): BatchNorm2d(48, eps=1e-05, momentum=0.1, affine=True, track_running_stats=True)\n",
       "    )\n",
       "    (11): TorusConv2d(\n",
       "      (conv): Conv2d(48, 48, kernel_size=(3, 3), stride=(1, 1))\n",
       "      (bn): BatchNorm2d(48, eps=1e-05, momentum=0.1, affine=True, track_running_stats=True)\n",
       "    )\n",
       "  )\n",
       "  (conv_p): TorusConv2d(\n",
       "    (conv): Conv2d(48, 48, kernel_size=(3, 3), stride=(1, 1))\n",
       "    (bn): BatchNorm2d(48, eps=1e-05, momentum=0.1, affine=True, track_running_stats=True)\n",
       "  )\n",
       "  (conv_v): TorusConv2d(\n",
       "    (conv): Conv2d(48, 48, kernel_size=(3, 3), stride=(1, 1))\n",
       "    (bn): BatchNorm2d(48, eps=1e-05, momentum=0.1, affine=True, track_running_stats=True)\n",
       "  )\n",
       "  (head_p): Linear(in_features=48, out_features=4, bias=False)\n",
       "  (head_v1): Linear(in_features=96, out_features=48, bias=False)\n",
       "  (head_v2): Linear(in_features=48, out_features=1, bias=False)\n",
       ")"
      ]
     },
     "execution_count": 13,
     "metadata": {},
     "output_type": "execute_result"
    }
   ],
   "source": [
    "net"
   ]
  },
  {
   "cell_type": "code",
   "execution_count": null,
   "metadata": {},
   "outputs": [],
   "source": []
  }
 ],
 "metadata": {
  "kernelspec": {
   "display_name": "pytorch",
   "language": "python",
   "name": "pytorch"
  },
  "language_info": {
   "codemirror_mode": {
    "name": "ipython",
    "version": 3
   },
   "file_extension": ".py",
   "mimetype": "text/x-python",
   "name": "python",
   "nbconvert_exporter": "python",
   "pygments_lexer": "ipython3",
   "version": "3.7.8"
  }
 },
 "nbformat": 4,
 "nbformat_minor": 4
}
