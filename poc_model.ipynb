{
 "cells": [
  {
   "cell_type": "code",
   "execution_count": 1,
   "metadata": {},
   "outputs": [],
   "source": [
    "import importlib\n",
    "\n",
    "import matplotlib.pyplot as plt\n",
    "import numpy as np\n",
    "import torch\n",
    "import torch.nn as nn\n",
    "import torch.nn.functional as F\n",
    "\n",
    "%matplotlib inline"
   ]
  },
  {
   "cell_type": "code",
   "execution_count": 2,
   "metadata": {},
   "outputs": [
    {
     "name": "stdout",
     "output_type": "stream",
     "text": [
      "Loading environment football failed: No module named 'gfootball'\n"
     ]
    }
   ],
   "source": [
    "model_module = importlib.import_module(\"handyrl.model\")\n",
    "env_module = importlib.import_module(\"handyrl.envs.kaggle.hungry_geese\")"
   ]
  },
  {
   "cell_type": "code",
   "execution_count": 3,
   "metadata": {},
   "outputs": [],
   "source": [
    "e = env_module.Environment()\n",
    "e.reset()"
   ]
  },
  {
   "cell_type": "code",
   "execution_count": 4,
   "metadata": {},
   "outputs": [
    {
     "name": "stdout",
     "output_type": "stream",
     "text": [
      "size: torch.Size([2, 27, 7, 11]), type: torch.float32\n"
     ]
    }
   ],
   "source": [
    "obs = e.observation()\n",
    "obs = torch.from_numpy(obs.reshape(1, 27, 7, 11)).clone()\n",
    "obs_ = torch.cat([obs, obs], dim=0)\n",
    "print(f\"size: {obs_.size()}, type: {obs_.dtype}\")"
   ]
  },
  {
   "cell_type": "code",
   "execution_count": 5,
   "metadata": {},
   "outputs": [],
   "source": [
    "# plt.imshow(obs[0][0], cmap=\"gray\")\n",
    "# plt.show()"
   ]
  },
  {
   "cell_type": "code",
   "execution_count": 6,
   "metadata": {},
   "outputs": [
    {
     "name": "stdout",
     "output_type": "stream",
     "text": [
      "size: torch.Size([2, 27, 7, 11]), type: torch.float32\n"
     ]
    }
   ],
   "source": [
    "input_ = torch.randn(2, 27, 7, 11)\n",
    "print(f\"size: {input_.size()}, type: {input_.dtype}\")"
   ]
  },
  {
   "cell_type": "code",
   "execution_count": 7,
   "metadata": {},
   "outputs": [],
   "source": [
    "net = env_module.GeeseNet()"
   ]
  },
  {
   "cell_type": "code",
   "execution_count": 8,
   "metadata": {},
   "outputs": [],
   "source": [
    "# Disable trainable for pretrained weights.\n",
    "# for param in net.geese_net.parameters():\n",
    "#     param.requires_grad = False"
   ]
  },
  {
   "cell_type": "code",
   "execution_count": 9,
   "metadata": {},
   "outputs": [
    {
     "name": "stdout",
     "output_type": "stream",
     "text": [
      "size: torch.Size([2, 4]), type: torch.float32\n",
      "size: torch.Size([2, 1]), type: torch.float32\n"
     ]
    }
   ],
   "source": [
    "out = net(obs_)\n",
    "# print(f\"size: {out.size()}, type: {out.dtype}\")\n",
    "print(f\"size: {out['policy'].size()}, type: {out['policy'].dtype}\")\n",
    "print(f\"size: {out['value'].size()}, type: {out['value'].dtype}\")"
   ]
  },
  {
   "cell_type": "code",
   "execution_count": 10,
   "metadata": {},
   "outputs": [
    {
     "data": {
      "text/plain": [
       "{'policy': tensor([[0.0125, 0.3941, 0.4406, 0.0143],\n",
       "         [0.0125, 0.3941, 0.4406, 0.0143]], grad_fn=<MmBackward>),\n",
       " 'value': tensor([[0.0962],\n",
       "         [0.0962]], grad_fn=<TanhBackward>),\n",
       " 'h_head_p': tensor([[0.0000, 0.0000, 0.3975, 0.0000, 0.0000, 0.0000, 1.2759, 0.0000, 0.0000,\n",
       "          0.0000, 0.0000, 0.0399, 0.8260, 1.9202, 0.5989, 1.5458, 0.7754, 1.4800,\n",
       "          0.0000, 0.0000, 0.0000, 0.0000, 1.0010, 1.3028, 0.0000, 0.0000, 0.0000,\n",
       "          1.4646, 0.0000, 0.7063, 0.2559, 1.6656, 0.5067, 1.2842, 2.5244, 0.0000,\n",
       "          0.0000, 1.7237, 1.3850, 0.7514, 0.0000, 0.0200, 1.5709, 0.0000, 0.0000,\n",
       "          0.8548, 0.4109, 0.0000],\n",
       "         [0.0000, 0.0000, 0.3975, 0.0000, 0.0000, 0.0000, 1.2759, 0.0000, 0.0000,\n",
       "          0.0000, 0.0000, 0.0399, 0.8260, 1.9202, 0.5989, 1.5458, 0.7754, 1.4800,\n",
       "          0.0000, 0.0000, 0.0000, 0.0000, 1.0010, 1.3028, 0.0000, 0.0000, 0.0000,\n",
       "          1.4646, 0.0000, 0.7063, 0.2559, 1.6656, 0.5067, 1.2842, 2.5244, 0.0000,\n",
       "          0.0000, 1.7237, 1.3850, 0.7514, 0.0000, 0.0200, 1.5709, 0.0000, 0.0000,\n",
       "          0.8548, 0.4109, 0.0000]], grad_fn=<SumBackward1>),\n",
       " 'h_head_v': tensor([[0.0000, 0.0000, 0.0000, 0.0000, 0.0000, 0.0000, 0.0000, 1.1517, 1.0895,\n",
       "          0.7488, 1.2291, 1.2028, 0.0000, 1.5296, 0.0000, 0.5474, 0.0000, 0.0000,\n",
       "          0.0000, 0.1404, 0.3878, 0.0000, 0.9172, 0.0000, 0.7296, 0.3314, 0.0000,\n",
       "          0.0000, 0.9484, 0.1469, 1.3175, 0.7639, 1.7191, 0.0000, 0.0000, 0.0000,\n",
       "          2.0467, 0.0000, 2.1357, 0.0000, 0.3863, 0.9700, 1.1258, 0.2799, 0.3475,\n",
       "          0.0000, 1.6484, 0.4012],\n",
       "         [0.0000, 0.0000, 0.0000, 0.0000, 0.0000, 0.0000, 0.0000, 1.1517, 1.0895,\n",
       "          0.7488, 1.2291, 1.2028, 0.0000, 1.5296, 0.0000, 0.5474, 0.0000, 0.0000,\n",
       "          0.0000, 0.1404, 0.3878, 0.0000, 0.9172, 0.0000, 0.7296, 0.3314, 0.0000,\n",
       "          0.0000, 0.9484, 0.1469, 1.3175, 0.7639, 1.7191, 0.0000, 0.0000, 0.0000,\n",
       "          2.0467, 0.0000, 2.1357, 0.0000, 0.3863, 0.9700, 1.1258, 0.2799, 0.3475,\n",
       "          0.0000, 1.6484, 0.4012]], grad_fn=<SumBackward1>),\n",
       " 'h_avg_v': tensor([[0.4343, 0.3697, 0.3895, 0.4050, 0.3793, 0.3755, 0.4187, 0.4068, 0.4101,\n",
       "          0.4094, 0.3923, 0.3858, 0.4092, 0.4191, 0.4044, 0.4016, 0.3783, 0.4055,\n",
       "          0.3966, 0.4038, 0.4046, 0.3988, 0.3954, 0.3974, 0.4039, 0.3890, 0.3825,\n",
       "          0.3975, 0.3972, 0.4009, 0.4019, 0.3956, 0.4077, 0.4057, 0.4023, 0.3938,\n",
       "          0.3933, 0.3911, 0.3905, 0.4150, 0.4027, 0.3667, 0.3871, 0.3880, 0.4064,\n",
       "          0.3851, 0.3768, 0.3996],\n",
       "         [0.4343, 0.3697, 0.3895, 0.4050, 0.3793, 0.3755, 0.4187, 0.4068, 0.4101,\n",
       "          0.4094, 0.3923, 0.3858, 0.4092, 0.4191, 0.4044, 0.4016, 0.3783, 0.4055,\n",
       "          0.3966, 0.4038, 0.4046, 0.3988, 0.3954, 0.3974, 0.4039, 0.3890, 0.3825,\n",
       "          0.3975, 0.3972, 0.4009, 0.4019, 0.3956, 0.4077, 0.4057, 0.4023, 0.3938,\n",
       "          0.3933, 0.3911, 0.3905, 0.4150, 0.4027, 0.3667, 0.3871, 0.3880, 0.4064,\n",
       "          0.3851, 0.3768, 0.3996]], grad_fn=<MeanBackward1>)}"
      ]
     },
     "execution_count": 10,
     "metadata": {},
     "output_type": "execute_result"
    }
   ],
   "source": [
    "out"
   ]
  },
  {
   "cell_type": "code",
   "execution_count": 11,
   "metadata": {},
   "outputs": [
    {
     "name": "stdout",
     "output_type": "stream",
     "text": [
      "308,976\n"
     ]
    }
   ],
   "source": [
    "# pytorch_total_params\n",
    "params = sum(p.numel() for p in net.parameters())\n",
    "print(f\"{params:,}\")"
   ]
  },
  {
   "cell_type": "code",
   "execution_count": 12,
   "metadata": {},
   "outputs": [
    {
     "name": "stdout",
     "output_type": "stream",
     "text": [
      "308,976\n"
     ]
    }
   ],
   "source": [
    "# pytorch_total_params (trainable)\n",
    "params = sum(p.numel() for p in net.parameters() if p.requires_grad)\n",
    "print(f\"{params:,}\")"
   ]
  },
  {
   "cell_type": "code",
   "execution_count": 13,
   "metadata": {},
   "outputs": [
    {
     "data": {
      "text/plain": [
       "GeeseNet(\n",
       "  (conv0): TorusConv2d(\n",
       "    (conv): Conv2d(27, 48, kernel_size=(3, 3), stride=(1, 1))\n",
       "    (bn): BatchNorm2d(48, eps=1e-05, momentum=0.1, affine=True, track_running_stats=True)\n",
       "  )\n",
       "  (blocks): ModuleList(\n",
       "    (0): TorusConv2d(\n",
       "      (conv): Conv2d(48, 48, kernel_size=(3, 3), stride=(1, 1))\n",
       "      (bn): BatchNorm2d(48, eps=1e-05, momentum=0.1, affine=True, track_running_stats=True)\n",
       "    )\n",
       "    (1): TorusConv2d(\n",
       "      (conv): Conv2d(48, 48, kernel_size=(3, 3), stride=(1, 1))\n",
       "      (bn): BatchNorm2d(48, eps=1e-05, momentum=0.1, affine=True, track_running_stats=True)\n",
       "    )\n",
       "    (2): TorusConv2d(\n",
       "      (conv): Conv2d(48, 48, kernel_size=(3, 3), stride=(1, 1))\n",
       "      (bn): BatchNorm2d(48, eps=1e-05, momentum=0.1, affine=True, track_running_stats=True)\n",
       "    )\n",
       "    (3): TorusConv2d(\n",
       "      (conv): Conv2d(48, 48, kernel_size=(3, 3), stride=(1, 1))\n",
       "      (bn): BatchNorm2d(48, eps=1e-05, momentum=0.1, affine=True, track_running_stats=True)\n",
       "    )\n",
       "    (4): TorusConv2d(\n",
       "      (conv): Conv2d(48, 48, kernel_size=(3, 3), stride=(1, 1))\n",
       "      (bn): BatchNorm2d(48, eps=1e-05, momentum=0.1, affine=True, track_running_stats=True)\n",
       "    )\n",
       "    (5): TorusConv2d(\n",
       "      (conv): Conv2d(48, 48, kernel_size=(3, 3), stride=(1, 1))\n",
       "      (bn): BatchNorm2d(48, eps=1e-05, momentum=0.1, affine=True, track_running_stats=True)\n",
       "    )\n",
       "    (6): TorusConv2d(\n",
       "      (conv): Conv2d(48, 48, kernel_size=(3, 3), stride=(1, 1))\n",
       "      (bn): BatchNorm2d(48, eps=1e-05, momentum=0.1, affine=True, track_running_stats=True)\n",
       "    )\n",
       "    (7): TorusConv2d(\n",
       "      (conv): Conv2d(48, 48, kernel_size=(3, 3), stride=(1, 1))\n",
       "      (bn): BatchNorm2d(48, eps=1e-05, momentum=0.1, affine=True, track_running_stats=True)\n",
       "    )\n",
       "    (8): TorusConv2d(\n",
       "      (conv): Conv2d(48, 48, kernel_size=(3, 3), stride=(1, 1))\n",
       "      (bn): BatchNorm2d(48, eps=1e-05, momentum=0.1, affine=True, track_running_stats=True)\n",
       "    )\n",
       "    (9): TorusConv2d(\n",
       "      (conv): Conv2d(48, 48, kernel_size=(3, 3), stride=(1, 1))\n",
       "      (bn): BatchNorm2d(48, eps=1e-05, momentum=0.1, affine=True, track_running_stats=True)\n",
       "    )\n",
       "    (10): TorusConv2d(\n",
       "      (conv): Conv2d(48, 48, kernel_size=(3, 3), stride=(1, 1))\n",
       "      (bn): BatchNorm2d(48, eps=1e-05, momentum=0.1, affine=True, track_running_stats=True)\n",
       "    )\n",
       "    (11): TorusConv2d(\n",
       "      (conv): Conv2d(48, 48, kernel_size=(3, 3), stride=(1, 1))\n",
       "      (bn): BatchNorm2d(48, eps=1e-05, momentum=0.1, affine=True, track_running_stats=True)\n",
       "    )\n",
       "  )\n",
       "  (conv_p): TorusConv2d(\n",
       "    (conv): Conv2d(48, 48, kernel_size=(3, 3), stride=(1, 1))\n",
       "    (bn): BatchNorm2d(48, eps=1e-05, momentum=0.1, affine=True, track_running_stats=True)\n",
       "  )\n",
       "  (conv_v): TorusConv2d(\n",
       "    (conv): Conv2d(48, 48, kernel_size=(3, 3), stride=(1, 1))\n",
       "    (bn): BatchNorm2d(48, eps=1e-05, momentum=0.1, affine=True, track_running_stats=True)\n",
       "  )\n",
       "  (head_p): Linear(in_features=48, out_features=4, bias=False)\n",
       "  (head_v1): Linear(in_features=96, out_features=48, bias=False)\n",
       "  (head_v2): Linear(in_features=48, out_features=1, bias=False)\n",
       ")"
      ]
     },
     "execution_count": 13,
     "metadata": {},
     "output_type": "execute_result"
    }
   ],
   "source": [
    "net"
   ]
  },
  {
   "cell_type": "code",
   "execution_count": null,
   "metadata": {},
   "outputs": [],
   "source": []
  }
 ],
 "metadata": {
  "kernelspec": {
   "display_name": "pytorch",
   "language": "python",
   "name": "pytorch"
  },
  "language_info": {
   "codemirror_mode": {
    "name": "ipython",
    "version": 3
   },
   "file_extension": ".py",
   "mimetype": "text/x-python",
   "name": "python",
   "nbconvert_exporter": "python",
   "pygments_lexer": "ipython3",
   "version": "3.7.8"
  }
 },
 "nbformat": 4,
 "nbformat_minor": 4
}
