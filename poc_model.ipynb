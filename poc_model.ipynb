{
 "cells": [
  {
   "cell_type": "code",
   "execution_count": 1,
   "metadata": {},
   "outputs": [],
   "source": [
    "import importlib\n",
    "\n",
    "import matplotlib.pyplot as plt\n",
    "import numpy as np\n",
    "import torch\n",
    "import torch.nn as nn\n",
    "import torch.nn.functional as F\n",
    "\n",
    "%matplotlib inline"
   ]
  },
  {
   "cell_type": "code",
   "execution_count": 2,
   "metadata": {},
   "outputs": [
    {
     "name": "stdout",
     "output_type": "stream",
     "text": [
      "Loading environment football failed: No module named 'gfootball'\n"
     ]
    }
   ],
   "source": [
    "model_module = importlib.import_module(\"handyrl.model\")\n",
    "env_module = importlib.import_module(\"handyrl.envs.kaggle.hungry_geese\")"
   ]
  },
  {
   "cell_type": "code",
   "execution_count": 3,
   "metadata": {},
   "outputs": [],
   "source": [
    "e = env_module.Environment()\n",
    "e.reset()"
   ]
  },
  {
   "cell_type": "code",
   "execution_count": 4,
   "metadata": {},
   "outputs": [
    {
     "name": "stdout",
     "output_type": "stream",
     "text": [
      "size: torch.Size([2, 18, 7, 11]), type: torch.float32\n"
     ]
    }
   ],
   "source": [
    "obs = e.observation()\n",
    "obs = torch.from_numpy(obs.reshape(1, 18, 7, 11)).clone()\n",
    "obs_ = torch.cat([obs, obs], dim=0)\n",
    "print(f\"size: {obs_.size()}, type: {obs_.dtype}\")"
   ]
  },
  {
   "cell_type": "code",
   "execution_count": 5,
   "metadata": {},
   "outputs": [],
   "source": [
    "# plt.imshow(obs[0][0], cmap=\"gray\")\n",
    "# plt.show()"
   ]
  },
  {
   "cell_type": "code",
   "execution_count": 6,
   "metadata": {},
   "outputs": [
    {
     "name": "stdout",
     "output_type": "stream",
     "text": [
      "size: torch.Size([2, 18, 7, 11]), type: torch.float32\n"
     ]
    }
   ],
   "source": [
    "input_ = torch.randn(2, 18, 7, 11)\n",
    "print(f\"size: {input_.size()}, type: {input_.dtype}\")"
   ]
  },
  {
   "cell_type": "code",
   "execution_count": 7,
   "metadata": {},
   "outputs": [],
   "source": [
    "net = env_module.GeeseNet()"
   ]
  },
  {
   "cell_type": "code",
   "execution_count": 8,
   "metadata": {},
   "outputs": [],
   "source": [
    "# Disable trainable for pretrained weights.\n",
    "# for param in net.geese_net.parameters():\n",
    "#     param.requires_grad = False"
   ]
  },
  {
   "cell_type": "code",
   "execution_count": 9,
   "metadata": {},
   "outputs": [
    {
     "name": "stdout",
     "output_type": "stream",
     "text": [
      "size: torch.Size([2, 4]), type: torch.float32\n",
      "size: torch.Size([2, 1]), type: torch.float32\n"
     ]
    }
   ],
   "source": [
    "out = net(obs_)\n",
    "# print(f\"size: {out.size()}, type: {out.dtype}\")\n",
    "print(f\"size: {out['policy'].size()}, type: {out['policy'].dtype}\")\n",
    "print(f\"size: {out['value'].size()}, type: {out['value'].dtype}\")"
   ]
  },
  {
   "cell_type": "code",
   "execution_count": 10,
   "metadata": {},
   "outputs": [
    {
     "data": {
      "text/plain": [
       "{'policy': tensor([[ 0.3074, -0.2882, -0.1189, -0.9636],\n",
       "         [ 0.3074, -0.2882, -0.1189, -0.9636]], grad_fn=<MmBackward>),\n",
       " 'value': tensor([[-0.1308],\n",
       "         [-0.1308]], grad_fn=<TanhBackward>),\n",
       " 'h_head_p': tensor([[0.0000, 1.8206, 0.0000, 0.0000, 0.0000, 0.0297, 0.0000, 0.0000, 0.1174,\n",
       "          0.5194, 0.0000, 1.4058, 0.0000, 0.9079, 0.6226, 0.0000, 0.0000, 1.7190,\n",
       "          0.2127, 1.0199, 0.0000, 0.0000, 0.0000, 2.0399, 0.1293, 0.0000, 0.0000,\n",
       "          0.0000, 0.0000, 1.4143, 0.0000, 0.6181],\n",
       "         [0.0000, 1.8206, 0.0000, 0.0000, 0.0000, 0.0297, 0.0000, 0.0000, 0.1174,\n",
       "          0.5194, 0.0000, 1.4058, 0.0000, 0.9079, 0.6226, 0.0000, 0.0000, 1.7190,\n",
       "          0.2127, 1.0199, 0.0000, 0.0000, 0.0000, 2.0399, 0.1293, 0.0000, 0.0000,\n",
       "          0.0000, 0.0000, 1.4143, 0.0000, 0.6181]], grad_fn=<SumBackward1>),\n",
       " 'h_head_v': tensor([[0.0000e+00, 1.0338e+00, 9.2824e-01, 0.0000e+00, 6.5982e-01, 0.0000e+00,\n",
       "          1.4443e-03, 0.0000e+00, 1.1081e+00, 1.8136e+00, 5.1476e-01, 0.0000e+00,\n",
       "          0.0000e+00, 0.0000e+00, 6.8337e-01, 0.0000e+00, 0.0000e+00, 0.0000e+00,\n",
       "          2.4930e+00, 1.0913e-01, 0.0000e+00, 0.0000e+00, 0.0000e+00, 0.0000e+00,\n",
       "          2.8188e+00, 1.3894e+00, 1.0950e+00, 9.0392e-01, 0.0000e+00, 1.4635e+00,\n",
       "          0.0000e+00, 0.0000e+00],\n",
       "         [0.0000e+00, 1.0338e+00, 9.2824e-01, 0.0000e+00, 6.5982e-01, 0.0000e+00,\n",
       "          1.4443e-03, 0.0000e+00, 1.1081e+00, 1.8136e+00, 5.1476e-01, 0.0000e+00,\n",
       "          0.0000e+00, 0.0000e+00, 6.8337e-01, 0.0000e+00, 0.0000e+00, 0.0000e+00,\n",
       "          2.4930e+00, 1.0913e-01, 0.0000e+00, 0.0000e+00, 0.0000e+00, 0.0000e+00,\n",
       "          2.8188e+00, 1.3894e+00, 1.0950e+00, 9.0392e-01, 0.0000e+00, 1.4635e+00,\n",
       "          0.0000e+00, 0.0000e+00]], grad_fn=<SumBackward1>),\n",
       " 'h_avg_v': tensor([[0.3991, 0.3771, 0.3832, 0.4007, 0.4052, 0.4039, 0.3931, 0.3758, 0.3983,\n",
       "          0.3720, 0.3755, 0.4014, 0.3883, 0.4100, 0.3935, 0.3984, 0.4029, 0.3874,\n",
       "          0.3826, 0.3828, 0.3977, 0.3928, 0.3855, 0.3815, 0.3852, 0.3825, 0.3795,\n",
       "          0.4063, 0.3896, 0.4165, 0.4073, 0.3839],\n",
       "         [0.3991, 0.3771, 0.3832, 0.4007, 0.4052, 0.4039, 0.3931, 0.3758, 0.3983,\n",
       "          0.3720, 0.3755, 0.4014, 0.3883, 0.4100, 0.3935, 0.3984, 0.4029, 0.3874,\n",
       "          0.3826, 0.3828, 0.3977, 0.3928, 0.3855, 0.3815, 0.3852, 0.3825, 0.3795,\n",
       "          0.4063, 0.3896, 0.4165, 0.4073, 0.3839]], grad_fn=<MeanBackward1>)}"
      ]
     },
     "execution_count": 10,
     "metadata": {},
     "output_type": "execute_result"
    }
   ],
   "source": [
    "out"
   ]
  },
  {
   "cell_type": "code",
   "execution_count": 11,
   "metadata": {},
   "outputs": [
    {
     "name": "stdout",
     "output_type": "stream",
     "text": [
      "137,856\n"
     ]
    }
   ],
   "source": [
    "# pytorch_total_params\n",
    "params = sum(p.numel() for p in net.parameters())\n",
    "print(f\"{params:,}\")"
   ]
  },
  {
   "cell_type": "code",
   "execution_count": 12,
   "metadata": {},
   "outputs": [
    {
     "name": "stdout",
     "output_type": "stream",
     "text": [
      "137,856\n"
     ]
    }
   ],
   "source": [
    "# pytorch_total_params (trainable)\n",
    "params = sum(p.numel() for p in net.parameters() if p.requires_grad)\n",
    "print(f\"{params:,}\")"
   ]
  },
  {
   "cell_type": "code",
   "execution_count": 13,
   "metadata": {},
   "outputs": [
    {
     "data": {
      "text/plain": [
       "GeeseNet(\n",
       "  (conv0): TorusConv2d(\n",
       "    (conv): Conv2d(18, 32, kernel_size=(3, 3), stride=(1, 1))\n",
       "    (bn): BatchNorm2d(32, eps=1e-05, momentum=0.1, affine=True, track_running_stats=True)\n",
       "  )\n",
       "  (blocks): ModuleList(\n",
       "    (0): TorusConv2d(\n",
       "      (conv): Conv2d(32, 32, kernel_size=(3, 3), stride=(1, 1))\n",
       "      (bn): BatchNorm2d(32, eps=1e-05, momentum=0.1, affine=True, track_running_stats=True)\n",
       "    )\n",
       "    (1): TorusConv2d(\n",
       "      (conv): Conv2d(32, 32, kernel_size=(3, 3), stride=(1, 1))\n",
       "      (bn): BatchNorm2d(32, eps=1e-05, momentum=0.1, affine=True, track_running_stats=True)\n",
       "    )\n",
       "    (2): TorusConv2d(\n",
       "      (conv): Conv2d(32, 32, kernel_size=(3, 3), stride=(1, 1))\n",
       "      (bn): BatchNorm2d(32, eps=1e-05, momentum=0.1, affine=True, track_running_stats=True)\n",
       "    )\n",
       "    (3): TorusConv2d(\n",
       "      (conv): Conv2d(32, 32, kernel_size=(3, 3), stride=(1, 1))\n",
       "      (bn): BatchNorm2d(32, eps=1e-05, momentum=0.1, affine=True, track_running_stats=True)\n",
       "    )\n",
       "    (4): TorusConv2d(\n",
       "      (conv): Conv2d(32, 32, kernel_size=(3, 3), stride=(1, 1))\n",
       "      (bn): BatchNorm2d(32, eps=1e-05, momentum=0.1, affine=True, track_running_stats=True)\n",
       "    )\n",
       "    (5): TorusConv2d(\n",
       "      (conv): Conv2d(32, 32, kernel_size=(3, 3), stride=(1, 1))\n",
       "      (bn): BatchNorm2d(32, eps=1e-05, momentum=0.1, affine=True, track_running_stats=True)\n",
       "    )\n",
       "    (6): TorusConv2d(\n",
       "      (conv): Conv2d(32, 32, kernel_size=(3, 3), stride=(1, 1))\n",
       "      (bn): BatchNorm2d(32, eps=1e-05, momentum=0.1, affine=True, track_running_stats=True)\n",
       "    )\n",
       "    (7): TorusConv2d(\n",
       "      (conv): Conv2d(32, 32, kernel_size=(3, 3), stride=(1, 1))\n",
       "      (bn): BatchNorm2d(32, eps=1e-05, momentum=0.1, affine=True, track_running_stats=True)\n",
       "    )\n",
       "    (8): TorusConv2d(\n",
       "      (conv): Conv2d(32, 32, kernel_size=(3, 3), stride=(1, 1))\n",
       "      (bn): BatchNorm2d(32, eps=1e-05, momentum=0.1, affine=True, track_running_stats=True)\n",
       "    )\n",
       "    (9): TorusConv2d(\n",
       "      (conv): Conv2d(32, 32, kernel_size=(3, 3), stride=(1, 1))\n",
       "      (bn): BatchNorm2d(32, eps=1e-05, momentum=0.1, affine=True, track_running_stats=True)\n",
       "    )\n",
       "    (10): TorusConv2d(\n",
       "      (conv): Conv2d(32, 32, kernel_size=(3, 3), stride=(1, 1))\n",
       "      (bn): BatchNorm2d(32, eps=1e-05, momentum=0.1, affine=True, track_running_stats=True)\n",
       "    )\n",
       "    (11): TorusConv2d(\n",
       "      (conv): Conv2d(32, 32, kernel_size=(3, 3), stride=(1, 1))\n",
       "      (bn): BatchNorm2d(32, eps=1e-05, momentum=0.1, affine=True, track_running_stats=True)\n",
       "    )\n",
       "  )\n",
       "  (conv_p): TorusConv2d(\n",
       "    (conv): Conv2d(32, 32, kernel_size=(3, 3), stride=(1, 1))\n",
       "    (bn): BatchNorm2d(32, eps=1e-05, momentum=0.1, affine=True, track_running_stats=True)\n",
       "  )\n",
       "  (conv_v): TorusConv2d(\n",
       "    (conv): Conv2d(32, 32, kernel_size=(3, 3), stride=(1, 1))\n",
       "    (bn): BatchNorm2d(32, eps=1e-05, momentum=0.1, affine=True, track_running_stats=True)\n",
       "  )\n",
       "  (head_p): Linear(in_features=32, out_features=4, bias=False)\n",
       "  (head_v1): Linear(in_features=64, out_features=32, bias=False)\n",
       "  (head_v2): Linear(in_features=32, out_features=1, bias=False)\n",
       ")"
      ]
     },
     "execution_count": 13,
     "metadata": {},
     "output_type": "execute_result"
    }
   ],
   "source": [
    "net"
   ]
  },
  {
   "cell_type": "code",
   "execution_count": null,
   "metadata": {},
   "outputs": [],
   "source": []
  }
 ],
 "metadata": {
  "kernelspec": {
   "display_name": "pytorch",
   "language": "python",
   "name": "pytorch"
  },
  "language_info": {
   "codemirror_mode": {
    "name": "ipython",
    "version": 3
   },
   "file_extension": ".py",
   "mimetype": "text/x-python",
   "name": "python",
   "nbconvert_exporter": "python",
   "pygments_lexer": "ipython3",
   "version": "3.7.8"
  }
 },
 "nbformat": 4,
 "nbformat_minor": 4
}
