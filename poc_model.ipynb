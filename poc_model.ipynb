{
 "cells": [
  {
   "cell_type": "code",
   "execution_count": 1,
   "metadata": {},
   "outputs": [],
   "source": [
    "import importlib\n",
    "\n",
    "import matplotlib.pyplot as plt\n",
    "import numpy as np\n",
    "import torch\n",
    "import torch.nn as nn\n",
    "import torch.nn.functional as F\n",
    "\n",
    "%matplotlib inline"
   ]
  },
  {
   "cell_type": "code",
   "execution_count": 2,
   "metadata": {},
   "outputs": [
    {
     "name": "stdout",
     "output_type": "stream",
     "text": [
      "Loading environment football failed: No module named 'gfootball'\n"
     ]
    }
   ],
   "source": [
    "model_module = importlib.import_module(\"handyrl.model\")\n",
    "env_module = importlib.import_module(\"handyrl.envs.kaggle.hungry_geese\")"
   ]
  },
  {
   "cell_type": "code",
   "execution_count": 3,
   "metadata": {},
   "outputs": [],
   "source": [
    "e = env_module.Environment()\n",
    "e.reset()"
   ]
  },
  {
   "cell_type": "code",
   "execution_count": 4,
   "metadata": {},
   "outputs": [
    {
     "name": "stdout",
     "output_type": "stream",
     "text": [
      "size: torch.Size([2, 26, 7, 11]), type: torch.float32\n"
     ]
    }
   ],
   "source": [
    "obs = e.observation()\n",
    "obs = torch.from_numpy(obs.reshape(1, 26, 7, 11)).clone()\n",
    "obs_ = torch.cat([obs, obs], dim=0)\n",
    "print(f\"size: {obs_.size()}, type: {obs_.dtype}\")"
   ]
  },
  {
   "cell_type": "code",
   "execution_count": 5,
   "metadata": {},
   "outputs": [],
   "source": [
    "# plt.imshow(obs[0][0], cmap=\"gray\")\n",
    "# plt.show()"
   ]
  },
  {
   "cell_type": "code",
   "execution_count": 6,
   "metadata": {},
   "outputs": [
    {
     "name": "stdout",
     "output_type": "stream",
     "text": [
      "size: torch.Size([2, 26, 7, 11]), type: torch.float32\n"
     ]
    }
   ],
   "source": [
    "input_ = torch.randn(2, 26, 7, 11)\n",
    "print(f\"size: {input_.size()}, type: {input_.dtype}\")"
   ]
  },
  {
   "cell_type": "code",
   "execution_count": 7,
   "metadata": {},
   "outputs": [],
   "source": [
    "net = env_module.GeeseNet()"
   ]
  },
  {
   "cell_type": "code",
   "execution_count": 8,
   "metadata": {},
   "outputs": [],
   "source": [
    "# Disable trainable for pretrained weights.\n",
    "# for param in net.geese_net.parameters():\n",
    "#     param.requires_grad = False"
   ]
  },
  {
   "cell_type": "code",
   "execution_count": 9,
   "metadata": {},
   "outputs": [
    {
     "name": "stdout",
     "output_type": "stream",
     "text": [
      "size: torch.Size([2, 4]), type: torch.float32\n",
      "size: torch.Size([2, 1]), type: torch.float32\n"
     ]
    }
   ],
   "source": [
    "out = net(obs_)\n",
    "# print(f\"size: {out.size()}, type: {out.dtype}\")\n",
    "print(f\"size: {out['policy'].size()}, type: {out['policy'].dtype}\")\n",
    "print(f\"size: {out['value'].size()}, type: {out['value'].dtype}\")"
   ]
  },
  {
   "cell_type": "code",
   "execution_count": 10,
   "metadata": {},
   "outputs": [
    {
     "data": {
      "text/plain": [
       "{'policy': tensor([[ 0.7138,  0.1759,  0.5996, -0.9499],\n",
       "         [ 0.7138,  0.1759,  0.5996, -0.9499]], grad_fn=<MmBackward>),\n",
       " 'value': tensor([[-0.1890],\n",
       "         [-0.1890]], grad_fn=<TanhBackward>),\n",
       " 'h_head_p': tensor([[0.0000, 1.1293, 0.7184, 0.0000, 0.0000, 0.0000, 0.8719, 0.0000, 0.0000,\n",
       "          2.1934, 1.5027, 0.0000, 3.0065, 0.0000, 0.8025, 0.2649, 0.0000, 0.0000,\n",
       "          0.0000, 0.0000, 0.0000, 1.1321, 0.3927, 0.0000, 1.4838, 0.1443, 1.6138,\n",
       "          0.0000, 0.0000, 0.0000, 0.0000, 0.0000, 4.3606, 0.0000, 0.0000, 0.0000,\n",
       "          0.0000, 0.0000, 0.0000, 1.1242, 2.9428, 3.0233, 0.0000, 0.0000, 1.2772,\n",
       "          0.0000, 0.2341, 0.0000],\n",
       "         [0.0000, 1.1293, 0.7184, 0.0000, 0.0000, 0.0000, 0.8719, 0.0000, 0.0000,\n",
       "          2.1934, 1.5027, 0.0000, 3.0065, 0.0000, 0.8025, 0.2649, 0.0000, 0.0000,\n",
       "          0.0000, 0.0000, 0.0000, 1.1321, 0.3927, 0.0000, 1.4838, 0.1443, 1.6138,\n",
       "          0.0000, 0.0000, 0.0000, 0.0000, 0.0000, 4.3606, 0.0000, 0.0000, 0.0000,\n",
       "          0.0000, 0.0000, 0.0000, 1.1242, 2.9428, 3.0233, 0.0000, 0.0000, 1.2772,\n",
       "          0.0000, 0.2341, 0.0000]], grad_fn=<SumBackward1>),\n",
       " 'h_head_v': tensor([[6.2120e-01, 0.0000e+00, 8.2406e-01, 3.6631e+00, 0.0000e+00, 5.0327e-01,\n",
       "          0.0000e+00, 2.7946e-01, 0.0000e+00, 0.0000e+00, 9.1913e-04, 2.3958e+00,\n",
       "          2.8337e-01, 0.0000e+00, 0.0000e+00, 0.0000e+00, 0.0000e+00, 1.1634e+00,\n",
       "          4.4888e-01, 1.3533e+00, 0.0000e+00, 2.0083e+00, 0.0000e+00, 0.0000e+00,\n",
       "          7.6702e-02, 8.1988e-01, 0.0000e+00, 0.0000e+00, 8.7719e-01, 1.8354e-01,\n",
       "          0.0000e+00, 5.6373e-01, 2.2631e+00, 1.7241e+00, 5.3177e-01, 0.0000e+00,\n",
       "          0.0000e+00, 0.0000e+00, 0.0000e+00, 0.0000e+00, 0.0000e+00, 9.3503e-01,\n",
       "          1.0456e+00, 0.0000e+00, 0.0000e+00, 4.2040e-01, 0.0000e+00, 0.0000e+00],\n",
       "         [6.2120e-01, 0.0000e+00, 8.2406e-01, 3.6631e+00, 0.0000e+00, 5.0327e-01,\n",
       "          0.0000e+00, 2.7946e-01, 0.0000e+00, 0.0000e+00, 9.1913e-04, 2.3958e+00,\n",
       "          2.8337e-01, 0.0000e+00, 0.0000e+00, 0.0000e+00, 0.0000e+00, 1.1634e+00,\n",
       "          4.4888e-01, 1.3533e+00, 0.0000e+00, 2.0083e+00, 0.0000e+00, 0.0000e+00,\n",
       "          7.6702e-02, 8.1988e-01, 0.0000e+00, 0.0000e+00, 8.7719e-01, 1.8354e-01,\n",
       "          0.0000e+00, 5.6373e-01, 2.2631e+00, 1.7241e+00, 5.3177e-01, 0.0000e+00,\n",
       "          0.0000e+00, 0.0000e+00, 0.0000e+00, 0.0000e+00, 0.0000e+00, 9.3503e-01,\n",
       "          1.0456e+00, 0.0000e+00, 0.0000e+00, 4.2040e-01, 0.0000e+00, 0.0000e+00]],\n",
       "        grad_fn=<SumBackward1>),\n",
       " 'h_avg_v': tensor([[0.3922, 0.3694, 0.3976, 0.3797, 0.4123, 0.3970, 0.3891, 0.3891, 0.4074,\n",
       "          0.4044, 0.3958, 0.3956, 0.3995, 0.3893, 0.4008, 0.3940, 0.4085, 0.4036,\n",
       "          0.4090, 0.3936, 0.4031, 0.4064, 0.3946, 0.4147, 0.3812, 0.3726, 0.4025,\n",
       "          0.3807, 0.4075, 0.3982, 0.3976, 0.4045, 0.4028, 0.4033, 0.3872, 0.3709,\n",
       "          0.3841, 0.3796, 0.4107, 0.3902, 0.3871, 0.4138, 0.4078, 0.3939, 0.3905,\n",
       "          0.3928, 0.3953, 0.4001],\n",
       "         [0.3922, 0.3694, 0.3976, 0.3797, 0.4123, 0.3970, 0.3891, 0.3891, 0.4074,\n",
       "          0.4044, 0.3958, 0.3956, 0.3995, 0.3893, 0.4008, 0.3940, 0.4085, 0.4036,\n",
       "          0.4090, 0.3936, 0.4031, 0.4064, 0.3946, 0.4147, 0.3812, 0.3726, 0.4025,\n",
       "          0.3807, 0.4075, 0.3982, 0.3976, 0.4045, 0.4028, 0.4033, 0.3872, 0.3709,\n",
       "          0.3841, 0.3796, 0.4107, 0.3902, 0.3871, 0.4138, 0.4078, 0.3939, 0.3905,\n",
       "          0.3928, 0.3953, 0.4001]], grad_fn=<MeanBackward1>)}"
      ]
     },
     "execution_count": 10,
     "metadata": {},
     "output_type": "execute_result"
    }
   ],
   "source": [
    "out"
   ]
  },
  {
   "cell_type": "code",
   "execution_count": 11,
   "metadata": {},
   "outputs": [
    {
     "name": "stdout",
     "output_type": "stream",
     "text": [
      "308,544\n"
     ]
    }
   ],
   "source": [
    "# pytorch_total_params\n",
    "params = sum(p.numel() for p in net.parameters())\n",
    "print(f\"{params:,}\")"
   ]
  },
  {
   "cell_type": "code",
   "execution_count": 12,
   "metadata": {},
   "outputs": [
    {
     "name": "stdout",
     "output_type": "stream",
     "text": [
      "308,544\n"
     ]
    }
   ],
   "source": [
    "# pytorch_total_params (trainable)\n",
    "params = sum(p.numel() for p in net.parameters() if p.requires_grad)\n",
    "print(f\"{params:,}\")"
   ]
  },
  {
   "cell_type": "code",
   "execution_count": 13,
   "metadata": {},
   "outputs": [
    {
     "data": {
      "text/plain": [
       "GeeseNet(\n",
       "  (conv0): TorusConv2d(\n",
       "    (conv): Conv2d(26, 48, kernel_size=(3, 3), stride=(1, 1))\n",
       "    (bn): BatchNorm2d(48, eps=1e-05, momentum=0.1, affine=True, track_running_stats=True)\n",
       "  )\n",
       "  (blocks): ModuleList(\n",
       "    (0): TorusConv2d(\n",
       "      (conv): Conv2d(48, 48, kernel_size=(3, 3), stride=(1, 1))\n",
       "      (bn): BatchNorm2d(48, eps=1e-05, momentum=0.1, affine=True, track_running_stats=True)\n",
       "    )\n",
       "    (1): TorusConv2d(\n",
       "      (conv): Conv2d(48, 48, kernel_size=(3, 3), stride=(1, 1))\n",
       "      (bn): BatchNorm2d(48, eps=1e-05, momentum=0.1, affine=True, track_running_stats=True)\n",
       "    )\n",
       "    (2): TorusConv2d(\n",
       "      (conv): Conv2d(48, 48, kernel_size=(3, 3), stride=(1, 1))\n",
       "      (bn): BatchNorm2d(48, eps=1e-05, momentum=0.1, affine=True, track_running_stats=True)\n",
       "    )\n",
       "    (3): TorusConv2d(\n",
       "      (conv): Conv2d(48, 48, kernel_size=(3, 3), stride=(1, 1))\n",
       "      (bn): BatchNorm2d(48, eps=1e-05, momentum=0.1, affine=True, track_running_stats=True)\n",
       "    )\n",
       "    (4): TorusConv2d(\n",
       "      (conv): Conv2d(48, 48, kernel_size=(3, 3), stride=(1, 1))\n",
       "      (bn): BatchNorm2d(48, eps=1e-05, momentum=0.1, affine=True, track_running_stats=True)\n",
       "    )\n",
       "    (5): TorusConv2d(\n",
       "      (conv): Conv2d(48, 48, kernel_size=(3, 3), stride=(1, 1))\n",
       "      (bn): BatchNorm2d(48, eps=1e-05, momentum=0.1, affine=True, track_running_stats=True)\n",
       "    )\n",
       "    (6): TorusConv2d(\n",
       "      (conv): Conv2d(48, 48, kernel_size=(3, 3), stride=(1, 1))\n",
       "      (bn): BatchNorm2d(48, eps=1e-05, momentum=0.1, affine=True, track_running_stats=True)\n",
       "    )\n",
       "    (7): TorusConv2d(\n",
       "      (conv): Conv2d(48, 48, kernel_size=(3, 3), stride=(1, 1))\n",
       "      (bn): BatchNorm2d(48, eps=1e-05, momentum=0.1, affine=True, track_running_stats=True)\n",
       "    )\n",
       "    (8): TorusConv2d(\n",
       "      (conv): Conv2d(48, 48, kernel_size=(3, 3), stride=(1, 1))\n",
       "      (bn): BatchNorm2d(48, eps=1e-05, momentum=0.1, affine=True, track_running_stats=True)\n",
       "    )\n",
       "    (9): TorusConv2d(\n",
       "      (conv): Conv2d(48, 48, kernel_size=(3, 3), stride=(1, 1))\n",
       "      (bn): BatchNorm2d(48, eps=1e-05, momentum=0.1, affine=True, track_running_stats=True)\n",
       "    )\n",
       "    (10): TorusConv2d(\n",
       "      (conv): Conv2d(48, 48, kernel_size=(3, 3), stride=(1, 1))\n",
       "      (bn): BatchNorm2d(48, eps=1e-05, momentum=0.1, affine=True, track_running_stats=True)\n",
       "    )\n",
       "    (11): TorusConv2d(\n",
       "      (conv): Conv2d(48, 48, kernel_size=(3, 3), stride=(1, 1))\n",
       "      (bn): BatchNorm2d(48, eps=1e-05, momentum=0.1, affine=True, track_running_stats=True)\n",
       "    )\n",
       "  )\n",
       "  (conv_p): TorusConv2d(\n",
       "    (conv): Conv2d(48, 48, kernel_size=(3, 3), stride=(1, 1))\n",
       "    (bn): BatchNorm2d(48, eps=1e-05, momentum=0.1, affine=True, track_running_stats=True)\n",
       "  )\n",
       "  (conv_v): TorusConv2d(\n",
       "    (conv): Conv2d(48, 48, kernel_size=(3, 3), stride=(1, 1))\n",
       "    (bn): BatchNorm2d(48, eps=1e-05, momentum=0.1, affine=True, track_running_stats=True)\n",
       "  )\n",
       "  (head_p): Linear(in_features=48, out_features=4, bias=False)\n",
       "  (head_v1): Linear(in_features=96, out_features=48, bias=False)\n",
       "  (head_v2): Linear(in_features=48, out_features=1, bias=False)\n",
       ")"
      ]
     },
     "execution_count": 13,
     "metadata": {},
     "output_type": "execute_result"
    }
   ],
   "source": [
    "net"
   ]
  },
  {
   "cell_type": "code",
   "execution_count": null,
   "metadata": {},
   "outputs": [],
   "source": []
  }
 ],
 "metadata": {
  "kernelspec": {
   "display_name": "pytorch",
   "language": "python",
   "name": "pytorch"
  },
  "language_info": {
   "codemirror_mode": {
    "name": "ipython",
    "version": 3
   },
   "file_extension": ".py",
   "mimetype": "text/x-python",
   "name": "python",
   "nbconvert_exporter": "python",
   "pygments_lexer": "ipython3",
   "version": "3.7.8"
  }
 },
 "nbformat": 4,
 "nbformat_minor": 4
}
