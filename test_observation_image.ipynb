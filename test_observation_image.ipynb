{
 "cells": [
  {
   "cell_type": "code",
   "execution_count": 573,
   "metadata": {},
   "outputs": [],
   "source": [
    "import importlib\n",
    "import random\n",
    "\n",
    "import albumentations as A\n",
    "import matplotlib.pyplot as plt\n",
    "import numpy as np\n",
    "\n",
    "%matplotlib inline"
   ]
  },
  {
   "cell_type": "code",
   "execution_count": 574,
   "metadata": {},
   "outputs": [],
   "source": [
    "transform = A.Compose(\n",
    "    [\n",
    "        A.Normalize(\n",
    "            mean=[0.485, 0.456, 0.406],\n",
    "            std=[0.229, 0.224, 0.225],\n",
    "        ),\n",
    "    ]\n",
    ")"
   ]
  },
  {
   "cell_type": "code",
   "execution_count": 584,
   "metadata": {},
   "outputs": [],
   "source": [
    "def palette():\n",
    "    a = np.full((4, 4, GEESE_HEAD[0].shape[0]), 255, dtype=np.uint8)\n",
    "\n",
    "    for key, val in GEESE_HEAD.items():\n",
    "        a[0, key] = val\n",
    "\n",
    "    for key, val in GEESE_BODY.items():\n",
    "        a[1, key] = val\n",
    "\n",
    "    for key, val in GEESE_TIP.items():\n",
    "        a[2, key] = val\n",
    "\n",
    "    a[3, 0] = FOOD\n",
    "\n",
    "    plt.imshow(a)\n",
    "    plt.show()\n",
    "\n",
    "    try:\n",
    "        a_ = transform(image=a)\n",
    "        plt.imshow(a_[\"image\"])\n",
    "        plt.show()\n",
    "    except:\n",
    "        pass\n",
    "    \n",
    "    return a"
   ]
  },
  {
   "cell_type": "code",
   "execution_count": 585,
   "metadata": {},
   "outputs": [],
   "source": [
    "def observation():\n",
    "    player = 0\n",
    "    \n",
    "    b = np.full((7 * 11, GEESE_HEAD[0].shape[0]), 255, dtype=np.uint8)\n",
    "\n",
    "    # obs = self.obs_list[-1][0][\"observation\"]\n",
    "    obs = obs_list[-1][0][\"observation\"]\n",
    "\n",
    "    for p, geese in enumerate(obs[\"geese\"]):\n",
    "        key = p - player % NUM_AGENTS\n",
    "\n",
    "        # head position\n",
    "        for pos in geese[:1]:\n",
    "            b[pos] = GEESE_HEAD[key]\n",
    "\n",
    "        # body position\n",
    "        for pos in geese[1:-1]:\n",
    "            b[pos] = GEESE_BODY[key]\n",
    "\n",
    "        # tip position\n",
    "        if len(geese) > 1:\n",
    "            for pos in geese[-1:]:\n",
    "                b[pos] = GEESE_TIP[key]\n",
    "\n",
    "    # previous head position\n",
    "    if len(obs_list) > 1:\n",
    "\n",
    "        # obs_prev = self.obs_list[-2][0][\"observation\"]\n",
    "        obs_prev = obs_list[-2][0][\"observation\"]\n",
    "\n",
    "        for p, geese in enumerate(obs_prev[\"geese\"]):\n",
    "            if p - player % NUM_AGENTS == 0 and len(geese) in (1, 2):\n",
    "                b[geese[0]] = GEESE_BODY[0]\n",
    "\n",
    "    # food\n",
    "    for pos in obs[\"food\"]:\n",
    "        b[pos] = FOOD\n",
    "\n",
    "    # normalize\n",
    "    # b = b / 255.0\n",
    "\n",
    "    b = b.reshape(7, 11, GEESE_HEAD[0].shape[0])\n",
    "\n",
    "    #              縦,     横,     チャネル, 0埋め\n",
    "    b = np.pad(b, ((4, 5), (2, 3), (0, 0)), \"constant\")\n",
    "\n",
    "    plt.imshow(b)\n",
    "    plt.show()\n",
    "    \n",
    "    try:\n",
    "        c = transform(image=b)\n",
    "        plt.imshow(c[\"image\"])\n",
    "        plt.show()\n",
    "    except:\n",
    "        pass\n",
    "    \n",
    "    return b"
   ]
  },
  {
   "cell_type": "code",
   "execution_count": 577,
   "metadata": {},
   "outputs": [],
   "source": [
    "obs_list = [\n",
    "    [\n",
    "        {\n",
    "            \"action\": \"EAST\",\n",
    "            \"reward\": 902,\n",
    "            \"info\": {},\n",
    "            \"observation\": {\n",
    "                \"remainingOverageTime\": 60,\n",
    "                \"step\": 8,\n",
    "                \"geese\": [[55, 54], [65], [7, 73, 72], [2, 3, 4]],\n",
    "                \"food\": [29, 71],\n",
    "                \"index\": 0,\n",
    "            },\n",
    "            \"status\": \"ACTIVE\",\n",
    "        },\n",
    "        {\n",
    "            \"action\": \"NORTH\",\n",
    "            \"reward\": 901,\n",
    "            \"info\": {},\n",
    "            \"observation\": {\"remainingOverageTime\": 60, \"index\": 1},\n",
    "            \"status\": \"ACTIVE\",\n",
    "        },\n",
    "        {\n",
    "            \"action\": \"EAST\",\n",
    "            \"reward\": 903,\n",
    "            \"info\": {},\n",
    "            \"observation\": {\"remainingOverageTime\": 60, \"index\": 2},\n",
    "            \"status\": \"ACTIVE\",\n",
    "        },\n",
    "        {\n",
    "            \"action\": \"EAST\",\n",
    "            \"reward\": 903,\n",
    "            \"info\": {},\n",
    "            \"observation\": {\"remainingOverageTime\": 60, \"index\": 3},\n",
    "            \"status\": \"ACTIVE\",\n",
    "        },\n",
    "    ],\n",
    "    [\n",
    "        {\n",
    "            \"action\": \"EAST\",\n",
    "            \"reward\": 1002,\n",
    "            \"info\": {},\n",
    "            \"observation\": {\n",
    "                \"remainingOverageTime\": 60,\n",
    "                \"step\": 9,\n",
    "                \"geese\": [[56, 55, 44, 33], [66, 67, 68, 69], [8, 7, 73, 72, 71], [1, 2, 3, 4, 5]],\n",
    "                \"food\": [29, 60],\n",
    "                \"index\": 0,\n",
    "            },\n",
    "            \"status\": \"ACTIVE\",\n",
    "        },\n",
    "        {\n",
    "            \"action\": \"NORTH\",\n",
    "            \"reward\": 1001,\n",
    "            \"info\": {},\n",
    "            \"observation\": {\"remainingOverageTime\": 60, \"index\": 1},\n",
    "            \"status\": \"ACTIVE\",\n",
    "        },\n",
    "        {\n",
    "            \"action\": \"EAST\",\n",
    "            \"reward\": 1003,\n",
    "            \"info\": {},\n",
    "            \"observation\": {\"remainingOverageTime\": 60, \"index\": 2},\n",
    "            \"status\": \"ACTIVE\",\n",
    "        },\n",
    "        {\n",
    "            \"action\": \"EAST\",\n",
    "            \"reward\": 1003,\n",
    "            \"info\": {},\n",
    "            \"observation\": {\"remainingOverageTime\": 60, \"index\": 3},\n",
    "            \"status\": \"ACTIVE\",\n",
    "        },\n",
    "    ],\n",
    "]"
   ]
  },
  {
   "cell_type": "code",
   "execution_count": 578,
   "metadata": {},
   "outputs": [],
   "source": [
    "ACTION = [\"NORTH\", \"SOUTH\", \"WEST\", \"EAST\"]\n",
    "NUM_AGENTS = 4\n",
    "\n",
    "GEESE_HEAD = {\n",
    "    0: np.array([166, 19, 3], dtype=np.uint8),\n",
    "    1: np.array([10, 143, 67], dtype=np.uint8),\n",
    "    2: np.array([21, 123, 191], dtype=np.uint8),\n",
    "    3: np.array([107, 27, 140], dtype=np.uint8),\n",
    "}\n",
    "GEESE_BODY = {\n",
    "    0: np.array([231, 76, 60], dtype=np.uint8),\n",
    "    1: np.array([48, 171, 60], dtype=np.uint8),\n",
    "    2: np.array([52, 152, 219], dtype=np.uint8),\n",
    "    3: np.array([155, 89, 182], dtype=np.uint8),\n",
    "}\n",
    "GEESE_TIP = {\n",
    "    0: np.array([240, 148, 139], dtype=np.uint8),\n",
    "    1: np.array([119, 224, 130], dtype=np.uint8),\n",
    "    2: np.array([121, 191, 237], dtype=np.uint8),\n",
    "    3: np.array([212, 157, 235], dtype=np.uint8),\n",
    "}\n",
    "\n",
    "FOOD = np.array([241, 196, 15], dtype=np.uint8)"
   ]
  },
  {
   "cell_type": "code",
   "execution_count": 579,
   "metadata": {},
   "outputs": [
    {
     "data": {
      "image/png": "[encoded data removed]",
      "text/plain": [
       "<Figure size 432x288 with 1 Axes>"
      ]
     },
     "metadata": {
      "needs_background": "light"
     },
     "output_type": "display_data"
    },
    {
     "name": "stderr",
     "output_type": "stream",
     "text": [
      "Clipping input data to the valid range for imshow with RGB data ([0..1] for floats or [0..255] for integers).\n"
     ]
    },
    {
     "data": {
      "image/png": "[encoded data removed]",
      "text/plain": [
       "<Figure size 432x288 with 1 Axes>"
      ]
     },
     "metadata": {
      "needs_background": "light"
     },
     "output_type": "display_data"
    }
   ],
   "source": [
    "palette()"
   ]
  },
  {
   "cell_type": "code",
   "execution_count": 580,
   "metadata": {},
   "outputs": [
    {
     "data": {
      "image/png": "[encoded data removed]",
      "text/plain": [
       "<Figure size 432x288 with 1 Axes>"
      ]
     },
     "metadata": {
      "needs_background": "light"
     },
     "output_type": "display_data"
    },
    {
     "name": "stderr",
     "output_type": "stream",
     "text": [
      "Clipping input data to the valid range for imshow with RGB data ([0..1] for floats or [0..255] for integers).\n"
     ]
    },
    {
     "data": {
      "image/png": "[encoded data removed]",
      "text/plain": [
       "<Figure size 432x288 with 1 Axes>"
      ]
     },
     "metadata": {
      "needs_background": "light"
     },
     "output_type": "display_data"
    }
   ],
   "source": [
    "observation()"
   ]
  },
  {
   "cell_type": "code",
   "execution_count": 581,
   "metadata": {},
   "outputs": [],
   "source": [
    "GEESE_HEAD = {\n",
    "    0: np.array([255, 121, 121, 255], dtype=np.uint8),\n",
    "    1: np.array([106, 176, 76, 255], dtype=np.uint8),\n",
    "    2: np.array([104, 109, 224, 255], dtype=np.uint8),\n",
    "    3: np.array([224, 86, 253, 255], dtype=np.uint8),\n",
    "}\n",
    "GEESE_BODY = {\n",
    "    0: np.array([255, 121, 121, 200], dtype=np.uint8),\n",
    "    1: np.array([106, 176, 76, 200], dtype=np.uint8),\n",
    "    2: np.array([104, 109, 224, 200], dtype=np.uint8),\n",
    "    3: np.array([224, 86, 253, 200], dtype=np.uint8),\n",
    "}\n",
    "GEESE_TIP = {\n",
    "    0: np.array([255, 121, 121, 150], dtype=np.uint8),\n",
    "    1: np.array([106, 176, 76, 150], dtype=np.uint8),\n",
    "    2: np.array([104, 109, 224, 150], dtype=np.uint8),\n",
    "    3: np.array([224, 86, 253, 150], dtype=np.uint8),\n",
    "}\n",
    "\n",
    "FOOD = np.array([249, 202, 36, 255], dtype=np.uint8)"
   ]
  },
  {
   "cell_type": "code",
   "execution_count": 582,
   "metadata": {},
   "outputs": [
    {
     "data": {
      "image/png": "[encoded data removed]",
      "text/plain": [
       "<Figure size 432x288 with 1 Axes>"
      ]
     },
     "metadata": {
      "needs_background": "light"
     },
     "output_type": "display_data"
    }
   ],
   "source": [
    "palette()"
   ]
  },
  {
   "cell_type": "code",
   "execution_count": 586,
   "metadata": {},
   "outputs": [
    {
     "data": {
      "image/png": "[encoded data removed]",
      "text/plain": [
       "<Figure size 432x288 with 1 Axes>"
      ]
     },
     "metadata": {
      "needs_background": "light"
     },
     "output_type": "display_data"
    }
   ],
   "source": [
    "b = observation()"
   ]
  },
  {
   "cell_type": "code",
   "execution_count": 589,
   "metadata": {},
   "outputs": [
    {
     "data": {
      "text/plain": [
       "(16, 16, 4)"
      ]
     },
     "execution_count": 589,
     "metadata": {},
     "output_type": "execute_result"
    }
   ],
   "source": [
    "b.shape"
   ]
  },
  {
   "cell_type": "code",
   "execution_count": 593,
   "metadata": {},
   "outputs": [
    {
     "data": {
      "text/plain": [
       "(1, 1024)"
      ]
     },
     "execution_count": 593,
     "metadata": {},
     "output_type": "execute_result"
    }
   ],
   "source": [
    "b.transpose(2, 0, 1).reshape(1, -1).shape"
   ]
  }
 ],
 "metadata": {
  "kernelspec": {
   "display_name": "pytorch",
   "language": "python",
   "name": "pytorch"
  },
  "language_info": {
   "codemirror_mode": {
    "name": "ipython",
    "version": 3
   },
   "file_extension": ".py",
   "mimetype": "text/x-python",
   "name": "python",
   "nbconvert_exporter": "python",
   "pygments_lexer": "ipython3",
   "version": "3.7.8"
  }
 },
 "nbformat": 4,
 "nbformat_minor": 4
}
