{
 "cells": [
  {
   "cell_type": "code",
   "execution_count": 1,
   "metadata": {},
   "outputs": [
    {
     "name": "stdout",
     "output_type": "stream",
     "text": [
      "Loading environment football failed: No module named 'gfootball'\n"
     ]
    }
   ],
   "source": [
    "import copy\n",
    "import importlib\n",
    "import random\n",
    "from collections import defaultdict, deque\n",
    "\n",
    "import matplotlib.pyplot as plt\n",
    "import numpy as np\n",
    "import torch\n",
    "import torch.nn as nn\n",
    "import torch.nn.functional as F\n",
    "from kaggle_environments import make\n",
    "from kaggle_environments.envs.hungry_geese.hungry_geese import Action, Configuration, Observation, row_col\n",
    "\n",
    "%matplotlib inline"
   ]
  },
  {
   "cell_type": "code",
   "execution_count": 2,
   "metadata": {},
   "outputs": [],
   "source": [
    "model_module = importlib.import_module(\"handyrl.model\")\n",
    "env_module = importlib.import_module(\"handyrl.envs.kaggle.hungry_geese\")"
   ]
  },
  {
   "cell_type": "code",
   "execution_count": 3,
   "metadata": {},
   "outputs": [],
   "source": [
    "e = env_module.Environment()\n",
    "e.reset()"
   ]
  },
  {
   "cell_type": "code",
   "execution_count": 4,
   "metadata": {},
   "outputs": [],
   "source": [
    "# while not e.terminal():\n",
    "for _ in range(50):\n",
    "    obs = e.observation()\n",
    "    actions = {}\n",
    "    for player in e.turns():\n",
    "        actions[player] = e.rule_based_action_smart_geese(player)\n",
    "    e.step(actions)\n",
    "    rewards = e.reward()\n",
    "# e.outcome()"
   ]
  },
  {
   "cell_type": "code",
   "execution_count": 5,
   "metadata": {},
   "outputs": [],
   "source": [
    "obs = e.observation()"
   ]
  },
  {
   "cell_type": "code",
   "execution_count": 28,
   "metadata": {},
   "outputs": [],
   "source": [
    "demo_config = {\n",
    "    \"actTimeout\": 1,\n",
    "    \"columns\": 11,\n",
    "    \"episodeSteps\": 200,\n",
    "    \"hunger_rate\": 40,\n",
    "    \"max_length\": 99,\n",
    "    \"min_food\": 2,\n",
    "    \"rows\": 7,\n",
    "    \"runTimeout\": 1200,\n",
    "}"
   ]
  },
  {
   "cell_type": "code",
   "execution_count": 73,
   "metadata": {},
   "outputs": [],
   "source": [
    "demo_last_obs = {\n",
    "    \"food\": [18, 53],\n",
    "    \"geese\": [\n",
    "        [3, 2, 13, 12, 11, 21, 32, 43, 33, 22, 23, 24, 25, 14],\n",
    "        [74, 75, 9, 8, 19, 30, 31, 42, 41, 52, 63],\n",
    "        [27, 16, 5, 6, 7, 73, 62, 51, 40, 29, 28],\n",
    "        [71, 70, 4, 15, 26, 37, 48, 49, 38, 39, 50, 61, 72],\n",
    "    ],\n",
    "    \"index\": 0,\n",
    "    \"remainingOverageTime\": 20.105263000000026,\n",
    "    \"step\": 177,\n",
    "}"
   ]
  },
  {
   "cell_type": "code",
   "execution_count": 74,
   "metadata": {},
   "outputs": [],
   "source": [
    "demo_obs = {\n",
    "    \"food\": [18, 53],\n",
    "    \"geese\": [\n",
    "        [14, 3, 2, 13, 12, 11, 21, 32, 43, 33, 22, 23, 24, 25],\n",
    "        [63, 74, 75, 9, 8, 19, 30, 31, 42, 41, 52],\n",
    "        [28, 27, 16, 5, 6, 7, 73, 62, 51, 40, 29],\n",
    "        [72, 71, 70, 4, 15, 26, 37, 48, 49, 38, 39, 50, 61],\n",
    "    ],\n",
    "    \"index\": 0,\n",
    "    \"remainingOverageTime\": 20.020537000000026,\n",
    "    \"step\": 178,\n",
    "}"
   ]
  },
  {
   "cell_type": "code",
   "execution_count": 75,
   "metadata": {},
   "outputs": [],
   "source": [
    "opposites = {Action.EAST: Action.WEST, Action.WEST: Action.EAST, Action.NORTH: Action.SOUTH, Action.SOUTH: Action.NORTH}\n",
    "action_meanings = {Action.EAST: (1, 0), Action.WEST: (-1, 0), Action.NORTH: (0, -1), Action.SOUTH: (0, 1)}\n",
    "action_names = {\n",
    "    (1, 0): Action.EAST,\n",
    "    (-10, 0): Action.EAST,\n",
    "    (-1, 0): Action.WEST,\n",
    "    (10, 0): Action.WEST,\n",
    "    (0, -1): Action.NORTH,\n",
    "    (0, 6): Action.NORTH,\n",
    "    (0, -6): Action.SOUTH,\n",
    "    (0, 1): Action.SOUTH,\n",
    "}\n",
    "strValue = {Action.EAST: \"EAST\", Action.WEST: \"WEST\", Action.NORTH: \"NORTH\", Action.SOUTH: \"SOUTH\"}\n",
    "\n",
    "frame = 0\n",
    "all_last_actions = [None, None, None, None]\n",
    "revert_last_actions = [None, None, None, None]\n",
    "last_observation = None"
   ]
  },
  {
   "cell_type": "code",
   "execution_count": 76,
   "metadata": {},
   "outputs": [],
   "source": [
    "class Obs:\n",
    "    pass"
   ]
  },
  {
   "cell_type": "code",
   "execution_count": 77,
   "metadata": {},
   "outputs": [],
   "source": [
    "def setLastActions(observation, configuration):\n",
    "    global frame, revert_last_actions, all_last_actions\n",
    "    if not frame == 0:\n",
    "        for i in range(4):\n",
    "            setLastAction(observation, configuration, i)\n",
    "    revert_last_actions = copy.deepcopy(all_last_actions)"
   ]
  },
  {
   "cell_type": "code",
   "execution_count": 78,
   "metadata": {},
   "outputs": [],
   "source": [
    "def revertLastActions():\n",
    "    global revert_last_actions, all_last_actions\n",
    "    all_last_actions = copy.deepcopy(revert_last_actions)"
   ]
  },
  {
   "cell_type": "code",
   "execution_count": 79,
   "metadata": {},
   "outputs": [],
   "source": [
    "def setLastAction(observation, configuration, gooseIndex):\n",
    "    global last_observation, all_last_actions, action_names\n",
    "    if len(observation.geese[gooseIndex]) > 0:\n",
    "        oldGooseRow, oldGooseCol = row_col(last_observation.geese[gooseIndex][0], configuration.columns)\n",
    "        newGooseRow, newGooseCol = row_col(observation.geese[gooseIndex][0], configuration.columns)\n",
    "        all_last_actions[gooseIndex] = action_names[\n",
    "            ((newGooseCol - oldGooseCol) % configuration.columns, (newGooseRow - oldGooseRow) % configuration.rows)\n",
    "        ]"
   ]
  },
  {
   "cell_type": "code",
   "execution_count": 80,
   "metadata": {},
   "outputs": [],
   "source": [
    "def getValidDirections(observation, configuration, gooseIndex):\n",
    "    global all_last_actions, opposites\n",
    "    directions = [Action.EAST, Action.WEST, Action.NORTH, Action.SOUTH]\n",
    "    returnDirections = []\n",
    "    for direction in directions:\n",
    "        row, col = getRowColForAction(observation, configuration, gooseIndex, direction)\n",
    "        if (\n",
    "            not willGooseBeThere(observation, configuration, row, col)\n",
    "            and not all_last_actions[gooseIndex] == opposites[direction]\n",
    "        ):\n",
    "            returnDirections.append(direction)\n",
    "    if len(returnDirections) == 0:\n",
    "        return directions\n",
    "    return returnDirections"
   ]
  },
  {
   "cell_type": "code",
   "execution_count": 81,
   "metadata": {},
   "outputs": [],
   "source": [
    "def randomTurn(observation, configuration, actionOverrides, rewards, fr):\n",
    "    newObservation = cloneObservation(observation)\n",
    "    for i in range(4):\n",
    "        if len(observation.geese[i]) > 0:\n",
    "            if i in actionOverrides.keys():\n",
    "                newObservation = performActionForGoose(\n",
    "                    observation, configuration, i, newObservation, actionOverrides[i]\n",
    "                )\n",
    "            else:\n",
    "                newObservation = randomActionForGoose(observation, configuration, i, newObservation)\n",
    "\n",
    "    checkForCollisions(newObservation, configuration)\n",
    "    updateRewards(newObservation, configuration, rewards, fr)\n",
    "    hunger(newObservation, fr)\n",
    "    return newObservation"
   ]
  },
  {
   "cell_type": "code",
   "execution_count": 82,
   "metadata": {},
   "outputs": [],
   "source": [
    "def hunger(observation, fr):\n",
    "    if fr % 40 == 0:\n",
    "        for g, goose in enumerate(observation.geese):\n",
    "            goose = goose[0 : len(goose) - 1]"
   ]
  },
  {
   "cell_type": "code",
   "execution_count": 83,
   "metadata": {},
   "outputs": [],
   "source": [
    "def updateRewards(observation, configuration, rewards, fr):\n",
    "    for g, goose in enumerate(observation.geese):\n",
    "        if len(goose) > 0:\n",
    "            rewards[g] = 100 * fr + len(goose)"
   ]
  },
  {
   "cell_type": "code",
   "execution_count": 84,
   "metadata": {},
   "outputs": [],
   "source": [
    "def checkForCollisions(observation, configuration):\n",
    "    killed = []\n",
    "    for g, goose in enumerate(observation.geese):\n",
    "        if len(goose) > 0:\n",
    "            for o, otherGoose in enumerate(observation.geese):\n",
    "                for p, part in enumerate(otherGoose):\n",
    "                    if not (o == g and p == 0):\n",
    "                        if goose[0] == part:\n",
    "                            killed.append(g)\n",
    "\n",
    "    for kill in killed:\n",
    "        observation.geese[kill] = []"
   ]
  },
  {
   "cell_type": "code",
   "execution_count": 85,
   "metadata": {},
   "outputs": [],
   "source": [
    "def cloneObservation(observation):\n",
    "    newObservation = Obs()\n",
    "    newObservation.index = observation.index\n",
    "    newObservation.geese = copy.deepcopy(observation.geese)\n",
    "    newObservation.food = copy.deepcopy(observation.food)\n",
    "    return newObservation"
   ]
  },
  {
   "cell_type": "code",
   "execution_count": 86,
   "metadata": {},
   "outputs": [],
   "source": [
    "def randomActionForGoose(observation, configuration, gooseIndex, newObservation):\n",
    "    validActions = getValidDirections(observation, configuration, gooseIndex)\n",
    "    action = random.choice(validActions)\n",
    "    row, col = getRowColForAction(observation, configuration, gooseIndex, action)\n",
    "    newObservation.geese[gooseIndex] = [row * configuration.columns + col] + newObservation.geese[gooseIndex]\n",
    "    if not isFoodThere(observation, configuration, row, col):\n",
    "        newObservation.geese[gooseIndex] = newObservation.geese[gooseIndex][\n",
    "            0 : len(newObservation.geese[gooseIndex]) - 1\n",
    "        ]\n",
    "    return newObservation"
   ]
  },
  {
   "cell_type": "code",
   "execution_count": 87,
   "metadata": {},
   "outputs": [],
   "source": [
    "def performActionForGoose(observation, configuration, gooseIndex, newObservation, action):\n",
    "    row, col = getRowColForAction(observation, configuration, gooseIndex, action)\n",
    "    newObservation.geese[gooseIndex][:0] = [row * configuration.columns + col]\n",
    "    if not isFoodThere(observation, configuration, row, col):\n",
    "        newObservation.geese[gooseIndex] = newObservation.geese[gooseIndex][\n",
    "            0 : len(newObservation.geese[gooseIndex]) - 1\n",
    "        ]\n",
    "    return newObservation"
   ]
  },
  {
   "cell_type": "code",
   "execution_count": 88,
   "metadata": {},
   "outputs": [],
   "source": [
    "def isFoodThere(observation, configuration, row, col):\n",
    "    for food in observation.food:\n",
    "        foodRow, foodCol = row_col(food, configuration.columns)\n",
    "        if foodRow == row and foodCol == col:\n",
    "            return True\n",
    "    return False"
   ]
  },
  {
   "cell_type": "code",
   "execution_count": 89,
   "metadata": {},
   "outputs": [],
   "source": [
    "def willGooseBeThere(observation, configuration, row, col):\n",
    "    for goose in observation.geese:\n",
    "        for p, part in enumerate(goose):\n",
    "            if not p == len(goose) - 1:\n",
    "                partRow, partCol = row_col(part, configuration.columns)\n",
    "                if partRow == row and partCol == col:\n",
    "                    return True\n",
    "    return False"
   ]
  },
  {
   "cell_type": "code",
   "execution_count": 90,
   "metadata": {},
   "outputs": [],
   "source": [
    "def getRowColForAction(observation, configuration, gooseIndex, action):\n",
    "    global action_meanings\n",
    "    gooseRow, gooseCol = row_col(observation.geese[gooseIndex][0], configuration.columns)\n",
    "    actionRow = (gooseRow + action_meanings[action][1]) % configuration.rows\n",
    "    actionCol = (gooseCol + action_meanings[action][0]) % configuration.columns\n",
    "    return actionRow, actionCol"
   ]
  },
  {
   "cell_type": "code",
   "execution_count": 91,
   "metadata": {},
   "outputs": [],
   "source": [
    "def simulateMatch(observation, configuration, firstMove, depth):\n",
    "    global frame\n",
    "    actionOverrides = {observation.index: firstMove}\n",
    "    revertLastActions()\n",
    "    simulationFrame = frame + 1\n",
    "    newObservation = cloneObservation(observation)\n",
    "    rewards = [0, 0, 0, 0]\n",
    "    count = 0\n",
    "    while count < depth:\n",
    "        newObservation = randomTurn(newObservation, configuration, actionOverrides, rewards, simulationFrame)\n",
    "        actionOverrides = {}\n",
    "        simulationFrame += 1\n",
    "        count += 1\n",
    "    return rewards"
   ]
  },
  {
   "cell_type": "code",
   "execution_count": 92,
   "metadata": {},
   "outputs": [],
   "source": [
    "def simulateMatches(observation, configuration, numMatches, depth):\n",
    "    options = getValidDirections(observation, configuration, observation.index)\n",
    "    rewardTotals = []\n",
    "    for o, option in enumerate(options):\n",
    "        rewardsForOption = [0, 0, 0, 0]\n",
    "        for i in range(numMatches):\n",
    "            matchRewards = simulateMatch(observation, configuration, option, depth)\n",
    "            for j in range(4):\n",
    "                rewardsForOption[j] += matchRewards[j]\n",
    "        rewardTotals.append(rewardsForOption)\n",
    "    scores = []\n",
    "    for o, option in enumerate(options):\n",
    "        rewards = rewardTotals[o]\n",
    "        if len(rewards) <= 0:\n",
    "            mean = 0\n",
    "        else:\n",
    "            mean = sum(rewards) / len(rewards)\n",
    "        if mean == 0:\n",
    "            scores.append(0)\n",
    "        else:\n",
    "            scores.append(rewards[observation.index] / mean)\n",
    "\n",
    "    print(\"frame: \", frame)\n",
    "    print(\"options: \", options)\n",
    "    print(\"scores: \", scores)\n",
    "    print(\"reward totals: \", rewardTotals)\n",
    "    print(\"lengths: \")\n",
    "    print(\"0: \", len(observation.geese[0]))\n",
    "    print(\"1: \", len(observation.geese[1]))\n",
    "    print(\"2: \", len(observation.geese[2]))\n",
    "    print(\"3: \", len(observation.geese[3]))\n",
    "\n",
    "    return options[scores.index(max(scores))]"
   ]
  },
  {
   "cell_type": "code",
   "execution_count": 93,
   "metadata": {},
   "outputs": [],
   "source": [
    "configuration = Configuration(demo_config)"
   ]
  },
  {
   "cell_type": "code",
   "execution_count": 94,
   "metadata": {},
   "outputs": [],
   "source": [
    "observation = Observation(demo_last_obs)"
   ]
  },
  {
   "cell_type": "code",
   "execution_count": 95,
   "metadata": {},
   "outputs": [],
   "source": [
    "last_observation = cloneObservation(observation)"
   ]
  },
  {
   "cell_type": "code",
   "execution_count": 96,
   "metadata": {},
   "outputs": [],
   "source": [
    "frame = 178"
   ]
  },
  {
   "cell_type": "code",
   "execution_count": 97,
   "metadata": {},
   "outputs": [],
   "source": [
    "observation = Observation(demo_obs)"
   ]
  },
  {
   "cell_type": "code",
   "execution_count": 98,
   "metadata": {},
   "outputs": [],
   "source": [
    "setLastActions(observation, configuration)"
   ]
  },
  {
   "cell_type": "code",
   "execution_count": 99,
   "metadata": {},
   "outputs": [],
   "source": [
    "myLength = len(observation.geese[observation.index])"
   ]
  },
  {
   "cell_type": "code",
   "execution_count": 100,
   "metadata": {},
   "outputs": [
    {
     "name": "stdout",
     "output_type": "stream",
     "text": [
      "frame:  178\n",
      "options:  [<Action.SOUTH: 3>]\n",
      "scores:  [1.0046031957408428]\n",
      "reward totals:  [[182940, 182919, 181118, 181430]]\n",
      "lengths: \n",
      "0:  14\n",
      "1:  11\n",
      "2:  11\n",
      "3:  13\n"
     ]
    },
    {
     "data": {
      "text/plain": [
       "<Action.SOUTH: 3>"
      ]
     },
     "execution_count": 100,
     "metadata": {},
     "output_type": "execute_result"
    }
   ],
   "source": [
    "simulateMatches(observation, configuration, 10, 5)"
   ]
  }
 ],
 "metadata": {
  "kernelspec": {
   "display_name": "pytorch",
   "language": "python",
   "name": "pytorch"
  },
  "language_info": {
   "codemirror_mode": {
    "name": "ipython",
    "version": 3
   },
   "file_extension": ".py",
   "mimetype": "text/x-python",
   "name": "python",
   "nbconvert_exporter": "python",
   "pygments_lexer": "ipython3",
   "version": "3.7.8"
  }
 },
 "nbformat": 4,
 "nbformat_minor": 4
}
