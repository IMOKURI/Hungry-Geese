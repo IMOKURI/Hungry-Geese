{
 "cells": [
  {
   "cell_type": "code",
   "execution_count": 1,
   "metadata": {},
   "outputs": [],
   "source": [
    "import importlib\n",
    "\n",
    "import numpy as np\n",
    "import torch\n",
    "import torch.nn as nn\n",
    "import torch.nn.functional as F"
   ]
  },
  {
   "cell_type": "code",
   "execution_count": 2,
   "metadata": {},
   "outputs": [
    {
     "name": "stdout",
     "output_type": "stream",
     "text": [
      "Loading environment football failed: No module named 'gfootball'\n"
     ]
    }
   ],
   "source": [
    "model_module = importlib.import_module(\"handyrl.model\")\n",
    "env_module = importlib.import_module(\"handyrl.envs.kaggle.hungry_geese\")"
   ]
  },
  {
   "cell_type": "code",
   "execution_count": 3,
   "metadata": {},
   "outputs": [],
   "source": [
    "e = env_module.Environment()\n",
    "e.reset()"
   ]
  },
  {
   "cell_type": "code",
   "execution_count": 4,
   "metadata": {},
   "outputs": [
    {
     "name": "stdout",
     "output_type": "stream",
     "text": [
      "size: torch.Size([1, 17, 7, 11]), type: torch.float32\n"
     ]
    }
   ],
   "source": [
    "obs = e.observation()\n",
    "obs = torch.from_numpy(obs.reshape(1, 17, 7, 11)).clone()\n",
    "print(f\"size: {obs.size()}, type: {obs.dtype}\")"
   ]
  },
  {
   "cell_type": "code",
   "execution_count": 5,
   "metadata": {},
   "outputs": [
    {
     "name": "stdout",
     "output_type": "stream",
     "text": [
      "size: torch.Size([2, 17, 7, 11]), type: torch.float32\n"
     ]
    }
   ],
   "source": [
    "input_ = torch.randn(2, 17, 7, 11)\n",
    "print(f\"size: {input_.size()}, type: {input_.dtype}\")"
   ]
  },
  {
   "cell_type": "code",
   "execution_count": 6,
   "metadata": {},
   "outputs": [],
   "source": [
    "net = env_module.GeeseNet(e)"
   ]
  },
  {
   "cell_type": "code",
   "execution_count": 7,
   "metadata": {},
   "outputs": [
    {
     "name": "stdout",
     "output_type": "stream",
     "text": [
      "size: torch.Size([1, 4]), type: torch.float32\n"
     ]
    }
   ],
   "source": [
    "out = net(obs)\n",
    "print(f\"size: {out['policy'].size()}, type: {out['policy'].dtype}\")"
   ]
  },
  {
   "cell_type": "code",
   "execution_count": 8,
   "metadata": {},
   "outputs": [
    {
     "data": {
      "text/plain": [
       "{'policy': tensor([[-0.3070,  0.1669, -0.5214,  0.0419]], grad_fn=<MmBackward>),\n",
       " 'value': tensor([[0.0779]], grad_fn=<TanhBackward>),\n",
       " 'h_head_p': tensor([[6.3791e-02, 0.0000e+00, 0.0000e+00, 5.1794e-02, 3.2384e-01, 0.0000e+00,\n",
       "          2.6038e-01, 1.5277e-01, 1.2858e+00, 1.0010e+00, 1.2172e+00, 0.0000e+00,\n",
       "          4.0022e-01, 3.0410e-01, 4.7458e-04, 0.0000e+00, 0.0000e+00, 1.1155e-01,\n",
       "          0.0000e+00, 4.5058e-02, 0.0000e+00, 0.0000e+00, 1.7147e+00, 0.0000e+00,\n",
       "          0.0000e+00, 0.0000e+00, 0.0000e+00, 0.0000e+00, 9.6982e-01, 2.1379e-01,\n",
       "          0.0000e+00, 3.4821e-01]], grad_fn=<SumBackward1>),\n",
       " 'h_head_v': tensor([[0.0000, 0.9330, 1.5142, 0.0000, 0.0000, 0.0000, 0.0000, 0.6670, 0.0049,\n",
       "          0.0000, 0.1934, 0.0000, 1.2602, 2.2714, 0.3333, 0.0000, 1.4191, 0.1692,\n",
       "          0.0000, 1.4385, 0.5602, 1.5531, 2.4707, 0.0000, 0.0000, 0.6780, 0.1450,\n",
       "          0.0000, 1.2802, 1.9472, 0.0000, 1.5762]], grad_fn=<SumBackward1>),\n",
       " 'h_avg_v': tensor([[0.4032, 0.4199, 0.4042, 0.4104, 0.4017, 0.4025, 0.3869, 0.4021, 0.3957,\n",
       "          0.4247, 0.3921, 0.3994, 0.3999, 0.4051, 0.4136, 0.4098, 0.4082, 0.3938,\n",
       "          0.4092, 0.3874, 0.4072, 0.3988, 0.3931, 0.4022, 0.3974, 0.3930, 0.4060,\n",
       "          0.4113, 0.4088, 0.3959, 0.4157, 0.3726]], grad_fn=<MeanBackward1>)}"
      ]
     },
     "execution_count": 8,
     "metadata": {},
     "output_type": "execute_result"
    }
   ],
   "source": [
    "out"
   ]
  },
  {
   "cell_type": "code",
   "execution_count": 9,
   "metadata": {},
   "outputs": [
    {
     "name": "stdout",
     "output_type": "stream",
     "text": [
      "121,184\n"
     ]
    }
   ],
   "source": [
    "# pytorch_total_params\n",
    "params = sum(p.numel() for p in net.parameters())\n",
    "print(f\"{params:,}\")"
   ]
  },
  {
   "cell_type": "code",
   "execution_count": 10,
   "metadata": {},
   "outputs": [
    {
     "name": "stdout",
     "output_type": "stream",
     "text": [
      "121,184\n"
     ]
    }
   ],
   "source": [
    "# pytorch_total_params (trainable)\n",
    "params = sum(p.numel() for p in net.parameters() if p.requires_grad)\n",
    "print(f\"{params:,}\")"
   ]
  },
  {
   "cell_type": "code",
   "execution_count": 11,
   "metadata": {},
   "outputs": [
    {
     "data": {
      "text/plain": [
       "GeeseNet(\n",
       "  (conv0): TorusConv2d(\n",
       "    (conv): Conv2d(17, 32, kernel_size=(3, 3), stride=(1, 1))\n",
       "    (bn): BatchNorm2d(32, eps=1e-05, momentum=0.1, affine=True, track_running_stats=True)\n",
       "  )\n",
       "  (blocks0): ModuleList(\n",
       "    (0): TorusConv2d(\n",
       "      (conv): Conv2d(32, 32, kernel_size=(3, 3), stride=(1, 1))\n",
       "      (bn): BatchNorm2d(32, eps=1e-05, momentum=0.1, affine=True, track_running_stats=True)\n",
       "    )\n",
       "    (1): TorusConv2d(\n",
       "      (conv): Conv2d(32, 32, kernel_size=(3, 3), stride=(1, 1))\n",
       "      (bn): BatchNorm2d(32, eps=1e-05, momentum=0.1, affine=True, track_running_stats=True)\n",
       "    )\n",
       "    (2): TorusConv2d(\n",
       "      (conv): Conv2d(32, 32, kernel_size=(3, 3), stride=(1, 1))\n",
       "      (bn): BatchNorm2d(32, eps=1e-05, momentum=0.1, affine=True, track_running_stats=True)\n",
       "    )\n",
       "    (3): TorusConv2d(\n",
       "      (conv): Conv2d(32, 32, kernel_size=(3, 3), stride=(1, 1))\n",
       "      (bn): BatchNorm2d(32, eps=1e-05, momentum=0.1, affine=True, track_running_stats=True)\n",
       "    )\n",
       "    (4): TorusConv2d(\n",
       "      (conv): Conv2d(32, 32, kernel_size=(3, 3), stride=(1, 1))\n",
       "      (bn): BatchNorm2d(32, eps=1e-05, momentum=0.1, affine=True, track_running_stats=True)\n",
       "    )\n",
       "    (5): TorusConv2d(\n",
       "      (conv): Conv2d(32, 32, kernel_size=(3, 3), stride=(1, 1))\n",
       "      (bn): BatchNorm2d(32, eps=1e-05, momentum=0.1, affine=True, track_running_stats=True)\n",
       "    )\n",
       "  )\n",
       "  (blocks1): ModuleList(\n",
       "    (0): TorusConv2d(\n",
       "      (conv): Conv2d(32, 32, kernel_size=(3, 3), stride=(1, 1))\n",
       "      (bn): BatchNorm2d(32, eps=1e-05, momentum=0.1, affine=True, track_running_stats=True)\n",
       "    )\n",
       "    (1): TorusConv2d(\n",
       "      (conv): Conv2d(32, 32, kernel_size=(3, 3), stride=(1, 1))\n",
       "      (bn): BatchNorm2d(32, eps=1e-05, momentum=0.1, affine=True, track_running_stats=True)\n",
       "    )\n",
       "    (2): TorusConv2d(\n",
       "      (conv): Conv2d(32, 32, kernel_size=(3, 3), stride=(1, 1))\n",
       "      (bn): BatchNorm2d(32, eps=1e-05, momentum=0.1, affine=True, track_running_stats=True)\n",
       "    )\n",
       "    (3): TorusConv2d(\n",
       "      (conv): Conv2d(32, 32, kernel_size=(3, 3), stride=(1, 1))\n",
       "      (bn): BatchNorm2d(32, eps=1e-05, momentum=0.1, affine=True, track_running_stats=True)\n",
       "    )\n",
       "    (4): TorusConv2d(\n",
       "      (conv): Conv2d(32, 32, kernel_size=(3, 3), stride=(1, 1))\n",
       "      (bn): BatchNorm2d(32, eps=1e-05, momentum=0.1, affine=True, track_running_stats=True)\n",
       "    )\n",
       "    (5): TorusConv2d(\n",
       "      (conv): Conv2d(32, 32, kernel_size=(3, 3), stride=(1, 1))\n",
       "      (bn): BatchNorm2d(32, eps=1e-05, momentum=0.1, affine=True, track_running_stats=True)\n",
       "    )\n",
       "  )\n",
       "  (conv_p): Conv2d(\n",
       "    (conv): Conv2d(32, 32, kernel_size=(1, 1), stride=(1, 1))\n",
       "    (bn): BatchNorm2d(32, eps=1e-05, momentum=0.1, affine=True, track_running_stats=True)\n",
       "  )\n",
       "  (conv_v): Conv2d(\n",
       "    (conv): Conv2d(32, 32, kernel_size=(1, 1), stride=(1, 1))\n",
       "    (bn): BatchNorm2d(32, eps=1e-05, momentum=0.1, affine=True, track_running_stats=True)\n",
       "  )\n",
       "  (head_p): Linear(in_features=32, out_features=4, bias=False)\n",
       "  (head_v1): Linear(in_features=64, out_features=32, bias=False)\n",
       "  (head_v2): Linear(in_features=32, out_features=1, bias=False)\n",
       ")"
      ]
     },
     "execution_count": 11,
     "metadata": {},
     "output_type": "execute_result"
    }
   ],
   "source": [
    "net"
   ]
  },
  {
   "cell_type": "code",
   "execution_count": null,
   "metadata": {},
   "outputs": [],
   "source": []
  }
 ],
 "metadata": {
  "kernelspec": {
   "display_name": "pytorch",
   "language": "python",
   "name": "pytorch"
  },
  "language_info": {
   "codemirror_mode": {
    "name": "ipython",
    "version": 3
   },
   "file_extension": ".py",
   "mimetype": "text/x-python",
   "name": "python",
   "nbconvert_exporter": "python",
   "pygments_lexer": "ipython3",
   "version": "3.7.8"
  }
 },
 "nbformat": 4,
 "nbformat_minor": 4
}
