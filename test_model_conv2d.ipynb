{
 "cells": [
  {
   "cell_type": "code",
   "execution_count": 1,
   "metadata": {},
   "outputs": [],
   "source": [
    "import importlib\n",
    "\n",
    "import numpy as np\n",
    "import torch\n",
    "import torch.nn as nn\n",
    "import torch.nn.functional as F"
   ]
  },
  {
   "cell_type": "code",
   "execution_count": 2,
   "metadata": {},
   "outputs": [
    {
     "name": "stdout",
     "output_type": "stream",
     "text": [
      "Loading environment football failed: No module named 'gfootball'\n"
     ]
    }
   ],
   "source": [
    "model_module = importlib.import_module(\"handyrl.model\")\n",
    "env_module = importlib.import_module(\"handyrl.envs.kaggle.hungry_geese\")"
   ]
  },
  {
   "cell_type": "code",
   "execution_count": 3,
   "metadata": {},
   "outputs": [],
   "source": [
    "e = env_module.Environment()\n",
    "e.reset()"
   ]
  },
  {
   "cell_type": "code",
   "execution_count": 4,
   "metadata": {},
   "outputs": [
    {
     "name": "stdout",
     "output_type": "stream",
     "text": [
      "size: torch.Size([2, 17, 7, 11]), type: torch.float32\n"
     ]
    }
   ],
   "source": [
    "obs = e.observation()\n",
    "obs = torch.from_numpy(obs.reshape(1, 17, 7, 11)).clone()\n",
    "obs_ = torch.cat([obs, obs], dim=0)\n",
    "print(f\"size: {obs_.size()}, type: {obs_.dtype}\")"
   ]
  },
  {
   "cell_type": "code",
   "execution_count": 5,
   "metadata": {},
   "outputs": [
    {
     "name": "stdout",
     "output_type": "stream",
     "text": [
      "size: torch.Size([2, 17, 7, 11]), type: torch.float32\n"
     ]
    }
   ],
   "source": [
    "input_ = torch.randn(2, 17, 7, 11)\n",
    "print(f\"size: {input_.size()}, type: {input_.dtype}\")"
   ]
  },
  {
   "cell_type": "code",
   "execution_count": 6,
   "metadata": {},
   "outputs": [],
   "source": [
    "# x_ = x * (obs_[:, :4].sum(dim=1, keepdim=True))"
   ]
  },
  {
   "cell_type": "code",
   "execution_count": 7,
   "metadata": {},
   "outputs": [],
   "source": [
    "net = env_module.GeeseNet(e)"
   ]
  },
  {
   "cell_type": "code",
   "execution_count": 8,
   "metadata": {},
   "outputs": [
    {
     "name": "stdout",
     "output_type": "stream",
     "text": [
      "size: torch.Size([2, 4]), type: torch.float32\n"
     ]
    }
   ],
   "source": [
    "out = net(obs_)\n",
    "print(f\"size: {out['policy'].size()}, type: {out['policy'].dtype}\")"
   ]
  },
  {
   "cell_type": "code",
   "execution_count": 9,
   "metadata": {},
   "outputs": [
    {
     "data": {
      "text/plain": [
       "{'policy': tensor([[ 0.0539, -0.1484,  0.0195,  0.0612],\n",
       "         [ 0.0539, -0.1484,  0.0195,  0.0612]], grad_fn=<MmBackward>),\n",
       " 'value': tensor([[0.3595],\n",
       "         [0.3595]], grad_fn=<TanhBackward>),\n",
       " 'h_head_p': tensor([[0.0000, 0.0000, 0.5330, 0.4374, 0.0000, 0.0000, 0.0000, 0.0000, 0.9940,\n",
       "          1.1747, 0.7174, 0.0000, 1.2082, 0.7149, 2.4402, 1.6964, 0.8828, 2.6096,\n",
       "          0.0000, 0.0847, 0.0301, 0.0000, 0.0000, 0.0000, 1.6597, 2.0898, 0.0000,\n",
       "          1.4038, 0.1894, 0.2010, 0.0000, 0.0000],\n",
       "         [0.0000, 0.0000, 0.5330, 0.4374, 0.0000, 0.0000, 0.0000, 0.0000, 0.9940,\n",
       "          1.1747, 0.7174, 0.0000, 1.2082, 0.7149, 2.4402, 1.6964, 0.8828, 2.6096,\n",
       "          0.0000, 0.0847, 0.0301, 0.0000, 0.0000, 0.0000, 1.6597, 2.0898, 0.0000,\n",
       "          1.4038, 0.1894, 0.2010, 0.0000, 0.0000]], grad_fn=<SumBackward1>),\n",
       " 'h_avg_p': tensor([[0.3053, 0.4221, 0.6875, 0.3761, 0.3313, 0.3517, 0.5034, 0.2562, 0.3209,\n",
       "          0.2433, 0.1668, 0.4288, 0.5164, 0.5703, 0.4863, 0.4702, 0.2949, 0.3786,\n",
       "          0.4074, 0.2244, 0.2423, 0.0961, 0.3119, 0.5741, 0.3196, 0.4532, 0.3955,\n",
       "          0.4302, 0.4053, 0.3526, 0.2418, 0.2332, 0.3501, 0.2408, 0.5060, 0.4602,\n",
       "          0.4316, 0.4013, 0.3248, 0.3361, 0.3133, 0.3242, 0.3933, 0.3598, 0.4539,\n",
       "          0.5804, 0.7441, 0.6529, 0.3462, 0.4283, 0.5940, 0.3506, 0.3132, 0.2790,\n",
       "          0.2888, 0.3038, 0.4487, 0.6327, 0.5893, 0.5958, 0.4850, 0.2370, 0.4578,\n",
       "          0.3131, 0.2323, 0.3523, 0.3592, 0.4286, 0.2703, 0.6823, 0.3800, 0.3190,\n",
       "          0.4375, 0.2624, 0.2025, 0.2544, 0.3030],\n",
       "         [0.3053, 0.4221, 0.6875, 0.3761, 0.3313, 0.3517, 0.5034, 0.2562, 0.3209,\n",
       "          0.2433, 0.1668, 0.4288, 0.5164, 0.5703, 0.4863, 0.4702, 0.2949, 0.3786,\n",
       "          0.4074, 0.2244, 0.2423, 0.0961, 0.3119, 0.5741, 0.3196, 0.4532, 0.3955,\n",
       "          0.4302, 0.4053, 0.3526, 0.2418, 0.2332, 0.3501, 0.2408, 0.5060, 0.4602,\n",
       "          0.4316, 0.4013, 0.3248, 0.3361, 0.3133, 0.3242, 0.3933, 0.3598, 0.4539,\n",
       "          0.5804, 0.7441, 0.6529, 0.3462, 0.4283, 0.5940, 0.3506, 0.3132, 0.2790,\n",
       "          0.2888, 0.3038, 0.4487, 0.6327, 0.5893, 0.5958, 0.4850, 0.2370, 0.4578,\n",
       "          0.3131, 0.2323, 0.3523, 0.3592, 0.4286, 0.2703, 0.6823, 0.3800, 0.3190,\n",
       "          0.4375, 0.2624, 0.2025, 0.2544, 0.3030]], grad_fn=<MeanBackward1>),\n",
       " 'h_avg_v': tensor([[0.5743, 0.4333, 0.7272, 0.5992, 0.4603, 0.3754, 0.2758, 0.2181, 0.2019,\n",
       "          0.1816, 0.4718, 0.4862, 0.4664, 0.4594, 0.5163, 0.4255, 0.3247, 0.2241,\n",
       "          0.1779, 0.1728, 0.1811, 0.3293, 0.5084, 0.6240, 0.7400, 0.2727, 0.4271,\n",
       "          0.4796, 0.3182, 0.2128, 0.2253, 0.2299, 0.3043, 0.3949, 0.5462, 0.5627,\n",
       "          0.6141, 0.6103, 0.2784, 0.3771, 0.3135, 0.2159, 0.2154, 0.3340, 0.3186,\n",
       "          0.3068, 0.5656, 0.5815, 0.4630, 0.3743, 0.3939, 0.1557, 0.2170, 0.1593,\n",
       "          0.3131, 0.3369, 0.5477, 0.5691, 0.5488, 0.4012, 0.5601, 0.2575, 0.2282,\n",
       "          0.2734, 0.2193, 0.2455, 0.5284, 0.6844, 0.6568, 0.4685, 0.6552, 0.3462,\n",
       "          0.2552, 0.2279, 0.1705, 0.2161, 0.2541],\n",
       "         [0.5743, 0.4333, 0.7272, 0.5992, 0.4603, 0.3754, 0.2758, 0.2181, 0.2019,\n",
       "          0.1816, 0.4718, 0.4862, 0.4664, 0.4594, 0.5163, 0.4255, 0.3247, 0.2241,\n",
       "          0.1779, 0.1728, 0.1811, 0.3293, 0.5084, 0.6240, 0.7400, 0.2727, 0.4271,\n",
       "          0.4796, 0.3182, 0.2128, 0.2253, 0.2299, 0.3043, 0.3949, 0.5462, 0.5627,\n",
       "          0.6141, 0.6103, 0.2784, 0.3771, 0.3135, 0.2159, 0.2154, 0.3340, 0.3186,\n",
       "          0.3068, 0.5656, 0.5815, 0.4630, 0.3743, 0.3939, 0.1557, 0.2170, 0.1593,\n",
       "          0.3131, 0.3369, 0.5477, 0.5691, 0.5488, 0.4012, 0.5601, 0.2575, 0.2282,\n",
       "          0.2734, 0.2193, 0.2455, 0.5284, 0.6844, 0.6568, 0.4685, 0.6552, 0.3462,\n",
       "          0.2552, 0.2279, 0.1705, 0.2161, 0.2541]], grad_fn=<MeanBackward1>)}"
      ]
     },
     "execution_count": 9,
     "metadata": {},
     "output_type": "execute_result"
    }
   ],
   "source": [
    "out"
   ]
  },
  {
   "cell_type": "code",
   "execution_count": 10,
   "metadata": {},
   "outputs": [
    {
     "name": "stdout",
     "output_type": "stream",
     "text": [
      "148,365\n"
     ]
    }
   ],
   "source": [
    "# pytorch_total_params\n",
    "params = sum(p.numel() for p in net.parameters())\n",
    "print(f\"{params:,}\")"
   ]
  },
  {
   "cell_type": "code",
   "execution_count": 11,
   "metadata": {},
   "outputs": [
    {
     "name": "stdout",
     "output_type": "stream",
     "text": [
      "148,365\n"
     ]
    }
   ],
   "source": [
    "# pytorch_total_params (trainable)\n",
    "params = sum(p.numel() for p in net.parameters() if p.requires_grad)\n",
    "print(f\"{params:,}\")"
   ]
  },
  {
   "cell_type": "code",
   "execution_count": 12,
   "metadata": {},
   "outputs": [
    {
     "data": {
      "text/plain": [
       "GeeseNet(\n",
       "  (conv0): TorusConv2d(\n",
       "    (conv): Conv2d(17, 32, kernel_size=(3, 3), stride=(1, 1))\n",
       "    (bn): BatchNorm2d(32, eps=1e-05, momentum=0.1, affine=True, track_running_stats=True)\n",
       "  )\n",
       "  (blocks): ModuleList(\n",
       "    (0): TorusConv2d(\n",
       "      (conv): Conv2d(32, 32, kernel_size=(3, 3), stride=(1, 1))\n",
       "      (bn): BatchNorm2d(32, eps=1e-05, momentum=0.1, affine=True, track_running_stats=True)\n",
       "    )\n",
       "    (1): TorusConv2d(\n",
       "      (conv): Conv2d(32, 32, kernel_size=(3, 3), stride=(1, 1))\n",
       "      (bn): BatchNorm2d(32, eps=1e-05, momentum=0.1, affine=True, track_running_stats=True)\n",
       "    )\n",
       "    (2): TorusConv2d(\n",
       "      (conv): Conv2d(32, 32, kernel_size=(3, 3), stride=(1, 1))\n",
       "      (bn): BatchNorm2d(32, eps=1e-05, momentum=0.1, affine=True, track_running_stats=True)\n",
       "    )\n",
       "    (3): TorusConv2d(\n",
       "      (conv): Conv2d(32, 32, kernel_size=(3, 3), stride=(1, 1))\n",
       "      (bn): BatchNorm2d(32, eps=1e-05, momentum=0.1, affine=True, track_running_stats=True)\n",
       "    )\n",
       "    (4): TorusConv2d(\n",
       "      (conv): Conv2d(32, 32, kernel_size=(3, 3), stride=(1, 1))\n",
       "      (bn): BatchNorm2d(32, eps=1e-05, momentum=0.1, affine=True, track_running_stats=True)\n",
       "    )\n",
       "    (5): TorusConv2d(\n",
       "      (conv): Conv2d(32, 32, kernel_size=(3, 3), stride=(1, 1))\n",
       "      (bn): BatchNorm2d(32, eps=1e-05, momentum=0.1, affine=True, track_running_stats=True)\n",
       "    )\n",
       "    (6): TorusConv2d(\n",
       "      (conv): Conv2d(32, 32, kernel_size=(3, 3), stride=(1, 1))\n",
       "      (bn): BatchNorm2d(32, eps=1e-05, momentum=0.1, affine=True, track_running_stats=True)\n",
       "    )\n",
       "    (7): TorusConv2d(\n",
       "      (conv): Conv2d(32, 32, kernel_size=(3, 3), stride=(1, 1))\n",
       "      (bn): BatchNorm2d(32, eps=1e-05, momentum=0.1, affine=True, track_running_stats=True)\n",
       "    )\n",
       "    (8): TorusConv2d(\n",
       "      (conv): Conv2d(32, 32, kernel_size=(3, 3), stride=(1, 1))\n",
       "      (bn): BatchNorm2d(32, eps=1e-05, momentum=0.1, affine=True, track_running_stats=True)\n",
       "    )\n",
       "    (9): TorusConv2d(\n",
       "      (conv): Conv2d(32, 32, kernel_size=(3, 3), stride=(1, 1))\n",
       "      (bn): BatchNorm2d(32, eps=1e-05, momentum=0.1, affine=True, track_running_stats=True)\n",
       "    )\n",
       "    (10): TorusConv2d(\n",
       "      (conv): Conv2d(32, 32, kernel_size=(3, 3), stride=(1, 1))\n",
       "      (bn): BatchNorm2d(32, eps=1e-05, momentum=0.1, affine=True, track_running_stats=True)\n",
       "    )\n",
       "    (11): TorusConv2d(\n",
       "      (conv): Conv2d(32, 32, kernel_size=(3, 3), stride=(1, 1))\n",
       "      (bn): BatchNorm2d(32, eps=1e-05, momentum=0.1, affine=True, track_running_stats=True)\n",
       "    )\n",
       "  )\n",
       "  (conv_p1): TorusConv2d(\n",
       "    (conv): Conv2d(32, 32, kernel_size=(3, 3), stride=(1, 1))\n",
       "    (bn): BatchNorm2d(32, eps=1e-05, momentum=0.1, affine=True, track_running_stats=True)\n",
       "  )\n",
       "  (conv_p2): TorusConv2d(\n",
       "    (conv): Conv2d(32, 32, kernel_size=(3, 3), stride=(1, 1))\n",
       "    (bn): BatchNorm2d(32, eps=1e-05, momentum=0.1, affine=True, track_running_stats=True)\n",
       "  )\n",
       "  (conv_v): TorusConv2d(\n",
       "    (conv): Conv2d(32, 32, kernel_size=(3, 3), stride=(1, 1))\n",
       "    (bn): BatchNorm2d(32, eps=1e-05, momentum=0.1, affine=True, track_running_stats=True)\n",
       "  )\n",
       "  (head_p1): Linear(in_features=109, out_features=32, bias=False)\n",
       "  (head_p2): Linear(in_features=32, out_features=4, bias=False)\n",
       "  (head_v): Linear(in_features=77, out_features=1, bias=False)\n",
       ")"
      ]
     },
     "execution_count": 12,
     "metadata": {},
     "output_type": "execute_result"
    }
   ],
   "source": [
    "net"
   ]
  },
  {
   "cell_type": "code",
   "execution_count": null,
   "metadata": {},
   "outputs": [],
   "source": []
  }
 ],
 "metadata": {
  "kernelspec": {
   "display_name": "pytorch",
   "language": "python",
   "name": "pytorch"
  },
  "language_info": {
   "codemirror_mode": {
    "name": "ipython",
    "version": 3
   },
   "file_extension": ".py",
   "mimetype": "text/x-python",
   "name": "python",
   "nbconvert_exporter": "python",
   "pygments_lexer": "ipython3",
   "version": "3.7.8"
  }
 },
 "nbformat": 4,
 "nbformat_minor": 4
}
