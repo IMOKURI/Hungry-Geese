{
 "cells": [
  {
   "cell_type": "code",
   "execution_count": 1,
   "metadata": {},
   "outputs": [],
   "source": [
    "import importlib\n",
    "import random\n",
    "\n",
    "import matplotlib.pyplot as plt\n",
    "import numpy as np\n",
    "\n",
    "%matplotlib inline"
   ]
  },
  {
   "cell_type": "code",
   "execution_count": 2,
   "metadata": {},
   "outputs": [
    {
     "name": "stdout",
     "output_type": "stream",
     "text": [
      "Loading environment football failed: No module named 'gfootball'\n"
     ]
    }
   ],
   "source": [
    "env_module = importlib.import_module(\"handyrl.envs.kaggle.hungry_geese\")"
   ]
  },
  {
   "cell_type": "code",
   "execution_count": 3,
   "metadata": {},
   "outputs": [],
   "source": [
    "e = env_module.Environment()"
   ]
  },
  {
   "cell_type": "code",
   "execution_count": 4,
   "metadata": {},
   "outputs": [
    {
     "data": {
      "image/png": "[encoded data removed]",
      "text/plain": [
       "<Figure size 432x288 with 1 Axes>"
      ]
     },
     "metadata": {
      "needs_background": "light"
     },
     "output_type": "display_data"
    },
    {
     "data": {
      "text/plain": [
       "{0: 0, 1: 0, 2: 0, 3: 0}"
      ]
     },
     "execution_count": 4,
     "metadata": {},
     "output_type": "execute_result"
    }
   ],
   "source": [
    "e.reset()\n",
    "while not e.terminal():\n",
    "\n",
    "    obs = e.observation()\n",
    "    # print(obs.shape)\n",
    "    plt.imshow(obs[0].reshape(4, 16, 16).transpose(1, 2, 0))\n",
    "    plt.show()\n",
    "\n",
    "    actions = {}\n",
    "    for player in e.turns():\n",
    "        actions[player] = e.rule_based_action_smart_geese(player)\n",
    "    e.step(actions)\n",
    "    e.reward()\n",
    "\n",
    "    break\n",
    "e.outcome()"
   ]
  },
  {
   "cell_type": "code",
   "execution_count": 5,
   "metadata": {},
   "outputs": [
    {
     "data": {
      "text/plain": [
       "[[{'action': 'NORTH',\n",
       "   'reward': 0,\n",
       "   'info': {},\n",
       "   'observation': {'remainingOverageTime': 60,\n",
       "    'step': 0,\n",
       "    'geese': [[50], [37], [12], [59]],\n",
       "    'food': [7, 40],\n",
       "    'index': 0},\n",
       "   'status': 'ACTIVE'},\n",
       "  {'action': 'NORTH',\n",
       "   'reward': 0,\n",
       "   'info': {},\n",
       "   'observation': {'remainingOverageTime': 60, 'index': 1},\n",
       "   'status': 'ACTIVE'},\n",
       "  {'action': 'NORTH',\n",
       "   'reward': 0,\n",
       "   'info': {},\n",
       "   'observation': {'remainingOverageTime': 60, 'index': 2},\n",
       "   'status': 'ACTIVE'},\n",
       "  {'action': 'NORTH',\n",
       "   'reward': 0,\n",
       "   'info': {},\n",
       "   'observation': {'remainingOverageTime': 60, 'index': 3},\n",
       "   'status': 'ACTIVE'}],\n",
       " [{'action': 'NORTH',\n",
       "   'reward': 201,\n",
       "   'info': {},\n",
       "   'observation': {'remainingOverageTime': 60,\n",
       "    'step': 1,\n",
       "    'geese': [[39], [26], [13], [60]],\n",
       "    'food': [7, 40],\n",
       "    'index': 0},\n",
       "   'status': 'ACTIVE'},\n",
       "  {'action': 'NORTH',\n",
       "   'reward': 201,\n",
       "   'info': {},\n",
       "   'observation': {'remainingOverageTime': 60, 'index': 1},\n",
       "   'status': 'ACTIVE'},\n",
       "  {'action': 'EAST',\n",
       "   'reward': 201,\n",
       "   'info': {},\n",
       "   'observation': {'remainingOverageTime': 60, 'index': 2},\n",
       "   'status': 'ACTIVE'},\n",
       "  {'action': 'EAST',\n",
       "   'reward': 201,\n",
       "   'info': {},\n",
       "   'observation': {'remainingOverageTime': 60, 'index': 3},\n",
       "   'status': 'ACTIVE'}]]"
      ]
     },
     "execution_count": 5,
     "metadata": {},
     "output_type": "execute_result"
    }
   ],
   "source": [
    "e.obs_list[-2:]"
   ]
  }
 ],
 "metadata": {
  "kernelspec": {
   "display_name": "pytorch",
   "language": "python",
   "name": "pytorch"
  },
  "language_info": {
   "codemirror_mode": {
    "name": "ipython",
    "version": 3
   },
   "file_extension": ".py",
   "mimetype": "text/x-python",
   "name": "python",
   "nbconvert_exporter": "python",
   "pygments_lexer": "ipython3",
   "version": "3.7.8"
  }
 },
 "nbformat": 4,
 "nbformat_minor": 4
}
